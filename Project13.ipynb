{
  "nbformat": 4,
  "nbformat_minor": 0,
  "metadata": {
    "kernelspec": {
      "display_name": "Python 3",
      "language": "python",
      "name": "python3"
    },
    "language_info": {
      "codemirror_mode": {
        "name": "ipython",
        "version": 3
      },
      "file_extension": ".py",
      "mimetype": "text/x-python",
      "name": "python",
      "nbconvert_exporter": "python",
      "pygments_lexer": "ipython3",
      "version": "3.8.3"
    },
    "colab": {
      "name": "Doctor Fees Prediction.ipynb",
      "provenance": [],
      "collapsed_sections": [
        "Aj-Rf6UzgDg1",
        "gZQ-cPItgDg4"
      ],
      "include_colab_link": true
    }
  },
  "cells": [
    {
      "cell_type": "markdown",
      "metadata": {
        "id": "view-in-github",
        "colab_type": "text"
      },
      "source": [
        "<a href=\"https://colab.research.google.com/github/AdityaKalkeri/Evaluation_Projects/blob/main/Project13.ipynb\" target=\"_parent\"><img src=\"https://colab.research.google.com/assets/colab-badge.svg\" alt=\"Open In Colab\"/></a>"
      ]
    },
    {
      "cell_type": "code",
      "metadata": {
        "id": "FrUmqKjNgDgZ"
      },
      "source": [
        "%matplotlib inline"
      ],
      "execution_count": 1,
      "outputs": []
    },
    {
      "cell_type": "code",
      "metadata": {
        "id": "m9Hl5K5NgDgZ"
      },
      "source": [
        "import numpy as np\n",
        "import pandas as pd\n",
        "import matplotlib.pyplot as plt\n",
        "import seaborn as sns\n",
        "\n",
        "sns.set_style(\"darkgrid\")\n",
        "sns.set_palette(\"viridis\")"
      ],
      "execution_count": 2,
      "outputs": []
    },
    {
      "cell_type": "code",
      "metadata": {
        "colab": {
          "resources": {
            "http://localhost:8080/nbextensions/google.colab/files.js": {
              "data": "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",
              "ok": true,
              "headers": [
                [
                  "content-type",
                  "application/javascript"
                ]
              ],
              "status": 200,
              "status_text": "OK"
            }
          },
          "base_uri": "https://localhost:8080/",
          "height": 79
        },
        "id": "OsNUTFtrgDgZ",
        "outputId": "0688c462-653a-418e-9aed-7458e694cbb5"
      },
      "source": [
        "from google.colab import files\n",
        "upload = files.upload()"
      ],
      "execution_count": 3,
      "outputs": [
        {
          "output_type": "display_data",
          "data": {
            "text/html": [
              "\n",
              "     <input type=\"file\" id=\"files-0d85d932-90c4-44eb-9639-1117bdd11296\" name=\"files[]\" multiple disabled\n",
              "        style=\"border:none\" />\n",
              "     <output id=\"result-0d85d932-90c4-44eb-9639-1117bdd11296\">\n",
              "      Upload widget is only available when the cell has been executed in the\n",
              "      current browser session. Please rerun this cell to enable.\n",
              "      </output>\n",
              "      <script src=\"/nbextensions/google.colab/files.js\"></script> "
            ],
            "text/plain": [
              "<IPython.core.display.HTML object>"
            ]
          },
          "metadata": {
            "tags": []
          }
        },
        {
          "output_type": "stream",
          "text": [
            "Saving Final_Train.xlsx to Final_Train.xlsx\n"
          ],
          "name": "stdout"
        }
      ]
    },
    {
      "cell_type": "code",
      "metadata": {
        "id": "Mv6H9O9jgMRC"
      },
      "source": [
        "import io\n",
        "df = pd.read_excel(io.BytesIO(upload['Final_Train.xlsx']))"
      ],
      "execution_count": 4,
      "outputs": []
    },
    {
      "cell_type": "code",
      "metadata": {
        "colab": {
          "base_uri": "https://localhost:8080/",
          "height": 293
        },
        "id": "d4T3J9hVgDgZ",
        "outputId": "07b87d96-cba6-4d78-84a3-b4be37a4d76a"
      },
      "source": [
        "df.head()"
      ],
      "execution_count": 5,
      "outputs": [
        {
          "output_type": "execute_result",
          "data": {
            "text/html": [
              "<div>\n",
              "<style scoped>\n",
              "    .dataframe tbody tr th:only-of-type {\n",
              "        vertical-align: middle;\n",
              "    }\n",
              "\n",
              "    .dataframe tbody tr th {\n",
              "        vertical-align: top;\n",
              "    }\n",
              "\n",
              "    .dataframe thead th {\n",
              "        text-align: right;\n",
              "    }\n",
              "</style>\n",
              "<table border=\"1\" class=\"dataframe\">\n",
              "  <thead>\n",
              "    <tr style=\"text-align: right;\">\n",
              "      <th></th>\n",
              "      <th>Qualification</th>\n",
              "      <th>Experience</th>\n",
              "      <th>Rating</th>\n",
              "      <th>Place</th>\n",
              "      <th>Profile</th>\n",
              "      <th>Miscellaneous_Info</th>\n",
              "      <th>Fees</th>\n",
              "    </tr>\n",
              "  </thead>\n",
              "  <tbody>\n",
              "    <tr>\n",
              "      <th>0</th>\n",
              "      <td>BHMS, MD - Homeopathy</td>\n",
              "      <td>24 years experience</td>\n",
              "      <td>100%</td>\n",
              "      <td>Kakkanad, Ernakulam</td>\n",
              "      <td>Homeopath</td>\n",
              "      <td>100% 16 Feedback Kakkanad, Ernakulam</td>\n",
              "      <td>100</td>\n",
              "    </tr>\n",
              "    <tr>\n",
              "      <th>1</th>\n",
              "      <td>BAMS, MD - Ayurveda Medicine</td>\n",
              "      <td>12 years experience</td>\n",
              "      <td>98%</td>\n",
              "      <td>Whitefield, Bangalore</td>\n",
              "      <td>Ayurveda</td>\n",
              "      <td>98% 76 Feedback Whitefield, Bangalore</td>\n",
              "      <td>350</td>\n",
              "    </tr>\n",
              "    <tr>\n",
              "      <th>2</th>\n",
              "      <td>MBBS, MS - Otorhinolaryngology</td>\n",
              "      <td>9 years experience</td>\n",
              "      <td>NaN</td>\n",
              "      <td>Mathikere - BEL, Bangalore</td>\n",
              "      <td>ENT Specialist</td>\n",
              "      <td>NaN</td>\n",
              "      <td>300</td>\n",
              "    </tr>\n",
              "    <tr>\n",
              "      <th>3</th>\n",
              "      <td>BSc - Zoology, BAMS</td>\n",
              "      <td>12 years experience</td>\n",
              "      <td>NaN</td>\n",
              "      <td>Bannerghatta Road, Bangalore</td>\n",
              "      <td>Ayurveda</td>\n",
              "      <td>Bannerghatta Road, Bangalore ₹250 Available on...</td>\n",
              "      <td>250</td>\n",
              "    </tr>\n",
              "    <tr>\n",
              "      <th>4</th>\n",
              "      <td>BAMS</td>\n",
              "      <td>20 years experience</td>\n",
              "      <td>100%</td>\n",
              "      <td>Keelkattalai, Chennai</td>\n",
              "      <td>Ayurveda</td>\n",
              "      <td>100% 4 Feedback Keelkattalai, Chennai</td>\n",
              "      <td>250</td>\n",
              "    </tr>\n",
              "  </tbody>\n",
              "</table>\n",
              "</div>"
            ],
            "text/plain": [
              "                    Qualification  ... Fees\n",
              "0           BHMS, MD - Homeopathy  ...  100\n",
              "1    BAMS, MD - Ayurveda Medicine  ...  350\n",
              "2  MBBS, MS - Otorhinolaryngology  ...  300\n",
              "3             BSc - Zoology, BAMS  ...  250\n",
              "4                            BAMS  ...  250\n",
              "\n",
              "[5 rows x 7 columns]"
            ]
          },
          "metadata": {
            "tags": []
          },
          "execution_count": 5
        }
      ]
    },
    {
      "cell_type": "code",
      "metadata": {
        "colab": {
          "base_uri": "https://localhost:8080/"
        },
        "id": "975W5GF0gDgk",
        "outputId": "02ce3329-6604-43b5-85c8-99931a60f1d8"
      },
      "source": [
        "df.info()"
      ],
      "execution_count": 6,
      "outputs": [
        {
          "output_type": "stream",
          "text": [
            "<class 'pandas.core.frame.DataFrame'>\n",
            "RangeIndex: 5961 entries, 0 to 5960\n",
            "Data columns (total 7 columns):\n",
            " #   Column              Non-Null Count  Dtype \n",
            "---  ------              --------------  ----- \n",
            " 0   Qualification       5961 non-null   object\n",
            " 1   Experience          5961 non-null   object\n",
            " 2   Rating              2659 non-null   object\n",
            " 3   Place               5936 non-null   object\n",
            " 4   Profile             5961 non-null   object\n",
            " 5   Miscellaneous_Info  3341 non-null   object\n",
            " 6   Fees                5961 non-null   int64 \n",
            "dtypes: int64(1), object(6)\n",
            "memory usage: 326.1+ KB\n"
          ],
          "name": "stdout"
        }
      ]
    },
    {
      "cell_type": "code",
      "metadata": {
        "colab": {
          "base_uri": "https://localhost:8080/"
        },
        "id": "tyrlXXuXgDgk",
        "outputId": "62526d1f-708a-4a5b-d227-86c60e76dbeb"
      },
      "source": [
        "for i in df.columns:\n",
        "    print(i)\n",
        "    print(df[i].unique())"
      ],
      "execution_count": 7,
      "outputs": [
        {
          "output_type": "stream",
          "text": [
            "Qualification\n",
            "['BHMS, MD - Homeopathy' 'BAMS, MD - Ayurveda Medicine'\n",
            " 'MBBS, MS - Otorhinolaryngology' ...\n",
            " 'MD - Dermatology , Venereology & Leprosy, MBBS, Fellowship In Dermatosurgery'\n",
            " 'BDS, certification in smile designing'\n",
            " 'MD - Homeopathy, Post Graduate Diploma in Healthcare Management(PGDHM), DHMS (Diploma in Homeopathic Medicine and Surgery)']\n",
            "Experience\n",
            "['24 years experience' '12 years experience' '9 years experience'\n",
            " '20 years experience' '8 years experience' '42 years experience'\n",
            " '10 years experience' '14 years experience' '23 years experience'\n",
            " '5 years experience' '7 years experience' '21 years experience'\n",
            " '19 years experience' '41 years experience' '31 years experience'\n",
            " '25 years experience' '16 years experience' '15 years experience'\n",
            " '11 years experience' '22 years experience' '38 years experience'\n",
            " '6 years experience' '36 years experience' '13 years experience'\n",
            " '18 years experience' '46 years experience' '40 years experience'\n",
            " '49 years experience' '33 years experience' '0 years experience'\n",
            " '27 years experience' '30 years experience' '52 years experience'\n",
            " '60 years experience' '26 years experience' '35 years experience'\n",
            " '34 years experience' '39 years experience' '32 years experience'\n",
            " '17 years experience' '28 years experience' '58 years experience'\n",
            " '4 years experience' '45 years experience' '44 years experience'\n",
            " '3 years experience' '37 years experience' '50 years experience'\n",
            " '29 years experience' '43 years experience' '54 years experience'\n",
            " '66 years experience' '2 years experience' '51 years experience'\n",
            " '47 years experience' '48 years experience' '53 years experience'\n",
            " '56 years experience' '61 years experience' '59 years experience'\n",
            " '57 years experience' '55 years experience' '65 years experience'\n",
            " '64 years experience']\n",
            "Rating\n",
            "['100%' '98%' nan '99%' '79%' '95%' '97%' '94%' '88%' '90%' '80%' '93%'\n",
            " '36%' '78%' '87%' '96%' '82%' '89%' '74%' '86%' '92%' '83%' '76%' '85%'\n",
            " '56%' '91%' '68%' '60%' '75%' '69%' '73%' '67%' '77%' '33%' '55%' '71%'\n",
            " '84%' '45%' '63%' '72%' '81%' '62%' '57%' '7%' '48%' '40%' '70%' '64%'\n",
            " '65%' '47%' '58%' '53%']\n",
            "Place\n",
            "['Kakkanad, Ernakulam' 'Whitefield, Bangalore'\n",
            " 'Mathikere - BEL, Bangalore' 'Bannerghatta Road, Bangalore'\n",
            " 'Keelkattalai, Chennai' 'Porur, Chennai' 'Karol Bagh, Delhi'\n",
            " 'Arekere, Bangalore' 'Old City, Hyderabad' 'Athani, Ernakulam'\n",
            " 'Thousand Lights, Chennai' 'Somajiguda, Hyderabad'\n",
            " 'Coimbatore Racecourse, Coimbatore' 'Jubilee Hills, Hyderabad'\n",
            " 'Kondli, Delhi' 'Saroor Nagar, Hyderabad' 'Tambaram West, Chennai'\n",
            " 'Purasawakkam, Chennai' 'KPHB, Hyderabad' 'HSR Layout, Bangalore'\n",
            " 'Pollachi, Coimbatore' 'Vasundhra Enclave, Delhi' 'Chembur, Mumbai'\n",
            " 'Thammanam, Ernakulam' 'Andheri, Mumbai' 'Pattom, Thiruvananthapuram'\n",
            " 'Kukatpally, Hyderabad' 'Vadavalli, Coimbatore' 'Defence Colony, Delhi'\n",
            " 'Banjara Hills, Hyderabad' 'Sion West, Mumbai' 'CR Park, Delhi'\n",
            " 'Mogappair East, Chennai' 'IP Extension, Delhi'\n",
            " 'Safdarjung Enclave, Delhi' 'New Friends Colony, Delhi'\n",
            " 'Borivali West, Mumbai' 'Saket, Delhi' 'Malad, Mumbai'\n",
            " 'Hyder Nagar, Hyderabad' 'Dahisar West, Mumbai' 'RT Nagar, Bangalore'\n",
            " 'Powai, Mumbai' 'Basheerbagh, Hyderabad' 'Musheerabad, Hyderabad'\n",
            " 'AS Rao Nagar, Hyderabad' 'Madhapur, Hyderabad' 'Gandhinagar, Hyderabad'\n",
            " 'Chetpet, Chennai' 'Vileparle East, Mumbai'\n",
            " 'Yelahanka New Town, Bangalore' 'Kodambakkam, Chennai'\n",
            " 'Malleswaram, Bangalore' 'Pallikaranai, Chennai' 'Nallakunta, Hyderabad'\n",
            " 'Paschim Vihar, Delhi' 'Meera Bagh, Delhi' 'Chattarpur, Delhi'\n",
            " 'Andheri West, Mumbai' 'Himayat Nagar, Hyderabad' 'Adambakkam, Chennai'\n",
            " 'Punjabi Bagh, Delhi' 'Mahalaxmi, Mumbai' 'Kalina, Mumbai'\n",
            " 'Attapur, Hyderabad' 'Lakdikapul, Hyderabad' 'Ambattur, Chennai'\n",
            " 'Ramnagar, Coimbatore' 'Shalimar Bagh, Delhi' 'Nungambakkam, Chennai'\n",
            " 'Miyapur, Hyderabad' 'Sagarpur, Delhi' 'Girgaon, Mumbai'\n",
            " 'Jayanagar, Bangalore' 'Palayam, Thiruvananthapuram' 'Munirka, Delhi'\n",
            " 'Tuglakabad, Delhi' 'Moosarambagh, Hyderabad' nan\n",
            " 'Anna Nagar East, Chennai' 'Bandra West, Mumbai'\n",
            " 'Kanakpura Road, Bangalore' 'Green Park, Delhi' 'Maduravoyal, Chennai'\n",
            " 'Dahisar East, Mumbai' 'Moosapet, Hyderabad' 'Koramangala, Bangalore'\n",
            " 'TV Medical College, Thiruvananthapuram' 'Kadavanthra, Ernakulam'\n",
            " 'Greams Road, Chennai' 'Bommanahalli, Bangalore' 'T Nagar, Chennai'\n",
            " 'Yelahanka, Bangalore' 'Hazrat Nizamuddin, Delhi'\n",
            " 'Old Rajendra Nagar, Delhi' 'Dadar West, Mumbai' 'Indiranagar, Bangalore'\n",
            " 'Perumbakkam, Chennai' 'Shaikpet, Hyderabad' 'Vyttila, Ernakulam'\n",
            " 'Khar West, Mumbai' 'Goregaon West, Mumbai' 'Bakkarwala, Delhi'\n",
            " 'Nesapakkam, Chennai' 'BTM Layout 2nd Stage, Bangalore'\n",
            " 'Ashok Nagar, Chennai' 'Chandivali, Mumbai' 'Uttam Nagar, Delhi'\n",
            " 'Gujranwala Town, Delhi' 'Greater Kailash Part 1, Delhi'\n",
            " 'Panchsheel Park, Delhi' 'Thoraipakkam, Chennai'\n",
            " 'South Extension 2, Delhi' 'Kandivali East, Mumbai' 'Pitampura, Delhi'\n",
            " 'Banashankari 3rd Stage, Bangalore' 'Kolenchery, Ernakulam'\n",
            " 'Kumaraswamy Layout, Bangalore' 'Vadapalani, Chennai'\n",
            " 'Manikonda, Hyderabad' 'Gandhipuram, Coimbatore'\n",
            " 'Yeshwanthpur, Bangalore' 'Ayanavaram, Chennai'\n",
            " 'Basaveshwaranagar, Bangalore' 'Malad West, Mumbai' 'Vikas Puri, Delhi'\n",
            " 'Kondapur, Hyderabad' 'Andheri East, Mumbai' 'Sulur, Coimbatore'\n",
            " 'Adyar, Chennai' 'Krishna Nagar, Delhi' 'Langer House, Hyderabad'\n",
            " 'Thiruvanmiyur, Chennai' 'Dwarka, Delhi' 'Bhandup West, Mumbai'\n",
            " 'Janak Puri, Delhi' 'Rajajinagar, Bangalore' 'South Extension 1, Delhi'\n",
            " 'Kemps Corner, Mumbai' 'Peelamedu, Coimbatore' 'Kandivali West, Mumbai'\n",
            " 'Thevara, Ernakulam' 'Wilson Garden, Bangalore' 'Wadala, Mumbai'\n",
            " 'Pahar Ganj, Delhi' 'Chanchalguda, Hyderabad' 'Chikkadpally, Hyderabad'\n",
            " 'Pasur-avanashi, Coimbatore' 'Nagarbhavi, Bangalore'\n",
            " 'Lajpat Nagar, Delhi' 'Mayur Vihar Ph-I, Delhi' 'Dilshad Garden, Delhi'\n",
            " 'Vijayanagar, Bangalore' 'Alwarpet, Chennai'\n",
            " 'Pappanamcode, Thiruvananthapuram' 'Aluva, Ernakulam'\n",
            " 'Nariman Point, Mumbai' 'Kilkattalai, Chennai' 'Dilsukhnagar, Hyderabad'\n",
            " 'Kurla West, Mumbai' 'Begumpet, Hyderabad' 'Kaloor, Ernakulam'\n",
            " 'Hitech City, Hyderabad' 'Goregaon East, Mumbai'\n",
            " 'Velandipalayam, Coimbatore' 'Ghatkopar East, Mumbai'\n",
            " 'Mulund West, Mumbai' 'Yousufguda, Hyderabad' 'Ghatkopar West, Mumbai'\n",
            " 'TVM Beach, Thiruvananthapuram' 'Vanagaram, Chennai' 'Worli, Mumbai'\n",
            " 'Koramangala 1 Block, Bangalore' 'Saki Vihar Road, Mumbai'\n",
            " 'Versova, Mumbai' 'CV Raman Nagar, Bangalore' 'Secunderabad, Hyderabad'\n",
            " 'BTM Layout 1st Stage, Bangalore' 'Ramkoti, Hyderabad'\n",
            " 'MRC Nagar, Chennai' 'Malkajgiri, Hyderabad' 'Gachibowli, Hyderabad'\n",
            " 'Mogappair West, Chennai' 'Mayur Vihar Ph-III, Delhi'\n",
            " 'Kurla East, Mumbai' 'Ashok Vihar, Delhi' 'Mahim, Mumbai'\n",
            " 'Villivakkam, Chennai' 'Srinagar Colony, Hyderabad' 'Chromepet, Chennai'\n",
            " 'Pammal, Chennai' 'Banashankari, Bangalore' 'Velachery, Chennai'\n",
            " 'Chanakyapuri, Delhi' 'Kalyan Nagar, Bangalore' 'Oshiwara, Mumbai'\n",
            " 'Karapakkam, Chennai' 'Borivali, Mumbai' 'Mylapore, Chennai'\n",
            " 'Electronics City, Bangalore' 'Perungudi, Chennai'\n",
            " 'Basavanagudi, Bangalore' 'MG Road, Bangalore' 'Thiruvottiyur, Chennai'\n",
            " 'Greater Kailash Part 2, Delhi' 'Bilekahalli, Bangalore'\n",
            " 'Nanganallur, Chennai' 'Rohini, Delhi' 'Thrikkakara, Ernakulam'\n",
            " 'Manapakkam, Chennai' 'Bellandur, Bangalore' 'Ameerpet, Hyderabad'\n",
            " 'Thiruvallom, Thiruvananthapuram' 'R.S. Puram, Coimbatore'\n",
            " 'Kumarapuram, Thiruvananthapuram' 'Palam Colony, Delhi' 'Manali, Chennai'\n",
            " 'Valasaravakkam, Chennai' 'Barkatpura, Hyderabad'\n",
            " 'Singanallur, Coimbatore' 'Mulund, Mumbai' 'Dadar East, Mumbai'\n",
            " 'Borabanda, Hyderabad' 'Model Town 3, Delhi' 'Ulsoor, Bangalore'\n",
            " 'Bhayandar West, Mumbai' 'Hari Nagar, Delhi' 'Horamavu, Bangalore'\n",
            " 'Santacruz East, Mumbai' 'OMR Road, Chennai' 'Kammana Halli, Bangalore'\n",
            " 'Tilak Nagar, Delhi' 'Panathur, Bangalore'\n",
            " 'Rajarajeshwarinagar, Bangalore' 'Paravur, Ernakulam'\n",
            " 'Preet Vihar, Delhi' 'Chembur East, Mumbai' 'Jakkur, Bangalore'\n",
            " 'Vanasthalipuram, Hyderabad' 'Mandaveli, Chennai'\n",
            " 'Kumara Park West, Bangalore' 'Domlur, Bangalore'\n",
            " 'Jeevanbhimanagar, Bangalore' 'Santacruz West, Mumbai'\n",
            " 'Shankar Vihar, Delhi' 'Jogeshwari East, Mumbai'\n",
            " 'Kasavanahalli, Bangalore' 'Ambalamukku, Thiruvananthapuram'\n",
            " 'Jhilmil Colony, Delhi' 'Dwarka Sector 7, Delhi' 'Tatabad, Coimbatore'\n",
            " 'Marine Lines, Mumbai' 'Tolichowki, Hyderabad' 'Sundarapuram, Coimbatore'\n",
            " 'Kothanur, Bangalore' 'Chinmaya Nagar, Chennai' 'Vasant Vihar, Delhi'\n",
            " 'Mehdipatnam, Hyderabad' 'Kadugodi, Bangalore' 'Ganapathy, Coimbatore'\n",
            " 'SR Nagar, Hyderabad' 'Perambur, Chennai' 'Opera House, Mumbai'\n",
            " 'Selvapuram, Coimbatore' 'Karkardooma, Delhi' 'Alwarthirunagar, Chennai'\n",
            " 'KR Puram, Bangalore' 'Ramesh Nagar, Delhi' 'Malakpet, Hyderabad'\n",
            " 'Tondiarpet, Chennai' 'Vikrampuri Colony, Hyderabad'\n",
            " 'Besant Nagar, Chennai' 'Vasant Kunj, Delhi' 'Banaswadi, Bangalore'\n",
            " 'BTM Layout, Bangalore' 'Medavakkam, Chennai' 'Vileparle West, Mumbai'\n",
            " 'Sahakaranagar, Bangalore' 'LB Nagar, Hyderabad' 'Punjagutta, Hyderabad'\n",
            " 'Yamuna Vihar, Delhi' 'Marathahalli, Bangalore'\n",
            " 'JP Nagar 2 Phase, Bangalore' 'Rani Bagh, Delhi' 'Jayamahal, Bangalore'\n",
            " 'Nagpada, Mumbai' 'Kundalahalli, Bangalore' 'Kailash Colony, Delhi'\n",
            " 'Pandav Nagar, Delhi' 'Karkhana, Hyderabad' 'West Mambalam, Chennai'\n",
            " 'Aminjikarai, Chennai' 'Madipakkam, Chennai' 'Charkop, Mumbai'\n",
            " 'Adarsh Nagar, Delhi' 'Dadar, Mumbai' 'Kaggadasapura, Bangalore'\n",
            " 'Matunga, Mumbai' 'Sun city, Hyderabad' 'Mahadevapura, Bangalore'\n",
            " 'Kalady, Ernakulam' 'Anna Nagar West, Chennai' 'Mayur Vihar Ph-II, Delhi'\n",
            " 'Tis Hazari, Delhi' 'Vennala, Ernakulam' 'Mira Road, Mumbai'\n",
            " 'Alwal, Hyderabad' 'Trimulgherry, Hyderabad'\n",
            " 'Raja Annamalai Puram, Chennai' 'JP Nagar 7 Phase, Bangalore'\n",
            " 'Old Bowenpally, Hyderabad' 'Santosh Nagar, Hyderabad'\n",
            " 'Hope College, Coimbatore' 'Mulund East, Mumbai' 'Mount Road, Chennai'\n",
            " 'Patel Nagar West, Delhi' 'Jayanagar 4 Block, Bangalore'\n",
            " 'West Marredpally, Hyderabad' 'Jagriti Enclave, Delhi'\n",
            " 'Sarita Vihar, Delhi' 'Rajendra Nagar, Hyderabad'\n",
            " 'Thudiyalur, Coimbatore' 'Bhayandar East, Mumbai'\n",
            " 'Narayanguda, Hyderabad' 'Kothapet, Hyderabad' 'KK Nagar, Chennai'\n",
            " 'Tripunithura, Ernakulam' 'Model Town, Delhi'\n",
            " 'Suchitra Circle, Hyderabad' 'Pusa Road, Delhi'\n",
            " 'Vijaynagar Colony, Hyderabad' 'Alandur, Chennai' 'Cuffe Parade, Mumbai'\n",
            " 'Kalkaji, Delhi' 'Saibaba Colony, Coimbatore'\n",
            " 'Kattakada, Thiruvananthapuram' 'Jogeshwari West, Mumbai'\n",
            " 'Erragadda, Hyderabad' 'Tilak Nagar, Hyderabad' 'Edapally, Ernakulam'\n",
            " 'Patparganj, Delhi' 'Sainikpuri, Hyderabad' 'Nanjundapuram, Coimbatore'\n",
            " 'Nizampet, Hyderabad' 'Kolathur, Chennai' 'Chamarajpet, Bangalore'\n",
            " 'Kala Ghoda, Mumbai' 'Padmarao Nagar, Hyderabad' 'Uppal, Hyderabad'\n",
            " 'Guduvanchery, Chennai' 'Satya Niketan, Delhi' 'Chanda Nagar, Hyderabad'\n",
            " 'Sowripalayam, Coimbatore' 'Vikhroli West, Mumbai'\n",
            " 'Rajouri Garden, Delhi' 'Alaknanda, Delhi' 'Millers Road, Bangalore'\n",
            " 'Kandanchavadi, Chennai' 'Vigyan Vihar, Delhi' 'Bandra East, Mumbai'\n",
            " 'Vilankurichi, Coimbatore' 'Malad East, Mumbai' 'Prabhadevi, Mumbai'\n",
            " 'Ulloor, Thiruvananthapuram' 'Rajakilpakkam, Chennai'\n",
            " 'Greater Kailash, Delhi' 'Madinaguda, Hyderabad' 'Borivali East, Mumbai'\n",
            " 'Juhu, Mumbai' 'Mugalivakkam, Chennai' 'Hebbal, Bangalore'\n",
            " 'Kirti Nagar, Delhi' 'Balaramapuram, Thiruvananthapuram'\n",
            " 'Bhandup East, Mumbai' 'VV Puram, Bangalore' 'Kilpauk, Chennai'\n",
            " 'Jacob Circle, Mumbai' 'Singasandra, Bangalore' 'Khairatabad, Hyderabad'\n",
            " 'Coimbatore Aerodrome, Coimbatore' 'J.C Nagar, Bangalore'\n",
            " 'Naraina Vihar, Delhi' 'Virugambakkam, Chennai' 'RK Puram, Delhi'\n",
            " 'Banashankari 1st Stage, Bangalore' 'Lajpat Nagar 4, Delhi'\n",
            " 'Jayanagar 5 Block, Bangalore' 'Kalyanpuri, Hyderabad'\n",
            " 'Tambaram, Chennai' 'Laxmi Nagar, Delhi' 'Anand Vihar, Delhi'\n",
            " 'Charni Road, Mumbai' 'Patel Nagar East, Delhi'\n",
            " 'Jayanagar 9 Block, Bangalore' 'Ecil, Hyderabad'\n",
            " 'Ramamurthy Nagar, Bangalore' 'Raj Nagar - 2, Delhi'\n",
            " 'Chunabhatti, Mumbai' 'Vikhroli East, Mumbai' 'Shakarpur, Delhi'\n",
            " 'Shahdara, Delhi' 'Govandi, Mumbai' 'Mira Bhayandar, Mumbai'\n",
            " 'Doddanekundi, Bangalore' 'Madhu Vihar, Delhi' 'Guindy, Chennai'\n",
            " 'Palarivattom, Ernakulam' 'Charminar, Hyderabad'\n",
            " 'Old Airport Road, Bangalore' 'Sarjapur Road, Bangalore' 'Okhla, Delhi'\n",
            " 'Baghlingampally, Hyderabad' 'Trombay, Mumbai' 'HRBR Layout, Bangalore'\n",
            " 'Fort, Mumbai' 'Shastri Nagar, Delhi' 'Red Hills, Chennai'\n",
            " 'New BEL Road, Bangalore' 'Park Town, Chennai' 'Frazer Town, Bangalore'\n",
            " 'Falaknuma, Hyderabad' 'Rohini Sector 7, Delhi' 'East Of Kailash, Delhi'\n",
            " 'Chintadripet, Chennai' 'Tagore Garden, Delhi' 'Tri Nagar, Delhi'\n",
            " 'Muttada, Thiruvananthapuram' 'Munnekollal, Bangalore'\n",
            " 'TV Museum, Thiruvananthapuram' 'Shivalik, Delhi' 'Neb Sarai, Delhi'\n",
            " 'Mahalakshmi Layout, Bangalore' 'Mankhurd, Mumbai' 'Kamla Nagar, Delhi'\n",
            " 'Saravanampatti, Coimbatore' 'Selaiyur, Chennai' 'Saligramam, Chennai'\n",
            " 'Thirumullaivoyal, Chennai' 'Teynampet, Chennai' 'Kochi, Ernakulam'\n",
            " 'Vidyaranyapura, Bangalore' 'Mogappair, Chennai' 'Mazgaon, Mumbai'\n",
            " 'Shivaji Nagar, Bangalore' 'Jangpura, Delhi'\n",
            " 'Kaudiar Square, Thiruvananthapuram' 'Arumbakkam, Chennai'\n",
            " 'Cherai, Ernakulam' 'Mira-Bhayandar Road, Mumbai' 'Ram Nagar, Delhi'\n",
            " 'Parel, Mumbai' 'Thanisandra, Bangalore' 'Pragathi Nagar, Hyderabad'\n",
            " 'Karamana, Thiruvananthapuram' 'AECS Layout, Bangalore'\n",
            " 'Nizamuddin East, Delhi' 'Ramanathapuram, Coimbatore'\n",
            " 'Anna Nagar, Chennai' 'Shenoy Nagar, Chennai' 'Siddhapudur, Coimbatore'\n",
            " 'Keshav Puram, Delhi' 'Edakochi, Ernakulam' 'Nagawara, Bangalore'\n",
            " 'Chintal, Hyderabad' 'Malviya Nagar, Delhi' 'Karwan, Hyderabad'\n",
            " 'Vazhakulam, Ernakulam' 'PMG Jn, Thiruvananthapuram'\n",
            " 'Dwarka Sector 6, Delhi' 'Viveknagar, Bangalore' 'Balapur, Hyderabad'\n",
            " 'Banashankari 2nd Stage, Bangalore' 'Azadpur, Delhi' 'Moti Nagar, Delhi'\n",
            " 'Sakinaka, Mumbai' 'Thoppumpady, Ernakulam' 'Sanath Nagar, Hyderabad'\n",
            " 'Royapettah, Chennai' 'Koramangala 5 Block, Bangalore'\n",
            " 'Kanjurmarg, Mumbai' 'Ernakulam College, Ernakulam' 'Urapakkam, Chennai'\n",
            " 'Coimbatore Ukkadam, Coimbatore' 'Sreekaryam, Thiruvananthapuram'\n",
            " 'Ernakulam North, Ernakulam' 'Sultanpur, Delhi' 'Banerji Road, Ernakulam'\n",
            " 'Balkampet, Hyderabad' 'Kavundampalayam, Coimbatore'\n",
            " 'Kanchanbagh, Hyderabad' 'Patel Nagar, Delhi' 'Kilokri, Delhi'\n",
            " 'Hoodi, Bangalore' 'New Seemapuri, Delhi' 'Seshadripuram, Bangalore'\n",
            " 'Vijaynagar, Delhi' 'Bowenpally, Hyderabad' 'Ondipudur, Coimbatore'\n",
            " 'Triplicane, Chennai' 'Richmond Town, Bangalore'\n",
            " 'New Rajendra Nagar, Delhi' 'Jahangirpuri, Delhi' 'Vivek Vihar, Delhi'\n",
            " 'Malleshpalya, Bangalore' 'Pezhakkappilly, Ernakulam'\n",
            " 'Lingampally, Hyderabad' 'Jamia Nagar, Delhi' 'Begum Bazar, Hyderabad'\n",
            " 'Lower Parel, Mumbai' 'ECR Road, Chennai' 'Nangloi, Delhi'\n",
            " 'Chintalmet, Hyderabad' 'West Of Chord Road, Bangalore' 'SV Road, Mumbai'\n",
            " 'JP Nagar 5 Phase, Bangalore' 'Sanjay Nagar, Bangalore'\n",
            " 'Panampilly Nagar, Ernakulam' 'Dharavi, Mumbai' 'Abbigere, Bangalore'\n",
            " 'Manacaud, Thiruvananthapuram' 'Poonamalle, Chennai' 'Najafgarh, Delhi'\n",
            " 'Uttarahalli, Bangalore' 'Sembakkam, Chennai' 'Tarnaka, Hyderabad'\n",
            " 'Nandanam, Chennai' 'Saidapet, Chennai' 'Choolaimedu, Chennai'\n",
            " 'Perungalathur, Chennai' 'Gulabi Bagh, Delhi' 'Jasola, Delhi'\n",
            " 'JP Nagar 3 Phase, Bangalore' 'Uppilipalayam, Coimbatore'\n",
            " 'Sadashivanagar, Bangalore' 'Rohini Sector 24, Delhi'\n",
            " 'Muvattupuzha, Ernakulam' 'Khan Market, Delhi' 'Abids, Hyderabad'\n",
            " 'Geeta Colony, Delhi' 'Madandapuram, Chennai' 'Dwarka Sector 22, Delhi'\n",
            " 'Grant Road, Mumbai' 'Jeedimetla, Hyderabad' 'Tambaram East, Chennai'\n",
            " 'Kothaguda, Hyderabad' 'Hauz Khas, Delhi' 'Habsiguda, Hyderabad'\n",
            " 'Breach Candy, Mumbai' 'Vidyanagar, Bangalore' 'Begur, Bangalore'\n",
            " 'Dahisar, Mumbai' 'Pachalam, Ernakulam' 'Perumbavoor, Ernakulam'\n",
            " 'Avadi, Chennai' 'Coimbatore Central, Coimbatore' 'Lokhandwala, Mumbai'\n",
            " 'Tiruvottiyur, Chennai' 'Ullal Upanagara, Bangalore'\n",
            " 'Perurkada, Thiruvananthapuram' 'Ashok Vihar Phase 3, Delhi'\n",
            " 'Walkeshwar, Mumbai' 'Saidabad, Hyderabad'\n",
            " 'Koramangala 6 Block, Bangalore' 'New Ashok Nagar, Delhi'\n",
            " 'Peddar Road, Mumbai' 'Aya Nagar, Delhi' 'JP Nagar, Bangalore'\n",
            " 'Sasthamangalam, Thiruvananthapuram' 'Yakutpura, Hyderabad'\n",
            " 'Sampangiramnagar, Bangalore' 'Kasturi nagar, Bangalore'\n",
            " 'Pallavaram, Chennai' 'Moti Bagh, Delhi' 'Mukherjee Nagar, Delhi'\n",
            " 'Byculla, Mumbai' 'Peeragarhi, Delhi' 'Amberpet, Hyderabad'\n",
            " 'JP Nagar 6 Phase, Bangalore' 'Sholinganallur, Chennai'\n",
            " 'Langford Road, Bangalore' 'Cumballa Hill, Mumbai' 'Colaba, Mumbai'\n",
            " 'Qutab Institutional Area, Delhi' 'Dommasandra, Bangalore'\n",
            " 'Malabar Hill, Mumbai' 'Koramangala 8 Block, Bangalore'\n",
            " 'Rohini Sector 22, Delhi' 'Lothkunta, Hyderabad'\n",
            " 'HAL 2nd Stage, Bangalore' 'Jayanagar 7 Block, Bangalore'\n",
            " 'Vadasserikonam, Thiruvananthapuram' 'East Marredpally, Hyderabad'\n",
            " 'Kelambakkam, Chennai' 'Chinchpokli, Mumbai' 'Delhi Cantt, Delhi'\n",
            " 'Padmanabhanagar, Bangalore' 'Sheikh Sarai, Delhi'\n",
            " 'Washermenpet, Chennai' 'Konanakunte, Bangalore'\n",
            " 'Ashok Vihar Phase 1, Delhi' 'Thirumala, Thiruvananthapuram'\n",
            " 'Sarjapura, Bangalore' 'JP Nagar 1 Phase, Bangalore' 'JB Nagar, Mumbai'\n",
            " 'Paruthippara, Thiruvananthapuram' 'Vikhroli, Mumbai'\n",
            " 'JP Nagar 8 Phase, Bangalore' 'GTB Nagar, Delhi' 'Vidyanagar, Hyderabad'\n",
            " 'Masab Tank, Hyderabad' 'Hafeezpet, Hyderabad' 'Jeevan Park, Delhi'\n",
            " 'Dwarka Sector 5, Delhi' 'Civil Lines, Delhi' 'Anand Niketan, Delhi'\n",
            " 'Pappanaickenpalayam, Coimbatore' 'Koovappady, Ernakulam'\n",
            " 'Dwarka, Sector 5, Delhi' 'Srirampuram, Bangalore' 'Korattur, Chennai'\n",
            " 'Pappanaickenpudur, Coimbatore' 'Gandhi Nagar, Delhi'\n",
            " 'Vignan Nagar, Bangalore' 'Ganganagar, Bangalore' 'Elamakkara, Ernakulam'\n",
            " 'Boduppal, Hyderabad' 'Tilak Nagar, Mumbai' 'Khetwadi, Mumbai'\n",
            " 'Kengeri, Bangalore' 'Sion East, Mumbai' 'Rohini Sector 6, Delhi'\n",
            " 'Kazhakuttam, Thiruvananthapuram' 'Goregaon, Mumbai'\n",
            " 'Peroor, Thiruvananthapuram' 'New Thippasandra, Bangalore'\n",
            " 'Jalahalli, Bangalore' 'King Koti, Hyderabad'\n",
            " 'Kallambalam, Thiruvananthapuram' 'Dwarka Sector 13, Delhi'\n",
            " 'Residency Road, Bangalore' 'Radhakrishnan Salai, Chennai'\n",
            " 'Hulimavu, Bangalore' 'Dasarahalli, Bangalore' 'Vileparle, Mumbai'\n",
            " 'Delhi, Delhi' 'Kachiguda, Hyderabad' 'Venkitapuram, Coimbatore'\n",
            " 'Kuniamuthur, Coimbatore' 'TV Chalai, Thiruvananthapuram'\n",
            " 'Serilingampally, Hyderabad' 'RMV 2nd Stage, Bangalore'\n",
            " 'Champapet, Hyderabad' 'Surya Niketan, Delhi' 'Kovilpalayam, Coimbatore'\n",
            " 'Nampally, Hyderabad' 'Siddapura, Bangalore' 'Neredmet, Hyderabad'\n",
            " 'Vellakinar, Coimbatore' 'Egmore, Chennai' 'Katwaria Sarai, Delhi'\n",
            " 'Navalur, Chennai' 'Mehrauli, Delhi' 'HBR Layout, Bangalore'\n",
            " 'Subhash Nagar, Delhi' 'Mallepally, Hyderabad' 'Eroor South, Ernakulam'\n",
            " 'Lajpat Nagar III, Delhi' 'Kodungaiyur, Chennai'\n",
            " 'Kuppakonanpudur, Coimbatore' 'Paradise, Hyderabad'\n",
            " 'Rohini Sector 4, Delhi' 'Koramangala 4 Block, Bangalore'\n",
            " 'Dwarka Sector 3, Delhi' 'Durga Puri, Delhi' 'Kalamassery, Ernakulam'\n",
            " 'Gulmohar Park, Delhi' 'Adugodi, Bangalore' 'Moti Nagar, Hyderabad'\n",
            " 'Nallagandla, Hyderabad' 'Gowrivakkam, Chennai' 'Periyar Nagar, Chennai'\n",
            " 'Austin Town, Bangalore' 'Afzalgunj, Hyderabad'\n",
            " 'Cotton Hill, Thiruvananthapuram' 'Goldwins, Coimbatore'\n",
            " 'Kuravankonam, Thiruvananthapuram' 'Rohini Sector 3, Delhi'\n",
            " 'Lado Sarai, Delhi' 'Koramangala 2 Block, Bangalore' 'Madangir, Delhi'\n",
            " 'Marine Drive, Mumbai' 'Marine Drive, Ernakulam' 'Angamaly, Ernakulam'\n",
            " 'Neelankarai, Chennai' 'Churchgate, Mumbai' 'Kalapatti, Coimbatore'\n",
            " 'Nand Nagri, Delhi' 'Kandivali, Mumbai' 'Madanpura, Mumbai'\n",
            " 'Hegde Nagar, Bangalore' 'Domalguda, Hyderabad' 'Mumbai Central, Mumbai'\n",
            " 'Vasanthnagar, Bangalore' 'Kapashera, Delhi' 'August Kranti Marg, Delhi'\n",
            " 'Krishna Nagar, Hyderabad' 'Lal baug, Mumbai'\n",
            " 'Perumathura, Thiruvananthapuram' 'Molarband, Delhi' 'Piravom, Ernakulam'\n",
            " 'Neeti Bagh, Delhi' 'Kishanbagh, Hyderabad' 'Shantinagar, Bangalore'\n",
            " 'Poojapura, Thiruvananthapuram' 'Rathinapuri, Coimbatore'\n",
            " 'Model Town 1, Delhi' 'Koothattukulam, Ernakulam' 'Anand Lok, Delhi'\n",
            " 'Pappanaickenpalayam West, Coimbatore' 'Subzi Mandi, Delhi'\n",
            " 'Sion, Mumbai' 'Nagole, Hyderabad' 'TVM Pettah, Thiruvananthapuram'\n",
            " 'Changampuzha Nagar, Ernakulam' 'Puzhal, Chennai'\n",
            " 'Vanchiyur, Thiruvananthapuram' 'Sukh Vihar, Delhi'\n",
            " 'Kovalam, Thiruvananthapuram' 'Swasthya Vihar, Delhi' 'Tardeo, Mumbai'\n",
            " 'Vishnu Garden, Delhi' 'Jayanagar 1 Block, Bangalore'\n",
            " 'Sion Koliwada, Mumbai' 'Marol, Mumbai' 'Kalkere, Bangalore'\n",
            " 'Sindhi Colony, Hyderabad' 'Silampur, Delhi' 'Varthur, Bangalore'\n",
            " 'Model Town 2, Delhi' 'Surajmal Vihar, Delhi' 'Chandni Chowk, Delhi'\n",
            " 'Veerakeralam, Coimbatore' 'T Dasarahalli, Bangalore'\n",
            " 'Kaggalipura, Bangalore' 'Thonnakkal, Thiruvananthapuram'\n",
            " 'Manjapra, Ernakulam' 'Yellareddyguda, Hyderabad'\n",
            " 'Kovilambakkam, Chennai' 'Broadway, Chennai' 'Podanur, Coimbatore'\n",
            " 'Kompally, Hyderabad' 'Kottivakkam, Chennai' 'Mansarover Garden, Delhi'\n",
            " 'Mandapeshwar, Mumbai' 'Rohini Sector 15, Delhi' 'Vaduthala, Ernakulam'\n",
            " 'Hebbal Kempapura, Bangalore' 'Sithalapakkam, Chennai'\n",
            " 'MKB Nagar, Chennai' 'MG Road, Hyderabad' 'Darya Ganj, Delhi'\n",
            " 'Venjaramoodu, Thiruvananthapuram' 'Kotturpuram, Chennai'\n",
            " 'Ramapuram, Chennai' 'Karmanghat, Hyderabad' 'Moula Ali, Hyderabad'\n",
            " 'Netaji Nagar, Delhi' 'Chandra Layout, Bangalore'\n",
            " 'Akshaya nagar, Bangalore' 'Nirman Vihar, Delhi' 'Vasant Enclave, Delhi'\n",
            " 'St Thomas Mount, Chennai' 'Royapuram, Chennai' 'Abhiramapuram, Chennai'\n",
            " 'Inder Puri, Delhi' 'Edayarpalayam, Coimbatore' 'Deoli, Delhi'\n",
            " 'Mulanthuruthy, Ernakulam' 'Sukhdev Vihar, Delhi' 'e'\n",
            " 'Kothamangalam, Ernakulam' 'Harlur, Bangalore' 'Bolarum, Hyderabad'\n",
            " 'Richards Town, Bangalore' 'Narela, Delhi' 'Nehru Place, Delhi'\n",
            " 'Ramanthapur, Hyderabad' 'Bali Nagar, Delhi' 'Palavakkam, Chennai'\n",
            " 'Balanagar, Hyderabad' 'Hyderguda, Hyderabad' 'Cherannagar, Coimbatore'\n",
            " 'Rohini Sector 11, Delhi' 'Dwarka Sector 4, Delhi'\n",
            " 'Palluruthy, Ernakulam' 'Vizhinjam, Thiruvananthapuram'\n",
            " 'Santacruz, Mumbai' 'Ganesh Nagar, Delhi' 'Vengal Rao Nagar, Hyderabad'\n",
            " 'Deonar, Mumbai' 'Edapally North, Ernakulam' 'Red Hills, Hyderabad'\n",
            " 'IDA Jeedimetla, Hyderabad' 'Mettupalayam, Coimbatore'\n",
            " 'Hayathnagar, Hyderabad' 'Kakkanad West, Ernakulam'\n",
            " 'Khajaguda, Hyderabad' 'Rohini Sector 5, Delhi' 'Saraswati Vihar, Delhi'\n",
            " 'Kingsway Camp, Delhi' 'Ramamangalam, Ernakulam' 'Indirapuram, Delhi'\n",
            " 'Parassala, Thiruvananthapuram' 'Connaught Place, Delhi'\n",
            " 'Gottigerre, Bangalore' 'Shivrampally, Hyderabad' 'Vyasarpadi, Chennai'\n",
            " 'Kovaipudur, Coimbatore' 'Vallakkadavoo, Thiruvananthapuram'\n",
            " 'Kattupakkam, Chennai' 'Nellimoodu, Thiruvananthapuram'\n",
            " 'Pondy Bazaar, Chennai' 'Prashant Vihar, Delhi' 'Chullickal, Ernakulam'\n",
            " 'Murugeshpalya, Bangalore' 'Khanpur, Delhi' 'Madiwala, Bangalore'\n",
            " 'Dwarka Sector 23, Delhi' 'Badarpur, Delhi' 'Peyad, Thiruvananthapuram'\n",
            " 'Gandhi Nagar, Chennai' 'Uday Park, Delhi' 'Bandlaguda, Hyderabad'\n",
            " 'Karukappilli, Ernakulam' 'Rana Pratap Bagh, Delhi'\n",
            " 'Kochi M.G.Road, Ernakulam' 'Gopalapuram, Chennai'\n",
            " 'Puthenvelikkara, Ernakulam' 'Sowcarpet, Chennai' 'Chitlapakkam, Chennai'\n",
            " 'Malumichampatti, Coimbatore' 'Rohini Sector 8, Delhi'\n",
            " 'Rohini Sector 2, Delhi' 'Ram Nagar, Hyderabad' 'Dwarka Sector 10, Delhi'\n",
            " 'Agaram, Chennai' 'Poovachal, Thiruvananthapuram' 'Shanti Niketan, Delhi'\n",
            " 'Pothencode, Thiruvananthapuram' 'Dickenson Road, Bangalore'\n",
            " 'RTC X Road, Hyderabad' 'Film Nagar, Hyderabad' 'Lodhi Colony, Delhi'\n",
            " 'SG Palya (Kormangla), Bangalore' 'Palkulangara, Thiruvananthapuram'\n",
            " 'Mahalingapuram, Chennai' 'Matunga West, Mumbai' 'Nettoor, Ernakulam'\n",
            " 'Rani Khera, Delhi' 'Beeramguda, Hyderabad' 'Ramachandrapuram, Hyderabad'\n",
            " 'Neyyattinkara Town, Thiruvananthapuram' 'Gorai, Mumbai'\n",
            " 'Jayanagar 3 Block, Bangalore' 'Shakti Nagar, Delhi'\n",
            " 'Sangam Vihar, Delhi' 'Shakurpur, Delhi' 'Chaitanyapuri, Hyderabad'\n",
            " 'TVM Fort, Thiruvananthapuram' 'JP Nagar 4 Phase, Bangalore'\n",
            " 'Nayandahalli, Bangalore' 'Valiathura, Thiruvananthapuram'\n",
            " 'Kowdiar, Thiruvananthapuram' 'Cunningham Road, Bangalore'\n",
            " 'Hennur, Bangalore' 'Peenya, Bangalore' 'Pattimattam, Ernakulam'\n",
            " 'HAL, Bangalore']\n",
            "Profile\n",
            "['Homeopath' 'Ayurveda' 'ENT Specialist' 'Dentist' 'General Medicine'\n",
            " 'Dermatologists']\n",
            "Miscellaneous_Info\n",
            "['100% 16 Feedback Kakkanad, Ernakulam'\n",
            " '98% 76 Feedback Whitefield, Bangalore' nan ...\n",
            " '98% 45 Feedback Basavanagudi, Bangalore'\n",
            " '97% 11 Feedback Greater Kailash Part 2, Delhi'\n",
            " 'General Medical Consultation Viral Fever Treatment Infectious Disease Treatment']\n",
            "Fees\n",
            "[100 350 300 250 200 700 500 400 150 650 600  50 800 750 450  80  60 550\n",
            " 900 950 430 130 630 499 260  70  10 299 230 380   5 280  40  30 180 920\n",
            " 125 850  20 220]\n"
          ],
          "name": "stdout"
        }
      ]
    },
    {
      "cell_type": "code",
      "metadata": {
        "id": "VK1NUMAxgDgk"
      },
      "source": [
        "import re"
      ],
      "execution_count": 8,
      "outputs": []
    },
    {
      "cell_type": "markdown",
      "metadata": {
        "id": "zLETkEDrgDgk"
      },
      "source": [
        "## Cleaning the dataset"
      ]
    },
    {
      "cell_type": "code",
      "metadata": {
        "id": "AAczrjaygDgl"
      },
      "source": [
        "#Qualification"
      ],
      "execution_count": 9,
      "outputs": []
    },
    {
      "cell_type": "code",
      "metadata": {
        "colab": {
          "base_uri": "https://localhost:8080/"
        },
        "id": "qNsVA2tcgDgl",
        "outputId": "22d08101-b91b-4546-b096-3796ade5e1b3"
      },
      "source": [
        "df.groupby(\"Qualification\")['Qualification'].count().sort_values(ascending = False).head(25)"
      ],
      "execution_count": 10,
      "outputs": [
        {
          "output_type": "execute_result",
          "data": {
            "text/plain": [
              "Qualification\n",
              "BDS                                                 488\n",
              "BHMS                                                477\n",
              "BAMS                                                471\n",
              "MBBS                                                334\n",
              "MBBS, MS - ENT                                      220\n",
              "MBBS, MD - Dermatology                              178\n",
              "MBBS, MD - General Medicine                         177\n",
              "MBBS, MD - Dermatology , Venereology & Leprosy      140\n",
              "BHMS, MD - Homeopathy                                93\n",
              "MBBS, DDVL                                           92\n",
              "MBBS, Diploma in Otorhinolaryngology (DLO)           84\n",
              "BAMS, MD - Ayurveda Medicine                         82\n",
              "BDS, MDS - Conservative Dentistry & Endodontics      68\n",
              "MBBS, DDV                                            66\n",
              "BDS, MDS                                             63\n",
              "BDS, MDS - Oral & Maxillofacial Surgery              57\n",
              "MD - Dermatology , Venereology & Leprosy, MBBS       52\n",
              "BDS, MDS - Prosthodontics                            45\n",
              "MBBS, MS - Otorhinolaryngology                       44\n",
              "MBBS, MD - Internal Medicine                         43\n",
              "BDS, MDS - Orthodontics                              41\n",
              "MBBS, MD - Medicine                                  41\n",
              "MS - ENT, MBBS                                       37\n",
              "BDS, MDS - Paedodontics And Preventive Dentistry     32\n",
              "MD - Dermatology, MBBS                               31\n",
              "Name: Qualification, dtype: int64"
            ]
          },
          "metadata": {
            "tags": []
          },
          "execution_count": 10
        }
      ]
    },
    {
      "cell_type": "code",
      "metadata": {
        "colab": {
          "base_uri": "https://localhost:8080/"
        },
        "id": "XGzRj290gDgm",
        "outputId": "27e99c18-879a-4510-f006-6028d0d095d6"
      },
      "source": [
        "txt = \"The rain in Spain\"\n",
        "x = re.search(\"ai\", txt)\n",
        "print(x)                                   #this will print an object "
      ],
      "execution_count": 11,
      "outputs": [
        {
          "output_type": "stream",
          "text": [
            "<_sre.SRE_Match object; span=(5, 7), match='ai'>\n"
          ],
          "name": "stdout"
        }
      ]
    },
    {
      "cell_type": "code",
      "metadata": {
        "id": "_F7_MEJugDgm"
      },
      "source": [
        "def mbbs_ms(row):\n",
        "    x = re.findall(\"\\AMBBS, MS\", row['Qualification'])\n",
        "    if 'MBBS, MS' in x:\n",
        "        row['Qualification'] = 'MBBS, MS'\n",
        "    return row\n",
        "df = df.apply(mbbs_ms, axis = 1)"
      ],
      "execution_count": 12,
      "outputs": []
    },
    {
      "cell_type": "code",
      "metadata": {
        "id": "BVv5Pi6tgDgm"
      },
      "source": [
        "def mbbs_md(row):\n",
        "    x = re.findall(\"\\AMBBS, MD\" ,row['Qualification'])\n",
        "    if 'MBBS, MD' in x:\n",
        "        row['Qualification'] = 'MBBS, MD'\n",
        "    return row\n",
        "df = df.apply(mbbs_md, axis = 1)"
      ],
      "execution_count": 13,
      "outputs": []
    },
    {
      "cell_type": "code",
      "metadata": {
        "id": "4Hp-gYxugDgm"
      },
      "source": [
        "def mbbs(row):\n",
        "    if (row['Qualification'] == 'MBBS, MS') or (row['Qualification'] == 'MBBS, MD'):\n",
        "        return row\n",
        "    x = re.findall(\"MBBS\", row['Qualification'])\n",
        "    if 'MBBS' in x:\n",
        "        row['Qualification'] = 'MBBS'\n",
        "    return row\n",
        "df = df.apply(mbbs, axis = 1)"
      ],
      "execution_count": 14,
      "outputs": []
    },
    {
      "cell_type": "code",
      "metadata": {
        "id": "6tcj9TlegDgm"
      },
      "source": [
        "def bhms_ms(row):\n",
        "    x = re.findall(\"\\ABHMS, MS\", row['Qualification'])\n",
        "    if 'BHMS, MS' in x:\n",
        "        row['Qualification'] = 'BHMS, MS'\n",
        "    return row\n",
        "df = df.apply(bhms_ms, axis = 1)"
      ],
      "execution_count": 15,
      "outputs": []
    },
    {
      "cell_type": "code",
      "metadata": {
        "id": "R_Pxsk0qgDgm"
      },
      "source": [
        "def bhms_md(row):\n",
        "    x = re.findall(\"\\ABHMS, MD\", row['Qualification'])\n",
        "    if 'BHMS, MD' in x:\n",
        "        row['Qualification'] = 'BHMS, MD'\n",
        "    return row\n",
        "df = df.apply(bhms_md, axis = 1)"
      ],
      "execution_count": 16,
      "outputs": []
    },
    {
      "cell_type": "code",
      "metadata": {
        "id": "PD1JL8BagDgm"
      },
      "source": [
        "def bhms(row):\n",
        "    if (row['Qualification'] == 'BHMS, MS') or (row['Qualification'] == 'BHMS, MD'):\n",
        "        return row\n",
        "    x = re.findall(\"\\ABHMS\", row['Qualification'])\n",
        "    if 'BHMS' in x:\n",
        "        row['Qualification'] = 'BHMS'\n",
        "    return row\n",
        "df = df.apply(bhms, axis = 1)"
      ],
      "execution_count": 17,
      "outputs": []
    },
    {
      "cell_type": "code",
      "metadata": {
        "id": "yJ7NtBeUgDgm"
      },
      "source": [
        "def bams_ms(row):\n",
        "    x = re.findall(\"\\ABAMS, MS\", row['Qualification'])\n",
        "    if 'BAMS, MS' in x:\n",
        "        row['Qualification'] = 'BAMS, MS'\n",
        "    return row\n",
        "df = df.apply(bams_ms, axis = 1)"
      ],
      "execution_count": 18,
      "outputs": []
    },
    {
      "cell_type": "code",
      "metadata": {
        "id": "ldf1WX1QgDgm"
      },
      "source": [
        "def bams_md(row):\n",
        "    x = re.findall(\"\\ABAMS, MD\", row['Qualification'])\n",
        "    if 'BAMS, MD' in x:\n",
        "        row['Qualification'] = 'BAMS, MD'\n",
        "    return row\n",
        "df = df.apply(bams_md, axis = 1)"
      ],
      "execution_count": 19,
      "outputs": []
    },
    {
      "cell_type": "code",
      "metadata": {
        "id": "9V5yp8iigDgm"
      },
      "source": [
        "def bds_mds(row):\n",
        "    x = re.findall(\"\\ABDS, MDS\", row['Qualification'])\n",
        "    if 'BDS, MDS' in x:\n",
        "        row['Qualification'] = 'BDS, MDS'\n",
        "    return row\n",
        "df = df.apply(bds_mds, axis = 1)"
      ],
      "execution_count": 20,
      "outputs": []
    },
    {
      "cell_type": "code",
      "metadata": {
        "id": "7zE7esF3gDgm"
      },
      "source": [
        "def bds(row):\n",
        "    x = re.findall(\"\\ABDS\", row['Qualification'])\n",
        "    if 'BDS' in x:\n",
        "        row['Qualification'] = 'BDS'\n",
        "    return row\n",
        "df = df.apply(bds_mds, axis = 1)"
      ],
      "execution_count": 21,
      "outputs": []
    },
    {
      "cell_type": "code",
      "metadata": {
        "id": "Pbc24W8UgDgo"
      },
      "source": [
        "def md(row):\n",
        "    if (row['Qualification'] in ['MBBS, MD', \"BHMS, MD\", \"BAMS, MD\"]):\n",
        "        return row\n",
        "    x = re.findall(\"MD\", row['Qualification'])\n",
        "    if 'MD' in x:\n",
        "        row['Qualification'] = 'MD'\n",
        "    return row\n",
        "df = df.apply(md, axis = 1)"
      ],
      "execution_count": 22,
      "outputs": []
    },
    {
      "cell_type": "code",
      "metadata": {
        "id": "-shoQO_EgDgo"
      },
      "source": [
        "top10 = list(df.groupby(\"Qualification\")['Qualification'].count().sort_values(ascending = False).head(10).index)"
      ],
      "execution_count": 23,
      "outputs": []
    },
    {
      "cell_type": "markdown",
      "metadata": {
        "id": "YsP-HbWggDgo"
      },
      "source": [
        "We will perform one hot encoding on the 'Qualification' column, selecting only the top 10 categories. Rest of the qualifications will be stored in others"
      ]
    },
    {
      "cell_type": "code",
      "metadata": {
        "id": "p9q5F48pgDgo"
      },
      "source": [
        "def other(row):\n",
        "    if row['Qualification'] in top10:\n",
        "        return row\n",
        "    else:\n",
        "        row['Qualification'] = 'Other'\n",
        "    return row\n",
        "df = df.apply(other, axis  = 1)"
      ],
      "execution_count": 24,
      "outputs": []
    },
    {
      "cell_type": "code",
      "metadata": {
        "colab": {
          "base_uri": "https://localhost:8080/"
        },
        "id": "6SnrS2AJgDgo",
        "outputId": "4d0a1fab-f696-4ffa-9dcf-d76b36bcf723"
      },
      "source": [
        "df.groupby(\"Qualification\")['Qualification'].count().sort_values(ascending = False)"
      ],
      "execution_count": 25,
      "outputs": [
        {
          "output_type": "execute_result",
          "data": {
            "text/plain": [
              "Qualification\n",
              "MBBS        1534\n",
              "MD           960\n",
              "MBBS, MD     862\n",
              "BHMS         566\n",
              "BDS          488\n",
              "BAMS         471\n",
              "MBBS, MS     409\n",
              "Other        398\n",
              "BHMS, MD     125\n",
              "BAMS, MD     114\n",
              "BAMS, MS      34\n",
              "Name: Qualification, dtype: int64"
            ]
          },
          "metadata": {
            "tags": []
          },
          "execution_count": 25
        }
      ]
    },
    {
      "cell_type": "code",
      "metadata": {
        "id": "fJAmWCVggDgo"
      },
      "source": [
        "#Experience"
      ],
      "execution_count": 26,
      "outputs": []
    },
    {
      "cell_type": "code",
      "metadata": {
        "colab": {
          "base_uri": "https://localhost:8080/"
        },
        "id": "GXpRG2rggDgo",
        "outputId": "cc797b99-ea96-4a0a-c8bb-358e2f92f6f4"
      },
      "source": [
        "df['Experience'].head()"
      ],
      "execution_count": 27,
      "outputs": [
        {
          "output_type": "execute_result",
          "data": {
            "text/plain": [
              "0    24 years experience\n",
              "1    12 years experience\n",
              "2     9 years experience\n",
              "3    12 years experience\n",
              "4    20 years experience\n",
              "Name: Experience, dtype: object"
            ]
          },
          "metadata": {
            "tags": []
          },
          "execution_count": 27
        }
      ]
    },
    {
      "cell_type": "markdown",
      "metadata": {
        "id": "z_OaK8qfgDgo"
      },
      "source": [
        "we will extract only the year"
      ]
    },
    {
      "cell_type": "code",
      "metadata": {
        "id": "BbVa3pMagDgo"
      },
      "source": [
        "def exp(row):\n",
        "    x = re.findall(\"\\d+\", row['Experience'])\n",
        "    row['Experience'] = x[0]\n",
        "    return row\n",
        "df = df.apply(exp, axis = 1)"
      ],
      "execution_count": 28,
      "outputs": []
    },
    {
      "cell_type": "code",
      "metadata": {
        "colab": {
          "base_uri": "https://localhost:8080/"
        },
        "id": "GXe4msYcgDgo",
        "outputId": "2adbbe3a-f194-4428-ceaa-86e12eb3765a"
      },
      "source": [
        "df[\"Experience\"].head()"
      ],
      "execution_count": 29,
      "outputs": [
        {
          "output_type": "execute_result",
          "data": {
            "text/plain": [
              "0    24\n",
              "1    12\n",
              "2     9\n",
              "3    12\n",
              "4    20\n",
              "Name: Experience, dtype: object"
            ]
          },
          "metadata": {
            "tags": []
          },
          "execution_count": 29
        }
      ]
    },
    {
      "cell_type": "code",
      "metadata": {
        "colab": {
          "base_uri": "https://localhost:8080/",
          "height": 363
        },
        "id": "tn2cfvhhgDgo",
        "outputId": "9cd52d8c-89f0-449d-e694-2e6ba047e5ba"
      },
      "source": [
        "df.head(10)"
      ],
      "execution_count": 30,
      "outputs": [
        {
          "output_type": "execute_result",
          "data": {
            "text/html": [
              "<div>\n",
              "<style scoped>\n",
              "    .dataframe tbody tr th:only-of-type {\n",
              "        vertical-align: middle;\n",
              "    }\n",
              "\n",
              "    .dataframe tbody tr th {\n",
              "        vertical-align: top;\n",
              "    }\n",
              "\n",
              "    .dataframe thead th {\n",
              "        text-align: right;\n",
              "    }\n",
              "</style>\n",
              "<table border=\"1\" class=\"dataframe\">\n",
              "  <thead>\n",
              "    <tr style=\"text-align: right;\">\n",
              "      <th></th>\n",
              "      <th>Qualification</th>\n",
              "      <th>Experience</th>\n",
              "      <th>Rating</th>\n",
              "      <th>Place</th>\n",
              "      <th>Profile</th>\n",
              "      <th>Miscellaneous_Info</th>\n",
              "      <th>Fees</th>\n",
              "    </tr>\n",
              "  </thead>\n",
              "  <tbody>\n",
              "    <tr>\n",
              "      <th>0</th>\n",
              "      <td>BHMS, MD</td>\n",
              "      <td>24</td>\n",
              "      <td>100%</td>\n",
              "      <td>Kakkanad, Ernakulam</td>\n",
              "      <td>Homeopath</td>\n",
              "      <td>100% 16 Feedback Kakkanad, Ernakulam</td>\n",
              "      <td>100</td>\n",
              "    </tr>\n",
              "    <tr>\n",
              "      <th>1</th>\n",
              "      <td>BAMS, MD</td>\n",
              "      <td>12</td>\n",
              "      <td>98%</td>\n",
              "      <td>Whitefield, Bangalore</td>\n",
              "      <td>Ayurveda</td>\n",
              "      <td>98% 76 Feedback Whitefield, Bangalore</td>\n",
              "      <td>350</td>\n",
              "    </tr>\n",
              "    <tr>\n",
              "      <th>2</th>\n",
              "      <td>MBBS, MS</td>\n",
              "      <td>9</td>\n",
              "      <td>NaN</td>\n",
              "      <td>Mathikere - BEL, Bangalore</td>\n",
              "      <td>ENT Specialist</td>\n",
              "      <td>NaN</td>\n",
              "      <td>300</td>\n",
              "    </tr>\n",
              "    <tr>\n",
              "      <th>3</th>\n",
              "      <td>Other</td>\n",
              "      <td>12</td>\n",
              "      <td>NaN</td>\n",
              "      <td>Bannerghatta Road, Bangalore</td>\n",
              "      <td>Ayurveda</td>\n",
              "      <td>Bannerghatta Road, Bangalore ₹250 Available on...</td>\n",
              "      <td>250</td>\n",
              "    </tr>\n",
              "    <tr>\n",
              "      <th>4</th>\n",
              "      <td>BAMS</td>\n",
              "      <td>20</td>\n",
              "      <td>100%</td>\n",
              "      <td>Keelkattalai, Chennai</td>\n",
              "      <td>Ayurveda</td>\n",
              "      <td>100% 4 Feedback Keelkattalai, Chennai</td>\n",
              "      <td>250</td>\n",
              "    </tr>\n",
              "    <tr>\n",
              "      <th>5</th>\n",
              "      <td>BAMS</td>\n",
              "      <td>8</td>\n",
              "      <td>NaN</td>\n",
              "      <td>Porur, Chennai</td>\n",
              "      <td>Ayurveda</td>\n",
              "      <td>NaN</td>\n",
              "      <td>100</td>\n",
              "    </tr>\n",
              "    <tr>\n",
              "      <th>6</th>\n",
              "      <td>BHMS</td>\n",
              "      <td>42</td>\n",
              "      <td>NaN</td>\n",
              "      <td>Karol Bagh, Delhi</td>\n",
              "      <td>Homeopath</td>\n",
              "      <td>NaN</td>\n",
              "      <td>200</td>\n",
              "    </tr>\n",
              "    <tr>\n",
              "      <th>7</th>\n",
              "      <td>BDS</td>\n",
              "      <td>10</td>\n",
              "      <td>99%</td>\n",
              "      <td>Arekere, Bangalore</td>\n",
              "      <td>Dentist</td>\n",
              "      <td>Dental Fillings Crowns and Bridges Fixing Impa...</td>\n",
              "      <td>200</td>\n",
              "    </tr>\n",
              "    <tr>\n",
              "      <th>8</th>\n",
              "      <td>MBBS, MD</td>\n",
              "      <td>14</td>\n",
              "      <td>NaN</td>\n",
              "      <td>Old City, Hyderabad</td>\n",
              "      <td>General Medicine</td>\n",
              "      <td>NaN</td>\n",
              "      <td>100</td>\n",
              "    </tr>\n",
              "    <tr>\n",
              "      <th>9</th>\n",
              "      <td>Other</td>\n",
              "      <td>23</td>\n",
              "      <td>NaN</td>\n",
              "      <td>Athani, Ernakulam</td>\n",
              "      <td>Dentist</td>\n",
              "      <td>NaN</td>\n",
              "      <td>100</td>\n",
              "    </tr>\n",
              "  </tbody>\n",
              "</table>\n",
              "</div>"
            ],
            "text/plain": [
              "  Qualification  ... Fees\n",
              "0      BHMS, MD  ...  100\n",
              "1      BAMS, MD  ...  350\n",
              "2      MBBS, MS  ...  300\n",
              "3         Other  ...  250\n",
              "4          BAMS  ...  250\n",
              "5          BAMS  ...  100\n",
              "6          BHMS  ...  200\n",
              "7           BDS  ...  200\n",
              "8      MBBS, MD  ...  100\n",
              "9         Other  ...  100\n",
              "\n",
              "[10 rows x 7 columns]"
            ]
          },
          "metadata": {
            "tags": []
          },
          "execution_count": 30
        }
      ]
    },
    {
      "cell_type": "code",
      "metadata": {
        "id": "1tKJEegdgDgp"
      },
      "source": [
        "#Rating"
      ],
      "execution_count": 31,
      "outputs": []
    },
    {
      "cell_type": "code",
      "metadata": {
        "id": "1fki3Xr-gDgp"
      },
      "source": [
        "def rating(row):\n",
        "    def isNaN(string):\n",
        "        return string != string\n",
        "    if isNaN(row['Rating']):\n",
        "        return row\n",
        "    x = re.findall(\"\\d+\", row['Rating'])\n",
        "    row['Rating'] = x[0]\n",
        "    return row\n",
        "df = df.apply(rating, axis = 1)\n",
        "    "
      ],
      "execution_count": 32,
      "outputs": []
    },
    {
      "cell_type": "code",
      "metadata": {
        "id": "CKO-5_2XgDgp"
      },
      "source": [
        "#Place"
      ],
      "execution_count": 33,
      "outputs": []
    },
    {
      "cell_type": "code",
      "metadata": {
        "colab": {
          "base_uri": "https://localhost:8080/"
        },
        "id": "o9vALyB3gDgp",
        "outputId": "5bde5a6c-1160-4aac-8a52-a574d76ed0dc"
      },
      "source": [
        "df['Place'].unique()"
      ],
      "execution_count": 34,
      "outputs": [
        {
          "output_type": "execute_result",
          "data": {
            "text/plain": [
              "array(['Kakkanad, Ernakulam', 'Whitefield, Bangalore',\n",
              "       'Mathikere - BEL, Bangalore', 'Bannerghatta Road, Bangalore',\n",
              "       'Keelkattalai, Chennai', 'Porur, Chennai', 'Karol Bagh, Delhi',\n",
              "       'Arekere, Bangalore', 'Old City, Hyderabad', 'Athani, Ernakulam',\n",
              "       'Thousand Lights, Chennai', 'Somajiguda, Hyderabad',\n",
              "       'Coimbatore Racecourse, Coimbatore', 'Jubilee Hills, Hyderabad',\n",
              "       'Kondli, Delhi', 'Saroor Nagar, Hyderabad',\n",
              "       'Tambaram West, Chennai', 'Purasawakkam, Chennai',\n",
              "       'KPHB, Hyderabad', 'HSR Layout, Bangalore', 'Pollachi, Coimbatore',\n",
              "       'Vasundhra Enclave, Delhi', 'Chembur, Mumbai',\n",
              "       'Thammanam, Ernakulam', 'Andheri, Mumbai',\n",
              "       'Pattom, Thiruvananthapuram', 'Kukatpally, Hyderabad',\n",
              "       'Vadavalli, Coimbatore', 'Defence Colony, Delhi',\n",
              "       'Banjara Hills, Hyderabad', 'Sion West, Mumbai', 'CR Park, Delhi',\n",
              "       'Mogappair East, Chennai', 'IP Extension, Delhi',\n",
              "       'Safdarjung Enclave, Delhi', 'New Friends Colony, Delhi',\n",
              "       'Borivali West, Mumbai', 'Saket, Delhi', 'Malad, Mumbai',\n",
              "       'Hyder Nagar, Hyderabad', 'Dahisar West, Mumbai',\n",
              "       'RT Nagar, Bangalore', 'Powai, Mumbai', 'Basheerbagh, Hyderabad',\n",
              "       'Musheerabad, Hyderabad', 'AS Rao Nagar, Hyderabad',\n",
              "       'Madhapur, Hyderabad', 'Gandhinagar, Hyderabad',\n",
              "       'Chetpet, Chennai', 'Vileparle East, Mumbai',\n",
              "       'Yelahanka New Town, Bangalore', 'Kodambakkam, Chennai',\n",
              "       'Malleswaram, Bangalore', 'Pallikaranai, Chennai',\n",
              "       'Nallakunta, Hyderabad', 'Paschim Vihar, Delhi',\n",
              "       'Meera Bagh, Delhi', 'Chattarpur, Delhi', 'Andheri West, Mumbai',\n",
              "       'Himayat Nagar, Hyderabad', 'Adambakkam, Chennai',\n",
              "       'Punjabi Bagh, Delhi', 'Mahalaxmi, Mumbai', 'Kalina, Mumbai',\n",
              "       'Attapur, Hyderabad', 'Lakdikapul, Hyderabad', 'Ambattur, Chennai',\n",
              "       'Ramnagar, Coimbatore', 'Shalimar Bagh, Delhi',\n",
              "       'Nungambakkam, Chennai', 'Miyapur, Hyderabad', 'Sagarpur, Delhi',\n",
              "       'Girgaon, Mumbai', 'Jayanagar, Bangalore',\n",
              "       'Palayam, Thiruvananthapuram', 'Munirka, Delhi',\n",
              "       'Tuglakabad, Delhi', 'Moosarambagh, Hyderabad', nan,\n",
              "       'Anna Nagar East, Chennai', 'Bandra West, Mumbai',\n",
              "       'Kanakpura Road, Bangalore', 'Green Park, Delhi',\n",
              "       'Maduravoyal, Chennai', 'Dahisar East, Mumbai',\n",
              "       'Moosapet, Hyderabad', 'Koramangala, Bangalore',\n",
              "       'TV Medical College, Thiruvananthapuram', 'Kadavanthra, Ernakulam',\n",
              "       'Greams Road, Chennai', 'Bommanahalli, Bangalore',\n",
              "       'T Nagar, Chennai', 'Yelahanka, Bangalore',\n",
              "       'Hazrat Nizamuddin, Delhi', 'Old Rajendra Nagar, Delhi',\n",
              "       'Dadar West, Mumbai', 'Indiranagar, Bangalore',\n",
              "       'Perumbakkam, Chennai', 'Shaikpet, Hyderabad',\n",
              "       'Vyttila, Ernakulam', 'Khar West, Mumbai', 'Goregaon West, Mumbai',\n",
              "       'Bakkarwala, Delhi', 'Nesapakkam, Chennai',\n",
              "       'BTM Layout 2nd Stage, Bangalore', 'Ashok Nagar, Chennai',\n",
              "       'Chandivali, Mumbai', 'Uttam Nagar, Delhi',\n",
              "       'Gujranwala Town, Delhi', 'Greater Kailash Part 1, Delhi',\n",
              "       'Panchsheel Park, Delhi', 'Thoraipakkam, Chennai',\n",
              "       'South Extension 2, Delhi', 'Kandivali East, Mumbai',\n",
              "       'Pitampura, Delhi', 'Banashankari 3rd Stage, Bangalore',\n",
              "       'Kolenchery, Ernakulam', 'Kumaraswamy Layout, Bangalore',\n",
              "       'Vadapalani, Chennai', 'Manikonda, Hyderabad',\n",
              "       'Gandhipuram, Coimbatore', 'Yeshwanthpur, Bangalore',\n",
              "       'Ayanavaram, Chennai', 'Basaveshwaranagar, Bangalore',\n",
              "       'Malad West, Mumbai', 'Vikas Puri, Delhi', 'Kondapur, Hyderabad',\n",
              "       'Andheri East, Mumbai', 'Sulur, Coimbatore', 'Adyar, Chennai',\n",
              "       'Krishna Nagar, Delhi', 'Langer House, Hyderabad',\n",
              "       'Thiruvanmiyur, Chennai', 'Dwarka, Delhi', 'Bhandup West, Mumbai',\n",
              "       'Janak Puri, Delhi', 'Rajajinagar, Bangalore',\n",
              "       'South Extension 1, Delhi', 'Kemps Corner, Mumbai',\n",
              "       'Peelamedu, Coimbatore', 'Kandivali West, Mumbai',\n",
              "       'Thevara, Ernakulam', 'Wilson Garden, Bangalore', 'Wadala, Mumbai',\n",
              "       'Pahar Ganj, Delhi', 'Chanchalguda, Hyderabad',\n",
              "       'Chikkadpally, Hyderabad', 'Pasur-avanashi, Coimbatore',\n",
              "       'Nagarbhavi, Bangalore', 'Lajpat Nagar, Delhi',\n",
              "       'Mayur Vihar Ph-I, Delhi', 'Dilshad Garden, Delhi',\n",
              "       'Vijayanagar, Bangalore', 'Alwarpet, Chennai',\n",
              "       'Pappanamcode, Thiruvananthapuram', 'Aluva, Ernakulam',\n",
              "       'Nariman Point, Mumbai', 'Kilkattalai, Chennai',\n",
              "       'Dilsukhnagar, Hyderabad', 'Kurla West, Mumbai',\n",
              "       'Begumpet, Hyderabad', 'Kaloor, Ernakulam',\n",
              "       'Hitech City, Hyderabad', 'Goregaon East, Mumbai',\n",
              "       'Velandipalayam, Coimbatore', 'Ghatkopar East, Mumbai',\n",
              "       'Mulund West, Mumbai', 'Yousufguda, Hyderabad',\n",
              "       'Ghatkopar West, Mumbai', 'TVM Beach, Thiruvananthapuram',\n",
              "       'Vanagaram, Chennai', 'Worli, Mumbai',\n",
              "       'Koramangala 1 Block, Bangalore', 'Saki Vihar Road, Mumbai',\n",
              "       'Versova, Mumbai', 'CV Raman Nagar, Bangalore',\n",
              "       'Secunderabad, Hyderabad', 'BTM Layout 1st Stage, Bangalore',\n",
              "       'Ramkoti, Hyderabad', 'MRC Nagar, Chennai',\n",
              "       'Malkajgiri, Hyderabad', 'Gachibowli, Hyderabad',\n",
              "       'Mogappair West, Chennai', 'Mayur Vihar Ph-III, Delhi',\n",
              "       'Kurla East, Mumbai', 'Ashok Vihar, Delhi', 'Mahim, Mumbai',\n",
              "       'Villivakkam, Chennai', 'Srinagar Colony, Hyderabad',\n",
              "       'Chromepet, Chennai', 'Pammal, Chennai', 'Banashankari, Bangalore',\n",
              "       'Velachery, Chennai', 'Chanakyapuri, Delhi',\n",
              "       'Kalyan Nagar, Bangalore', 'Oshiwara, Mumbai',\n",
              "       'Karapakkam, Chennai', 'Borivali, Mumbai', 'Mylapore, Chennai',\n",
              "       'Electronics City, Bangalore', 'Perungudi, Chennai',\n",
              "       'Basavanagudi, Bangalore', 'MG Road, Bangalore',\n",
              "       'Thiruvottiyur, Chennai', 'Greater Kailash Part 2, Delhi',\n",
              "       'Bilekahalli, Bangalore', 'Nanganallur, Chennai', 'Rohini, Delhi',\n",
              "       'Thrikkakara, Ernakulam', 'Manapakkam, Chennai',\n",
              "       'Bellandur, Bangalore', 'Ameerpet, Hyderabad',\n",
              "       'Thiruvallom, Thiruvananthapuram', 'R.S. Puram, Coimbatore',\n",
              "       'Kumarapuram, Thiruvananthapuram', 'Palam Colony, Delhi',\n",
              "       'Manali, Chennai', 'Valasaravakkam, Chennai',\n",
              "       'Barkatpura, Hyderabad', 'Singanallur, Coimbatore',\n",
              "       'Mulund, Mumbai', 'Dadar East, Mumbai', 'Borabanda, Hyderabad',\n",
              "       'Model Town 3, Delhi', 'Ulsoor, Bangalore',\n",
              "       'Bhayandar West, Mumbai', 'Hari Nagar, Delhi',\n",
              "       'Horamavu, Bangalore', 'Santacruz East, Mumbai',\n",
              "       'OMR Road, Chennai', 'Kammana Halli, Bangalore',\n",
              "       'Tilak Nagar, Delhi', 'Panathur, Bangalore',\n",
              "       'Rajarajeshwarinagar, Bangalore', 'Paravur, Ernakulam',\n",
              "       'Preet Vihar, Delhi', 'Chembur East, Mumbai', 'Jakkur, Bangalore',\n",
              "       'Vanasthalipuram, Hyderabad', 'Mandaveli, Chennai',\n",
              "       'Kumara Park West, Bangalore', 'Domlur, Bangalore',\n",
              "       'Jeevanbhimanagar, Bangalore', 'Santacruz West, Mumbai',\n",
              "       'Shankar Vihar, Delhi', 'Jogeshwari East, Mumbai',\n",
              "       'Kasavanahalli, Bangalore', 'Ambalamukku, Thiruvananthapuram',\n",
              "       'Jhilmil Colony, Delhi', 'Dwarka Sector 7, Delhi',\n",
              "       'Tatabad, Coimbatore', 'Marine Lines, Mumbai',\n",
              "       'Tolichowki, Hyderabad', 'Sundarapuram, Coimbatore',\n",
              "       'Kothanur, Bangalore', 'Chinmaya Nagar, Chennai',\n",
              "       'Vasant Vihar, Delhi', 'Mehdipatnam, Hyderabad',\n",
              "       'Kadugodi, Bangalore', 'Ganapathy, Coimbatore',\n",
              "       'SR Nagar, Hyderabad', 'Perambur, Chennai', 'Opera House, Mumbai',\n",
              "       'Selvapuram, Coimbatore', 'Karkardooma, Delhi',\n",
              "       'Alwarthirunagar, Chennai', 'KR Puram, Bangalore',\n",
              "       'Ramesh Nagar, Delhi', 'Malakpet, Hyderabad',\n",
              "       'Tondiarpet, Chennai', 'Vikrampuri Colony, Hyderabad',\n",
              "       'Besant Nagar, Chennai', 'Vasant Kunj, Delhi',\n",
              "       'Banaswadi, Bangalore', 'BTM Layout, Bangalore',\n",
              "       'Medavakkam, Chennai', 'Vileparle West, Mumbai',\n",
              "       'Sahakaranagar, Bangalore', 'LB Nagar, Hyderabad',\n",
              "       'Punjagutta, Hyderabad', 'Yamuna Vihar, Delhi',\n",
              "       'Marathahalli, Bangalore', 'JP Nagar 2 Phase, Bangalore',\n",
              "       'Rani Bagh, Delhi', 'Jayamahal, Bangalore', 'Nagpada, Mumbai',\n",
              "       'Kundalahalli, Bangalore', 'Kailash Colony, Delhi',\n",
              "       'Pandav Nagar, Delhi', 'Karkhana, Hyderabad',\n",
              "       'West Mambalam, Chennai', 'Aminjikarai, Chennai',\n",
              "       'Madipakkam, Chennai', 'Charkop, Mumbai', 'Adarsh Nagar, Delhi',\n",
              "       'Dadar, Mumbai', 'Kaggadasapura, Bangalore', 'Matunga, Mumbai',\n",
              "       'Sun city, Hyderabad', 'Mahadevapura, Bangalore',\n",
              "       'Kalady, Ernakulam', 'Anna Nagar West, Chennai',\n",
              "       'Mayur Vihar Ph-II, Delhi', 'Tis Hazari, Delhi',\n",
              "       'Vennala, Ernakulam', 'Mira Road, Mumbai', 'Alwal, Hyderabad',\n",
              "       'Trimulgherry, Hyderabad', 'Raja Annamalai Puram, Chennai',\n",
              "       'JP Nagar 7 Phase, Bangalore', 'Old Bowenpally, Hyderabad',\n",
              "       'Santosh Nagar, Hyderabad', 'Hope College, Coimbatore',\n",
              "       'Mulund East, Mumbai', 'Mount Road, Chennai',\n",
              "       'Patel Nagar West, Delhi', 'Jayanagar 4 Block, Bangalore',\n",
              "       'West Marredpally, Hyderabad', 'Jagriti Enclave, Delhi',\n",
              "       'Sarita Vihar, Delhi', 'Rajendra Nagar, Hyderabad',\n",
              "       'Thudiyalur, Coimbatore', 'Bhayandar East, Mumbai',\n",
              "       'Narayanguda, Hyderabad', 'Kothapet, Hyderabad',\n",
              "       'KK Nagar, Chennai', 'Tripunithura, Ernakulam',\n",
              "       'Model Town, Delhi', 'Suchitra Circle, Hyderabad',\n",
              "       'Pusa Road, Delhi', 'Vijaynagar Colony, Hyderabad',\n",
              "       'Alandur, Chennai', 'Cuffe Parade, Mumbai', 'Kalkaji, Delhi',\n",
              "       'Saibaba Colony, Coimbatore', 'Kattakada, Thiruvananthapuram',\n",
              "       'Jogeshwari West, Mumbai', 'Erragadda, Hyderabad',\n",
              "       'Tilak Nagar, Hyderabad', 'Edapally, Ernakulam',\n",
              "       'Patparganj, Delhi', 'Sainikpuri, Hyderabad',\n",
              "       'Nanjundapuram, Coimbatore', 'Nizampet, Hyderabad',\n",
              "       'Kolathur, Chennai', 'Chamarajpet, Bangalore',\n",
              "       'Kala Ghoda, Mumbai', 'Padmarao Nagar, Hyderabad',\n",
              "       'Uppal, Hyderabad', 'Guduvanchery, Chennai',\n",
              "       'Satya Niketan, Delhi', 'Chanda Nagar, Hyderabad',\n",
              "       'Sowripalayam, Coimbatore', 'Vikhroli West, Mumbai',\n",
              "       'Rajouri Garden, Delhi', 'Alaknanda, Delhi',\n",
              "       'Millers Road, Bangalore', 'Kandanchavadi, Chennai',\n",
              "       'Vigyan Vihar, Delhi', 'Bandra East, Mumbai',\n",
              "       'Vilankurichi, Coimbatore', 'Malad East, Mumbai',\n",
              "       'Prabhadevi, Mumbai', 'Ulloor, Thiruvananthapuram',\n",
              "       'Rajakilpakkam, Chennai', 'Greater Kailash, Delhi',\n",
              "       'Madinaguda, Hyderabad', 'Borivali East, Mumbai', 'Juhu, Mumbai',\n",
              "       'Mugalivakkam, Chennai', 'Hebbal, Bangalore', 'Kirti Nagar, Delhi',\n",
              "       'Balaramapuram, Thiruvananthapuram', 'Bhandup East, Mumbai',\n",
              "       'VV Puram, Bangalore', 'Kilpauk, Chennai', 'Jacob Circle, Mumbai',\n",
              "       'Singasandra, Bangalore', 'Khairatabad, Hyderabad',\n",
              "       'Coimbatore Aerodrome, Coimbatore', 'J.C Nagar, Bangalore',\n",
              "       'Naraina Vihar, Delhi', 'Virugambakkam, Chennai',\n",
              "       'RK Puram, Delhi', 'Banashankari 1st Stage, Bangalore',\n",
              "       'Lajpat Nagar 4, Delhi', 'Jayanagar 5 Block, Bangalore',\n",
              "       'Kalyanpuri, Hyderabad', 'Tambaram, Chennai', 'Laxmi Nagar, Delhi',\n",
              "       'Anand Vihar, Delhi', 'Charni Road, Mumbai',\n",
              "       'Patel Nagar East, Delhi', 'Jayanagar 9 Block, Bangalore',\n",
              "       'Ecil, Hyderabad', 'Ramamurthy Nagar, Bangalore',\n",
              "       'Raj Nagar - 2, Delhi', 'Chunabhatti, Mumbai',\n",
              "       'Vikhroli East, Mumbai', 'Shakarpur, Delhi', 'Shahdara, Delhi',\n",
              "       'Govandi, Mumbai', 'Mira Bhayandar, Mumbai',\n",
              "       'Doddanekundi, Bangalore', 'Madhu Vihar, Delhi', 'Guindy, Chennai',\n",
              "       'Palarivattom, Ernakulam', 'Charminar, Hyderabad',\n",
              "       'Old Airport Road, Bangalore', 'Sarjapur Road, Bangalore',\n",
              "       'Okhla, Delhi', 'Baghlingampally, Hyderabad', 'Trombay, Mumbai',\n",
              "       'HRBR Layout, Bangalore', 'Fort, Mumbai', 'Shastri Nagar, Delhi',\n",
              "       'Red Hills, Chennai', 'New BEL Road, Bangalore',\n",
              "       'Park Town, Chennai', 'Frazer Town, Bangalore',\n",
              "       'Falaknuma, Hyderabad', 'Rohini Sector 7, Delhi',\n",
              "       'East Of Kailash, Delhi', 'Chintadripet, Chennai',\n",
              "       'Tagore Garden, Delhi', 'Tri Nagar, Delhi',\n",
              "       'Muttada, Thiruvananthapuram', 'Munnekollal, Bangalore',\n",
              "       'TV Museum, Thiruvananthapuram', 'Shivalik, Delhi',\n",
              "       'Neb Sarai, Delhi', 'Mahalakshmi Layout, Bangalore',\n",
              "       'Mankhurd, Mumbai', 'Kamla Nagar, Delhi',\n",
              "       'Saravanampatti, Coimbatore', 'Selaiyur, Chennai',\n",
              "       'Saligramam, Chennai', 'Thirumullaivoyal, Chennai',\n",
              "       'Teynampet, Chennai', 'Kochi, Ernakulam',\n",
              "       'Vidyaranyapura, Bangalore', 'Mogappair, Chennai',\n",
              "       'Mazgaon, Mumbai', 'Shivaji Nagar, Bangalore', 'Jangpura, Delhi',\n",
              "       'Kaudiar Square, Thiruvananthapuram', 'Arumbakkam, Chennai',\n",
              "       'Cherai, Ernakulam', 'Mira-Bhayandar Road, Mumbai',\n",
              "       'Ram Nagar, Delhi', 'Parel, Mumbai', 'Thanisandra, Bangalore',\n",
              "       'Pragathi Nagar, Hyderabad', 'Karamana, Thiruvananthapuram',\n",
              "       'AECS Layout, Bangalore', 'Nizamuddin East, Delhi',\n",
              "       'Ramanathapuram, Coimbatore', 'Anna Nagar, Chennai',\n",
              "       'Shenoy Nagar, Chennai', 'Siddhapudur, Coimbatore',\n",
              "       'Keshav Puram, Delhi', 'Edakochi, Ernakulam',\n",
              "       'Nagawara, Bangalore', 'Chintal, Hyderabad',\n",
              "       'Malviya Nagar, Delhi', 'Karwan, Hyderabad',\n",
              "       'Vazhakulam, Ernakulam', 'PMG Jn, Thiruvananthapuram',\n",
              "       'Dwarka Sector 6, Delhi', 'Viveknagar, Bangalore',\n",
              "       'Balapur, Hyderabad', 'Banashankari 2nd Stage, Bangalore',\n",
              "       'Azadpur, Delhi', 'Moti Nagar, Delhi', 'Sakinaka, Mumbai',\n",
              "       'Thoppumpady, Ernakulam', 'Sanath Nagar, Hyderabad',\n",
              "       'Royapettah, Chennai', 'Koramangala 5 Block, Bangalore',\n",
              "       'Kanjurmarg, Mumbai', 'Ernakulam College, Ernakulam',\n",
              "       'Urapakkam, Chennai', 'Coimbatore Ukkadam, Coimbatore',\n",
              "       'Sreekaryam, Thiruvananthapuram', 'Ernakulam North, Ernakulam',\n",
              "       'Sultanpur, Delhi', 'Banerji Road, Ernakulam',\n",
              "       'Balkampet, Hyderabad', 'Kavundampalayam, Coimbatore',\n",
              "       'Kanchanbagh, Hyderabad', 'Patel Nagar, Delhi', 'Kilokri, Delhi',\n",
              "       'Hoodi, Bangalore', 'New Seemapuri, Delhi',\n",
              "       'Seshadripuram, Bangalore', 'Vijaynagar, Delhi',\n",
              "       'Bowenpally, Hyderabad', 'Ondipudur, Coimbatore',\n",
              "       'Triplicane, Chennai', 'Richmond Town, Bangalore',\n",
              "       'New Rajendra Nagar, Delhi', 'Jahangirpuri, Delhi',\n",
              "       'Vivek Vihar, Delhi', 'Malleshpalya, Bangalore',\n",
              "       'Pezhakkappilly, Ernakulam', 'Lingampally, Hyderabad',\n",
              "       'Jamia Nagar, Delhi', 'Begum Bazar, Hyderabad',\n",
              "       'Lower Parel, Mumbai', 'ECR Road, Chennai', 'Nangloi, Delhi',\n",
              "       'Chintalmet, Hyderabad', 'West Of Chord Road, Bangalore',\n",
              "       'SV Road, Mumbai', 'JP Nagar 5 Phase, Bangalore',\n",
              "       'Sanjay Nagar, Bangalore', 'Panampilly Nagar, Ernakulam',\n",
              "       'Dharavi, Mumbai', 'Abbigere, Bangalore',\n",
              "       'Manacaud, Thiruvananthapuram', 'Poonamalle, Chennai',\n",
              "       'Najafgarh, Delhi', 'Uttarahalli, Bangalore', 'Sembakkam, Chennai',\n",
              "       'Tarnaka, Hyderabad', 'Nandanam, Chennai', 'Saidapet, Chennai',\n",
              "       'Choolaimedu, Chennai', 'Perungalathur, Chennai',\n",
              "       'Gulabi Bagh, Delhi', 'Jasola, Delhi',\n",
              "       'JP Nagar 3 Phase, Bangalore', 'Uppilipalayam, Coimbatore',\n",
              "       'Sadashivanagar, Bangalore', 'Rohini Sector 24, Delhi',\n",
              "       'Muvattupuzha, Ernakulam', 'Khan Market, Delhi',\n",
              "       'Abids, Hyderabad', 'Geeta Colony, Delhi', 'Madandapuram, Chennai',\n",
              "       'Dwarka Sector 22, Delhi', 'Grant Road, Mumbai',\n",
              "       'Jeedimetla, Hyderabad', 'Tambaram East, Chennai',\n",
              "       'Kothaguda, Hyderabad', 'Hauz Khas, Delhi', 'Habsiguda, Hyderabad',\n",
              "       'Breach Candy, Mumbai', 'Vidyanagar, Bangalore',\n",
              "       'Begur, Bangalore', 'Dahisar, Mumbai', 'Pachalam, Ernakulam',\n",
              "       'Perumbavoor, Ernakulam', 'Avadi, Chennai',\n",
              "       'Coimbatore Central, Coimbatore', 'Lokhandwala, Mumbai',\n",
              "       'Tiruvottiyur, Chennai', 'Ullal Upanagara, Bangalore',\n",
              "       'Perurkada, Thiruvananthapuram', 'Ashok Vihar Phase 3, Delhi',\n",
              "       'Walkeshwar, Mumbai', 'Saidabad, Hyderabad',\n",
              "       'Koramangala 6 Block, Bangalore', 'New Ashok Nagar, Delhi',\n",
              "       'Peddar Road, Mumbai', 'Aya Nagar, Delhi', 'JP Nagar, Bangalore',\n",
              "       'Sasthamangalam, Thiruvananthapuram', 'Yakutpura, Hyderabad',\n",
              "       'Sampangiramnagar, Bangalore', 'Kasturi nagar, Bangalore',\n",
              "       'Pallavaram, Chennai', 'Moti Bagh, Delhi',\n",
              "       'Mukherjee Nagar, Delhi', 'Byculla, Mumbai', 'Peeragarhi, Delhi',\n",
              "       'Amberpet, Hyderabad', 'JP Nagar 6 Phase, Bangalore',\n",
              "       'Sholinganallur, Chennai', 'Langford Road, Bangalore',\n",
              "       'Cumballa Hill, Mumbai', 'Colaba, Mumbai',\n",
              "       'Qutab Institutional Area, Delhi', 'Dommasandra, Bangalore',\n",
              "       'Malabar Hill, Mumbai', 'Koramangala 8 Block, Bangalore',\n",
              "       'Rohini Sector 22, Delhi', 'Lothkunta, Hyderabad',\n",
              "       'HAL 2nd Stage, Bangalore', 'Jayanagar 7 Block, Bangalore',\n",
              "       'Vadasserikonam, Thiruvananthapuram',\n",
              "       'East Marredpally, Hyderabad', 'Kelambakkam, Chennai',\n",
              "       'Chinchpokli, Mumbai', 'Delhi Cantt, Delhi',\n",
              "       'Padmanabhanagar, Bangalore', 'Sheikh Sarai, Delhi',\n",
              "       'Washermenpet, Chennai', 'Konanakunte, Bangalore',\n",
              "       'Ashok Vihar Phase 1, Delhi', 'Thirumala, Thiruvananthapuram',\n",
              "       'Sarjapura, Bangalore', 'JP Nagar 1 Phase, Bangalore',\n",
              "       'JB Nagar, Mumbai', 'Paruthippara, Thiruvananthapuram',\n",
              "       'Vikhroli, Mumbai', 'JP Nagar 8 Phase, Bangalore',\n",
              "       'GTB Nagar, Delhi', 'Vidyanagar, Hyderabad',\n",
              "       'Masab Tank, Hyderabad', 'Hafeezpet, Hyderabad',\n",
              "       'Jeevan Park, Delhi', 'Dwarka Sector 5, Delhi',\n",
              "       'Civil Lines, Delhi', 'Anand Niketan, Delhi',\n",
              "       'Pappanaickenpalayam, Coimbatore', 'Koovappady, Ernakulam',\n",
              "       'Dwarka, Sector 5, Delhi', 'Srirampuram, Bangalore',\n",
              "       'Korattur, Chennai', 'Pappanaickenpudur, Coimbatore',\n",
              "       'Gandhi Nagar, Delhi', 'Vignan Nagar, Bangalore',\n",
              "       'Ganganagar, Bangalore', 'Elamakkara, Ernakulam',\n",
              "       'Boduppal, Hyderabad', 'Tilak Nagar, Mumbai', 'Khetwadi, Mumbai',\n",
              "       'Kengeri, Bangalore', 'Sion East, Mumbai',\n",
              "       'Rohini Sector 6, Delhi', 'Kazhakuttam, Thiruvananthapuram',\n",
              "       'Goregaon, Mumbai', 'Peroor, Thiruvananthapuram',\n",
              "       'New Thippasandra, Bangalore', 'Jalahalli, Bangalore',\n",
              "       'King Koti, Hyderabad', 'Kallambalam, Thiruvananthapuram',\n",
              "       'Dwarka Sector 13, Delhi', 'Residency Road, Bangalore',\n",
              "       'Radhakrishnan Salai, Chennai', 'Hulimavu, Bangalore',\n",
              "       'Dasarahalli, Bangalore', 'Vileparle, Mumbai', 'Delhi, Delhi',\n",
              "       'Kachiguda, Hyderabad', 'Venkitapuram, Coimbatore',\n",
              "       'Kuniamuthur, Coimbatore', 'TV Chalai, Thiruvananthapuram',\n",
              "       'Serilingampally, Hyderabad', 'RMV 2nd Stage, Bangalore',\n",
              "       'Champapet, Hyderabad', 'Surya Niketan, Delhi',\n",
              "       'Kovilpalayam, Coimbatore', 'Nampally, Hyderabad',\n",
              "       'Siddapura, Bangalore', 'Neredmet, Hyderabad',\n",
              "       'Vellakinar, Coimbatore', 'Egmore, Chennai',\n",
              "       'Katwaria Sarai, Delhi', 'Navalur, Chennai', 'Mehrauli, Delhi',\n",
              "       'HBR Layout, Bangalore', 'Subhash Nagar, Delhi',\n",
              "       'Mallepally, Hyderabad', 'Eroor South, Ernakulam',\n",
              "       'Lajpat Nagar III, Delhi', 'Kodungaiyur, Chennai',\n",
              "       'Kuppakonanpudur, Coimbatore', 'Paradise, Hyderabad',\n",
              "       'Rohini Sector 4, Delhi', 'Koramangala 4 Block, Bangalore',\n",
              "       'Dwarka Sector 3, Delhi', 'Durga Puri, Delhi',\n",
              "       'Kalamassery, Ernakulam', 'Gulmohar Park, Delhi',\n",
              "       'Adugodi, Bangalore', 'Moti Nagar, Hyderabad',\n",
              "       'Nallagandla, Hyderabad', 'Gowrivakkam, Chennai',\n",
              "       'Periyar Nagar, Chennai', 'Austin Town, Bangalore',\n",
              "       'Afzalgunj, Hyderabad', 'Cotton Hill, Thiruvananthapuram',\n",
              "       'Goldwins, Coimbatore', 'Kuravankonam, Thiruvananthapuram',\n",
              "       'Rohini Sector 3, Delhi', 'Lado Sarai, Delhi',\n",
              "       'Koramangala 2 Block, Bangalore', 'Madangir, Delhi',\n",
              "       'Marine Drive, Mumbai', 'Marine Drive, Ernakulam',\n",
              "       'Angamaly, Ernakulam', 'Neelankarai, Chennai',\n",
              "       'Churchgate, Mumbai', 'Kalapatti, Coimbatore', 'Nand Nagri, Delhi',\n",
              "       'Kandivali, Mumbai', 'Madanpura, Mumbai', 'Hegde Nagar, Bangalore',\n",
              "       'Domalguda, Hyderabad', 'Mumbai Central, Mumbai',\n",
              "       'Vasanthnagar, Bangalore', 'Kapashera, Delhi',\n",
              "       'August Kranti Marg, Delhi', 'Krishna Nagar, Hyderabad',\n",
              "       'Lal baug, Mumbai', 'Perumathura, Thiruvananthapuram',\n",
              "       'Molarband, Delhi', 'Piravom, Ernakulam', 'Neeti Bagh, Delhi',\n",
              "       'Kishanbagh, Hyderabad', 'Shantinagar, Bangalore',\n",
              "       'Poojapura, Thiruvananthapuram', 'Rathinapuri, Coimbatore',\n",
              "       'Model Town 1, Delhi', 'Koothattukulam, Ernakulam',\n",
              "       'Anand Lok, Delhi', 'Pappanaickenpalayam West, Coimbatore',\n",
              "       'Subzi Mandi, Delhi', 'Sion, Mumbai', 'Nagole, Hyderabad',\n",
              "       'TVM Pettah, Thiruvananthapuram', 'Changampuzha Nagar, Ernakulam',\n",
              "       'Puzhal, Chennai', 'Vanchiyur, Thiruvananthapuram',\n",
              "       'Sukh Vihar, Delhi', 'Kovalam, Thiruvananthapuram',\n",
              "       'Swasthya Vihar, Delhi', 'Tardeo, Mumbai', 'Vishnu Garden, Delhi',\n",
              "       'Jayanagar 1 Block, Bangalore', 'Sion Koliwada, Mumbai',\n",
              "       'Marol, Mumbai', 'Kalkere, Bangalore', 'Sindhi Colony, Hyderabad',\n",
              "       'Silampur, Delhi', 'Varthur, Bangalore', 'Model Town 2, Delhi',\n",
              "       'Surajmal Vihar, Delhi', 'Chandni Chowk, Delhi',\n",
              "       'Veerakeralam, Coimbatore', 'T Dasarahalli, Bangalore',\n",
              "       'Kaggalipura, Bangalore', 'Thonnakkal, Thiruvananthapuram',\n",
              "       'Manjapra, Ernakulam', 'Yellareddyguda, Hyderabad',\n",
              "       'Kovilambakkam, Chennai', 'Broadway, Chennai',\n",
              "       'Podanur, Coimbatore', 'Kompally, Hyderabad',\n",
              "       'Kottivakkam, Chennai', 'Mansarover Garden, Delhi',\n",
              "       'Mandapeshwar, Mumbai', 'Rohini Sector 15, Delhi',\n",
              "       'Vaduthala, Ernakulam', 'Hebbal Kempapura, Bangalore',\n",
              "       'Sithalapakkam, Chennai', 'MKB Nagar, Chennai',\n",
              "       'MG Road, Hyderabad', 'Darya Ganj, Delhi',\n",
              "       'Venjaramoodu, Thiruvananthapuram', 'Kotturpuram, Chennai',\n",
              "       'Ramapuram, Chennai', 'Karmanghat, Hyderabad',\n",
              "       'Moula Ali, Hyderabad', 'Netaji Nagar, Delhi',\n",
              "       'Chandra Layout, Bangalore', 'Akshaya nagar, Bangalore',\n",
              "       'Nirman Vihar, Delhi', 'Vasant Enclave, Delhi',\n",
              "       'St Thomas Mount, Chennai', 'Royapuram, Chennai',\n",
              "       'Abhiramapuram, Chennai', 'Inder Puri, Delhi',\n",
              "       'Edayarpalayam, Coimbatore', 'Deoli, Delhi',\n",
              "       'Mulanthuruthy, Ernakulam', 'Sukhdev Vihar, Delhi', 'e',\n",
              "       'Kothamangalam, Ernakulam', 'Harlur, Bangalore',\n",
              "       'Bolarum, Hyderabad', 'Richards Town, Bangalore', 'Narela, Delhi',\n",
              "       'Nehru Place, Delhi', 'Ramanthapur, Hyderabad',\n",
              "       'Bali Nagar, Delhi', 'Palavakkam, Chennai', 'Balanagar, Hyderabad',\n",
              "       'Hyderguda, Hyderabad', 'Cherannagar, Coimbatore',\n",
              "       'Rohini Sector 11, Delhi', 'Dwarka Sector 4, Delhi',\n",
              "       'Palluruthy, Ernakulam', 'Vizhinjam, Thiruvananthapuram',\n",
              "       'Santacruz, Mumbai', 'Ganesh Nagar, Delhi',\n",
              "       'Vengal Rao Nagar, Hyderabad', 'Deonar, Mumbai',\n",
              "       'Edapally North, Ernakulam', 'Red Hills, Hyderabad',\n",
              "       'IDA Jeedimetla, Hyderabad', 'Mettupalayam, Coimbatore',\n",
              "       'Hayathnagar, Hyderabad', 'Kakkanad West, Ernakulam',\n",
              "       'Khajaguda, Hyderabad', 'Rohini Sector 5, Delhi',\n",
              "       'Saraswati Vihar, Delhi', 'Kingsway Camp, Delhi',\n",
              "       'Ramamangalam, Ernakulam', 'Indirapuram, Delhi',\n",
              "       'Parassala, Thiruvananthapuram', 'Connaught Place, Delhi',\n",
              "       'Gottigerre, Bangalore', 'Shivrampally, Hyderabad',\n",
              "       'Vyasarpadi, Chennai', 'Kovaipudur, Coimbatore',\n",
              "       'Vallakkadavoo, Thiruvananthapuram', 'Kattupakkam, Chennai',\n",
              "       'Nellimoodu, Thiruvananthapuram', 'Pondy Bazaar, Chennai',\n",
              "       'Prashant Vihar, Delhi', 'Chullickal, Ernakulam',\n",
              "       'Murugeshpalya, Bangalore', 'Khanpur, Delhi',\n",
              "       'Madiwala, Bangalore', 'Dwarka Sector 23, Delhi',\n",
              "       'Badarpur, Delhi', 'Peyad, Thiruvananthapuram',\n",
              "       'Gandhi Nagar, Chennai', 'Uday Park, Delhi',\n",
              "       'Bandlaguda, Hyderabad', 'Karukappilli, Ernakulam',\n",
              "       'Rana Pratap Bagh, Delhi', 'Kochi M.G.Road, Ernakulam',\n",
              "       'Gopalapuram, Chennai', 'Puthenvelikkara, Ernakulam',\n",
              "       'Sowcarpet, Chennai', 'Chitlapakkam, Chennai',\n",
              "       'Malumichampatti, Coimbatore', 'Rohini Sector 8, Delhi',\n",
              "       'Rohini Sector 2, Delhi', 'Ram Nagar, Hyderabad',\n",
              "       'Dwarka Sector 10, Delhi', 'Agaram, Chennai',\n",
              "       'Poovachal, Thiruvananthapuram', 'Shanti Niketan, Delhi',\n",
              "       'Pothencode, Thiruvananthapuram', 'Dickenson Road, Bangalore',\n",
              "       'RTC X Road, Hyderabad', 'Film Nagar, Hyderabad',\n",
              "       'Lodhi Colony, Delhi', 'SG Palya (Kormangla), Bangalore',\n",
              "       'Palkulangara, Thiruvananthapuram', 'Mahalingapuram, Chennai',\n",
              "       'Matunga West, Mumbai', 'Nettoor, Ernakulam', 'Rani Khera, Delhi',\n",
              "       'Beeramguda, Hyderabad', 'Ramachandrapuram, Hyderabad',\n",
              "       'Neyyattinkara Town, Thiruvananthapuram', 'Gorai, Mumbai',\n",
              "       'Jayanagar 3 Block, Bangalore', 'Shakti Nagar, Delhi',\n",
              "       'Sangam Vihar, Delhi', 'Shakurpur, Delhi',\n",
              "       'Chaitanyapuri, Hyderabad', 'TVM Fort, Thiruvananthapuram',\n",
              "       'JP Nagar 4 Phase, Bangalore', 'Nayandahalli, Bangalore',\n",
              "       'Valiathura, Thiruvananthapuram', 'Kowdiar, Thiruvananthapuram',\n",
              "       'Cunningham Road, Bangalore', 'Hennur, Bangalore',\n",
              "       'Peenya, Bangalore', 'Pattimattam, Ernakulam', 'HAL, Bangalore'],\n",
              "      dtype=object)"
            ]
          },
          "metadata": {
            "tags": []
          },
          "execution_count": 34
        }
      ]
    },
    {
      "cell_type": "code",
      "metadata": {
        "id": "euJMKSefgDgp"
      },
      "source": [
        "def mumbai(row):\n",
        "    def isNaN(string):\n",
        "        return string != string\n",
        "    if isNaN(row['Place']):\n",
        "        return row\n",
        "    x = re.findall(\"Mumbai\", row['Place'])\n",
        "    \n",
        "    if 'Mumbai' in x:\n",
        "        row['Place'] = 'Mumbai'\n",
        "    return row\n",
        "df = df.apply(mumbai, axis = 1)"
      ],
      "execution_count": 35,
      "outputs": []
    },
    {
      "cell_type": "code",
      "metadata": {
        "id": "miFPfWjzgDgp"
      },
      "source": [
        "def delhi(row):\n",
        "    def isNaN(string):\n",
        "        return string != string\n",
        "    if isNaN(row['Place']):\n",
        "        return row\n",
        "    x = re.findall(\"Delhi\", row['Place'])\n",
        "    \n",
        "    if 'Delhi' in x:\n",
        "        row['Place'] = 'Delhi'\n",
        "    return row\n",
        "df = df.apply(delhi, axis = 1)"
      ],
      "execution_count": 36,
      "outputs": []
    },
    {
      "cell_type": "code",
      "metadata": {
        "id": "2l64qLUAgDgp"
      },
      "source": [
        "def chennai(row):\n",
        "    def isNaN(string):\n",
        "        return string != string\n",
        "    if isNaN(row['Place']):\n",
        "        return row\n",
        "    x = re.findall(\"Chennai\", row['Place'])\n",
        "    \n",
        "    if 'Chennai' in x:\n",
        "        row['Place'] = 'Chennai'\n",
        "    return row\n",
        "df = df.apply(chennai, axis = 1)"
      ],
      "execution_count": 37,
      "outputs": []
    },
    {
      "cell_type": "code",
      "metadata": {
        "id": "W4w5l3F0gDgp"
      },
      "source": [
        "def blore(row):\n",
        "    def isNaN(string):\n",
        "        return string != string\n",
        "    if isNaN(row['Place']):\n",
        "        return row\n",
        "    x = re.findall(\"Bangalore\", row['Place'])\n",
        "    \n",
        "    if 'Bangalore' in x:\n",
        "        row['Place'] = 'Bangalore'\n",
        "    return row\n",
        "df = df.apply(blore, axis = 1)"
      ],
      "execution_count": 38,
      "outputs": []
    },
    {
      "cell_type": "code",
      "metadata": {
        "id": "_TKljeSegDgp"
      },
      "source": [
        "def ctore(row):\n",
        "    def isNaN(string):\n",
        "        return string != string\n",
        "    if isNaN(row['Place']):\n",
        "        return row\n",
        "    x = re.findall(\"Coimbatore\", row['Place'])\n",
        "    \n",
        "    if 'Coimbatore' in x:\n",
        "        row['Place'] = 'Coimbatore'\n",
        "    return row\n",
        "df = df.apply(ctore, axis = 1)"
      ],
      "execution_count": 39,
      "outputs": []
    },
    {
      "cell_type": "code",
      "metadata": {
        "id": "y-Id2n5MgDgp"
      },
      "source": [
        "def hyd(row):\n",
        "    def isNaN(string):\n",
        "        return string != string\n",
        "    if isNaN(row['Place']):\n",
        "        return row\n",
        "    x = re.findall(\"Hyderabad\", row['Place'])\n",
        "    \n",
        "    if 'Hyderabad' in x:\n",
        "        row['Place'] = 'Hyderabad'\n",
        "    return row\n",
        "df = df.apply(hyd, axis = 1)"
      ],
      "execution_count": 40,
      "outputs": []
    },
    {
      "cell_type": "code",
      "metadata": {
        "id": "6eWvO_yMgDgq"
      },
      "source": [
        "def ernakulam(row):\n",
        "    def isNaN(string):\n",
        "        return string != string\n",
        "    if isNaN(row['Place']):\n",
        "        return row\n",
        "    x = re.findall(\"Ernakulam\", row['Place'])\n",
        "    \n",
        "    if 'Ernakulam' in x:\n",
        "        row['Place'] = 'Ernakulam'\n",
        "    return row\n",
        "df = df.apply(ernakulam, axis = 1)"
      ],
      "execution_count": 41,
      "outputs": []
    },
    {
      "cell_type": "code",
      "metadata": {
        "id": "-gZG9LmGgDgq"
      },
      "source": [
        "def thiru(row):\n",
        "    def isNaN(string):\n",
        "        return string != string\n",
        "    if isNaN(row['Place']):\n",
        "        return row\n",
        "    x = re.findall(\"Thiruvananthapuram\", row['Place'])\n",
        "    \n",
        "    if 'Thiruvananthapuram' in x:\n",
        "        row['Place'] = 'Thiruvananthapuram'\n",
        "    return row\n",
        "df = df.apply(thiru, axis = 1)"
      ],
      "execution_count": 42,
      "outputs": []
    },
    {
      "cell_type": "code",
      "metadata": {
        "colab": {
          "base_uri": "https://localhost:8080/"
        },
        "id": "KCtfSjvKgDgq",
        "outputId": "69a2d4e2-9c1e-4ce8-f693-48484e8cb8f6"
      },
      "source": [
        "df.groupby(\"Place\")['Place'].count().sort_values(ascending = False)"
      ],
      "execution_count": 43,
      "outputs": [
        {
          "output_type": "execute_result",
          "data": {
            "text/plain": [
              "Place\n",
              "Bangalore             1258\n",
              "Mumbai                1219\n",
              "Delhi                 1185\n",
              "Hyderabad              951\n",
              "Chennai                855\n",
              "Coimbatore             228\n",
              "Ernakulam              153\n",
              "Thiruvananthapuram      86\n",
              "e                        1\n",
              "Name: Place, dtype: int64"
            ]
          },
          "metadata": {
            "tags": []
          },
          "execution_count": 43
        }
      ]
    },
    {
      "cell_type": "code",
      "metadata": {
        "colab": {
          "base_uri": "https://localhost:8080/"
        },
        "id": "1OKsmrFbgDgr",
        "outputId": "ea09107a-ccad-4659-c88a-e706e104b098"
      },
      "source": [
        "df.info()"
      ],
      "execution_count": 44,
      "outputs": [
        {
          "output_type": "stream",
          "text": [
            "<class 'pandas.core.frame.DataFrame'>\n",
            "RangeIndex: 5961 entries, 0 to 5960\n",
            "Data columns (total 7 columns):\n",
            " #   Column              Non-Null Count  Dtype \n",
            "---  ------              --------------  ----- \n",
            " 0   Qualification       5961 non-null   object\n",
            " 1   Experience          5961 non-null   object\n",
            " 2   Rating              2659 non-null   object\n",
            " 3   Place               5936 non-null   object\n",
            " 4   Profile             5961 non-null   object\n",
            " 5   Miscellaneous_Info  3341 non-null   object\n",
            " 6   Fees                5961 non-null   int64 \n",
            "dtypes: int64(1), object(6)\n",
            "memory usage: 326.1+ KB\n"
          ],
          "name": "stdout"
        }
      ]
    },
    {
      "cell_type": "code",
      "metadata": {
        "colab": {
          "base_uri": "https://localhost:8080/"
        },
        "id": "5gGsDbTygDgs",
        "outputId": "bf3bc514-939c-40b8-a765-20d7692715a5"
      },
      "source": [
        "df['Profile'].unique()"
      ],
      "execution_count": 45,
      "outputs": [
        {
          "output_type": "execute_result",
          "data": {
            "text/plain": [
              "array(['Homeopath', 'Ayurveda', 'ENT Specialist', 'Dentist',\n",
              "       'General Medicine', 'Dermatologists'], dtype=object)"
            ]
          },
          "metadata": {
            "tags": []
          },
          "execution_count": 45
        }
      ]
    },
    {
      "cell_type": "code",
      "metadata": {
        "colab": {
          "base_uri": "https://localhost:8080/"
        },
        "id": "GQJzaPNigDgs",
        "outputId": "e71aab7e-29d6-445c-b1c8-5267b4642d92"
      },
      "source": [
        "df['Miscellaneous_Info'].head(10)"
      ],
      "execution_count": 46,
      "outputs": [
        {
          "output_type": "execute_result",
          "data": {
            "text/plain": [
              "0                 100% 16 Feedback Kakkanad, Ernakulam\n",
              "1                98% 76 Feedback Whitefield, Bangalore\n",
              "2                                                  NaN\n",
              "3    Bannerghatta Road, Bangalore ₹250 Available on...\n",
              "4                100% 4 Feedback Keelkattalai, Chennai\n",
              "5                                                  NaN\n",
              "6                                                  NaN\n",
              "7    Dental Fillings Crowns and Bridges Fixing Impa...\n",
              "8                                                  NaN\n",
              "9                                                  NaN\n",
              "Name: Miscellaneous_Info, dtype: object"
            ]
          },
          "metadata": {
            "tags": []
          },
          "execution_count": 46
        }
      ]
    },
    {
      "cell_type": "markdown",
      "metadata": {
        "id": "5_t1TiQsgDgt"
      },
      "source": [
        "We will drop this column as we alrady have the doctor ratings. Plus this will make our analysis simple"
      ]
    },
    {
      "cell_type": "code",
      "metadata": {
        "id": "M6vdsAvsgDgu"
      },
      "source": [
        "df.drop(\"Miscellaneous_Info\", axis = 1, inplace = True)"
      ],
      "execution_count": 47,
      "outputs": []
    },
    {
      "cell_type": "code",
      "metadata": {
        "id": "u4SJrPIxgDgu"
      },
      "source": [
        "#Lets begin the Exploratory Data Analysis"
      ],
      "execution_count": 48,
      "outputs": []
    },
    {
      "cell_type": "markdown",
      "metadata": {
        "id": "yQIi0mHRgDgu"
      },
      "source": [
        "## Exploratory Data Analysis"
      ]
    },
    {
      "cell_type": "code",
      "metadata": {
        "colab": {
          "base_uri": "https://localhost:8080/",
          "height": 363
        },
        "id": "Sz4tuA7QgDgu",
        "outputId": "9a9460f8-0f8f-4742-a232-8408dd39f3da"
      },
      "source": [
        "df.head(10)"
      ],
      "execution_count": 49,
      "outputs": [
        {
          "output_type": "execute_result",
          "data": {
            "text/html": [
              "<div>\n",
              "<style scoped>\n",
              "    .dataframe tbody tr th:only-of-type {\n",
              "        vertical-align: middle;\n",
              "    }\n",
              "\n",
              "    .dataframe tbody tr th {\n",
              "        vertical-align: top;\n",
              "    }\n",
              "\n",
              "    .dataframe thead th {\n",
              "        text-align: right;\n",
              "    }\n",
              "</style>\n",
              "<table border=\"1\" class=\"dataframe\">\n",
              "  <thead>\n",
              "    <tr style=\"text-align: right;\">\n",
              "      <th></th>\n",
              "      <th>Qualification</th>\n",
              "      <th>Experience</th>\n",
              "      <th>Rating</th>\n",
              "      <th>Place</th>\n",
              "      <th>Profile</th>\n",
              "      <th>Fees</th>\n",
              "    </tr>\n",
              "  </thead>\n",
              "  <tbody>\n",
              "    <tr>\n",
              "      <th>0</th>\n",
              "      <td>BHMS, MD</td>\n",
              "      <td>24</td>\n",
              "      <td>100</td>\n",
              "      <td>Ernakulam</td>\n",
              "      <td>Homeopath</td>\n",
              "      <td>100</td>\n",
              "    </tr>\n",
              "    <tr>\n",
              "      <th>1</th>\n",
              "      <td>BAMS, MD</td>\n",
              "      <td>12</td>\n",
              "      <td>98</td>\n",
              "      <td>Bangalore</td>\n",
              "      <td>Ayurveda</td>\n",
              "      <td>350</td>\n",
              "    </tr>\n",
              "    <tr>\n",
              "      <th>2</th>\n",
              "      <td>MBBS, MS</td>\n",
              "      <td>9</td>\n",
              "      <td>NaN</td>\n",
              "      <td>Bangalore</td>\n",
              "      <td>ENT Specialist</td>\n",
              "      <td>300</td>\n",
              "    </tr>\n",
              "    <tr>\n",
              "      <th>3</th>\n",
              "      <td>Other</td>\n",
              "      <td>12</td>\n",
              "      <td>NaN</td>\n",
              "      <td>Bangalore</td>\n",
              "      <td>Ayurveda</td>\n",
              "      <td>250</td>\n",
              "    </tr>\n",
              "    <tr>\n",
              "      <th>4</th>\n",
              "      <td>BAMS</td>\n",
              "      <td>20</td>\n",
              "      <td>100</td>\n",
              "      <td>Chennai</td>\n",
              "      <td>Ayurveda</td>\n",
              "      <td>250</td>\n",
              "    </tr>\n",
              "    <tr>\n",
              "      <th>5</th>\n",
              "      <td>BAMS</td>\n",
              "      <td>8</td>\n",
              "      <td>NaN</td>\n",
              "      <td>Chennai</td>\n",
              "      <td>Ayurveda</td>\n",
              "      <td>100</td>\n",
              "    </tr>\n",
              "    <tr>\n",
              "      <th>6</th>\n",
              "      <td>BHMS</td>\n",
              "      <td>42</td>\n",
              "      <td>NaN</td>\n",
              "      <td>Delhi</td>\n",
              "      <td>Homeopath</td>\n",
              "      <td>200</td>\n",
              "    </tr>\n",
              "    <tr>\n",
              "      <th>7</th>\n",
              "      <td>BDS</td>\n",
              "      <td>10</td>\n",
              "      <td>99</td>\n",
              "      <td>Bangalore</td>\n",
              "      <td>Dentist</td>\n",
              "      <td>200</td>\n",
              "    </tr>\n",
              "    <tr>\n",
              "      <th>8</th>\n",
              "      <td>MBBS, MD</td>\n",
              "      <td>14</td>\n",
              "      <td>NaN</td>\n",
              "      <td>Hyderabad</td>\n",
              "      <td>General Medicine</td>\n",
              "      <td>100</td>\n",
              "    </tr>\n",
              "    <tr>\n",
              "      <th>9</th>\n",
              "      <td>Other</td>\n",
              "      <td>23</td>\n",
              "      <td>NaN</td>\n",
              "      <td>Ernakulam</td>\n",
              "      <td>Dentist</td>\n",
              "      <td>100</td>\n",
              "    </tr>\n",
              "  </tbody>\n",
              "</table>\n",
              "</div>"
            ],
            "text/plain": [
              "  Qualification Experience Rating      Place           Profile  Fees\n",
              "0      BHMS, MD         24    100  Ernakulam         Homeopath   100\n",
              "1      BAMS, MD         12     98  Bangalore          Ayurveda   350\n",
              "2      MBBS, MS          9    NaN  Bangalore    ENT Specialist   300\n",
              "3         Other         12    NaN  Bangalore          Ayurveda   250\n",
              "4          BAMS         20    100    Chennai          Ayurveda   250\n",
              "5          BAMS          8    NaN    Chennai          Ayurveda   100\n",
              "6          BHMS         42    NaN      Delhi         Homeopath   200\n",
              "7           BDS         10     99  Bangalore           Dentist   200\n",
              "8      MBBS, MD         14    NaN  Hyderabad  General Medicine   100\n",
              "9         Other         23    NaN  Ernakulam           Dentist   100"
            ]
          },
          "metadata": {
            "tags": []
          },
          "execution_count": 49
        }
      ]
    },
    {
      "cell_type": "code",
      "metadata": {
        "colab": {
          "base_uri": "https://localhost:8080/",
          "height": 514
        },
        "id": "LeodZtxbgDgu",
        "outputId": "829d53e9-0c69-4ff2-d15a-c41788d19f37"
      },
      "source": [
        "plt.figure().set_size_inches(12,7)\n",
        "sns.distplot(df['Experience'])\n"
      ],
      "execution_count": 50,
      "outputs": [
        {
          "output_type": "stream",
          "text": [
            "/usr/local/lib/python3.6/dist-packages/seaborn/distributions.py:2551: FutureWarning: `distplot` is a deprecated function and will be removed in a future version. Please adapt your code to use either `displot` (a figure-level function with similar flexibility) or `histplot` (an axes-level function for histograms).\n",
            "  warnings.warn(msg, FutureWarning)\n"
          ],
          "name": "stderr"
        },
        {
          "output_type": "execute_result",
          "data": {
            "text/plain": [
              "<matplotlib.axes._subplots.AxesSubplot at 0x7f004f2298d0>"
            ]
          },
          "metadata": {
            "tags": []
          },
          "execution_count": 50
        },
        {
          "output_type": "display_data",
          "data": {
            "image/png": "[encoded data removed]",
            "text/plain": [
              "<Figure size 864x504 with 1 Axes>"
            ]
          },
          "metadata": {
            "tags": []
          }
        }
      ]
    },
    {
      "cell_type": "code",
      "metadata": {
        "colab": {
          "base_uri": "https://localhost:8080/",
          "height": 518
        },
        "id": "iIQOR12bgDgu",
        "outputId": "1383ddd5-4bbf-4c41-95b9-c458a4166687"
      },
      "source": [
        "plt.figure().set_size_inches(12,7)\n",
        "sns.distplot(df['Rating'])\n"
      ],
      "execution_count": 51,
      "outputs": [
        {
          "output_type": "stream",
          "text": [
            "/usr/local/lib/python3.6/dist-packages/seaborn/distributions.py:2551: FutureWarning: `distplot` is a deprecated function and will be removed in a future version. Please adapt your code to use either `displot` (a figure-level function with similar flexibility) or `histplot` (an axes-level function for histograms).\n",
            "  warnings.warn(msg, FutureWarning)\n"
          ],
          "name": "stderr"
        },
        {
          "output_type": "execute_result",
          "data": {
            "text/plain": [
              "<matplotlib.axes._subplots.AxesSubplot at 0x7f004f3d4f28>"
            ]
          },
          "metadata": {
            "tags": []
          },
          "execution_count": 51
        },
        {
          "output_type": "display_data",
          "data": {
            "image/png": "[encoded data removed]",
            "text/plain": [
              "<Figure size 864x504 with 1 Axes>"
            ]
          },
          "metadata": {
            "tags": []
          }
        }
      ]
    },
    {
      "cell_type": "code",
      "metadata": {
        "colab": {
          "base_uri": "https://localhost:8080/",
          "height": 514
        },
        "id": "DHtsZi-AgDgu",
        "outputId": "003ad727-9d40-4167-d382-4de27a2e5eef"
      },
      "source": [
        "plt.figure().set_size_inches(12,7)\n",
        "sns.distplot(df['Fees'])\n"
      ],
      "execution_count": 52,
      "outputs": [
        {
          "output_type": "stream",
          "text": [
            "/usr/local/lib/python3.6/dist-packages/seaborn/distributions.py:2551: FutureWarning: `distplot` is a deprecated function and will be removed in a future version. Please adapt your code to use either `displot` (a figure-level function with similar flexibility) or `histplot` (an axes-level function for histograms).\n",
            "  warnings.warn(msg, FutureWarning)\n"
          ],
          "name": "stderr"
        },
        {
          "output_type": "execute_result",
          "data": {
            "text/plain": [
              "<matplotlib.axes._subplots.AxesSubplot at 0x7f004f615cf8>"
            ]
          },
          "metadata": {
            "tags": []
          },
          "execution_count": 52
        },
        {
          "output_type": "display_data",
          "data": {
            "image/png": "[encoded data removed]",
            "text/plain": [
              "<Figure size 864x504 with 1 Axes>"
            ]
          },
          "metadata": {
            "tags": []
          }
        }
      ]
    },
    {
      "cell_type": "code",
      "metadata": {
        "id": "OLiy_I8DgDgu"
      },
      "source": [
        ""
      ],
      "execution_count": 52,
      "outputs": []
    },
    {
      "cell_type": "code",
      "metadata": {
        "id": "_OB04imcgDgu"
      },
      "source": [
        "df['Rating'] = df['Rating'].astype(str).astype(float)\n",
        "df['Experience'] = df['Experience'].astype(str).astype(float)"
      ],
      "execution_count": 53,
      "outputs": []
    },
    {
      "cell_type": "code",
      "metadata": {
        "colab": {
          "base_uri": "https://localhost:8080/",
          "height": 504
        },
        "id": "ydH3yWeygDgv",
        "outputId": "c4d1da45-b11d-45f9-ec3e-6b8f1df74ad8"
      },
      "source": [
        "plt.figure().set_size_inches(8,8)\n",
        "sns.heatmap(df[['Fees', 'Rating', 'Experience']].corr(), annot = True)"
      ],
      "execution_count": 54,
      "outputs": [
        {
          "output_type": "execute_result",
          "data": {
            "text/plain": [
              "<matplotlib.axes._subplots.AxesSubplot at 0x7f004f0d8780>"
            ]
          },
          "metadata": {
            "tags": []
          },
          "execution_count": 54
        },
        {
          "output_type": "display_data",
          "data": {
            "image/png": "[encoded data removed]",
            "text/plain": [
              "<Figure size 576x576 with 2 Axes>"
            ]
          },
          "metadata": {
            "tags": []
          }
        }
      ]
    },
    {
      "cell_type": "code",
      "metadata": {
        "colab": {
          "base_uri": "https://localhost:8080/",
          "height": 585
        },
        "id": "lBpb8p-MgDgw",
        "outputId": "4c70c533-168e-437e-f5d3-0c64d4937fdd"
      },
      "source": [
        "plt.figure().set_size_inches(15,15)\n",
        "sns.pairplot(data = df)"
      ],
      "execution_count": 55,
      "outputs": [
        {
          "output_type": "execute_result",
          "data": {
            "text/plain": [
              "<seaborn.axisgrid.PairGrid at 0x7f004f294ac8>"
            ]
          },
          "metadata": {
            "tags": []
          },
          "execution_count": 55
        },
        {
          "output_type": "display_data",
          "data": {
            "text/plain": [
              "<Figure size 1080x1080 with 0 Axes>"
            ]
          },
          "metadata": {
            "tags": []
          }
        },
        {
          "output_type": "display_data",
          "data": {
            "image/png": "[encoded data removed]",
            "text/plain": [
              "<Figure size 540x540 with 12 Axes>"
            ]
          },
          "metadata": {
            "tags": []
          }
        }
      ]
    },
    {
      "cell_type": "markdown",
      "metadata": {
        "id": "EW0f8myrgDgw"
      },
      "source": [
        "As we can see from the above heatmap and pairplot, the features are independant of each other, but also have low correlation with consultation Fees"
      ]
    },
    {
      "cell_type": "code",
      "metadata": {
        "id": "kcDWEXYsgDgw"
      },
      "source": [
        "#Lets take a look at categorical variables"
      ],
      "execution_count": 56,
      "outputs": []
    },
    {
      "cell_type": "code",
      "metadata": {
        "id": "IObM-q0WgDgw"
      },
      "source": [
        "#Place"
      ],
      "execution_count": 57,
      "outputs": []
    },
    {
      "cell_type": "code",
      "metadata": {
        "colab": {
          "base_uri": "https://localhost:8080/"
        },
        "id": "W-10biyqgDgw",
        "outputId": "4066e310-6602-45b3-af61-60acc8e08ea4"
      },
      "source": [
        "print(df.shape)\n",
        "df = df[df['Place']!='e']\n",
        "print(df.shape)"
      ],
      "execution_count": 58,
      "outputs": [
        {
          "output_type": "stream",
          "text": [
            "(5961, 6)\n",
            "(5960, 6)\n"
          ],
          "name": "stdout"
        }
      ]
    },
    {
      "cell_type": "code",
      "metadata": {
        "colab": {
          "base_uri": "https://localhost:8080/",
          "height": 459
        },
        "id": "8Tz4DloHgDgw",
        "outputId": "ed0480eb-094e-4b31-f105-4be39e91d0a9"
      },
      "source": [
        "plt.figure().set_size_inches(12,7)\n",
        "sns.countplot(x = 'Place', data = df)"
      ],
      "execution_count": 59,
      "outputs": [
        {
          "output_type": "execute_result",
          "data": {
            "text/plain": [
              "<matplotlib.axes._subplots.AxesSubplot at 0x7f004ee58f60>"
            ]
          },
          "metadata": {
            "tags": []
          },
          "execution_count": 59
        },
        {
          "output_type": "display_data",
          "data": {
            "image/png": "[encoded data removed]",
            "text/plain": [
              "<Figure size 864x504 with 1 Axes>"
            ]
          },
          "metadata": {
            "tags": []
          }
        }
      ]
    },
    {
      "cell_type": "markdown",
      "metadata": {
        "id": "x-s2UQ_igDgw"
      },
      "source": [
        "Most of the doctors surveyed are from Banglore, Mumbai, Delhi, Hyderabad"
      ]
    },
    {
      "cell_type": "code",
      "metadata": {
        "colab": {
          "base_uri": "https://localhost:8080/",
          "height": 459
        },
        "id": "UQ_SQ_3-gDgw",
        "outputId": "08986b96-8529-4ed0-e5b5-79092fd90187"
      },
      "source": [
        "plt.figure().set_size_inches(12,7)\n",
        "sns.barplot(x = 'Place', y ='Fees', data = df)"
      ],
      "execution_count": 60,
      "outputs": [
        {
          "output_type": "execute_result",
          "data": {
            "text/plain": [
              "<matplotlib.axes._subplots.AxesSubplot at 0x7f004f5625f8>"
            ]
          },
          "metadata": {
            "tags": []
          },
          "execution_count": 60
        },
        {
          "output_type": "display_data",
          "data": {
            "image/png": "[encoded data removed]",
            "text/plain": [
              "<Figure size 864x504 with 1 Axes>"
            ]
          },
          "metadata": {
            "tags": []
          }
        }
      ]
    },
    {
      "cell_type": "markdown",
      "metadata": {
        "id": "SWYo-MjKgDgx"
      },
      "source": [
        "Consultation fees is Delhi is high. Bangalore, Hyderabad and Mumbai doctor fees are also costly"
      ]
    },
    {
      "cell_type": "code",
      "metadata": {
        "colab": {
          "base_uri": "https://localhost:8080/",
          "height": 459
        },
        "id": "sxQ9oX-wgDgx",
        "outputId": "2b8f102d-87eb-49fb-8bd5-70fd78ab8d82"
      },
      "source": [
        "plt.figure().set_size_inches(12,7)\n",
        "sns.barplot(x = 'Place', y ='Experience', data = df)"
      ],
      "execution_count": 61,
      "outputs": [
        {
          "output_type": "execute_result",
          "data": {
            "text/plain": [
              "<matplotlib.axes._subplots.AxesSubplot at 0x7f004f387b00>"
            ]
          },
          "metadata": {
            "tags": []
          },
          "execution_count": 61
        },
        {
          "output_type": "display_data",
          "data": {
            "image/png": "[encoded data removed]",
            "text/plain": [
              "<Figure size 864x504 with 1 Axes>"
            ]
          },
          "metadata": {
            "tags": []
          }
        }
      ]
    },
    {
      "cell_type": "code",
      "metadata": {
        "id": "-0RJjFCOgDgx"
      },
      "source": [
        "#Qualification"
      ],
      "execution_count": 62,
      "outputs": []
    },
    {
      "cell_type": "code",
      "metadata": {
        "colab": {
          "base_uri": "https://localhost:8080/",
          "height": 461
        },
        "id": "Pe3MhmuTgDgx",
        "outputId": "039066d9-7a67-4c68-c7c7-7ddfa6f0e1ff"
      },
      "source": [
        "plt.figure().set_size_inches(12,7)\n",
        "sns.countplot(x = 'Qualification', data = df, order = df['Qualification'].value_counts().index)"
      ],
      "execution_count": 63,
      "outputs": [
        {
          "output_type": "execute_result",
          "data": {
            "text/plain": [
              "<matplotlib.axes._subplots.AxesSubplot at 0x7f004adaac50>"
            ]
          },
          "metadata": {
            "tags": []
          },
          "execution_count": 63
        },
        {
          "output_type": "display_data",
          "data": {
            "image/png": "[encoded data removed]",
            "text/plain": [
              "<Figure size 864x504 with 1 Axes>"
            ]
          },
          "metadata": {
            "tags": []
          }
        }
      ]
    },
    {
      "cell_type": "markdown",
      "metadata": {
        "id": "V_fMIrBIgDgx"
      },
      "source": [
        "As we see, there are a lot of Doctors who are MBBS or have done MBBS, MD (Medicinae Doctor, post-grad degree)\n",
        "\n",
        "MD is Post-Grad in Dentistry.\n",
        "\n",
        "Mostly the Doctors who have done MBBS are opting for MBBS, MD.\n",
        "\n",
        "MBBS, MS (Master of Surgery) seems to be less in number.\n",
        "\n",
        "BDS is Bachelor of Dental Surgery also are in average number\n",
        "\n",
        "BHMS is Bachelor of Homeopathy Medicine\n",
        "\n",
        "BAMS is Bachelor of Ayurvedic Medicine"
      ]
    },
    {
      "cell_type": "code",
      "metadata": {
        "colab": {
          "base_uri": "https://localhost:8080/",
          "height": 459
        },
        "id": "XfrI3gYxgDgx",
        "outputId": "27b645fc-c001-476a-ec3e-a4334418bef3"
      },
      "source": [
        "plt.figure().set_size_inches(12,7)\n",
        "sns.barplot(x = 'Qualification', y = 'Fees', data = df)"
      ],
      "execution_count": 64,
      "outputs": [
        {
          "output_type": "execute_result",
          "data": {
            "text/plain": [
              "<matplotlib.axes._subplots.AxesSubplot at 0x7f004ae40940>"
            ]
          },
          "metadata": {
            "tags": []
          },
          "execution_count": 64
        },
        {
          "output_type": "display_data",
          "data": {
            "image/png": "[encoded data removed]",
            "text/plain": [
              "<Figure size 864x504 with 1 Axes>"
            ]
          },
          "metadata": {
            "tags": []
          }
        }
      ]
    },
    {
      "cell_type": "markdown",
      "metadata": {
        "id": "WWGauldfgDgy"
      },
      "source": [
        "The highest fees are charged by 'MBBS, MS','MBBS, MD' doctors, which is logical as the patients usually go to such specialist doctors for serious cases.\n",
        "\n",
        "Dentist are charging lowest consultation fees, BAMS (Ayurveda) doctor consultation fees are also low"
      ]
    },
    {
      "cell_type": "code",
      "metadata": {
        "colab": {
          "base_uri": "https://localhost:8080/",
          "height": 459
        },
        "id": "JAoGRGwIgDgy",
        "outputId": "52cbcd8f-4d4e-4702-dc20-0dea8832e5cb"
      },
      "source": [
        "plt.figure().set_size_inches(12,7)\n",
        "sns.barplot(x = 'Qualification', y = 'Experience', data = df)"
      ],
      "execution_count": 65,
      "outputs": [
        {
          "output_type": "execute_result",
          "data": {
            "text/plain": [
              "<matplotlib.axes._subplots.AxesSubplot at 0x7f0049462ef0>"
            ]
          },
          "metadata": {
            "tags": []
          },
          "execution_count": 65
        },
        {
          "output_type": "display_data",
          "data": {
            "image/png": "[encoded data removed]",
            "text/plain": [
              "<Figure size 864x504 with 1 Axes>"
            ]
          },
          "metadata": {
            "tags": []
          }
        }
      ]
    },
    {
      "cell_type": "markdown",
      "metadata": {
        "id": "i0fpNxzVgDgy"
      },
      "source": [
        "Doctors with post-grad degrees are highly experienced, while Dentists have lower experiance"
      ]
    },
    {
      "cell_type": "code",
      "metadata": {
        "id": "zGl6wEC8gDgy"
      },
      "source": [
        "#Profile"
      ],
      "execution_count": 66,
      "outputs": []
    },
    {
      "cell_type": "code",
      "metadata": {
        "id": "loJHg0megDgy"
      },
      "source": [
        ""
      ],
      "execution_count": 66,
      "outputs": []
    },
    {
      "cell_type": "code",
      "metadata": {
        "colab": {
          "base_uri": "https://localhost:8080/",
          "height": 459
        },
        "id": "oiG7djx_gDgy",
        "outputId": "70b998b4-6795-4f96-ba2b-167dee5d177a"
      },
      "source": [
        "plt.figure().set_size_inches(12,7)\n",
        "sns.countplot(x = \"Profile\", data = df)"
      ],
      "execution_count": 67,
      "outputs": [
        {
          "output_type": "execute_result",
          "data": {
            "text/plain": [
              "<matplotlib.axes._subplots.AxesSubplot at 0x7f004f5c6748>"
            ]
          },
          "metadata": {
            "tags": []
          },
          "execution_count": 67
        },
        {
          "output_type": "display_data",
          "data": {
            "image/png": "[encoded data removed]",
            "text/plain": [
              "<Figure size 864x504 with 1 Axes>"
            ]
          },
          "metadata": {
            "tags": []
          }
        }
      ]
    },
    {
      "cell_type": "code",
      "metadata": {
        "id": "sXHpW8OLgDgy"
      },
      "source": [
        "dentist = df[df['Profile'] == 'Dentist']"
      ],
      "execution_count": 68,
      "outputs": []
    },
    {
      "cell_type": "code",
      "metadata": {
        "colab": {
          "base_uri": "https://localhost:8080/",
          "height": 206
        },
        "id": "qBrWfUdmgDgy",
        "outputId": "5b761206-e1f2-413a-8961-ea781ad1468a"
      },
      "source": [
        "dentist.groupby(\"Qualification\").count()"
      ],
      "execution_count": 69,
      "outputs": [
        {
          "output_type": "execute_result",
          "data": {
            "text/html": [
              "<div>\n",
              "<style scoped>\n",
              "    .dataframe tbody tr th:only-of-type {\n",
              "        vertical-align: middle;\n",
              "    }\n",
              "\n",
              "    .dataframe tbody tr th {\n",
              "        vertical-align: top;\n",
              "    }\n",
              "\n",
              "    .dataframe thead th {\n",
              "        text-align: right;\n",
              "    }\n",
              "</style>\n",
              "<table border=\"1\" class=\"dataframe\">\n",
              "  <thead>\n",
              "    <tr style=\"text-align: right;\">\n",
              "      <th></th>\n",
              "      <th>Experience</th>\n",
              "      <th>Rating</th>\n",
              "      <th>Place</th>\n",
              "      <th>Profile</th>\n",
              "      <th>Fees</th>\n",
              "    </tr>\n",
              "    <tr>\n",
              "      <th>Qualification</th>\n",
              "      <th></th>\n",
              "      <th></th>\n",
              "      <th></th>\n",
              "      <th></th>\n",
              "      <th></th>\n",
              "    </tr>\n",
              "  </thead>\n",
              "  <tbody>\n",
              "    <tr>\n",
              "      <th>BDS</th>\n",
              "      <td>487</td>\n",
              "      <td>248</td>\n",
              "      <td>487</td>\n",
              "      <td>487</td>\n",
              "      <td>487</td>\n",
              "    </tr>\n",
              "    <tr>\n",
              "      <th>MBBS</th>\n",
              "      <td>1</td>\n",
              "      <td>0</td>\n",
              "      <td>1</td>\n",
              "      <td>1</td>\n",
              "      <td>1</td>\n",
              "    </tr>\n",
              "    <tr>\n",
              "      <th>MD</th>\n",
              "      <td>763</td>\n",
              "      <td>522</td>\n",
              "      <td>763</td>\n",
              "      <td>763</td>\n",
              "      <td>763</td>\n",
              "    </tr>\n",
              "    <tr>\n",
              "      <th>Other</th>\n",
              "      <td>145</td>\n",
              "      <td>111</td>\n",
              "      <td>145</td>\n",
              "      <td>145</td>\n",
              "      <td>145</td>\n",
              "    </tr>\n",
              "  </tbody>\n",
              "</table>\n",
              "</div>"
            ],
            "text/plain": [
              "               Experience  Rating  Place  Profile  Fees\n",
              "Qualification                                          \n",
              "BDS                   487     248    487      487   487\n",
              "MBBS                    1       0      1        1     1\n",
              "MD                    763     522    763      763   763\n",
              "Other                 145     111    145      145   145"
            ]
          },
          "metadata": {
            "tags": []
          },
          "execution_count": 69
        }
      ]
    },
    {
      "cell_type": "markdown",
      "metadata": {
        "id": "tOotQQibgDgz"
      },
      "source": [
        "So most of the dentists are MD "
      ]
    },
    {
      "cell_type": "code",
      "metadata": {
        "colab": {
          "base_uri": "https://localhost:8080/",
          "height": 459
        },
        "id": "NOAz1Om3gDgz",
        "outputId": "8117eb66-2ec4-41ee-8421-8293e52d66bb"
      },
      "source": [
        "plt.figure().set_size_inches(12,7)\n",
        "sns.barplot(x = 'Profile', y = \"Fees\", data = df)"
      ],
      "execution_count": 70,
      "outputs": [
        {
          "output_type": "execute_result",
          "data": {
            "text/plain": [
              "<matplotlib.axes._subplots.AxesSubplot at 0x7f0049306668>"
            ]
          },
          "metadata": {
            "tags": []
          },
          "execution_count": 70
        },
        {
          "output_type": "display_data",
          "data": {
            "image/png": "[encoded data removed]",
            "text/plain": [
              "<Figure size 864x504 with 1 Axes>"
            ]
          },
          "metadata": {
            "tags": []
          }
        }
      ]
    },
    {
      "cell_type": "markdown",
      "metadata": {
        "id": "2Ag-mWScgDgz"
      },
      "source": [
        "Dermatologists and ENT specialists charge more, while Doctors of Ayurveda or Dental clinic charge much less."
      ]
    },
    {
      "cell_type": "code",
      "metadata": {
        "colab": {
          "base_uri": "https://localhost:8080/",
          "height": 459
        },
        "id": "9kbsXPGLgDgz",
        "outputId": "29e99be4-bb5c-4e87-961b-15dcf5c493ad"
      },
      "source": [
        "plt.figure().set_size_inches(12,7)\n",
        "sns.barplot(x = 'Profile', y = \"Experience\", data = df)"
      ],
      "execution_count": 71,
      "outputs": [
        {
          "output_type": "execute_result",
          "data": {
            "text/plain": [
              "<matplotlib.axes._subplots.AxesSubplot at 0x7f00491d3a58>"
            ]
          },
          "metadata": {
            "tags": []
          },
          "execution_count": 71
        },
        {
          "output_type": "display_data",
          "data": {
            "image/png": "[encoded data removed]",
            "text/plain": [
              "<Figure size 864x504 with 1 Axes>"
            ]
          },
          "metadata": {
            "tags": []
          }
        }
      ]
    },
    {
      "cell_type": "markdown",
      "metadata": {
        "id": "y838MnC_gDgz"
      },
      "source": [
        "Doctors practicing General Medicine are most experienced, even ENT specialists have good amount of experience"
      ]
    },
    {
      "cell_type": "markdown",
      "metadata": {
        "id": "IuBYWHn7gDgz"
      },
      "source": [
        "## Data Preprocessing"
      ]
    },
    {
      "cell_type": "code",
      "metadata": {
        "id": "BLvIVCxvgDgz"
      },
      "source": [
        "#Null data imputation"
      ],
      "execution_count": 72,
      "outputs": []
    },
    {
      "cell_type": "code",
      "metadata": {
        "colab": {
          "base_uri": "https://localhost:8080/"
        },
        "id": "GjdDjXbPgDgz",
        "outputId": "c96d7787-e399-41e4-f151-fb8f0c2ae5b7"
      },
      "source": [
        "df.isnull().sum()"
      ],
      "execution_count": 73,
      "outputs": [
        {
          "output_type": "execute_result",
          "data": {
            "text/plain": [
              "Qualification       0\n",
              "Experience          0\n",
              "Rating           3301\n",
              "Place              25\n",
              "Profile             0\n",
              "Fees                0\n",
              "dtype: int64"
            ]
          },
          "metadata": {
            "tags": []
          },
          "execution_count": 73
        }
      ]
    },
    {
      "cell_type": "code",
      "metadata": {
        "colab": {
          "base_uri": "https://localhost:8080/"
        },
        "id": "kBd1CKSEgDgz",
        "outputId": "72d568e5-f965-4313-8172-42ea4ea3605d"
      },
      "source": [
        "#Place\n",
        "prop = df['Place'].isnull().sum()/df['Place'].count()\n",
        "print(\"Proportion of Null values: {}\".format(prop))"
      ],
      "execution_count": 74,
      "outputs": [
        {
          "output_type": "stream",
          "text": [
            "Proportion of Null values: 0.004212299915754001\n"
          ],
          "name": "stdout"
        }
      ]
    },
    {
      "cell_type": "markdown",
      "metadata": {
        "id": "2dVZ5cQ0gDg0"
      },
      "source": [
        "we can drop the null values of Place"
      ]
    },
    {
      "cell_type": "code",
      "metadata": {
        "colab": {
          "base_uri": "https://localhost:8080/"
        },
        "id": "QDP91is5gDg0",
        "outputId": "23cb9730-a318-4b6e-c911-6aea612c58dc"
      },
      "source": [
        "#Rating\n",
        "prop = df['Rating'].isnull().sum()/df['Rating'].count()\n",
        "print(\"Proportion of Null values: {}\".format(prop))"
      ],
      "execution_count": 75,
      "outputs": [
        {
          "output_type": "stream",
          "text": [
            "Proportion of Null values: 1.2414441519368185\n"
          ],
          "name": "stdout"
        }
      ]
    },
    {
      "cell_type": "markdown",
      "metadata": {
        "id": "lbcezyGrgDg1"
      },
      "source": [
        "As we saw in the Distribution of data of 'Rating', the majority of rating are in the range of 95 and 100.\n",
        "So we will randomly impute value between 80 and 100 inplace of NaN"
      ]
    },
    {
      "cell_type": "code",
      "metadata": {
        "colab": {
          "base_uri": "https://localhost:8080/",
          "height": 409
        },
        "id": "1V4JPxWXgDg1",
        "outputId": "d2a08e45-fe1a-4ce3-cf5b-c2f0e724d320"
      },
      "source": [
        "plt.figure().set_size_inches(10,5)\n",
        "sns.distplot(df['Rating'])"
      ],
      "execution_count": 76,
      "outputs": [
        {
          "output_type": "stream",
          "text": [
            "/usr/local/lib/python3.6/dist-packages/seaborn/distributions.py:2551: FutureWarning: `distplot` is a deprecated function and will be removed in a future version. Please adapt your code to use either `displot` (a figure-level function with similar flexibility) or `histplot` (an axes-level function for histograms).\n",
            "  warnings.warn(msg, FutureWarning)\n"
          ],
          "name": "stderr"
        },
        {
          "output_type": "execute_result",
          "data": {
            "text/plain": [
              "<matplotlib.axes._subplots.AxesSubplot at 0x7f00491fae10>"
            ]
          },
          "metadata": {
            "tags": []
          },
          "execution_count": 76
        },
        {
          "output_type": "display_data",
          "data": {
            "image/png": "[encoded data removed]",
            "text/plain": [
              "<Figure size 720x360 with 1 Axes>"
            ]
          },
          "metadata": {
            "tags": []
          }
        }
      ]
    },
    {
      "cell_type": "code",
      "metadata": {
        "id": "2IhpU_UpgDg1"
      },
      "source": [
        "from random import choice\n",
        "impute_list = [i for i in range(95,101)]\n",
        "def imputer(row):\n",
        "    if np.isnan(row['Rating']):\n",
        "        row[\"Rating\"] = choice(impute_list)\n",
        "    return row\n",
        "df = df.apply(imputer, axis = 1)"
      ],
      "execution_count": 77,
      "outputs": []
    },
    {
      "cell_type": "code",
      "metadata": {
        "colab": {
          "base_uri": "https://localhost:8080/",
          "height": 406
        },
        "id": "-6A6Gx0MgDg1",
        "outputId": "3801edfb-2df5-40ae-f44d-921569665a3a"
      },
      "source": [
        "plt.figure().set_size_inches(10,5)\n",
        "sns.distplot(df['Rating'])"
      ],
      "execution_count": 78,
      "outputs": [
        {
          "output_type": "stream",
          "text": [
            "/usr/local/lib/python3.6/dist-packages/seaborn/distributions.py:2551: FutureWarning: `distplot` is a deprecated function and will be removed in a future version. Please adapt your code to use either `displot` (a figure-level function with similar flexibility) or `histplot` (an axes-level function for histograms).\n",
            "  warnings.warn(msg, FutureWarning)\n"
          ],
          "name": "stderr"
        },
        {
          "output_type": "execute_result",
          "data": {
            "text/plain": [
              "<matplotlib.axes._subplots.AxesSubplot at 0x7f004ed91eb8>"
            ]
          },
          "metadata": {
            "tags": []
          },
          "execution_count": 78
        },
        {
          "output_type": "display_data",
          "data": {
            "image/png": "[encoded data removed]",
            "text/plain": [
              "<Figure size 720x360 with 1 Axes>"
            ]
          },
          "metadata": {
            "tags": []
          }
        }
      ]
    },
    {
      "cell_type": "markdown",
      "metadata": {
        "id": "TZHX6DtigDg1"
      },
      "source": [
        "So the graph has changed but not by much"
      ]
    },
    {
      "cell_type": "code",
      "metadata": {
        "id": "KEGkM3mzgDg1"
      },
      "source": [
        "#Removing noise"
      ],
      "execution_count": 79,
      "outputs": []
    },
    {
      "cell_type": "code",
      "metadata": {
        "id": "_nG0lHf0gDg1"
      },
      "source": [
        ""
      ],
      "execution_count": 79,
      "outputs": []
    },
    {
      "cell_type": "code",
      "metadata": {
        "colab": {
          "base_uri": "https://localhost:8080/"
        },
        "id": "N0UkYfzwgDg1",
        "outputId": "849bbe53-bd96-448e-cf6b-cbc3107c7263"
      },
      "source": [
        "print(df.shape)\n",
        "df.dropna(inplace = True)\n",
        "print(df.shape)"
      ],
      "execution_count": 80,
      "outputs": [
        {
          "output_type": "stream",
          "text": [
            "(5960, 6)\n",
            "(5935, 6)\n"
          ],
          "name": "stdout"
        }
      ]
    },
    {
      "cell_type": "markdown",
      "metadata": {
        "id": "Aj-Rf6UzgDg1"
      },
      "source": [
        "### One hot encoding"
      ]
    },
    {
      "cell_type": "code",
      "metadata": {
        "id": "5MM__lqKgDg2"
      },
      "source": [
        "def encode(column):\n",
        "    global df\n",
        "    print(df.shape)\n",
        "    cols = pd.get_dummies(df[column], drop_first = True)\n",
        "    df = pd.concat([df, cols], axis = 1)\n",
        "    df.drop(column, axis =1, inplace = True)\n",
        "    print(df.shape)"
      ],
      "execution_count": 81,
      "outputs": []
    },
    {
      "cell_type": "code",
      "metadata": {
        "colab": {
          "base_uri": "https://localhost:8080/"
        },
        "id": "oxKHIzTngDg2",
        "outputId": "40005d35-4a09-40ed-c45a-a8938092684e"
      },
      "source": [
        "df.columns"
      ],
      "execution_count": 82,
      "outputs": [
        {
          "output_type": "execute_result",
          "data": {
            "text/plain": [
              "Index(['Qualification', 'Experience', 'Rating', 'Place', 'Profile', 'Fees'], dtype='object')"
            ]
          },
          "metadata": {
            "tags": []
          },
          "execution_count": 82
        }
      ]
    },
    {
      "cell_type": "code",
      "metadata": {
        "colab": {
          "base_uri": "https://localhost:8080/"
        },
        "id": "rfwrwPSLgDg3",
        "outputId": "1e0791fe-d01d-440f-912d-591e970ba186"
      },
      "source": [
        "encode(\"Qualification\")"
      ],
      "execution_count": 83,
      "outputs": [
        {
          "output_type": "stream",
          "text": [
            "(5935, 6)\n",
            "(5935, 15)\n"
          ],
          "name": "stdout"
        }
      ]
    },
    {
      "cell_type": "code",
      "metadata": {
        "colab": {
          "base_uri": "https://localhost:8080/"
        },
        "id": "likxht8IgDg3",
        "outputId": "c5c0f83f-bd5f-40e4-fb01-0304c64fa891"
      },
      "source": [
        "encode(\"Place\")"
      ],
      "execution_count": 84,
      "outputs": [
        {
          "output_type": "stream",
          "text": [
            "(5935, 15)\n",
            "(5935, 21)\n"
          ],
          "name": "stdout"
        }
      ]
    },
    {
      "cell_type": "code",
      "metadata": {
        "colab": {
          "base_uri": "https://localhost:8080/"
        },
        "id": "vESNrplDgDg4",
        "outputId": "c124d701-3697-4480-d63d-35699e8caaab"
      },
      "source": [
        "encode(\"Profile\")"
      ],
      "execution_count": 85,
      "outputs": [
        {
          "output_type": "stream",
          "text": [
            "(5935, 21)\n",
            "(5935, 25)\n"
          ],
          "name": "stdout"
        }
      ]
    },
    {
      "cell_type": "code",
      "metadata": {
        "colab": {
          "base_uri": "https://localhost:8080/"
        },
        "id": "WLYUpGCNgDg4",
        "outputId": "d48aaaf9-66c7-4031-e79f-8f3aa0042eb6"
      },
      "source": [
        "from scipy.stats import zscore\n",
        "z = abs(zscore(df))\n",
        "print(df.shape)\n",
        "df = df.loc[(z<3).all(axis = 1)]\n",
        "df.shape"
      ],
      "execution_count": 86,
      "outputs": [
        {
          "output_type": "stream",
          "text": [
            "(5935, 25)\n"
          ],
          "name": "stdout"
        },
        {
          "output_type": "execute_result",
          "data": {
            "text/plain": [
              "(3413, 25)"
            ]
          },
          "metadata": {
            "tags": []
          },
          "execution_count": 86
        }
      ]
    },
    {
      "cell_type": "markdown",
      "metadata": {
        "id": "gZQ-cPItgDg4"
      },
      "source": [
        "### Train_Test_Split"
      ]
    },
    {
      "cell_type": "code",
      "metadata": {
        "id": "bTyGXTMegDg4"
      },
      "source": [
        "from sklearn.model_selection import train_test_split\n",
        "X = df.drop(\"Fees\", axis =1)\n",
        "y = df['Fees']\n",
        "X_train, X_test, y_train, y_test = train_test_split(X,y, random_state = 0)"
      ],
      "execution_count": 87,
      "outputs": []
    },
    {
      "cell_type": "markdown",
      "metadata": {
        "id": "t4WM-dXZgDg4"
      },
      "source": [
        "### Scaling the values"
      ]
    },
    {
      "cell_type": "code",
      "metadata": {
        "id": "HyGyHoeSgDg4"
      },
      "source": [
        "from sklearn.preprocessing import StandardScaler\n",
        "scaler = StandardScaler().fit(X_train)"
      ],
      "execution_count": 88,
      "outputs": []
    },
    {
      "cell_type": "code",
      "metadata": {
        "id": "qLT4p22sgDg4"
      },
      "source": [
        "X_train_sc = scaler.transform(X_train)\n",
        "X_test_sc = scaler.transform(X_test)"
      ],
      "execution_count": 89,
      "outputs": []
    },
    {
      "cell_type": "markdown",
      "metadata": {
        "id": "AUB91a-AhIYW"
      },
      "source": [
        "# Model Building"
      ]
    },
    {
      "cell_type": "code",
      "metadata": {
        "colab": {
          "base_uri": "https://localhost:8080/"
        },
        "id": "PTfwKTXjgDg4",
        "outputId": "17e5848b-8664-44b0-fc41-d85096862eb6"
      },
      "source": [
        "from sklearn.metrics import r2_score\n",
        "from sklearn.linear_model import LinearRegression\n",
        "linreg = LinearRegression().fit(X_train_sc, y_train)\n",
        "y_train_pred = linreg.predict(X_train_sc)\n",
        "print(\"Training Accuracy = {}\".format(r2_score(y_train, y_train_pred)))\n",
        "y_pred = linreg.predict(X_test_sc)\n",
        "r2_score(y_test, y_pred)"
      ],
      "execution_count": 90,
      "outputs": [
        {
          "output_type": "stream",
          "text": [
            "Training Accuracy = 0.1369797535920464\n"
          ],
          "name": "stdout"
        },
        {
          "output_type": "execute_result",
          "data": {
            "text/plain": [
              "0.1285532109237273"
            ]
          },
          "metadata": {
            "tags": []
          },
          "execution_count": 90
        }
      ]
    },
    {
      "cell_type": "code",
      "metadata": {
        "colab": {
          "base_uri": "https://localhost:8080/"
        },
        "id": "StdYJI0EgDg4",
        "outputId": "fbfbc4ef-eecb-4378-85eb-f555f853c153"
      },
      "source": [
        "from sklearn.neighbors import KNeighborsRegressor\n",
        "max_r2 = 0\n",
        "k = 0\n",
        "for i in range(1,51):\n",
        "    knr = KNeighborsRegressor(n_neighbors = i).fit(X_train_sc,y_train)\n",
        "    y_pred = knr.predict(X_test_sc)\n",
        "    r2 = r2_score(y_test, y_pred)\n",
        "    print(\"Accuracy for k = {} is {}\".format(i, r2))\n",
        "    if max_r2< r2:\n",
        "        max_r2 = r2\n",
        "        k = i\n",
        "        \n",
        "print(\"Max R2 score = {} for k = {}\".format(max_r2, k))\n",
        "    "
      ],
      "execution_count": 91,
      "outputs": [
        {
          "output_type": "stream",
          "text": [
            "Accuracy for k = 1 is -0.5821104443656071\n",
            "Accuracy for k = 2 is -0.23023613534769205\n",
            "Accuracy for k = 3 is -0.12724865036489796\n",
            "Accuracy for k = 4 is -0.04706633388463333\n",
            "Accuracy for k = 5 is 0.009769553096469652\n",
            "Accuracy for k = 6 is 0.04359046641923725\n",
            "Accuracy for k = 7 is 0.06395210419561115\n",
            "Accuracy for k = 8 is 0.08085785954840752\n",
            "Accuracy for k = 9 is 0.09441258953813902\n",
            "Accuracy for k = 10 is 0.11189301801886897\n",
            "Accuracy for k = 11 is 0.12355328245224217\n",
            "Accuracy for k = 12 is 0.12849486183516312\n",
            "Accuracy for k = 13 is 0.13074714851107871\n",
            "Accuracy for k = 14 is 0.12930694429838907\n",
            "Accuracy for k = 15 is 0.13046227828513657\n",
            "Accuracy for k = 16 is 0.13546966516362258\n",
            "Accuracy for k = 17 is 0.13349309925053543\n",
            "Accuracy for k = 18 is 0.13626653515467568\n",
            "Accuracy for k = 19 is 0.135122170019227\n",
            "Accuracy for k = 20 is 0.1378586730393756\n",
            "Accuracy for k = 21 is 0.14001157616651272\n",
            "Accuracy for k = 22 is 0.14095483165096245\n",
            "Accuracy for k = 23 is 0.14102263167424167\n",
            "Accuracy for k = 24 is 0.13936422657475533\n",
            "Accuracy for k = 25 is 0.14166360695363744\n",
            "Accuracy for k = 26 is 0.14734770553231902\n",
            "Accuracy for k = 27 is 0.14776092033191313\n",
            "Accuracy for k = 28 is 0.15119151759479343\n",
            "Accuracy for k = 29 is 0.1506429903020059\n",
            "Accuracy for k = 30 is 0.1470181172529187\n",
            "Accuracy for k = 31 is 0.1454421461664972\n",
            "Accuracy for k = 32 is 0.1490020736072919\n",
            "Accuracy for k = 33 is 0.14677054974711257\n",
            "Accuracy for k = 34 is 0.14663150949336945\n",
            "Accuracy for k = 35 is 0.15038665407025686\n",
            "Accuracy for k = 36 is 0.14902092840906178\n",
            "Accuracy for k = 37 is 0.14756269535579047\n",
            "Accuracy for k = 38 is 0.1483459164330807\n",
            "Accuracy for k = 39 is 0.1480806000472492\n",
            "Accuracy for k = 40 is 0.15045293695980477\n",
            "Accuracy for k = 41 is 0.15059182453975217\n",
            "Accuracy for k = 42 is 0.1504236589902872\n",
            "Accuracy for k = 43 is 0.15029171409958808\n",
            "Accuracy for k = 44 is 0.15062018664620125\n",
            "Accuracy for k = 45 is 0.1495086572445553\n",
            "Accuracy for k = 46 is 0.14642274219114815\n",
            "Accuracy for k = 47 is 0.14505865896382897\n",
            "Accuracy for k = 48 is 0.1456304865330137\n",
            "Accuracy for k = 49 is 0.14621496955412583\n",
            "Accuracy for k = 50 is 0.14347739155820405\n",
            "Max R2 score = 0.15119151759479343 for k = 28\n"
          ],
          "name": "stdout"
        }
      ]
    },
    {
      "cell_type": "code",
      "metadata": {
        "colab": {
          "base_uri": "https://localhost:8080/"
        },
        "id": "NIsgyEk1gDg4",
        "outputId": "f01a6ace-791e-4227-bdb3-e4e873762277"
      },
      "source": [
        "from sklearn.linear_model import Ridge\n",
        "ridge = Ridge().fit(X_train_sc,y_train)\n",
        "y_train_pred = ridge.predict(X_train_sc)\n",
        "print(\"Training Accuracy = {}\".format(r2_score(y_train, y_train_pred)))\n",
        "y_pred = ridge.predict(X_test_sc)\n",
        "r2_score(y_test, y_pred)"
      ],
      "execution_count": 92,
      "outputs": [
        {
          "output_type": "stream",
          "text": [
            "Training Accuracy = 0.13697781726885228\n"
          ],
          "name": "stdout"
        },
        {
          "output_type": "execute_result",
          "data": {
            "text/plain": [
              "0.12863371932337597"
            ]
          },
          "metadata": {
            "tags": []
          },
          "execution_count": 92
        }
      ]
    },
    {
      "cell_type": "code",
      "metadata": {
        "colab": {
          "base_uri": "https://localhost:8080/"
        },
        "id": "cJVnW0UDgDg4",
        "outputId": "98b97552-34a6-49d4-99b3-ab77cc808a92"
      },
      "source": [
        "from sklearn.linear_model import Lasso\n",
        "lasso = Lasso().fit(X_train_sc,y_train)\n",
        "y_train_pred = lasso.predict(X_train_sc)\n",
        "print(\"Training Accuracy = {}\".format(r2_score(y_train, y_train_pred)))\n",
        "y_pred = lasso.predict(X_test_sc)\n",
        "r2_score(y_test, y_pred)"
      ],
      "execution_count": 93,
      "outputs": [
        {
          "output_type": "stream",
          "text": [
            "Training Accuracy = 0.135897382499664\n"
          ],
          "name": "stdout"
        },
        {
          "output_type": "execute_result",
          "data": {
            "text/plain": [
              "0.13031962950768605"
            ]
          },
          "metadata": {
            "tags": []
          },
          "execution_count": 93
        }
      ]
    },
    {
      "cell_type": "markdown",
      "metadata": {
        "id": "r_dq6b_xgDg4"
      },
      "source": [
        "None of the regressors are giving satisfactory results.\n",
        "Lets apply PCA, normalize the data and then apply Regressor models"
      ]
    },
    {
      "cell_type": "code",
      "metadata": {
        "id": "FWMI8K9GgDg4"
      },
      "source": [
        "from sklearn.preprocessing import Normalizer\n",
        "normal = Normalizer().fit(X_train)"
      ],
      "execution_count": 94,
      "outputs": []
    },
    {
      "cell_type": "code",
      "metadata": {
        "id": "BFpjyhCZgDg4"
      },
      "source": [
        "X_train = normal.transform(X_train)\n",
        "X_test = normal.transform(X_test)"
      ],
      "execution_count": 95,
      "outputs": []
    },
    {
      "cell_type": "code",
      "metadata": {
        "id": "9SHp_WK-gDg4"
      },
      "source": [
        "scaler = StandardScaler().fit(X_train)\n",
        "X_train_sc = scaler.transform(X_train)\n",
        "X_test_sc = scaler.transform(X_test)"
      ],
      "execution_count": 96,
      "outputs": []
    },
    {
      "cell_type": "code",
      "metadata": {
        "colab": {
          "base_uri": "https://localhost:8080/",
          "height": 296
        },
        "id": "TqKPsslggDg4",
        "outputId": "0b83511b-9b04-45a1-be3e-baf4f0fb53ba"
      },
      "source": [
        "from sklearn.decomposition import PCA\n",
        "pca = PCA().fit(X_train_sc)\n",
        "plt.plot(np.cumsum(pca.explained_variance_ratio_))\n",
        "plt.xlabel(\"No of Components\")\n",
        "plt.ylabel(\"Cumulative Variance\")"
      ],
      "execution_count": 97,
      "outputs": [
        {
          "output_type": "execute_result",
          "data": {
            "text/plain": [
              "Text(0, 0.5, 'Cumulative Variance')"
            ]
          },
          "metadata": {
            "tags": []
          },
          "execution_count": 97
        },
        {
          "output_type": "display_data",
          "data": {
            "image/png": "[encoded data removed]",
            "text/plain": [
              "<Figure size 432x288 with 1 Axes>"
            ]
          },
          "metadata": {
            "tags": []
          }
        }
      ]
    },
    {
      "cell_type": "markdown",
      "metadata": {
        "id": "UNamC1NmgDg5"
      },
      "source": [
        "So by taking around 15 - 17 components, we will get 90% variance"
      ]
    },
    {
      "cell_type": "code",
      "metadata": {
        "id": "m7eAwnekgDg5"
      },
      "source": [
        "pca = PCA(n_components = 15).fit(X_train_sc)\n",
        "X_train_pca = pca.transform(X_train_sc)\n",
        "X_test_pca = pca.transform(X_test_sc)"
      ],
      "execution_count": 98,
      "outputs": []
    },
    {
      "cell_type": "code",
      "metadata": {
        "colab": {
          "base_uri": "https://localhost:8080/"
        },
        "id": "hBuwigOugDg5",
        "outputId": "360f0d87-7eb4-46f0-c9da-9e0b05df71dc"
      },
      "source": [
        "linreg = LinearRegression().fit(X_train_pca, y_train)\n",
        "y_train_pred = linreg.predict(X_train_pca)\n",
        "print(\"Training Accuracy = {}\".format(r2_score(y_train, y_train_pred)))\n",
        "y_pred = linreg.predict(X_test_pca)\n",
        "r2_score(y_test, y_pred)"
      ],
      "execution_count": 99,
      "outputs": [
        {
          "output_type": "stream",
          "text": [
            "Training Accuracy = 0.14456127764070115\n"
          ],
          "name": "stdout"
        },
        {
          "output_type": "execute_result",
          "data": {
            "text/plain": [
              "0.1314151870123511"
            ]
          },
          "metadata": {
            "tags": []
          },
          "execution_count": 99
        }
      ]
    },
    {
      "cell_type": "code",
      "metadata": {
        "colab": {
          "base_uri": "https://localhost:8080/"
        },
        "id": "GZ5PMMCogDg5",
        "outputId": "d150af9a-99ef-41d2-9208-4191647157ec"
      },
      "source": [
        "from sklearn.linear_model import Ridge\n",
        "ridge = Ridge().fit(X_train_pca,y_train)\n",
        "y_train_pred = ridge.predict(X_train_pca)\n",
        "print(\"Training Accuracy = {}\".format(r2_score(y_train, y_train_pred)))\n",
        "y_pred = ridge.predict(X_test_pca)\n",
        "r2_score(y_test, y_pred)"
      ],
      "execution_count": 100,
      "outputs": [
        {
          "output_type": "stream",
          "text": [
            "Training Accuracy = 0.14455842460775814\n"
          ],
          "name": "stdout"
        },
        {
          "output_type": "execute_result",
          "data": {
            "text/plain": [
              "0.13154937388607313"
            ]
          },
          "metadata": {
            "tags": []
          },
          "execution_count": 100
        }
      ]
    },
    {
      "cell_type": "code",
      "metadata": {
        "colab": {
          "base_uri": "https://localhost:8080/"
        },
        "id": "oCMGhhrygDg5",
        "outputId": "2bf5c144-04ee-49d9-e36a-a5c132c820e6"
      },
      "source": [
        "from sklearn.neighbors import KNeighborsRegressor\n",
        "max_r2 = 0\n",
        "k = 0\n",
        "for i in range(1,51):\n",
        "    knr = KNeighborsRegressor(n_neighbors = i).fit(X_train_pca,y_train)\n",
        "    y_pred = knr.predict(X_test_pca)\n",
        "    r2 = r2_score(y_test, y_pred)\n",
        "    print(\"Accuracy for k = {} is {}\".format(i, r2))\n",
        "    if max_r2< r2:\n",
        "        max_r2 = r2\n",
        "        k = i\n",
        "print(\"Max R2 score = {} for k = {}\".format(max_r2, k))\n",
        "    "
      ],
      "execution_count": 101,
      "outputs": [
        {
          "output_type": "stream",
          "text": [
            "Accuracy for k = 1 is -0.689376940531266\n",
            "Accuracy for k = 2 is -0.23924534483039328\n",
            "Accuracy for k = 3 is -0.12751571419068264\n",
            "Accuracy for k = 4 is -0.030994660726143097\n",
            "Accuracy for k = 5 is 0.020544298081261125\n",
            "Accuracy for k = 6 is 0.05884875017998781\n",
            "Accuracy for k = 7 is 0.06598617604442125\n",
            "Accuracy for k = 8 is 0.06644644542535916\n",
            "Accuracy for k = 9 is 0.06322929963664647\n",
            "Accuracy for k = 10 is 0.06480918616088605\n",
            "Accuracy for k = 11 is 0.07859467058108294\n",
            "Accuracy for k = 12 is 0.08458356860694116\n",
            "Accuracy for k = 13 is 0.08651207425247698\n",
            "Accuracy for k = 14 is 0.09643217597764364\n",
            "Accuracy for k = 15 is 0.10892303586913787\n",
            "Accuracy for k = 16 is 0.10755255864906221\n",
            "Accuracy for k = 17 is 0.11366311846599597\n",
            "Accuracy for k = 18 is 0.11903308838213777\n",
            "Accuracy for k = 19 is 0.12183192186549796\n",
            "Accuracy for k = 20 is 0.12150987730384455\n",
            "Accuracy for k = 21 is 0.12063518435062104\n",
            "Accuracy for k = 22 is 0.12468422649004884\n",
            "Accuracy for k = 23 is 0.12607526746790665\n",
            "Accuracy for k = 24 is 0.12679252986966505\n",
            "Accuracy for k = 25 is 0.1259170561309566\n",
            "Accuracy for k = 26 is 0.1314880621185397\n",
            "Accuracy for k = 27 is 0.1344455736411474\n",
            "Accuracy for k = 28 is 0.13517573205790512\n",
            "Accuracy for k = 29 is 0.1356291552794896\n",
            "Accuracy for k = 30 is 0.1372478800082524\n",
            "Accuracy for k = 31 is 0.1410796179595878\n",
            "Accuracy for k = 32 is 0.13785889671778329\n",
            "Accuracy for k = 33 is 0.13979315651191715\n",
            "Accuracy for k = 34 is 0.13616292463416424\n",
            "Accuracy for k = 35 is 0.1374298400368016\n",
            "Accuracy for k = 36 is 0.13667512622411138\n",
            "Accuracy for k = 37 is 0.13712435639639264\n",
            "Accuracy for k = 38 is 0.13868311447401915\n",
            "Accuracy for k = 39 is 0.14213154656558225\n",
            "Accuracy for k = 40 is 0.14346384511378496\n",
            "Accuracy for k = 41 is 0.14469837637912797\n",
            "Accuracy for k = 42 is 0.14453919071958954\n",
            "Accuracy for k = 43 is 0.14728878859138306\n",
            "Accuracy for k = 44 is 0.147746892985668\n",
            "Accuracy for k = 45 is 0.1472857502708632\n",
            "Accuracy for k = 46 is 0.14679541678634112\n",
            "Accuracy for k = 47 is 0.1457597366305564\n",
            "Accuracy for k = 48 is 0.14570577067858848\n",
            "Accuracy for k = 49 is 0.1464871974052523\n",
            "Accuracy for k = 50 is 0.14772299532956268\n",
            "Max R2 score = 0.147746892985668 for k = 44\n"
          ],
          "name": "stdout"
        }
      ]
    },
    {
      "cell_type": "code",
      "metadata": {
        "colab": {
          "base_uri": "https://localhost:8080/"
        },
        "id": "RDxtyqD7gDg6",
        "outputId": "a8a3e201-dc7b-4825-8015-ca6d5ed30190"
      },
      "source": [
        "from sklearn.tree import DecisionTreeRegressor\n",
        "dtr = DecisionTreeRegressor().fit(X_train_sc, y_train)\n",
        "y_train_pred = dtr.predict(X_train_sc)\n",
        "print(\"Training Accuracy = {}\".format(r2_score(y_train, y_train_pred)))\n",
        "y_pred = dtr.predict(X_test_sc)\n",
        "r2_score(y_test, y_pred)"
      ],
      "execution_count": 105,
      "outputs": [
        {
          "output_type": "stream",
          "text": [
            "Training Accuracy = 0.8793459684958913\n"
          ],
          "name": "stdout"
        },
        {
          "output_type": "execute_result",
          "data": {
            "text/plain": [
              "-0.5706341997570512"
            ]
          },
          "metadata": {
            "tags": []
          },
          "execution_count": 105
        }
      ]
    },
    {
      "cell_type": "code",
      "metadata": {
        "colab": {
          "base_uri": "https://localhost:8080/"
        },
        "id": "xvKIZzOXgDg6",
        "outputId": "fb9d47d3-d640-4a88-bff8-e3229e5c4620"
      },
      "source": [
        "from sklearn.linear_model import Lasso\n",
        "lasso = Lasso().fit(X_train_pca,y_train)\n",
        "y_train_pred = lasso.predict(X_train_pca)\n",
        "print(\"Training Accuracy = {}\".format(r2_score(y_train, y_train_pred)))\n",
        "y_pred = lasso.predict(X_test_pca)\n",
        "r2_score(y_test, y_pred)"
      ],
      "execution_count": 104,
      "outputs": [
        {
          "output_type": "stream",
          "text": [
            "Training Accuracy = 0.14201284813945358\n"
          ],
          "name": "stdout"
        },
        {
          "output_type": "execute_result",
          "data": {
            "text/plain": [
              "0.13410586539188962"
            ]
          },
          "metadata": {
            "tags": []
          },
          "execution_count": 104
        }
      ]
    },
    {
      "cell_type": "markdown",
      "metadata": {
        "id": "qjBWq1UEZ1qo"
      },
      "source": [
        "We wil choose Linear regression model which seems to be giving stable results, though the results are not good enough"
      ]
    },
    {
      "cell_type": "code",
      "metadata": {
        "id": "ME3tnBNzgDg6",
        "colab": {
          "base_uri": "https://localhost:8080/"
        },
        "outputId": "8644d4a0-0137-48b3-a19d-b445a268020c"
      },
      "source": [
        "from sklearn.externals import joblib\n",
        "joblib.dump(linreg, 'model.joblib')"
      ],
      "execution_count": 106,
      "outputs": [
        {
          "output_type": "stream",
          "text": [
            "/usr/local/lib/python3.6/dist-packages/sklearn/externals/joblib/__init__.py:15: FutureWarning: sklearn.externals.joblib is deprecated in 0.21 and will be removed in 0.23. Please import this functionality directly from joblib, which can be installed with: pip install joblib. If this warning is raised when loading pickled models, you may need to re-serialize those models with scikit-learn 0.21+.\n",
            "  warnings.warn(msg, category=FutureWarning)\n"
          ],
          "name": "stderr"
        },
        {
          "output_type": "execute_result",
          "data": {
            "text/plain": [
              "['model.joblib']"
            ]
          },
          "metadata": {
            "tags": []
          },
          "execution_count": 106
        }
      ]
    },
    {
      "cell_type": "code",
      "metadata": {
        "id": "MW2Kp0KSaIlM"
      },
      "source": [
        ""
      ],
      "execution_count": null,
      "outputs": []
    }
  ]
}