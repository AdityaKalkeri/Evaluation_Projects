{
  "nbformat": 4,
  "nbformat_minor": 0,
  "metadata": {
    "colab": {
      "name": "Restaurant_prices.ipynb",
      "provenance": [],
      "collapsed_sections": [],
      "authorship_tag": "ABX9TyOR9eBd9s2Txc0NBZOI5ibG",
      "include_colab_link": true
    },
    "kernelspec": {
      "name": "python3",
      "display_name": "Python 3"
    }
  },
  "cells": [
    {
      "cell_type": "markdown",
      "metadata": {
        "id": "view-in-github",
        "colab_type": "text"
      },
      "source": [
        "<a href=\"https://colab.research.google.com/github/AdityaKalkeri/Evaluation_Projects/blob/main/Project14.ipynb\" target=\"_parent\"><img src=\"https://colab.research.google.com/assets/colab-badge.svg\" alt=\"Open In Colab\"/></a>"
      ]
    },
    {
      "cell_type": "code",
      "metadata": {
        "id": "nVPT3mzXkl_f"
      },
      "source": [
        "%matplotlib inline"
      ],
      "execution_count": 1,
      "outputs": []
    },
    {
      "cell_type": "code",
      "metadata": {
        "id": "BHkMjEGgk6Eg"
      },
      "source": [
        "import numpy as np\n",
        "import pandas as pd\n",
        "import matplotlib.pyplot as plt\n",
        "import seaborn as sns\n",
        "\n",
        "sns.set_style(\"darkgrid\")\n",
        "sns.set_palette(\"viridis\")"
      ],
      "execution_count": 2,
      "outputs": []
    },
    {
      "cell_type": "code",
      "metadata": {
        "colab": {
          "resources": {
            "http://localhost:8080/nbextensions/google.colab/files.js": {
              "data": "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",
              "ok": true,
              "headers": [
                [
                  "content-type",
                  "application/javascript"
                ]
              ],
              "status": 200,
              "status_text": "OK"
            }
          },
          "base_uri": "https://localhost:8080/",
          "height": 79
        },
        "id": "C4j63jYblGGA",
        "outputId": "efbacf24-1743-4616-a9e4-a94960b486ab"
      },
      "source": [
        "from google.colab import files\n",
        "upload = files.upload()"
      ],
      "execution_count": 3,
      "outputs": [
        {
          "output_type": "display_data",
          "data": {
            "text/html": [
              "\n",
              "     <input type=\"file\" id=\"files-d58fab96-4d82-4ddd-bfa6-2b701142a519\" name=\"files[]\" multiple disabled\n",
              "        style=\"border:none\" />\n",
              "     <output id=\"result-d58fab96-4d82-4ddd-bfa6-2b701142a519\">\n",
              "      Upload widget is only available when the cell has been executed in the\n",
              "      current browser session. Please rerun this cell to enable.\n",
              "      </output>\n",
              "      <script src=\"/nbextensions/google.colab/files.js\"></script> "
            ],
            "text/plain": [
              "<IPython.core.display.HTML object>"
            ]
          },
          "metadata": {
            "tags": []
          }
        },
        {
          "output_type": "stream",
          "text": [
            "Saving Data_Train.xlsx to Data_Train.xlsx\n"
          ],
          "name": "stdout"
        }
      ]
    },
    {
      "cell_type": "code",
      "metadata": {
        "colab": {
          "base_uri": "https://localhost:8080/",
          "height": 276
        },
        "id": "Rbmj0N9ClZ8i",
        "outputId": "ae55caf9-0bdf-4019-91e0-047b980689cb"
      },
      "source": [
        "import io\n",
        "df = pd.read_excel(io.BytesIO(upload['Data_Train.xlsx']))\n",
        "df.head()"
      ],
      "execution_count": 4,
      "outputs": [
        {
          "output_type": "execute_result",
          "data": {
            "text/html": [
              "<div>\n",
              "<style scoped>\n",
              "    .dataframe tbody tr th:only-of-type {\n",
              "        vertical-align: middle;\n",
              "    }\n",
              "\n",
              "    .dataframe tbody tr th {\n",
              "        vertical-align: top;\n",
              "    }\n",
              "\n",
              "    .dataframe thead th {\n",
              "        text-align: right;\n",
              "    }\n",
              "</style>\n",
              "<table border=\"1\" class=\"dataframe\">\n",
              "  <thead>\n",
              "    <tr style=\"text-align: right;\">\n",
              "      <th></th>\n",
              "      <th>TITLE</th>\n",
              "      <th>RESTAURANT_ID</th>\n",
              "      <th>CUISINES</th>\n",
              "      <th>TIME</th>\n",
              "      <th>CITY</th>\n",
              "      <th>LOCALITY</th>\n",
              "      <th>RATING</th>\n",
              "      <th>VOTES</th>\n",
              "      <th>COST</th>\n",
              "    </tr>\n",
              "  </thead>\n",
              "  <tbody>\n",
              "    <tr>\n",
              "      <th>0</th>\n",
              "      <td>CASUAL DINING</td>\n",
              "      <td>9438</td>\n",
              "      <td>Malwani, Goan, North Indian</td>\n",
              "      <td>11am – 4pm, 7:30pm – 11:30pm (Mon-Sun)</td>\n",
              "      <td>Thane</td>\n",
              "      <td>Dombivali East</td>\n",
              "      <td>3.6</td>\n",
              "      <td>49 votes</td>\n",
              "      <td>1200</td>\n",
              "    </tr>\n",
              "    <tr>\n",
              "      <th>1</th>\n",
              "      <td>CASUAL DINING,BAR</td>\n",
              "      <td>13198</td>\n",
              "      <td>Asian, Modern Indian, Japanese</td>\n",
              "      <td>6pm – 11pm (Mon-Sun)</td>\n",
              "      <td>Chennai</td>\n",
              "      <td>Ramapuram</td>\n",
              "      <td>4.2</td>\n",
              "      <td>30 votes</td>\n",
              "      <td>1500</td>\n",
              "    </tr>\n",
              "    <tr>\n",
              "      <th>2</th>\n",
              "      <td>CASUAL DINING</td>\n",
              "      <td>10915</td>\n",
              "      <td>North Indian, Chinese, Biryani, Hyderabadi</td>\n",
              "      <td>11am – 3:30pm, 7pm – 11pm (Mon-Sun)</td>\n",
              "      <td>Chennai</td>\n",
              "      <td>Saligramam</td>\n",
              "      <td>3.8</td>\n",
              "      <td>221 votes</td>\n",
              "      <td>800</td>\n",
              "    </tr>\n",
              "    <tr>\n",
              "      <th>3</th>\n",
              "      <td>QUICK BITES</td>\n",
              "      <td>6346</td>\n",
              "      <td>Tibetan, Chinese</td>\n",
              "      <td>11:30am – 1am (Mon-Sun)</td>\n",
              "      <td>Mumbai</td>\n",
              "      <td>Bandra West</td>\n",
              "      <td>4.1</td>\n",
              "      <td>24 votes</td>\n",
              "      <td>800</td>\n",
              "    </tr>\n",
              "    <tr>\n",
              "      <th>4</th>\n",
              "      <td>DESSERT PARLOR</td>\n",
              "      <td>15387</td>\n",
              "      <td>Desserts</td>\n",
              "      <td>11am – 1am (Mon-Sun)</td>\n",
              "      <td>Mumbai</td>\n",
              "      <td>Lower Parel</td>\n",
              "      <td>3.8</td>\n",
              "      <td>165 votes</td>\n",
              "      <td>300</td>\n",
              "    </tr>\n",
              "  </tbody>\n",
              "</table>\n",
              "</div>"
            ],
            "text/plain": [
              "               TITLE  RESTAURANT_ID  ...      VOTES  COST\n",
              "0      CASUAL DINING           9438  ...   49 votes  1200\n",
              "1  CASUAL DINING,BAR          13198  ...   30 votes  1500\n",
              "2      CASUAL DINING          10915  ...  221 votes   800\n",
              "3        QUICK BITES           6346  ...   24 votes   800\n",
              "4     DESSERT PARLOR          15387  ...  165 votes   300\n",
              "\n",
              "[5 rows x 9 columns]"
            ]
          },
          "metadata": {
            "tags": []
          },
          "execution_count": 4
        }
      ]
    },
    {
      "cell_type": "code",
      "metadata": {
        "colab": {
          "base_uri": "https://localhost:8080/"
        },
        "id": "WFBwLFtFlnMi",
        "outputId": "a10ce58f-a5c3-4e2d-ed36-26f8596592dc"
      },
      "source": [
        "df.info()"
      ],
      "execution_count": 5,
      "outputs": [
        {
          "output_type": "stream",
          "text": [
            "<class 'pandas.core.frame.DataFrame'>\n",
            "RangeIndex: 12690 entries, 0 to 12689\n",
            "Data columns (total 9 columns):\n",
            " #   Column         Non-Null Count  Dtype \n",
            "---  ------         --------------  ----- \n",
            " 0   TITLE          12690 non-null  object\n",
            " 1   RESTAURANT_ID  12690 non-null  int64 \n",
            " 2   CUISINES       12690 non-null  object\n",
            " 3   TIME           12690 non-null  object\n",
            " 4   CITY           12578 non-null  object\n",
            " 5   LOCALITY       12592 non-null  object\n",
            " 6   RATING         12688 non-null  object\n",
            " 7   VOTES          11486 non-null  object\n",
            " 8   COST           12690 non-null  int64 \n",
            "dtypes: int64(2), object(7)\n",
            "memory usage: 892.4+ KB\n"
          ],
          "name": "stdout"
        }
      ]
    },
    {
      "cell_type": "code",
      "metadata": {
        "colab": {
          "base_uri": "https://localhost:8080/"
        },
        "id": "uUCjqrWGmSAj",
        "outputId": "b542b3ef-863f-4397-d3ea-039784d90be7"
      },
      "source": [
        "df.isnull().sum()"
      ],
      "execution_count": 6,
      "outputs": [
        {
          "output_type": "execute_result",
          "data": {
            "text/plain": [
              "TITLE               0\n",
              "RESTAURANT_ID       0\n",
              "CUISINES            0\n",
              "TIME                0\n",
              "CITY              112\n",
              "LOCALITY           98\n",
              "RATING              2\n",
              "VOTES            1204\n",
              "COST                0\n",
              "dtype: int64"
            ]
          },
          "metadata": {
            "tags": []
          },
          "execution_count": 6
        }
      ]
    },
    {
      "cell_type": "code",
      "metadata": {
        "colab": {
          "base_uri": "https://localhost:8080/"
        },
        "id": "xXrRFwlPmTp8",
        "outputId": "8c9d5c96-0014-4ca7-9811-7ef29c4435b2"
      },
      "source": [
        "print(df.nunique())"
      ],
      "execution_count": 7,
      "outputs": [
        {
          "output_type": "stream",
          "text": [
            "TITLE              113\n",
            "RESTAURANT_ID    11892\n",
            "CUISINES          4155\n",
            "TIME              2689\n",
            "CITY               359\n",
            "LOCALITY          1416\n",
            "RATING              32\n",
            "VOTES             1847\n",
            "COST                86\n",
            "dtype: int64\n"
          ],
          "name": "stdout"
        }
      ]
    },
    {
      "cell_type": "markdown",
      "metadata": {
        "id": "7_zNtovg8TgQ"
      },
      "source": [
        "# Preprocessing"
      ]
    },
    {
      "cell_type": "code",
      "metadata": {
        "colab": {
          "base_uri": "https://localhost:8080/"
        },
        "id": "8nEHYWxcmi-c",
        "outputId": "1de4a84b-8c17-4a52-9e55-48bd9ea59b7a"
      },
      "source": [
        "df['CUISINES'].head(30)"
      ],
      "execution_count": 8,
      "outputs": [
        {
          "output_type": "execute_result",
          "data": {
            "text/plain": [
              "0                         Malwani, Goan, North Indian\n",
              "1                      Asian, Modern Indian, Japanese\n",
              "2          North Indian, Chinese, Biryani, Hyderabadi\n",
              "3                                    Tibetan, Chinese\n",
              "4                                            Desserts\n",
              "5             North Indian, Chinese, Seafood, Biryani\n",
              "6          Cafe, Chinese, Pizza, North Indian, Burger\n",
              "7                                            Bar Food\n",
              "8                          South Indian, North Indian\n",
              "9                                        North Indian\n",
              "10          North Indian, Chinese, Fast Food, Biryani\n",
              "11                       Fast Food, Burger, Beverages\n",
              "12                                   Arabian, Mughlai\n",
              "13                                       South Indian\n",
              "14                                      Maharashtrian\n",
              "15                                  Parsi, Hyderabadi\n",
              "16                            North Indian, Fast Food\n",
              "17                  North Indian, Hyderabadi, Chinese\n",
              "18                                      Chinese, Thai\n",
              "19                           Bakery, Fast Food, Momos\n",
              "20                              Continental, European\n",
              "21                         North Indian, Rolls, Momos\n",
              "22            North Indian, Fast Food, Mughlai, Rolls\n",
              "23             Andhra, Chinese, North Indian, Biryani\n",
              "24                             Cafe, Italian, Chinese\n",
              "25                              Biryani, North Indian\n",
              "26                         North Indian, Chinese, BBQ\n",
              "27                                            Italian\n",
              "28    Finger Food, North Indian, Continental, Italian\n",
              "29      Finger Food, Continental, Asian, North Indian\n",
              "Name: CUISINES, dtype: object"
            ]
          },
          "metadata": {
            "tags": []
          },
          "execution_count": 8
        }
      ]
    },
    {
      "cell_type": "code",
      "metadata": {
        "id": "GNtguKhymnbj"
      },
      "source": [
        ""
      ],
      "execution_count": 8,
      "outputs": []
    },
    {
      "cell_type": "code",
      "metadata": {
        "colab": {
          "base_uri": "https://localhost:8080/"
        },
        "id": "xk8uyCSeRJ3p",
        "outputId": "2fb9c84c-1bc3-409c-f93f-ff9f7fee89fd"
      },
      "source": [
        "df.groupby(\"CUISINES\")['CUISINES'].count().sort_values(ascending = False).head(50)"
      ],
      "execution_count": 9,
      "outputs": [
        {
          "output_type": "execute_result",
          "data": {
            "text/plain": [
              "CUISINES\n",
              "South Indian                           532\n",
              "North Indian                           526\n",
              "North Indian, Chinese                  501\n",
              "Fast Food                              286\n",
              "Chinese                                167\n",
              "Bakery                                 148\n",
              "Bakery, Desserts                       148\n",
              "South Indian, North Indian, Chinese    139\n",
              "Cafe                                   134\n",
              "Kerala                                 131\n",
              "Biryani                                129\n",
              "Street Food                            121\n",
              "Chinese, North Indian                  119\n",
              "South Indian, North Indian             106\n",
              "North Indian, Mughlai                  102\n",
              "North Indian, Chinese, Biryani          91\n",
              "Finger Food                             87\n",
              "North Indian, South Indian, Chinese     87\n",
              "Desserts                                87\n",
              "Ice Cream, Desserts                     81\n",
              "Arabian                                 80\n",
              "Bakery, Fast Food                       79\n",
              "North Indian, South Indian              74\n",
              "North Indian, Chinese, Continental      73\n",
              "Pizza, Fast Food                        72\n",
              "Desserts, Ice Cream                     70\n",
              "North Indian, Mughlai, Chinese          66\n",
              "North Indian, Chinese, Mughlai          64\n",
              "Pizza                                   55\n",
              "Fast Food, Beverages                    55\n",
              "Beverages                               55\n",
              "Kerala, South Indian                    54\n",
              "Chinese, Momos                          54\n",
              "North Indian, Biryani                   53\n",
              "South Indian, Chinese                   52\n",
              "Desserts, Beverages                     47\n",
              "Italian                                 46\n",
              "Biryani, North Indian                   46\n",
              "North Indian, Fast Food                 46\n",
              "Continental                             45\n",
              "Biryani, North Indian, Chinese          44\n",
              "North Indian, Chinese, South Indian     44\n",
              "Ice Cream                               41\n",
              "North Indian, Chinese, Fast Food        39\n",
              "Mithai, Street Food                     38\n",
              "Cafe, Fast Food                         35\n",
              "Desserts, Bakery                        34\n",
              "North Indian, Street Food               32\n",
              "Burger, Fast Food                       32\n",
              "Chinese, Thai                           32\n",
              "Name: CUISINES, dtype: int64"
            ]
          },
          "metadata": {
            "tags": []
          },
          "execution_count": 9
        }
      ]
    },
    {
      "cell_type": "markdown",
      "metadata": {
        "id": "dR4EzEtOlZYK"
      },
      "source": [
        "Main Cuisines:\n",
        "\n",
        "1. North Indian - includes Biryani and Mughlai cuisines\n",
        "2. South Indian -  has Kerala and Andhra cuisines\n",
        "3. Fast Food - Street Food,Bevarages, Cafe Food, Burgers\n",
        "4. Oriental - Chinese, Thai, Momos\n",
        "5. Bakery, Desserts - Ice Creams, Mithai, etc\n",
        "6. Middle Eastern - Arabian\n",
        "7. Continental - Pizza, Italian, \n",
        "8. Multiple cuisines - many cuisines served at the same restaurants:North Indian, South Indian, Chinese, Continental, etc"
      ]
    },
    {
      "cell_type": "code",
      "metadata": {
        "id": "PH2HiZ04S6pw"
      },
      "source": [
        "import re\n",
        "def multiple(row):\n",
        "  x = re.findall(\"Indian.*Indian|Indian.*Chinese|Chinese.*Indian|Indian.*Continental\", row['CUISINES'])\n",
        "  if len(x)>0:\n",
        "    row['CUISINES'] = 'Multiple_Cuisine'\n",
        "  return row\n",
        "\n",
        "df = df.apply(multiple, axis = 1)"
      ],
      "execution_count": 10,
      "outputs": []
    },
    {
      "cell_type": "code",
      "metadata": {
        "id": "zCtsuTXwq7qG"
      },
      "source": [
        "def north(row):\n",
        "  x = re.findall(\"Biryani|North|Mughlai|Bengali|Gujarati|Rajasthani|Bihari|Oriya\", row['CUISINES'])\n",
        "  if len(x)>0:\n",
        "    row['CUISINES'] = 'North Indian'\n",
        "  return row\n",
        "\n",
        "df=  df.apply(north, axis = 1)"
      ],
      "execution_count": 11,
      "outputs": []
    },
    {
      "cell_type": "code",
      "metadata": {
        "id": "MYXwrNQ_vRIl"
      },
      "source": [
        "def south(row):\n",
        "  x = re.findall(\"Kerala|Andhra|Chettinad|South Indian|Maharashtrian\", row['CUISINES'])\n",
        "  if len(x)>0:\n",
        "    row['CUISINES'] = 'South Indian'\n",
        "  return row\n",
        "\n",
        "df = df.apply(south, axis =1)"
      ],
      "execution_count": 12,
      "outputs": []
    },
    {
      "cell_type": "code",
      "metadata": {
        "id": "lqyvmjIqwjxT"
      },
      "source": [
        "def chinese(row):\n",
        "  x = re.findall(\"Chinese|Thai|Japanese|Asian|Korean|Momos|Burmese\", row['CUISINES'])\n",
        "  if len(x)>0:\n",
        "    row['CUISINES'] = 'Oriental'\n",
        "  return row\n",
        "\n",
        "df= df.apply(chinese, axis = 1)"
      ],
      "execution_count": 13,
      "outputs": []
    },
    {
      "cell_type": "code",
      "metadata": {
        "id": "8VE2vwPLxt6l"
      },
      "source": [
        "def fast_food(row):\n",
        "  x = re.findall(\"Street|Fast|Finger|Cafe|Burger|American|Sandwich|Rolls|Mexican\", row['CUISINES'])\n",
        "  if len(x)>0:\n",
        "    row['CUISINES'] = 'Fast Food'\n",
        "  return row\n",
        "\n",
        "df = df.apply(fast_food, axis =1)"
      ],
      "execution_count": 14,
      "outputs": []
    },
    {
      "cell_type": "code",
      "metadata": {
        "id": "2YTJvOefy21a"
      },
      "source": [
        "def continental(row):\n",
        "  x = re.findall(\"Italian|Continental|Pizza|European\", row['CUISINES'])\n",
        "  if len(x)>0:\n",
        "    row['CUISINES']  = 'Continental'\n",
        "  return row\n",
        "\n",
        "df = df.apply(continental, axis = 1 )"
      ],
      "execution_count": 15,
      "outputs": []
    },
    {
      "cell_type": "code",
      "metadata": {
        "id": "M6TpR-T50TX0"
      },
      "source": [
        "def dessert(row):\n",
        "  x = re.findall(\"Desserts|Bakery|Ice Cream|Mithai|Beverages|Juices\", row['CUISINES'])\n",
        "  if len(x)>0:\n",
        "    row['CUISINES'] = 'Bakery Dessert'\n",
        "  return row\n",
        "\n",
        "df = df.apply(dessert, axis = 1)"
      ],
      "execution_count": 16,
      "outputs": []
    },
    {
      "cell_type": "code",
      "metadata": {
        "id": "4WnlY4u90cY9"
      },
      "source": [
        "def middleeast(row):\n",
        "  x= re.findall(\"Arabian|Lebanese|Middle Eastern|Turkish\", row['CUISINES'])\n",
        "  if len(x)>0:\n",
        "    row['CUISINES'] = 'Middle Eastern'\n",
        "  return row\n",
        "\n",
        "df = df.apply(middleeast, axis = 1)"
      ],
      "execution_count": 17,
      "outputs": []
    },
    {
      "cell_type": "code",
      "metadata": {
        "id": "QOx5THXW3dN6"
      },
      "source": [
        "cuisines = ['South Indian', 'North Indian', \"Middle Eastern\", \"Bakery Dessert\", \"Continental\", \"Oriental\", \"Multiple_Cuisine\", \"Fast Food\"]\n",
        "def others(row):\n",
        "  if row['CUISINES'] in cuisines:\n",
        "    return row\n",
        "  row['CUISINES'] = 'Other'\n",
        "  return row\n",
        "\n",
        "df = df.apply(others, axis =1)"
      ],
      "execution_count": 18,
      "outputs": []
    },
    {
      "cell_type": "code",
      "metadata": {
        "id": "gOODbhSm4qj9"
      },
      "source": [
        "cuisines = ['South Indian', 'North Indian', \"Middle Eastern\", \"Bakery Dessert\", \"Continental\", \"Oriental\", \"Multiple_Cuisine\", \"Fast Food\"]\n"
      ],
      "execution_count": 19,
      "outputs": []
    },
    {
      "cell_type": "code",
      "metadata": {
        "colab": {
          "base_uri": "https://localhost:8080/"
        },
        "id": "j25r1pwz44z8",
        "outputId": "e3acda10-9296-47bc-cfde-c300faa516b2"
      },
      "source": [
        "df['CUISINES']"
      ],
      "execution_count": 20,
      "outputs": [
        {
          "output_type": "execute_result",
          "data": {
            "text/plain": [
              "0            North Indian\n",
              "1                Oriental\n",
              "2        Multiple_Cuisine\n",
              "3                Oriental\n",
              "4          Bakery Dessert\n",
              "               ...       \n",
              "12685        North Indian\n",
              "12686         Continental\n",
              "12687            Oriental\n",
              "12688    Multiple_Cuisine\n",
              "12689    Multiple_Cuisine\n",
              "Name: CUISINES, Length: 12690, dtype: object"
            ]
          },
          "metadata": {
            "tags": []
          },
          "execution_count": 20
        }
      ]
    },
    {
      "cell_type": "code",
      "metadata": {
        "colab": {
          "base_uri": "https://localhost:8080/"
        },
        "id": "CCv7n-C45eSA",
        "outputId": "0ae4b10c-0fed-496c-f8d0-f1490045a298"
      },
      "source": [
        "df.groupby(\"CUISINES\")['CUISINES'].count().sort_values(ascending = False).head(10)"
      ],
      "execution_count": 21,
      "outputs": [
        {
          "output_type": "execute_result",
          "data": {
            "text/plain": [
              "CUISINES\n",
              "Multiple_Cuisine    3914\n",
              "Fast Food           2539\n",
              "North Indian        2295\n",
              "Oriental            1152\n",
              "South Indian        1139\n",
              "Bakery Dessert       963\n",
              "Continental          376\n",
              "Middle Eastern       157\n",
              "Other                155\n",
              "Name: CUISINES, dtype: int64"
            ]
          },
          "metadata": {
            "tags": []
          },
          "execution_count": 21
        }
      ]
    },
    {
      "cell_type": "code",
      "metadata": {
        "colab": {
          "base_uri": "https://localhost:8080/"
        },
        "id": "zSvhzD5-6RGa",
        "outputId": "62c6c039-5c10-4c73-d17f-5f0d05b9529c"
      },
      "source": [
        "df.info()"
      ],
      "execution_count": 22,
      "outputs": [
        {
          "output_type": "stream",
          "text": [
            "<class 'pandas.core.frame.DataFrame'>\n",
            "RangeIndex: 12690 entries, 0 to 12689\n",
            "Data columns (total 9 columns):\n",
            " #   Column         Non-Null Count  Dtype \n",
            "---  ------         --------------  ----- \n",
            " 0   TITLE          12690 non-null  object\n",
            " 1   RESTAURANT_ID  12690 non-null  int64 \n",
            " 2   CUISINES       12690 non-null  object\n",
            " 3   TIME           12690 non-null  object\n",
            " 4   CITY           12578 non-null  object\n",
            " 5   LOCALITY       12592 non-null  object\n",
            " 6   RATING         12688 non-null  object\n",
            " 7   VOTES          11486 non-null  object\n",
            " 8   COST           12690 non-null  int64 \n",
            "dtypes: int64(2), object(7)\n",
            "memory usage: 892.4+ KB\n"
          ],
          "name": "stdout"
        }
      ]
    },
    {
      "cell_type": "code",
      "metadata": {
        "colab": {
          "base_uri": "https://localhost:8080/"
        },
        "id": "qUbRVFLn7HU6",
        "outputId": "8a46c6cf-f03c-4525-bd2b-5c59b6267987"
      },
      "source": [
        "df.groupby(\"TITLE\")['TITLE'].count().sort_values(ascending =False).head(50)"
      ],
      "execution_count": 23,
      "outputs": [
        {
          "output_type": "execute_result",
          "data": {
            "text/plain": [
              "TITLE\n",
              "QUICK BITES                     4218\n",
              "CASUAL DINING                   3652\n",
              "None                            1003\n",
              "CAFÉ                             607\n",
              "DESSERT PARLOR                   382\n",
              "CASUAL DINING,BAR                349\n",
              "FINE DINING                      308\n",
              "BAKERY                           302\n",
              "BEVERAGE SHOP                    156\n",
              "BAR,CASUAL DINING                128\n",
              "LOUNGE                            98\n",
              "BAKERY,QUICK BITES                92\n",
              "BAR                               91\n",
              "FOOD COURT                        78\n",
              "CASUAL DINING,CAFÉ                56\n",
              "KIOSK                             53\n",
              "MESS                              53\n",
              "BAKERY,DESSERT PARLOR             51\n",
              "PUB                               50\n",
              "DESSERT PARLOR,QUICK BITES        48\n",
              "SWEET SHOP,QUICK BITES            48\n",
              "DHABA                             45\n",
              "SWEET SHOP                        44\n",
              "CAFÉ,CASUAL DINING                35\n",
              "QUICK BITES,SWEET SHOP            35\n",
              "BEVERAGE SHOP,QUICK BITES         33\n",
              "FINE DINING,BAR                   32\n",
              "CAFÉ,DESSERT PARLOR               32\n",
              "FOOD TRUCK                        30\n",
              "PUB,CASUAL DINING                 30\n",
              "CAFÉ,BAKERY                       29\n",
              "MICROBREWERY,CASUAL DINING        27\n",
              "LOUNGE,CASUAL DINING              27\n",
              "QUICK BITES,DESSERT PARLOR        26\n",
              "CAFÉ,QUICK BITES                  23\n",
              "BEVERAGE SHOP,DESSERT PARLOR      21\n",
              "CASUAL DINING,PUB                 21\n",
              "QUICK BITES,BAKERY                20\n",
              "CLUB                              20\n",
              "LOUNGE,BAR                        19\n",
              "QUICK BITES,BEVERAGE SHOP         17\n",
              "CASUAL DINING,LOUNGE              17\n",
              "CAFÉ,BAR                          17\n",
              "BAR,LOUNGE                        16\n",
              "PUB,MICROBREWERY                  14\n",
              "BAKERY,CAFÉ                       13\n",
              "DESSERT PARLOR,BAKERY             12\n",
              "FOOD COURT,QUICK BITES            12\n",
              "DESSERT PARLOR,BEVERAGE SHOP      11\n",
              "DESSERT PARLOR,SWEET SHOP         11\n",
              "Name: TITLE, dtype: int64"
            ]
          },
          "metadata": {
            "tags": []
          },
          "execution_count": 23
        }
      ]
    },
    {
      "cell_type": "code",
      "metadata": {
        "id": "O7V-XJKZ7OKO"
      },
      "source": [
        "def quickbites(row):\n",
        "  x = re.findall(\"QUICK BITES|FOOD TRUCK|KIOSK|MESS|FOOD COURT|PAAN SHOP|MEAT SHOP\", row['TITLE'])\n",
        "  if len(x)>0:\n",
        "    row['TITLE'] = 'QUICK BITES'\n",
        "  return row\n",
        "df = df.apply(quickbites, axis = 1)"
      ],
      "execution_count": 24,
      "outputs": []
    },
    {
      "cell_type": "code",
      "metadata": {
        "id": "sA5ZwjpE-8t2"
      },
      "source": [
        "def cafe(row):\n",
        "  x = re.findall(\"CAFÉ|CAFÉ, CASUAL DINING| CAFÉ, QUICK BITES\", row['TITLE'])\n",
        "  if len(x)>0:\n",
        "    row['TITLE'] = 'CAFÉ'\n",
        "  return row\n",
        "\n",
        "df = df.apply(cafe, axis = 1)"
      ],
      "execution_count": 25,
      "outputs": []
    },
    {
      "cell_type": "code",
      "metadata": {
        "id": "50Zr4IosAONx"
      },
      "source": [
        "def dessert(row):\n",
        "  x = re.findall(\"DESSERT PARLOR|BEVERAGE SHOP|SWEET SHOP|BAKERY|CONFECTIONERY\", row['TITLE'])\n",
        "  if len(x)>0:\n",
        "    row['TITLE'] = 'DESSERT PARLOR'\n",
        "  return row\n",
        "\n",
        "df= df.apply(dessert, axis =1)"
      ],
      "execution_count": 26,
      "outputs": []
    },
    {
      "cell_type": "code",
      "metadata": {
        "id": "Ric63pL4AqOB"
      },
      "source": [
        "def bar(row):\n",
        "  x = re.findall(\"BAR|BAR, CASUAL DINING|FINE DINING, BAR|PUB|MICROBREWERY\", row['TITLE'])\n",
        "  if len(x)>0:\n",
        "    row['TITLE'] = 'BAR'\n",
        "\n",
        "  return row\n",
        "\n",
        "df = df.apply(bar, axis = 1)"
      ],
      "execution_count": 27,
      "outputs": []
    },
    {
      "cell_type": "code",
      "metadata": {
        "id": "fxhejxJNCYva"
      },
      "source": [
        "def casual(row):\n",
        "  x = re.findall(\"CASUAL DINING|FINE DINING|LOUNGE|DHABA|CLUB\", row['TITLE'])\n",
        "  if len(x)>0:\n",
        "    row['TITLE'] = 'CASUAL DINING'\n",
        "  \n",
        "  return row\n",
        "\n",
        "df = df.apply(casual, axis = 1)"
      ],
      "execution_count": 28,
      "outputs": []
    },
    {
      "cell_type": "code",
      "metadata": {
        "id": "xAZ51DwAJkc0"
      },
      "source": [
        "map_dict = {\"None\" : \"Other\",\n",
        "            'CASUAL DINING': 'CASUAL DINING',\n",
        "            \"BAR\": \"BAR\",\n",
        "            'CAFÉ': 'CAFÉ',\n",
        "            'DESSERT PARLOR': 'DESSERT PARLOR',\n",
        "            'QUICK BITES':'QUICK BITES'\n",
        "            }\n",
        "df['TITLE'] = df['TITLE'].map(map_dict)"
      ],
      "execution_count": 29,
      "outputs": []
    },
    {
      "cell_type": "code",
      "metadata": {
        "colab": {
          "base_uri": "https://localhost:8080/"
        },
        "id": "cjNtHjieC3cp",
        "outputId": "ea6a500c-0a9d-421f-9835-b84b710c2d96"
      },
      "source": [
        "df.groupby(\"TITLE\")['TITLE'].count().sort_values(ascending =False).head(50)"
      ],
      "execution_count": 30,
      "outputs": [
        {
          "output_type": "execute_result",
          "data": {
            "text/plain": [
              "TITLE\n",
              "QUICK BITES       4830\n",
              "CASUAL DINING     4183\n",
              "DESSERT PARLOR    1019\n",
              "Other             1003\n",
              "BAR                840\n",
              "CAFÉ               815\n",
              "Name: TITLE, dtype: int64"
            ]
          },
          "metadata": {
            "tags": []
          },
          "execution_count": 30
        }
      ]
    },
    {
      "cell_type": "markdown",
      "metadata": {
        "id": "vaG73Q67FVEZ"
      },
      "source": [
        ""
      ]
    },
    {
      "cell_type": "code",
      "metadata": {
        "colab": {
          "base_uri": "https://localhost:8080/"
        },
        "id": "gzHANJ8qC50d",
        "outputId": "b6882d9a-c004-4406-85ed-1fee9316ffcf"
      },
      "source": [
        "df.groupby(\"TIME\")['TIME'].count().sort_values(ascending = False).head(40)"
      ],
      "execution_count": 31,
      "outputs": [
        {
          "output_type": "execute_result",
          "data": {
            "text/plain": [
              "TIME\n",
              "11am – 11pm (Mon-Sun)                    1415\n",
              "12noon – 12midnight (Mon-Sun)             469\n",
              "12noon – 11pm (Mon-Sun)                   407\n",
              "11am – 12midnight (Mon-Sun)               310\n",
              "10am – 10pm (Mon-Sun)                     221\n",
              "12noon – 1am (Mon-Sun)                    197\n",
              "10am – 11pm (Mon-Sun)                     183\n",
              "7am – 11pm (Mon-Sun)                      183\n",
              "8am – 11pm (Mon-Sun)                      175\n",
              "24 Hours (Mon-Sun)                        172\n",
              "12noon – 11:30pm (Mon-Sun)                156\n",
              "11am – 10pm (Mon-Sun)                     154\n",
              "11am – 11:30pm (Mon-Sun)                  143\n",
              "11:30am – 11:30pm (Mon-Sun)               138\n",
              "9am – 11pm (Mon-Sun)                      120\n",
              "11am – 1am (Mon-Sun)                      114\n",
              "11:30am – 11pm (Mon-Sun)                  109\n",
              "7am – 10:30pm (Mon-Sun)                   102\n",
              "8am – 10pm (Mon-Sun)                      101\n",
              "7am – 10pm (Mon-Sun)                      100\n",
              "11am – 10:30pm (Mon-Sun)                   95\n",
              "9am – 10pm (Mon-Sun)                       89\n",
              "10am – 12midnight (Mon-Sun)                86\n",
              "12noon – 10:30pm (Mon-Sun)                 85\n",
              "8am – 12midnight (Mon-Sun)                 77\n",
              "12noon – 10pm (Mon-Sun)                    77\n",
              "11:30am – 12midnight (Mon-Sun)             71\n",
              "12noon – 3:30pm, 7pm – 11pm (Mon-Sun)      69\n",
              "12noon – 4pm, 7pm – 11pm (Mon-Sun)         62\n",
              "9am – 12midnight (Mon-Sun)                 61\n",
              "Not Available                              59\n",
              "12:30pm – 11pm (Mon-Sun)                   57\n",
              "7:30am – 10:30pm (Mon-Sun)                 57\n",
              "6am – 11pm (Mon-Sun)                       55\n",
              "12noon – 12:30AM (Mon-Sun)                 54\n",
              "11:30am – 10:30pm (Mon-Sun)                52\n",
              "9am – 9pm (Mon-Sun)                        50\n",
              "8am – 11:30pm (Mon-Sun)                    50\n",
              "10:30am – 10:30pm (Mon-Sun)                48\n",
              "10am – 10:30pm (Mon-Sun)                   47\n",
              "Name: TIME, dtype: int64"
            ]
          },
          "metadata": {
            "tags": []
          },
          "execution_count": 31
        }
      ]
    },
    {
      "cell_type": "code",
      "metadata": {
        "id": "actaFboEDl1p"
      },
      "source": [
        "def eleven(row):\n",
        "  x = re.findall(\"11.*11|12.*11|10.*10|10.*11|11.*10|12.*10|2.*11|3.*11\", row['TIME'])\n",
        "  if len(x)>0:\n",
        "    row['TIME'] = \"11am-11pm\"\n",
        "  return row\n",
        "df = df.apply(eleven, axis =1)"
      ],
      "execution_count": 32,
      "outputs": []
    },
    {
      "cell_type": "code",
      "metadata": {
        "id": "UIL-0QxJIJcs"
      },
      "source": [
        "def midnight(row):\n",
        "  x = re.findall(\"12.*12|11.*12|10.*12|2.*12\", row['TIME'])\n",
        "  if len(x)>0:\n",
        "    row['TIME'] = \"11am-midnight\"\n",
        "  return row\n",
        "\n",
        "df = df.apply(midnight, axis = 1)\n"
      ],
      "execution_count": 33,
      "outputs": []
    },
    {
      "cell_type": "code",
      "metadata": {
        "id": "2ewwLHFTIt2a"
      },
      "source": [
        "def breakfast(row):\n",
        "  x = re.findall(\"8am|7am|6am|9am|5am\", row['TIME'])\n",
        "  if len(x)>0:\n",
        "    row['TIME'] = '7am-11pm'\n",
        "  return row\n",
        "\n",
        "df = df.apply(breakfast, axis = 1)"
      ],
      "execution_count": 34,
      "outputs": []
    },
    {
      "cell_type": "code",
      "metadata": {
        "id": "5wPT6Z_CJPuU"
      },
      "source": [
        "def evening(row):\n",
        "  x = re.findall(\"5pm|6pm|4pm\", row['TIME'])\n",
        "  if len(x)>1:\n",
        "    row[\"TIME\"] = '5pm-11pm'\n",
        "  return row\n",
        "\n",
        "df = df.apply(evening, axis = 1)\n",
        "\n"
      ],
      "execution_count": 35,
      "outputs": []
    },
    {
      "cell_type": "code",
      "metadata": {
        "id": "L4VC7xMTMOrB"
      },
      "source": [
        "def afterhours(row):\n",
        "  x = re.findall(\" 1am|2am|3am|4am|1:30am\", row['TIME'])\n",
        "  if len(x)>0:\n",
        "    row[\"TIME\"] = \"5pm-2am\"\n",
        "  return row\n",
        "\n",
        "df = df.apply(afterhours, axis = 1)\n"
      ],
      "execution_count": 36,
      "outputs": []
    },
    {
      "cell_type": "code",
      "metadata": {
        "id": "fPlMXVtyM50Z"
      },
      "source": [
        "times=['11am-11pm', '7am-11pm', '5pm-11pm',  \"5pm-2am\"]\n",
        "def others(row):\n",
        "  if row['TIME'] not in times:\n",
        "    row['TIME'] = \"others\"\n",
        "  return row\n",
        "\n",
        "df = df.apply(others, axis=1)"
      ],
      "execution_count": 37,
      "outputs": []
    },
    {
      "cell_type": "code",
      "metadata": {
        "id": "bZ-kfzzKNmKG",
        "colab": {
          "base_uri": "https://localhost:8080/"
        },
        "outputId": "3d043b93-f78b-4be9-d836-e927817378ce"
      },
      "source": [
        "df.groupby(\"TIME\")['TIME'].count().sort_values(ascending = False).head(10)"
      ],
      "execution_count": 38,
      "outputs": [
        {
          "output_type": "execute_result",
          "data": {
            "text/plain": [
              "TIME\n",
              "11am-11pm    6173\n",
              "others       3066\n",
              "7am-11pm     2199\n",
              "5pm-2am      1221\n",
              "5pm-11pm       31\n",
              "Name: TIME, dtype: int64"
            ]
          },
          "metadata": {
            "tags": []
          },
          "execution_count": 38
        }
      ]
    },
    {
      "cell_type": "code",
      "metadata": {
        "colab": {
          "base_uri": "https://localhost:8080/"
        },
        "id": "Inq0erP1iN8b",
        "outputId": "c84bb61c-88bc-4838-bbca-85400e68b1a8"
      },
      "source": [
        "df.info()"
      ],
      "execution_count": 39,
      "outputs": [
        {
          "output_type": "stream",
          "text": [
            "<class 'pandas.core.frame.DataFrame'>\n",
            "RangeIndex: 12690 entries, 0 to 12689\n",
            "Data columns (total 9 columns):\n",
            " #   Column         Non-Null Count  Dtype \n",
            "---  ------         --------------  ----- \n",
            " 0   TITLE          12690 non-null  object\n",
            " 1   RESTAURANT_ID  12690 non-null  int64 \n",
            " 2   CUISINES       12690 non-null  object\n",
            " 3   TIME           12690 non-null  object\n",
            " 4   CITY           12578 non-null  object\n",
            " 5   LOCALITY       12592 non-null  object\n",
            " 6   RATING         12688 non-null  object\n",
            " 7   VOTES          11486 non-null  object\n",
            " 8   COST           12690 non-null  int64 \n",
            "dtypes: int64(2), object(7)\n",
            "memory usage: 892.4+ KB\n"
          ],
          "name": "stdout"
        }
      ]
    },
    {
      "cell_type": "code",
      "metadata": {
        "colab": {
          "base_uri": "https://localhost:8080/"
        },
        "id": "Gh9xzXmYmRnw",
        "outputId": "72e021df-25b3-4ef6-8d2b-6e9ffff21425"
      },
      "source": [
        "df.groupby(\"CITY\")['CITY'].count().sort_values(ascending = False).head(30)"
      ],
      "execution_count": 40,
      "outputs": [
        {
          "output_type": "execute_result",
          "data": {
            "text/plain": [
              "CITY\n",
              "Chennai          2174\n",
              "Bangalore        2149\n",
              "Hyderabad        1819\n",
              "Mumbai           1722\n",
              "New Delhi        1321\n",
              "Kochi            1279\n",
              "Gurgaon           379\n",
              "Secunderabad      310\n",
              "Noida             211\n",
              "Navi Mumbai       165\n",
              "Ghaziabad         102\n",
              "Thane              97\n",
              "Faridabad          79\n",
              "Bandra West        69\n",
              "Thane West         52\n",
              "Andheri West       48\n",
              "Bengaluru          42\n",
              "Greater Noida      31\n",
              "India              23\n",
              "Kakkanad           15\n",
              "Ernakulam          14\n",
              "Dwarka             10\n",
              "Kerala             10\n",
              "Delhi NCR           9\n",
              "Delhi               8\n",
              "Edappally           7\n",
              "Hyderabad.          7\n",
              "Telangana           7\n",
              "Gurugram            7\n",
              "Bengalore           6\n",
              "Name: CITY, dtype: int64"
            ]
          },
          "metadata": {
            "tags": []
          },
          "execution_count": 40
        }
      ]
    },
    {
      "cell_type": "code",
      "metadata": {
        "id": "V5JgVbQGpbT8"
      },
      "source": [
        "def nanfill(row):\n",
        "  def isnan(string):\n",
        "    return string != string\n",
        "  if isnan(row[\"CITY\"]):\n",
        "    row['CITY'] = 'Other'\n",
        "  return row\n",
        "\n",
        "df = df.apply(nanfill, axis = 1)"
      ],
      "execution_count": 41,
      "outputs": []
    },
    {
      "cell_type": "code",
      "metadata": {
        "id": "tZDn-3OLmaQN"
      },
      "source": [
        "def mumbai(row):\n",
        "  x = re.findall(\"Mumbai|Andheri|Thane|Bandra|Maharashtra|Powai\", row['CITY'])\n",
        "  if len(x)>0:\n",
        "    row['CITY'] = \"Mumbai\"\n",
        "  return row\n",
        "\n",
        "df = df.apply(mumbai, axis = 1)"
      ],
      "execution_count": 42,
      "outputs": []
    },
    {
      "cell_type": "code",
      "metadata": {
        "id": "_Bqpwkfxo8pM"
      },
      "source": [
        "def bangalore(row):\n",
        "  x = re.findall(\"Banglore|Bengaluru|Bengalore|Bangalore\", row['CITY'])\n",
        "  if len(x)>0:\n",
        "    row['CITY'] = 'Bangalore'\n",
        "  return row\n",
        "\n",
        "df = df.apply(bangalore, axis = 1)"
      ],
      "execution_count": 43,
      "outputs": []
    },
    {
      "cell_type": "code",
      "metadata": {
        "id": "4G1rMlURpxP7"
      },
      "source": [
        "def hyd(row):\n",
        "  x = re.findall(\"Hyderabad|Secunderabad|Telangana\", row[\"CITY\"])\n",
        "  if len(x)>0:\n",
        "    row['CITY'] = 'Hyderabad'\n",
        "  return row\n",
        "\n",
        "df = df.apply(hyd, axis = 1)"
      ],
      "execution_count": 44,
      "outputs": []
    },
    {
      "cell_type": "code",
      "metadata": {
        "id": "CQzfLlhMtlYD"
      },
      "source": [
        "def delhi(row):\n",
        "  x = re.findall(\"Noida|Delhi|Gurugram|Gurgaon|Faridabad|Gaziabad|Ghaziabad\", row['CITY'])\n",
        "  if len(x)>0:\n",
        "    row['CITY'] = 'Delhi'\n",
        "  return row\n",
        "\n",
        "df = df.apply(delhi, axis = 1)"
      ],
      "execution_count": 45,
      "outputs": []
    },
    {
      "cell_type": "code",
      "metadata": {
        "id": "9xAZ5cGUuFGA"
      },
      "source": [
        "def kochi(row):\n",
        "  x = re.findall('Ernakulam|Kakkanad|Kerala', row['CITY'])\n",
        "  if len(x)>0:\n",
        "    row['CITY'] = 'Kochi'\n",
        "  return row\n",
        "\n",
        "df = df.apply(kochi, axis =1)"
      ],
      "execution_count": 46,
      "outputs": []
    },
    {
      "cell_type": "code",
      "metadata": {
        "id": "HHTIJW5sujez"
      },
      "source": [
        "def chennai(row):\n",
        "  x = re.findall(\"Chennai|Tamil Nadu\", row['CITY'])\n",
        "  if len(x)>0:\n",
        "    row['CITY'] = 'Chennai'\n",
        "  return row\n",
        "\n",
        "df = df.apply(chennai, axis = 1)"
      ],
      "execution_count": 47,
      "outputs": []
    },
    {
      "cell_type": "code",
      "metadata": {
        "id": "a5dOv1v2Ur1i"
      },
      "source": [
        "city = [\"Chennai\", \"Bangalore\", \"Mumbai\", \"Hyderabad\", \"Delhi\", \"Kochi\"]\n",
        "def other(row):\n",
        "  if row['CITY'] not in city:\n",
        "    row[\"CITY\"] = \"Other\"\n",
        "  return row\n",
        "\n",
        "df = df.apply(other, axis = 1)"
      ],
      "execution_count": 48,
      "outputs": []
    },
    {
      "cell_type": "code",
      "metadata": {
        "colab": {
          "base_uri": "https://localhost:8080/"
        },
        "id": "_IHI61IHV_kL",
        "outputId": "5953650b-7af2-4f25-a82e-5544a506b893"
      },
      "source": [
        "df.groupby(\"CITY\")['CITY'].count().sort_values(ascending = False).head(30)"
      ],
      "execution_count": 49,
      "outputs": [
        {
          "output_type": "execute_result",
          "data": {
            "text/plain": [
              "CITY\n",
              "Bangalore    2220\n",
              "Chennai      2204\n",
              "Mumbai       2187\n",
              "Delhi        2162\n",
              "Hyderabad    2159\n",
              "Kochi        1328\n",
              "Other         430\n",
              "Name: CITY, dtype: int64"
            ]
          },
          "metadata": {
            "tags": []
          },
          "execution_count": 49
        }
      ]
    },
    {
      "cell_type": "code",
      "metadata": {
        "colab": {
          "base_uri": "https://localhost:8080/"
        },
        "id": "iUaZwH1mWG1l",
        "outputId": "16de3235-4c49-4ad4-be37-68518f7556fb"
      },
      "source": [
        "df['LOCALITY'].head(10)"
      ],
      "execution_count": 50,
      "outputs": [
        {
          "output_type": "execute_result",
          "data": {
            "text/plain": [
              "0           Dombivali East\n",
              "1                Ramapuram\n",
              "2               Saligramam\n",
              "3              Bandra West\n",
              "4              Lower Parel\n",
              "5          Vile Parle West\n",
              "6    Koramangala 6th Block\n",
              "7                Sector 29\n",
              "8        Bannerghatta Road\n",
              "9             Dilsukhnagar\n",
              "Name: LOCALITY, dtype: object"
            ]
          },
          "metadata": {
            "tags": []
          },
          "execution_count": 50
        }
      ]
    },
    {
      "cell_type": "code",
      "metadata": {
        "id": "v7oYDETuWRRi"
      },
      "source": [
        "df.drop(\"LOCALITY\", axis = 1, inplace = True)"
      ],
      "execution_count": 51,
      "outputs": []
    },
    {
      "cell_type": "code",
      "metadata": {
        "colab": {
          "base_uri": "https://localhost:8080/"
        },
        "id": "wr-IW2koWgsn",
        "outputId": "fc87db82-a95b-42a9-e297-e058be7a9848"
      },
      "source": [
        "df.info()\n"
      ],
      "execution_count": 52,
      "outputs": [
        {
          "output_type": "stream",
          "text": [
            "<class 'pandas.core.frame.DataFrame'>\n",
            "RangeIndex: 12690 entries, 0 to 12689\n",
            "Data columns (total 8 columns):\n",
            " #   Column         Non-Null Count  Dtype \n",
            "---  ------         --------------  ----- \n",
            " 0   TITLE          12690 non-null  object\n",
            " 1   RESTAURANT_ID  12690 non-null  int64 \n",
            " 2   CUISINES       12690 non-null  object\n",
            " 3   TIME           12690 non-null  object\n",
            " 4   CITY           12690 non-null  object\n",
            " 5   RATING         12688 non-null  object\n",
            " 6   VOTES          11486 non-null  object\n",
            " 7   COST           12690 non-null  int64 \n",
            "dtypes: int64(2), object(6)\n",
            "memory usage: 793.2+ KB\n"
          ],
          "name": "stdout"
        }
      ]
    },
    {
      "cell_type": "code",
      "metadata": {
        "id": "jtpGDrKtWjvI"
      },
      "source": [
        "def nan(row):\n",
        "  if row['RATING'] == 'NEW' or row['RATING'] == '-':\n",
        "    row['RATING'] = np.nan\n",
        "  return row\n",
        "\n",
        "df = df.apply(nan, axis = 1)"
      ],
      "execution_count": 53,
      "outputs": []
    },
    {
      "cell_type": "code",
      "metadata": {
        "id": "FYUHUo1CXCRF",
        "colab": {
          "base_uri": "https://localhost:8080/",
          "height": 282
        },
        "outputId": "7cdafe0e-f603-4093-988b-a4dc57cac597"
      },
      "source": [
        "df['RATING'] = df['RATING'].astype(float)\n",
        "df['RATING'].plot(kind = 'kde')"
      ],
      "execution_count": 54,
      "outputs": [
        {
          "output_type": "execute_result",
          "data": {
            "text/plain": [
              "<matplotlib.axes._subplots.AxesSubplot at 0x7f496bf37860>"
            ]
          },
          "metadata": {
            "tags": []
          },
          "execution_count": 54
        },
        {
          "output_type": "display_data",
          "data": {
            "image/png": "[encoded data removed]",
            "text/plain": [
              "<Figure size 432x288 with 1 Axes>"
            ]
          },
          "metadata": {
            "tags": []
          }
        }
      ]
    },
    {
      "cell_type": "markdown",
      "metadata": {
        "id": "SDwfPaEI0CzU"
      },
      "source": [
        "So most of the ratings are between 3.5 and 4.5, we will impute the values between these range to the dataset"
      ]
    },
    {
      "cell_type": "code",
      "metadata": {
        "colab": {
          "base_uri": "https://localhost:8080/"
        },
        "id": "Zr4HfEs6zhOy",
        "outputId": "5f664f9a-f572-4852-ce77-40cd2e3e21d1"
      },
      "source": [
        "df.isnull().sum()"
      ],
      "execution_count": 55,
      "outputs": [
        {
          "output_type": "execute_result",
          "data": {
            "text/plain": [
              "TITLE               0\n",
              "RESTAURANT_ID       0\n",
              "CUISINES            0\n",
              "TIME                0\n",
              "CITY                0\n",
              "RATING           1204\n",
              "VOTES            1204\n",
              "COST                0\n",
              "dtype: int64"
            ]
          },
          "metadata": {
            "tags": []
          },
          "execution_count": 55
        }
      ]
    },
    {
      "cell_type": "code",
      "metadata": {
        "colab": {
          "base_uri": "https://localhost:8080/"
        },
        "id": "ezD2KSYxzv5Y",
        "outputId": "75efd76f-c1c4-41bd-c40d-f670a71cb23f"
      },
      "source": [
        "df['VOTES'].head(30)"
      ],
      "execution_count": 56,
      "outputs": [
        {
          "output_type": "execute_result",
          "data": {
            "text/plain": [
              "0       49 votes\n",
              "1       30 votes\n",
              "2      221 votes\n",
              "3       24 votes\n",
              "4      165 votes\n",
              "5      550 votes\n",
              "6      509 votes\n",
              "7     1612 votes\n",
              "8      101 votes\n",
              "9      219 votes\n",
              "10     244 votes\n",
              "11     274 votes\n",
              "12      15 votes\n",
              "13           NaN\n",
              "14     160 votes\n",
              "15    2499 votes\n",
              "16     319 votes\n",
              "17     121 votes\n",
              "18     535 votes\n",
              "19     350 votes\n",
              "20     400 votes\n",
              "21    1327 votes\n",
              "22    1191 votes\n",
              "23     533 votes\n",
              "24     493 votes\n",
              "25     372 votes\n",
              "26     105 votes\n",
              "27     178 votes\n",
              "28     150 votes\n",
              "29    2456 votes\n",
              "Name: VOTES, dtype: object"
            ]
          },
          "metadata": {
            "tags": []
          },
          "execution_count": 56
        }
      ]
    },
    {
      "cell_type": "code",
      "metadata": {
        "id": "VvdhKqlT0j7n"
      },
      "source": [
        "def votes(row):\n",
        "  def isnan(text):\n",
        "    return text != text\n",
        "  if isnan(row['VOTES']):\n",
        "    return row\n",
        "  row['VOTES'] = int(row['VOTES'].split()[0])\n",
        "  return row\n",
        "df = df.apply(votes, axis = 1)\n"
      ],
      "execution_count": 57,
      "outputs": []
    },
    {
      "cell_type": "code",
      "metadata": {
        "id": "3k8N-DDO1ycd"
      },
      "source": [
        ""
      ],
      "execution_count": 57,
      "outputs": []
    },
    {
      "cell_type": "code",
      "metadata": {
        "colab": {
          "base_uri": "https://localhost:8080/",
          "height": 514
        },
        "id": "Qr-YDgga13YP",
        "outputId": "1f0cc6b7-1aee-4371-e65a-ef768c4d5c74"
      },
      "source": [
        "plt.figure().set_size_inches(12,7)\n",
        "sns.distplot(df['VOTES'])"
      ],
      "execution_count": 58,
      "outputs": [
        {
          "output_type": "stream",
          "text": [
            "/usr/local/lib/python3.6/dist-packages/seaborn/distributions.py:2551: FutureWarning: `distplot` is a deprecated function and will be removed in a future version. Please adapt your code to use either `displot` (a figure-level function with similar flexibility) or `histplot` (an axes-level function for histograms).\n",
            "  warnings.warn(msg, FutureWarning)\n"
          ],
          "name": "stderr"
        },
        {
          "output_type": "execute_result",
          "data": {
            "text/plain": [
              "<matplotlib.axes._subplots.AxesSubplot at 0x7f496ba2a7f0>"
            ]
          },
          "metadata": {
            "tags": []
          },
          "execution_count": 58
        },
        {
          "output_type": "display_data",
          "data": {
            "image/png": "[encoded data removed]",
            "text/plain": [
              "<Figure size 864x504 with 1 Axes>"
            ]
          },
          "metadata": {
            "tags": []
          }
        }
      ]
    },
    {
      "cell_type": "markdown",
      "metadata": {
        "id": "E0dmRtNb3rus"
      },
      "source": [
        "There are lot of outliers in the VOTES section, which may affect model performance."
      ]
    },
    {
      "cell_type": "code",
      "metadata": {
        "colab": {
          "base_uri": "https://localhost:8080/"
        },
        "id": "vOm9msxv14db",
        "outputId": "012b7675-9c3d-4bae-b2c9-b0ba1e7a60ae"
      },
      "source": [
        "#MEAN AND MEDIAN VALUES FOR RATING & VOTES\n",
        "print(\"RATING mean = \",np.mean(df['RATING']))\n",
        "print(\"VOTES mean = \",np.mean(df['VOTES']))"
      ],
      "execution_count": 59,
      "outputs": [
        {
          "output_type": "stream",
          "text": [
            "RATING mean =  3.785451854431486\n",
            "VOTES mean =  415.66890127111265\n"
          ],
          "name": "stdout"
        }
      ]
    },
    {
      "cell_type": "code",
      "metadata": {
        "id": "TryGcRbL51a8"
      },
      "source": [
        "#IMPUTING MEAN VALUES TO THE COLUMNS"
      ],
      "execution_count": 60,
      "outputs": []
    },
    {
      "cell_type": "code",
      "metadata": {
        "id": "z8zEJxur7Rpw"
      },
      "source": [
        "df['VOTES'].fillna(415, inplace = True)\n",
        "df['RATING'].fillna(3.78, inplace = True)"
      ],
      "execution_count": 61,
      "outputs": []
    },
    {
      "cell_type": "markdown",
      "metadata": {
        "id": "g9tmh8e58GeM"
      },
      "source": [
        "# Exploratory data analysis"
      ]
    },
    {
      "cell_type": "markdown",
      "metadata": {
        "id": "F0-bcTjp8kqz"
      },
      "source": [
        "## Numeric data"
      ]
    },
    {
      "cell_type": "code",
      "metadata": {
        "colab": {
          "base_uri": "https://localhost:8080/",
          "height": 449
        },
        "id": "vIx7WDDM7gE8",
        "outputId": "4e0a0442-f0ef-4229-e017-3edca19660ed"
      },
      "source": [
        "plt.figure().set_size_inches(12,7)\n",
        "sns.heatmap(df[['RATING', 'VOTES', 'COST']].corr(), annot = True)"
      ],
      "execution_count": 62,
      "outputs": [
        {
          "output_type": "execute_result",
          "data": {
            "text/plain": [
              "<matplotlib.axes._subplots.AxesSubplot at 0x7f496c36df98>"
            ]
          },
          "metadata": {
            "tags": []
          },
          "execution_count": 62
        },
        {
          "output_type": "display_data",
          "data": {
            "image/png": "[encoded data removed]",
            "text/plain": [
              "<Figure size 864x504 with 2 Axes>"
            ]
          },
          "metadata": {
            "tags": []
          }
        }
      ]
    },
    {
      "cell_type": "markdown",
      "metadata": {
        "id": "FHPIqywf8q_b"
      },
      "source": [
        "The numeric variables have low correlation amongst them"
      ]
    },
    {
      "cell_type": "code",
      "metadata": {
        "colab": {
          "base_uri": "https://localhost:8080/",
          "height": 903
        },
        "id": "H3-sqCvx7rIS",
        "outputId": "9afaa1f3-5dc1-409b-f5b0-65cd19c95c41"
      },
      "source": [
        "plt.figure().set_size_inches(15,15)\n",
        "sns.pairplot(df[['RATING', 'VOTES', 'COST']], height = 4)"
      ],
      "execution_count": 63,
      "outputs": [
        {
          "output_type": "execute_result",
          "data": {
            "text/plain": [
              "<seaborn.axisgrid.PairGrid at 0x7f496b689320>"
            ]
          },
          "metadata": {
            "tags": []
          },
          "execution_count": 63
        },
        {
          "output_type": "display_data",
          "data": {
            "text/plain": [
              "<Figure size 1080x1080 with 0 Axes>"
            ]
          },
          "metadata": {
            "tags": []
          }
        },
        {
          "output_type": "display_data",
          "data": {
            "image/png": "[encoded data removed]",
            "text/plain": [
              "<Figure size 864x864 with 12 Axes>"
            ]
          },
          "metadata": {
            "tags": []
          }
        }
      ]
    },
    {
      "cell_type": "code",
      "metadata": {
        "colab": {
          "base_uri": "https://localhost:8080/",
          "height": 459
        },
        "id": "Mq5ijXeS826i",
        "outputId": "7de16a86-9c47-4130-ae41-b12bd992538e"
      },
      "source": [
        "plt.figure().set_size_inches(12,7)\n",
        "sns.boxplot(x=\"variable\", y=\"value\", data = pd.melt(df[['RATING', 'VOTES', 'COST']]))"
      ],
      "execution_count": 64,
      "outputs": [
        {
          "output_type": "execute_result",
          "data": {
            "text/plain": [
              "<matplotlib.axes._subplots.AxesSubplot at 0x7f496c56b6d8>"
            ]
          },
          "metadata": {
            "tags": []
          },
          "execution_count": 64
        },
        {
          "output_type": "display_data",
          "data": {
            "image/png": "[encoded data removed]",
            "text/plain": [
              "<Figure size 864x504 with 1 Axes>"
            ]
          },
          "metadata": {
            "tags": []
          }
        }
      ]
    },
    {
      "cell_type": "markdown",
      "metadata": {
        "id": "vE7S28pc_DkQ"
      },
      "source": [
        "Lot of outliers in all 3 features, we will first remove the outliers only in X_train, then test the model on X_test"
      ]
    },
    {
      "cell_type": "code",
      "metadata": {
        "colab": {
          "base_uri": "https://localhost:8080/",
          "height": 514
        },
        "id": "jme9lu0E-X9f",
        "outputId": "74111d62-762b-4db6-a5ca-97e53116d087"
      },
      "source": [
        "plt.figure().set_size_inches(12,7)\n",
        "sns.distplot(df['COST'])"
      ],
      "execution_count": 65,
      "outputs": [
        {
          "output_type": "stream",
          "text": [
            "/usr/local/lib/python3.6/dist-packages/seaborn/distributions.py:2551: FutureWarning: `distplot` is a deprecated function and will be removed in a future version. Please adapt your code to use either `displot` (a figure-level function with similar flexibility) or `histplot` (an axes-level function for histograms).\n",
            "  warnings.warn(msg, FutureWarning)\n"
          ],
          "name": "stderr"
        },
        {
          "output_type": "execute_result",
          "data": {
            "text/plain": [
              "<matplotlib.axes._subplots.AxesSubplot at 0x7f496b7f2be0>"
            ]
          },
          "metadata": {
            "tags": []
          },
          "execution_count": 65
        },
        {
          "output_type": "display_data",
          "data": {
            "image/png": "[encoded data removed]",
            "text/plain": [
              "<Figure size 864x504 with 1 Axes>"
            ]
          },
          "metadata": {
            "tags": []
          }
        }
      ]
    },
    {
      "cell_type": "code",
      "metadata": {
        "colab": {
          "base_uri": "https://localhost:8080/"
        },
        "id": "Kegb_q6UEblQ",
        "outputId": "7b15f952-2e03-4771-a0ad-ad19ea494cc7"
      },
      "source": [
        "print(\"Mean cost of restaurants =\", np.mean(df['COST']))\n",
        "print(\"Median cost = \", np.median(df['COST']))"
      ],
      "execution_count": 66,
      "outputs": [
        {
          "output_type": "stream",
          "text": [
            "Mean cost of restaurants = 655.2522458628841\n",
            "Median cost =  500.0\n"
          ],
          "name": "stdout"
        }
      ]
    },
    {
      "cell_type": "code",
      "metadata": {
        "colab": {
          "base_uri": "https://localhost:8080/"
        },
        "id": "pXBb2XNIF0b-",
        "outputId": "89ba2605-b9a5-4f95-dc88-d4a2883c2288"
      },
      "source": [
        "print(\"Max cost = \", np.max(df['COST']))\n",
        "print(\"Min cost = \", np.min(df['COST']))"
      ],
      "execution_count": 67,
      "outputs": [
        {
          "output_type": "stream",
          "text": [
            "Max cost =  14000\n",
            "Min cost =  20\n"
          ],
          "name": "stdout"
        }
      ]
    },
    {
      "cell_type": "markdown",
      "metadata": {
        "id": "GFgWEjkJCaPG"
      },
      "source": [
        "SO the majority of the restaurants cost between 0 and 1000, with mean = Rs. 655 and Median of Rs. 500.\n",
        "\n",
        "If you want to buy some food, you need Rs. 20, and max you can spend in a restaurant is Rs. 14,000  "
      ]
    },
    {
      "cell_type": "code",
      "metadata": {
        "colab": {
          "base_uri": "https://localhost:8080/",
          "height": 514
        },
        "id": "D-MmN7RECNs4",
        "outputId": "b097fe39-9c74-46ff-85bf-e2cde6731cba"
      },
      "source": [
        "plt.figure().set_size_inches(12,7)\n",
        "sns.distplot(df['VOTES'])"
      ],
      "execution_count": 68,
      "outputs": [
        {
          "output_type": "stream",
          "text": [
            "/usr/local/lib/python3.6/dist-packages/seaborn/distributions.py:2551: FutureWarning: `distplot` is a deprecated function and will be removed in a future version. Please adapt your code to use either `displot` (a figure-level function with similar flexibility) or `histplot` (an axes-level function for histograms).\n",
            "  warnings.warn(msg, FutureWarning)\n"
          ],
          "name": "stderr"
        },
        {
          "output_type": "execute_result",
          "data": {
            "text/plain": [
              "<matplotlib.axes._subplots.AxesSubplot at 0x7f4966f28ef0>"
            ]
          },
          "metadata": {
            "tags": []
          },
          "execution_count": 68
        },
        {
          "output_type": "display_data",
          "data": {
            "image/png": "[encoded data removed]",
            "text/plain": [
              "<Figure size 864x504 with 1 Axes>"
            ]
          },
          "metadata": {
            "tags": []
          }
        }
      ]
    },
    {
      "cell_type": "code",
      "metadata": {
        "colab": {
          "base_uri": "https://localhost:8080/"
        },
        "id": "c9ppxYPJFn81",
        "outputId": "0abdd8c0-57ca-425e-9a5c-66d6619d8489"
      },
      "source": [
        "print(\"Mean votes =\", np.mean(df['VOTES']))\n",
        "print(\"Median = \", np.median(df['VOTES']))"
      ],
      "execution_count": 69,
      "outputs": [
        {
          "output_type": "stream",
          "text": [
            "Mean votes = 415.6054373522459\n",
            "Median =  200.0\n"
          ],
          "name": "stdout"
        }
      ]
    },
    {
      "cell_type": "code",
      "metadata": {
        "colab": {
          "base_uri": "https://localhost:8080/"
        },
        "id": "OvkJQb5aIXDv",
        "outputId": "e22ffb3a-8969-4177-b9d5-80336edd4a03"
      },
      "source": [
        "print(\"Max Votes = \", np.max(df['VOTES']))\n",
        "print(\"Min Votes = \", np.min(df['VOTES']))"
      ],
      "execution_count": 70,
      "outputs": [
        {
          "output_type": "stream",
          "text": [
            "Max Votes =  41186.0\n",
            "Min Votes =  4.0\n"
          ],
          "name": "stdout"
        }
      ]
    },
    {
      "cell_type": "code",
      "metadata": {
        "colab": {
          "base_uri": "https://localhost:8080/",
          "height": 514
        },
        "id": "sGNv0vknFwTx",
        "outputId": "b1251930-cd54-4b17-cb39-d6aa20cffed3"
      },
      "source": [
        "plt.figure().set_size_inches(12,7)\n",
        "sns.distplot(df['RATING'])"
      ],
      "execution_count": 71,
      "outputs": [
        {
          "output_type": "stream",
          "text": [
            "/usr/local/lib/python3.6/dist-packages/seaborn/distributions.py:2551: FutureWarning: `distplot` is a deprecated function and will be removed in a future version. Please adapt your code to use either `displot` (a figure-level function with similar flexibility) or `histplot` (an axes-level function for histograms).\n",
            "  warnings.warn(msg, FutureWarning)\n"
          ],
          "name": "stderr"
        },
        {
          "output_type": "execute_result",
          "data": {
            "text/plain": [
              "<matplotlib.axes._subplots.AxesSubplot at 0x7f4965441278>"
            ]
          },
          "metadata": {
            "tags": []
          },
          "execution_count": 71
        },
        {
          "output_type": "display_data",
          "data": {
            "image/png": "[encoded data removed]",
            "text/plain": [
              "<Figure size 864x504 with 1 Axes>"
            ]
          },
          "metadata": {
            "tags": []
          }
        }
      ]
    },
    {
      "cell_type": "code",
      "metadata": {
        "colab": {
          "base_uri": "https://localhost:8080/"
        },
        "id": "DIu7Vk2IHUWp",
        "outputId": "e08eb834-cf1f-428a-daa3-a5004bbc3d91"
      },
      "source": [
        "print(\"Mean rating =\", np.mean(df['RATING']))\n",
        "print(\"Median = \", np.median(df['RATING']))"
      ],
      "execution_count": 72,
      "outputs": [
        {
          "output_type": "stream",
          "text": [
            "Mean rating = 3.7849345941685817\n",
            "Median =  3.8\n"
          ],
          "name": "stdout"
        }
      ]
    },
    {
      "cell_type": "code",
      "metadata": {
        "colab": {
          "base_uri": "https://localhost:8080/"
        },
        "id": "eVXooAc9HYi7",
        "outputId": "4ac8a62f-20d3-44b0-cf8f-d1fe3a6ac55e"
      },
      "source": [
        "print(\"Max rating = \", np.max(df['RATING']))\n",
        "print(\"Min rating = \", np.min(df['RATING']))"
      ],
      "execution_count": 73,
      "outputs": [
        {
          "output_type": "stream",
          "text": [
            "Max rating =  4.9\n",
            "Min rating =  2.0\n"
          ],
          "name": "stdout"
        }
      ]
    },
    {
      "cell_type": "markdown",
      "metadata": {
        "id": "3IlbMhJkIkBg"
      },
      "source": [
        "## Categorical"
      ]
    },
    {
      "cell_type": "code",
      "metadata": {
        "colab": {
          "base_uri": "https://localhost:8080/"
        },
        "id": "KGxDBreJHmKX",
        "outputId": "22422803-f9cd-42e2-e46b-21c041320a24"
      },
      "source": [
        "df.info()"
      ],
      "execution_count": 74,
      "outputs": [
        {
          "output_type": "stream",
          "text": [
            "<class 'pandas.core.frame.DataFrame'>\n",
            "RangeIndex: 12690 entries, 0 to 12689\n",
            "Data columns (total 8 columns):\n",
            " #   Column         Non-Null Count  Dtype  \n",
            "---  ------         --------------  -----  \n",
            " 0   TITLE          12690 non-null  object \n",
            " 1   RESTAURANT_ID  12690 non-null  int64  \n",
            " 2   CUISINES       12690 non-null  object \n",
            " 3   TIME           12690 non-null  object \n",
            " 4   CITY           12690 non-null  object \n",
            " 5   RATING         12690 non-null  float64\n",
            " 6   VOTES          12690 non-null  float64\n",
            " 7   COST           12690 non-null  int64  \n",
            "dtypes: float64(2), int64(2), object(4)\n",
            "memory usage: 793.2+ KB\n"
          ],
          "name": "stdout"
        }
      ]
    },
    {
      "cell_type": "code",
      "metadata": {
        "id": "JnIWcpsVIo83"
      },
      "source": [
        "df.drop(\"RESTAURANT_ID\", axis=1, inplace=True)"
      ],
      "execution_count": 75,
      "outputs": []
    },
    {
      "cell_type": "markdown",
      "metadata": {
        "id": "564oBFVvJBm_"
      },
      "source": [
        "### Title"
      ]
    },
    {
      "cell_type": "code",
      "metadata": {
        "colab": {
          "base_uri": "https://localhost:8080/",
          "height": 459
        },
        "id": "IaguvAJUI9zz",
        "outputId": "7f87d890-0b45-4e09-bcc3-51c0f96c498a"
      },
      "source": [
        "plt.figure().set_size_inches(12,7)\n",
        "sns.countplot(x = 'TITLE', data = df)"
      ],
      "execution_count": 76,
      "outputs": [
        {
          "output_type": "execute_result",
          "data": {
            "text/plain": [
              "<matplotlib.axes._subplots.AxesSubplot at 0x7f4965335f98>"
            ]
          },
          "metadata": {
            "tags": []
          },
          "execution_count": 76
        },
        {
          "output_type": "display_data",
          "data": {
            "image/png": "[encoded data removed]",
            "text/plain": [
              "<Figure size 864x504 with 1 Axes>"
            ]
          },
          "metadata": {
            "tags": []
          }
        }
      ]
    },
    {
      "cell_type": "code",
      "metadata": {
        "colab": {
          "base_uri": "https://localhost:8080/",
          "height": 459
        },
        "id": "MttipiqEJMpn",
        "outputId": "89473940-9200-4264-8925-a22c8dd65e87"
      },
      "source": [
        "plt.figure().set_size_inches(12,7)\n",
        "sns.barplot(x = 'TITLE', y = 'COST', data = df)"
      ],
      "execution_count": 77,
      "outputs": [
        {
          "output_type": "execute_result",
          "data": {
            "text/plain": [
              "<matplotlib.axes._subplots.AxesSubplot at 0x7f49654a23c8>"
            ]
          },
          "metadata": {
            "tags": []
          },
          "execution_count": 77
        },
        {
          "output_type": "display_data",
          "data": {
            "image/png": "[encoded data removed]",
            "text/plain": [
              "<Figure size 864x504 with 1 Axes>"
            ]
          },
          "metadata": {
            "tags": []
          }
        }
      ]
    },
    {
      "cell_type": "markdown",
      "metadata": {
        "id": "b6Ly2yuqL-_N"
      },
      "source": [
        "Bar has higher cost than other places as the alcoholic drinks cost more than normal beverages, and Casual dining also costs more as people tend to take full-course meals.\n",
        "\n",
        "Quick Bites (Fast Food) and Dessert Parlor are Cheaper."
      ]
    },
    {
      "cell_type": "code",
      "metadata": {
        "colab": {
          "base_uri": "https://localhost:8080/",
          "height": 459
        },
        "id": "ZN8RReLQJUsq",
        "outputId": "894ce587-02f0-41f5-de4d-730b086328ca"
      },
      "source": [
        "plt.figure().set_size_inches(12,7)\n",
        "sns.barplot(x = 'TITLE', y = 'VOTES', data = df)"
      ],
      "execution_count": 78,
      "outputs": [
        {
          "output_type": "execute_result",
          "data": {
            "text/plain": [
              "<matplotlib.axes._subplots.AxesSubplot at 0x7f4965291630>"
            ]
          },
          "metadata": {
            "tags": []
          },
          "execution_count": 78
        },
        {
          "output_type": "display_data",
          "data": {
            "image/png": "[encoded data removed]",
            "text/plain": [
              "<Figure size 864x504 with 1 Axes>"
            ]
          },
          "metadata": {
            "tags": []
          }
        }
      ]
    },
    {
      "cell_type": "markdown",
      "metadata": {
        "id": "LqLpeyeENETu"
      },
      "source": [
        "More people review (Vote on) Bars than any other place. Cafes and Casual diner are also reviewed by a fair amount of people"
      ]
    },
    {
      "cell_type": "markdown",
      "metadata": {
        "id": "bFwPQG1MNcAa"
      },
      "source": [
        "### Cuisines"
      ]
    },
    {
      "cell_type": "code",
      "metadata": {
        "colab": {
          "base_uri": "https://localhost:8080/",
          "height": 460
        },
        "id": "1Z8kq3BfM-o-",
        "outputId": "2987337f-88b1-4e40-969a-9dc7f70bf21e"
      },
      "source": [
        "plt.figure().set_size_inches(15,7)\n",
        "sns.countplot(x = 'CUISINES', data = df)"
      ],
      "execution_count": 79,
      "outputs": [
        {
          "output_type": "execute_result",
          "data": {
            "text/plain": [
              "<matplotlib.axes._subplots.AxesSubplot at 0x7f496520c518>"
            ]
          },
          "metadata": {
            "tags": []
          },
          "execution_count": 79
        },
        {
          "output_type": "display_data",
          "data": {
            "image/png": "[encoded data removed]",
            "text/plain": [
              "<Figure size 1080x504 with 1 Axes>"
            ]
          },
          "metadata": {
            "tags": []
          }
        }
      ]
    },
    {
      "cell_type": "code",
      "metadata": {
        "colab": {
          "base_uri": "https://localhost:8080/",
          "height": 460
        },
        "id": "cojIIsBpNmza",
        "outputId": "5f965dac-fb0e-4475-e0bc-20e609f78688"
      },
      "source": [
        "plt.figure().set_size_inches(15,7)\n",
        "sns.barplot(x = 'CUISINES', y = 'COST', data = df)"
      ],
      "execution_count": 80,
      "outputs": [
        {
          "output_type": "execute_result",
          "data": {
            "text/plain": [
              "<matplotlib.axes._subplots.AxesSubplot at 0x7f49652030b8>"
            ]
          },
          "metadata": {
            "tags": []
          },
          "execution_count": 80
        },
        {
          "output_type": "display_data",
          "data": {
            "image/png": "[encoded data removed]",
            "text/plain": [
              "<Figure size 1080x504 with 1 Axes>"
            ]
          },
          "metadata": {
            "tags": []
          }
        }
      ]
    },
    {
      "cell_type": "markdown",
      "metadata": {
        "id": "BW0PeDlROSzI"
      },
      "source": [
        "Continental Cuisines (European) and Oriental, which are Foreign cuisines, cost more than Indian Cuisines.\n",
        "\n",
        "Surprisingly, South Indian Food costs lower than Fast Food"
      ]
    },
    {
      "cell_type": "code",
      "metadata": {
        "colab": {
          "base_uri": "https://localhost:8080/",
          "height": 460
        },
        "id": "atdwsZ48OL_J",
        "outputId": "01cf2557-9185-48fc-d32b-40c56f125651"
      },
      "source": [
        "plt.figure().set_size_inches(12,7)\n",
        "sns.barplot(x = 'CUISINES', y = 'VOTES', data = df)"
      ],
      "execution_count": 81,
      "outputs": [
        {
          "output_type": "execute_result",
          "data": {
            "text/plain": [
              "<matplotlib.axes._subplots.AxesSubplot at 0x7f496539add8>"
            ]
          },
          "metadata": {
            "tags": []
          },
          "execution_count": 81
        },
        {
          "output_type": "display_data",
          "data": {
            "image/png": "[encoded data removed]",
            "text/plain": [
              "<Figure size 864x504 with 1 Axes>"
            ]
          },
          "metadata": {
            "tags": []
          }
        }
      ]
    },
    {
      "cell_type": "code",
      "metadata": {
        "colab": {
          "base_uri": "https://localhost:8080/",
          "height": 460
        },
        "id": "WRC9RnerO0YW",
        "outputId": "9388647a-cfff-467e-adff-4381472f16bb"
      },
      "source": [
        "plt.figure().set_size_inches(12,7)\n",
        "sns.barplot(x = 'CUISINES', y = 'RATING', data = df)"
      ],
      "execution_count": 82,
      "outputs": [
        {
          "output_type": "execute_result",
          "data": {
            "text/plain": [
              "<matplotlib.axes._subplots.AxesSubplot at 0x7f49650d6898>"
            ]
          },
          "metadata": {
            "tags": []
          },
          "execution_count": 82
        },
        {
          "output_type": "display_data",
          "data": {
            "image/png": "[encoded data removed]",
            "text/plain": [
              "<Figure size 864x504 with 1 Axes>"
            ]
          },
          "metadata": {
            "tags": []
          }
        }
      ]
    },
    {
      "cell_type": "markdown",
      "metadata": {
        "id": "hs0EdPnOPDIe"
      },
      "source": [
        "There is no preference of Indians in terms of Cuisines, as all the Cuisines are rated equally"
      ]
    },
    {
      "cell_type": "markdown",
      "metadata": {
        "id": "6mPvZi8vPSfN"
      },
      "source": [
        "### City"
      ]
    },
    {
      "cell_type": "code",
      "metadata": {
        "colab": {
          "base_uri": "https://localhost:8080/",
          "height": 459
        },
        "id": "3TpPXAa0PAdS",
        "outputId": "f9944b4b-30c0-4502-ee37-6bfd9ef523bc"
      },
      "source": [
        "plt.figure().set_size_inches(15,7)\n",
        "sns.countplot(x = 'CITY', data = df)"
      ],
      "execution_count": 83,
      "outputs": [
        {
          "output_type": "execute_result",
          "data": {
            "text/plain": [
              "<matplotlib.axes._subplots.AxesSubplot at 0x7f496504a7f0>"
            ]
          },
          "metadata": {
            "tags": []
          },
          "execution_count": 83
        },
        {
          "output_type": "display_data",
          "data": {
            "image/png": "[encoded data removed]",
            "text/plain": [
              "<Figure size 1080x504 with 1 Axes>"
            ]
          },
          "metadata": {
            "tags": []
          }
        }
      ]
    },
    {
      "cell_type": "code",
      "metadata": {
        "colab": {
          "base_uri": "https://localhost:8080/",
          "height": 459
        },
        "id": "EUW20lPTcAyZ",
        "outputId": "5aca9092-397d-4956-a4e5-455c27c5eebf"
      },
      "source": [
        "plt.figure().set_size_inches(12,7)\n",
        "sns.barplot(x = 'CITY', y = 'COST', data = df)"
      ],
      "execution_count": 84,
      "outputs": [
        {
          "output_type": "execute_result",
          "data": {
            "text/plain": [
              "<matplotlib.axes._subplots.AxesSubplot at 0x7f496501e240>"
            ]
          },
          "metadata": {
            "tags": []
          },
          "execution_count": 84
        },
        {
          "output_type": "display_data",
          "data": {
            "image/png": "[encoded data removed]",
            "text/plain": [
              "<Figure size 864x504 with 1 Axes>"
            ]
          },
          "metadata": {
            "tags": []
          }
        }
      ]
    },
    {
      "cell_type": "markdown",
      "metadata": {
        "id": "Q4Uqmt-tcL6F"
      },
      "source": [
        "In Mumbai the food is costly, Delhi is second. In Kochi the food is cheaper."
      ]
    },
    {
      "cell_type": "code",
      "metadata": {
        "id": "L4mG6KyMPldk"
      },
      "source": [
        "mumbai = df[df[\"CITY\"] == 'Mumbai']"
      ],
      "execution_count": 85,
      "outputs": []
    },
    {
      "cell_type": "code",
      "metadata": {
        "colab": {
          "base_uri": "https://localhost:8080/",
          "height": 460
        },
        "id": "z_8GeL8YX3lP",
        "outputId": "3be62f3a-97ed-4f51-87ce-cc06704cb48a"
      },
      "source": [
        "plt.figure().set_size_inches(15,7)\n",
        "sns.countplot(x = 'CUISINES', data = mumbai)"
      ],
      "execution_count": 86,
      "outputs": [
        {
          "output_type": "execute_result",
          "data": {
            "text/plain": [
              "<matplotlib.axes._subplots.AxesSubplot at 0x7f4964f4e7b8>"
            ]
          },
          "metadata": {
            "tags": []
          },
          "execution_count": 86
        },
        {
          "output_type": "display_data",
          "data": {
            "image/png": "[encoded data removed]",
            "text/plain": [
              "<Figure size 1080x504 with 1 Axes>"
            ]
          },
          "metadata": {
            "tags": []
          }
        }
      ]
    },
    {
      "cell_type": "markdown",
      "metadata": {
        "id": "j6cEYzPkaH6m"
      },
      "source": [
        "Most of the restaurants provide Multiple cuisines, and Fast Food seems to be high in number.\n",
        "\n",
        "Very few restaurants have Middle eastern and continental, as well as exclusively South Indian\n",
        "\n"
      ]
    },
    {
      "cell_type": "code",
      "metadata": {
        "id": "6kRX1AhDaBhE"
      },
      "source": [
        "chennai = df[df[\"CITY\"] == 'Chennai']"
      ],
      "execution_count": 88,
      "outputs": []
    },
    {
      "cell_type": "code",
      "metadata": {
        "colab": {
          "base_uri": "https://localhost:8080/",
          "height": 462
        },
        "id": "ICHX5dL0bWZZ",
        "outputId": "015d3b57-cd79-4d9d-cb00-2bfe6fd28f3a"
      },
      "source": [
        "plt.figure().set_size_inches(15,7)\n",
        "sns.countplot(x = 'CUISINES', data = chennai)"
      ],
      "execution_count": 89,
      "outputs": [
        {
          "output_type": "execute_result",
          "data": {
            "text/plain": [
              "<matplotlib.axes._subplots.AxesSubplot at 0x7f496530d908>"
            ]
          },
          "metadata": {
            "tags": []
          },
          "execution_count": 89
        },
        {
          "output_type": "display_data",
          "data": {
            "image/png": "[encoded data removed]",
            "text/plain": [
              "<Figure size 1080x504 with 1 Axes>"
            ]
          },
          "metadata": {
            "tags": []
          }
        }
      ]
    },
    {
      "cell_type": "markdown",
      "metadata": {
        "id": "-ohMMfaWbdnd"
      },
      "source": [
        "Multiple Cuisines are again high in number, surprisingly, north Indian food restaurants are higher in number than South Indian restaurants"
      ]
    },
    {
      "cell_type": "code",
      "metadata": {
        "id": "VaQQLy6bbZ9Q"
      },
      "source": [
        "blore = df[df[\"CITY\"] == 'Bangalore']"
      ],
      "execution_count": 90,
      "outputs": []
    },
    {
      "cell_type": "code",
      "metadata": {
        "colab": {
          "base_uri": "https://localhost:8080/",
          "height": 460
        },
        "id": "5Zwi5FcpchHp",
        "outputId": "6bd677ec-9119-427e-d196-7bfec02989ba"
      },
      "source": [
        "plt.figure().set_size_inches(15,7)\n",
        "sns.countplot(x = 'CUISINES', data = blore)"
      ],
      "execution_count": 91,
      "outputs": [
        {
          "output_type": "execute_result",
          "data": {
            "text/plain": [
              "<matplotlib.axes._subplots.AxesSubplot at 0x7f496c1ad2b0>"
            ]
          },
          "metadata": {
            "tags": []
          },
          "execution_count": 91
        },
        {
          "output_type": "display_data",
          "data": {
            "image/png": "[encoded data removed]",
            "text/plain": [
              "<Figure size 1080x504 with 1 Axes>"
            ]
          },
          "metadata": {
            "tags": []
          }
        }
      ]
    },
    {
      "cell_type": "markdown",
      "metadata": {
        "id": "Lf2t9fyNcnKp"
      },
      "source": [
        "Multiple Cuisines, Fast Food and North Indian food are high in number."
      ]
    },
    {
      "cell_type": "code",
      "metadata": {
        "id": "EBGkm9gqcjn4"
      },
      "source": [
        "delhi = df[df[\"CITY\"] == 'Delhi']"
      ],
      "execution_count": 92,
      "outputs": []
    },
    {
      "cell_type": "code",
      "metadata": {
        "colab": {
          "base_uri": "https://localhost:8080/",
          "height": 460
        },
        "id": "8XXtaLoUc658",
        "outputId": "0c296e89-0b66-47b8-e135-6bd8725e45d2"
      },
      "source": [
        "plt.figure().set_size_inches(15,7)\n",
        "sns.countplot(x = 'CUISINES', data = delhi)"
      ],
      "execution_count": 93,
      "outputs": [
        {
          "output_type": "execute_result",
          "data": {
            "text/plain": [
              "<matplotlib.axes._subplots.AxesSubplot at 0x7f4964d43128>"
            ]
          },
          "metadata": {
            "tags": []
          },
          "execution_count": 93
        },
        {
          "output_type": "display_data",
          "data": {
            "image/png": "[encoded data removed]",
            "text/plain": [
              "<Figure size 1080x504 with 1 Axes>"
            ]
          },
          "metadata": {
            "tags": []
          }
        }
      ]
    },
    {
      "cell_type": "markdown",
      "metadata": {
        "id": "8quoQdeQdDJ5"
      },
      "source": [
        "Multiple cuisines and North Indian food, as well as Fast Food restaurants are high in number"
      ]
    },
    {
      "cell_type": "code",
      "metadata": {
        "id": "M20jPUA8c-WJ"
      },
      "source": [
        "hyd = df[df[\"CITY\"] == 'Hyderabad']"
      ],
      "execution_count": 94,
      "outputs": []
    },
    {
      "cell_type": "code",
      "metadata": {
        "colab": {
          "base_uri": "https://localhost:8080/",
          "height": 460
        },
        "id": "cw-r3fVLeVes",
        "outputId": "2b530009-6496-498b-958a-b183e943b691"
      },
      "source": [
        "plt.figure().set_size_inches(15,7)\n",
        "sns.countplot(x = 'CUISINES', data = hyd)"
      ],
      "execution_count": 95,
      "outputs": [
        {
          "output_type": "execute_result",
          "data": {
            "text/plain": [
              "<matplotlib.axes._subplots.AxesSubplot at 0x7f4964d43550>"
            ]
          },
          "metadata": {
            "tags": []
          },
          "execution_count": 95
        },
        {
          "output_type": "display_data",
          "data": {
            "image/png": "[encoded data removed]",
            "text/plain": [
              "<Figure size 1080x504 with 1 Axes>"
            ]
          },
          "metadata": {
            "tags": []
          }
        }
      ]
    },
    {
      "cell_type": "markdown",
      "metadata": {
        "id": "RPh62adbeeUf"
      },
      "source": [
        "So Multiple cuisine restaurants are high in number."
      ]
    },
    {
      "cell_type": "code",
      "metadata": {
        "id": "2MfH22vSeYXR"
      },
      "source": [
        "kochi = df[df[\"CITY\"] == 'Kochi']"
      ],
      "execution_count": 96,
      "outputs": []
    },
    {
      "cell_type": "code",
      "metadata": {
        "colab": {
          "base_uri": "https://localhost:8080/",
          "height": 460
        },
        "id": "EGhKpzLAedam",
        "outputId": "4a5332df-65df-4e0a-f8df-c7bc7a9242a9"
      },
      "source": [
        "plt.figure().set_size_inches(15,7)\n",
        "sns.countplot(x = 'CUISINES', data = kochi)"
      ],
      "execution_count": 97,
      "outputs": [
        {
          "output_type": "execute_result",
          "data": {
            "text/plain": [
              "<matplotlib.axes._subplots.AxesSubplot at 0x7f4964d3c0f0>"
            ]
          },
          "metadata": {
            "tags": []
          },
          "execution_count": 97
        },
        {
          "output_type": "display_data",
          "data": {
            "image/png": "[encoded data removed]",
            "text/plain": [
              "<Figure size 1080x504 with 1 Axes>"
            ]
          },
          "metadata": {
            "tags": []
          }
        }
      ]
    },
    {
      "cell_type": "markdown",
      "metadata": {
        "id": "JBF14C0ge5AD"
      },
      "source": [
        "As expected, South Indian restaurants are high in number in Kochi, while people also prefer Fast Food and Bakery"
      ]
    },
    {
      "cell_type": "markdown",
      "metadata": {
        "id": "q2j6NwQtf-Fv"
      },
      "source": [
        "# Data Preprocessing"
      ]
    },
    {
      "cell_type": "markdown",
      "metadata": {
        "id": "bA0Rtl1kggZg"
      },
      "source": [
        "### Categorical Variable"
      ]
    },
    {
      "cell_type": "code",
      "metadata": {
        "id": "rBIMg2PEe174"
      },
      "source": [
        "#One hot encoding:\n",
        "def encode(column):\n",
        "  global df\n",
        "  print(df.shape)\n",
        "  col = pd.get_dummies(df[column], drop_first = True)\n",
        "  df = pd.concat([df, col], axis =1)\n",
        "  df.drop(column, axis = 1, inplace= True)\n",
        "  print(df.shape)\n",
        "  "
      ],
      "execution_count": 98,
      "outputs": []
    },
    {
      "cell_type": "code",
      "metadata": {
        "colab": {
          "base_uri": "https://localhost:8080/"
        },
        "id": "9H2f4erYhJx6",
        "outputId": "7f06c66e-7417-441a-8f62-c8f12cef14d0"
      },
      "source": [
        "df.info()"
      ],
      "execution_count": 99,
      "outputs": [
        {
          "output_type": "stream",
          "text": [
            "<class 'pandas.core.frame.DataFrame'>\n",
            "RangeIndex: 12690 entries, 0 to 12689\n",
            "Data columns (total 7 columns):\n",
            " #   Column    Non-Null Count  Dtype  \n",
            "---  ------    --------------  -----  \n",
            " 0   TITLE     12690 non-null  object \n",
            " 1   CUISINES  12690 non-null  object \n",
            " 2   TIME      12690 non-null  object \n",
            " 3   CITY      12690 non-null  object \n",
            " 4   RATING    12690 non-null  float64\n",
            " 5   VOTES     12690 non-null  float64\n",
            " 6   COST      12690 non-null  int64  \n",
            "dtypes: float64(2), int64(1), object(4)\n",
            "memory usage: 694.1+ KB\n"
          ],
          "name": "stdout"
        }
      ]
    },
    {
      "cell_type": "code",
      "metadata": {
        "colab": {
          "base_uri": "https://localhost:8080/"
        },
        "id": "lLMVCOL0hMs0",
        "outputId": "fe775ad6-d2dc-4563-ca9f-ad0933c40fc4"
      },
      "source": [
        "encode(\"TITLE\")"
      ],
      "execution_count": 100,
      "outputs": [
        {
          "output_type": "stream",
          "text": [
            "(12690, 7)\n",
            "(12690, 11)\n"
          ],
          "name": "stdout"
        }
      ]
    },
    {
      "cell_type": "code",
      "metadata": {
        "colab": {
          "base_uri": "https://localhost:8080/"
        },
        "id": "uscmSpdOhQV_",
        "outputId": "56f632e6-75b8-470c-a31e-587d73312502"
      },
      "source": [
        "encode(\"CUISINES\")"
      ],
      "execution_count": 101,
      "outputs": [
        {
          "output_type": "stream",
          "text": [
            "(12690, 11)\n",
            "(12690, 18)\n"
          ],
          "name": "stdout"
        }
      ]
    },
    {
      "cell_type": "code",
      "metadata": {
        "colab": {
          "base_uri": "https://localhost:8080/"
        },
        "id": "Ybw71yoWhVXx",
        "outputId": "b1ac4c53-86de-45fc-cff5-0c17d937da46"
      },
      "source": [
        "encode(\"TIME\")"
      ],
      "execution_count": 102,
      "outputs": [
        {
          "output_type": "stream",
          "text": [
            "(12690, 18)\n",
            "(12690, 21)\n"
          ],
          "name": "stdout"
        }
      ]
    },
    {
      "cell_type": "code",
      "metadata": {
        "colab": {
          "base_uri": "https://localhost:8080/"
        },
        "id": "PXl5CKyOhYeW",
        "outputId": "e523f58b-df88-4726-f223-650969b856ab"
      },
      "source": [
        "encode(\"CITY\")"
      ],
      "execution_count": 103,
      "outputs": [
        {
          "output_type": "stream",
          "text": [
            "(12690, 21)\n",
            "(12690, 26)\n"
          ],
          "name": "stdout"
        }
      ]
    },
    {
      "cell_type": "markdown",
      "metadata": {
        "id": "U2WAXf4fhhPz"
      },
      "source": [
        "### Numeric variable"
      ]
    },
    {
      "cell_type": "code",
      "metadata": {
        "id": "4TcsMFiohcwA"
      },
      "source": [
        "#Normalization"
      ],
      "execution_count": 104,
      "outputs": []
    },
    {
      "cell_type": "code",
      "metadata": {
        "colab": {
          "base_uri": "https://localhost:8080/",
          "height": 317
        },
        "id": "A21j5qvwhsTN",
        "outputId": "b4a3a56b-b1c5-4909-dfa1-9082b295dd79"
      },
      "source": [
        "df[['RATING', 'VOTES']].plot(kind = 'kde', subplots = True, sharex = False)"
      ],
      "execution_count": 105,
      "outputs": [
        {
          "output_type": "execute_result",
          "data": {
            "text/plain": [
              "array([<matplotlib.axes._subplots.AxesSubplot object at 0x7f4965437ef0>,\n",
              "       <matplotlib.axes._subplots.AxesSubplot object at 0x7f496531a828>],\n",
              "      dtype=object)"
            ]
          },
          "metadata": {
            "tags": []
          },
          "execution_count": 105
        },
        {
          "output_type": "display_data",
          "data": {
            "image/png": "[encoded data removed]",
            "text/plain": [
              "<Figure size 432x288 with 2 Axes>"
            ]
          },
          "metadata": {
            "tags": []
          }
        }
      ]
    },
    {
      "cell_type": "code",
      "metadata": {
        "id": "Ubtv-WXhh0_t"
      },
      "source": [
        ""
      ],
      "execution_count": 105,
      "outputs": []
    },
    {
      "cell_type": "code",
      "metadata": {
        "id": "iqmnFtLyiND7"
      },
      "source": [
        "df['VOTES'] = np.log(df['VOTES'])\n"
      ],
      "execution_count": 106,
      "outputs": []
    },
    {
      "cell_type": "code",
      "metadata": {
        "colab": {
          "base_uri": "https://localhost:8080/",
          "height": 317
        },
        "id": "rU5y31oIiUb4",
        "outputId": "6f08e2bf-07e9-4c12-eee5-0332d3824118"
      },
      "source": [
        "df[['RATING', 'VOTES']].plot(kind = 'kde', subplots = True, sharex = False)"
      ],
      "execution_count": 107,
      "outputs": [
        {
          "output_type": "execute_result",
          "data": {
            "text/plain": [
              "array([<matplotlib.axes._subplots.AxesSubplot object at 0x7f49654aa9e8>,\n",
              "       <matplotlib.axes._subplots.AxesSubplot object at 0x7f4964add0b8>],\n",
              "      dtype=object)"
            ]
          },
          "metadata": {
            "tags": []
          },
          "execution_count": 107
        },
        {
          "output_type": "display_data",
          "data": {
            "image/png": "[encoded data removed]",
            "text/plain": [
              "<Figure size 432x288 with 2 Axes>"
            ]
          },
          "metadata": {
            "tags": []
          }
        }
      ]
    },
    {
      "cell_type": "code",
      "metadata": {
        "id": "nglYnQTxiivz"
      },
      "source": [
        "X = df.drop(\"COST\", axis = 1)\n",
        "y = df['COST']"
      ],
      "execution_count": 108,
      "outputs": []
    },
    {
      "cell_type": "code",
      "metadata": {
        "id": "-KwlFUiJinCI"
      },
      "source": [
        "from sklearn.model_selection import train_test_split\n",
        "X_train,X_test,y_train,y_test = train_test_split(X,y, random_state = 0)"
      ],
      "execution_count": 109,
      "outputs": []
    },
    {
      "cell_type": "code",
      "metadata": {
        "id": "i78JHYuUxbUj"
      },
      "source": [
        "from sklearn.preprocessing import StandardScaler\n",
        "scaler = StandardScaler().fit(X_train)"
      ],
      "execution_count": 110,
      "outputs": []
    },
    {
      "cell_type": "code",
      "metadata": {
        "id": "8d7JI9Pdxmg-"
      },
      "source": [
        "X_train_sc = scaler.transform(X_train)\n",
        "X_test_sc = scaler.transform(X_test)"
      ],
      "execution_count": 111,
      "outputs": []
    },
    {
      "cell_type": "code",
      "metadata": {
        "colab": {
          "base_uri": "https://localhost:8080/"
        },
        "id": "GN2Nf26Gxt23",
        "outputId": "adecb746-6b8f-43b7-9873-77005cff8d99"
      },
      "source": [
        "from sklearn.metrics import r2_score\n",
        "from sklearn.linear_model import LinearRegression\n",
        "linreg = LinearRegression().fit(X_train_sc, y_train)\n",
        "y_pred = linreg.predict(X_test_sc)\n",
        "r2_score(y_test, y_pred)"
      ],
      "execution_count": 112,
      "outputs": [
        {
          "output_type": "execute_result",
          "data": {
            "text/plain": [
              "0.43973673200942354"
            ]
          },
          "metadata": {
            "tags": []
          },
          "execution_count": 112
        }
      ]
    },
    {
      "cell_type": "code",
      "metadata": {
        "colab": {
          "base_uri": "https://localhost:8080/"
        },
        "id": "yYBbYcnmx_uI",
        "outputId": "d76bce38-cd30-47bf-844e-671c54284970"
      },
      "source": [
        "from sklearn.neighbors import KNeighborsRegressor\n",
        "knr = KNeighborsRegressor(n_neighbors = 9).fit(X_train_sc,y_train)\n",
        "y_pred = knr.predict(X_test_sc)\n",
        "r2_score(y_test, y_pred)"
      ],
      "execution_count": 113,
      "outputs": [
        {
          "output_type": "execute_result",
          "data": {
            "text/plain": [
              "0.4115260777139831"
            ]
          },
          "metadata": {
            "tags": []
          },
          "execution_count": 113
        }
      ]
    },
    {
      "cell_type": "code",
      "metadata": {
        "colab": {
          "base_uri": "https://localhost:8080/"
        },
        "id": "9JtMDWPjyFNh",
        "outputId": "785f5474-7cae-42db-f5f5-0536ee6e1da3"
      },
      "source": [
        "from sklearn.linear_model import Ridge\n",
        "ridge = Ridge().fit(X_train_sc,y_train)\n",
        "y_pred = ridge.predict(X_test_sc)\n",
        "r2_score(y_test, y_pred)"
      ],
      "execution_count": 114,
      "outputs": [
        {
          "output_type": "execute_result",
          "data": {
            "text/plain": [
              "0.4397349288706207"
            ]
          },
          "metadata": {
            "tags": []
          },
          "execution_count": 114
        }
      ]
    },
    {
      "cell_type": "code",
      "metadata": {
        "colab": {
          "base_uri": "https://localhost:8080/"
        },
        "id": "3X57oRlmyVFo",
        "outputId": "9277b92e-ae20-46a0-ac0c-a81ef89cad2f"
      },
      "source": [
        "from sklearn.linear_model import Lasso\n",
        "lasso = Lasso().fit(X_train_sc,y_train)\n",
        "y_pred = lasso.predict(X_test_sc)\n",
        "r2_score(y_test, y_pred)"
      ],
      "execution_count": 115,
      "outputs": [
        {
          "output_type": "execute_result",
          "data": {
            "text/plain": [
              "0.4395101184235928"
            ]
          },
          "metadata": {
            "tags": []
          },
          "execution_count": 115
        }
      ]
    },
    {
      "cell_type": "code",
      "metadata": {
        "colab": {
          "base_uri": "https://localhost:8080/"
        },
        "id": "qiynB-mYyYam",
        "outputId": "0c0a2bdb-06c1-4b3a-e09b-0c371e7b5c18"
      },
      "source": [
        "from sklearn.tree import DecisionTreeRegressor\n",
        "dtr = DecisionTreeRegressor().fit(X_train_sc, y_train)\n",
        "y_pred = dtr.predict(X_test_sc)\n",
        "r2_score(y_test, y_pred)"
      ],
      "execution_count": 116,
      "outputs": [
        {
          "output_type": "execute_result",
          "data": {
            "text/plain": [
              "-0.13729290432224772"
            ]
          },
          "metadata": {
            "tags": []
          },
          "execution_count": 116
        }
      ]
    },
    {
      "cell_type": "code",
      "metadata": {
        "colab": {
          "base_uri": "https://localhost:8080/"
        },
        "id": "i1eHGBCUyqbm",
        "outputId": "2e5b1d67-a815-4dc3-fa21-ead8258ee09d"
      },
      "source": [
        "max_score = 0\n",
        "for i in range(1, 50, 2):\n",
        "    knr = KNeighborsRegressor(n_neighbors = i).fit(X_train_sc,y_train)\n",
        "    y_pred = knr.predict(X_test_sc)\n",
        "    r2 = r2_score(y_test, y_pred)\n",
        "    print(\"R2 = {} for n = {}\".format(r2, i))\n",
        "    if r2>max_score:\n",
        "        max_score = r2\n",
        "        neighbors = i\n",
        "print(\"Max r2 score = {} for k = {}\".format(max_score, neighbors))"
      ],
      "execution_count": 117,
      "outputs": [
        {
          "output_type": "stream",
          "text": [
            "R2 = -0.02557147668105708 for n = 1\n",
            "R2 = 0.31764038104180736 for n = 3\n",
            "R2 = 0.3821770773006068 for n = 5\n",
            "R2 = 0.3965361098080663 for n = 7\n",
            "R2 = 0.4115260777139831 for n = 9\n",
            "R2 = 0.42471219921463477 for n = 11\n",
            "R2 = 0.42588569044671265 for n = 13\n",
            "R2 = 0.42769093835179794 for n = 15\n",
            "R2 = 0.43425113781265856 for n = 17\n",
            "R2 = 0.4282003524953504 for n = 19\n",
            "R2 = 0.4255323945352425 for n = 21\n",
            "R2 = 0.420564500080684 for n = 23\n",
            "R2 = 0.42092513342529436 for n = 25\n",
            "R2 = 0.4187679811192315 for n = 27\n",
            "R2 = 0.41480590085060165 for n = 29\n",
            "R2 = 0.4118521057667963 for n = 31\n",
            "R2 = 0.41248355304315887 for n = 33\n",
            "R2 = 0.4136795178197653 for n = 35\n",
            "R2 = 0.4136344453901891 for n = 37\n",
            "R2 = 0.4119628123871498 for n = 39\n",
            "R2 = 0.4084775583816326 for n = 41\n",
            "R2 = 0.40608892152657106 for n = 43\n",
            "R2 = 0.40612729011244997 for n = 45\n",
            "R2 = 0.40577998809340854 for n = 47\n",
            "R2 = 0.4043320900086115 for n = 49\n",
            "Max r2 score = 0.43425113781265856 for k = 17\n"
          ],
          "name": "stdout"
        }
      ]
    },
    {
      "cell_type": "code",
      "metadata": {
        "id": "7rKRUngwzOpp"
      },
      "source": [
        "from sklearn.model_selection import cross_val_score\n",
        "scores = cross_val_score(LinearRegression(), X_train_sc, y_train, scoring='r2', cv=10)"
      ],
      "execution_count": 118,
      "outputs": []
    },
    {
      "cell_type": "code",
      "metadata": {
        "colab": {
          "base_uri": "https://localhost:8080/"
        },
        "id": "Kt_RXYc_0rSD",
        "outputId": "75db9688-e648-4a00-c9f2-62f241169110"
      },
      "source": [
        "print(\"Mean value for Linear Regression is \",scores.mean())"
      ],
      "execution_count": 119,
      "outputs": [
        {
          "output_type": "stream",
          "text": [
            "Mean value for Linear Regression is  0.4099694284714497\n"
          ],
          "name": "stdout"
        }
      ]
    },
    {
      "cell_type": "code",
      "metadata": {
        "id": "NVYirKcT0tp8"
      },
      "source": [
        "scores = cross_val_score(Ridge(), X_train_sc, y_train, scoring='r2', cv=5)"
      ],
      "execution_count": 120,
      "outputs": []
    },
    {
      "cell_type": "code",
      "metadata": {
        "colab": {
          "base_uri": "https://localhost:8080/"
        },
        "id": "92Yogim11NCO",
        "outputId": "97a20636-280c-4717-e0a1-feb6d63a0842"
      },
      "source": [
        "print(\"Mean value for Ridge Regression is \",scores.mean())"
      ],
      "execution_count": 121,
      "outputs": [
        {
          "output_type": "stream",
          "text": [
            "Mean value for Ridge Regression is  0.4038008892306276\n"
          ],
          "name": "stdout"
        }
      ]
    },
    {
      "cell_type": "code",
      "metadata": {
        "id": "MYMlbYlJ1Qsy"
      },
      "source": [
        "scores = cross_val_score(Lasso(), X_train_sc, y_train, scoring='r2', cv=5)"
      ],
      "execution_count": 122,
      "outputs": []
    },
    {
      "cell_type": "code",
      "metadata": {
        "colab": {
          "base_uri": "https://localhost:8080/"
        },
        "id": "essx5eAK1Ulf",
        "outputId": "b317bbdb-1002-4dec-e02c-278bce8148a6"
      },
      "source": [
        "print(\"Mean value for Lasso Regression is \",scores.mean())"
      ],
      "execution_count": 123,
      "outputs": [
        {
          "output_type": "stream",
          "text": [
            "Mean value for Lasso Regression is  0.40358424841077056\n"
          ],
          "name": "stdout"
        }
      ]
    },
    {
      "cell_type": "code",
      "metadata": {
        "id": "XOemHQoPTwrz"
      },
      "source": [
        "scores = cross_val_score(KNeighborsRegressor(n_neighbors = 17), X_train_sc, y_train, scoring='r2', cv=5)"
      ],
      "execution_count": 124,
      "outputs": []
    },
    {
      "cell_type": "code",
      "metadata": {
        "colab": {
          "base_uri": "https://localhost:8080/"
        },
        "id": "C4qDeUIPT-IF",
        "outputId": "f237646e-6eaf-4706-ed7e-8475e50b6dc1"
      },
      "source": [
        "print(\"Mean value for k neighbors Regression is \",scores.mean())"
      ],
      "execution_count": 125,
      "outputs": [
        {
          "output_type": "stream",
          "text": [
            "Mean value for k neighbors Regression is  0.40252959740286753\n"
          ],
          "name": "stdout"
        }
      ]
    },
    {
      "cell_type": "markdown",
      "metadata": {
        "id": "SFr_j9cl1pgg"
      },
      "source": [
        "Thus, Linear Regression is giving the best results for the given dataset. We will apply One-Hot-encode on categorical data and Normalize the Numerical data.\n",
        "\n",
        "Then we will apply Standard Scaler to the data, then use Linear regression to predict the estimate price of the restaurant"
      ]
    },
    {
      "cell_type": "code",
      "metadata": {
        "id": "S2BZXMEC1XTf",
        "colab": {
          "base_uri": "https://localhost:8080/"
        },
        "outputId": "9e38370a-48f9-4939-f383-b63110b9c29e"
      },
      "source": [
        "from sklearn.pipeline import Pipeline\n",
        "from sklearn.externals import joblib"
      ],
      "execution_count": 126,
      "outputs": [
        {
          "output_type": "stream",
          "text": [
            "/usr/local/lib/python3.6/dist-packages/sklearn/externals/joblib/__init__.py:15: FutureWarning: sklearn.externals.joblib is deprecated in 0.21 and will be removed in 0.23. Please import this functionality directly from joblib, which can be installed with: pip install joblib. If this warning is raised when loading pickled models, you may need to re-serialize those models with scikit-learn 0.21+.\n",
            "  warnings.warn(msg, category=FutureWarning)\n"
          ],
          "name": "stderr"
        }
      ]
    },
    {
      "cell_type": "code",
      "metadata": {
        "colab": {
          "base_uri": "https://localhost:8080/"
        },
        "id": "OSI4w4jjUR-o",
        "outputId": "58839300-2b8e-4c90-c698-384c3c131da9"
      },
      "source": [
        "pipeline = Pipeline([\n",
        "                     ('Standard Scaler', StandardScaler()),\n",
        "                     ('Linear Regressor', LinearRegression())\n",
        "])\n",
        "pipeline.fit(X_train, y_train)"
      ],
      "execution_count": 128,
      "outputs": [
        {
          "output_type": "execute_result",
          "data": {
            "text/plain": [
              "Pipeline(memory=None,\n",
              "         steps=[('Standard Scaler',\n",
              "                 StandardScaler(copy=True, with_mean=True, with_std=True)),\n",
              "                ('Linear Regressor',\n",
              "                 LinearRegression(copy_X=True, fit_intercept=True, n_jobs=None,\n",
              "                                  normalize=False))],\n",
              "         verbose=False)"
            ]
          },
          "metadata": {
            "tags": []
          },
          "execution_count": 128
        }
      ]
    },
    {
      "cell_type": "code",
      "metadata": {
        "colab": {
          "base_uri": "https://localhost:8080/"
        },
        "id": "Bm8IU3HZUgtw",
        "outputId": "3370e9a8-647d-490b-e903-b32f2f654936"
      },
      "source": [
        "\n",
        "joblib.dump(pipeline, 'Model.joblib')"
      ],
      "execution_count": 129,
      "outputs": [
        {
          "output_type": "execute_result",
          "data": {
            "text/plain": [
              "['Model.joblib']"
            ]
          },
          "metadata": {
            "tags": []
          },
          "execution_count": 129
        }
      ]
    },
    {
      "cell_type": "code",
      "metadata": {
        "id": "3Pg1gDksUr6G"
      },
      "source": [
        ""
      ],
      "execution_count": null,
      "outputs": []
    }
  ]
}