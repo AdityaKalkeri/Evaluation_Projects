{
  "nbformat": 4,
  "nbformat_minor": 0,
  "metadata": {
    "kernelspec": {
      "display_name": "Python 3",
      "language": "python",
      "name": "python3"
    },
    "language_info": {
      "codemirror_mode": {
        "name": "ipython",
        "version": 3
      },
      "file_extension": ".py",
      "mimetype": "text/x-python",
      "name": "python",
      "nbconvert_exporter": "python",
      "pygments_lexer": "ipython3",
      "version": "3.8.3"
    },
    "colab": {
      "name": "Project9.ipynb",
      "provenance": [],
      "collapsed_sections": [
        "tCMQMJDgQLtK",
        "bhS0GUfPQLtN"
      ],
      "include_colab_link": true
    }
  },
  "cells": [
    {
      "cell_type": "markdown",
      "metadata": {
        "id": "view-in-github",
        "colab_type": "text"
      },
      "source": [
        "<a href=\"https://colab.research.google.com/github/AdityaKalkeri/Evaluation_Projects/blob/main/Project9.ipynb\" target=\"_parent\"><img src=\"https://colab.research.google.com/assets/colab-badge.svg\" alt=\"Open In Colab\"/></a>"
      ]
    },
    {
      "cell_type": "code",
      "metadata": {
        "id": "zPqzA3k3QLs8"
      },
      "source": [
        "%matplotlib inline"
      ],
      "execution_count": 1,
      "outputs": []
    },
    {
      "cell_type": "code",
      "metadata": {
        "id": "z39U0j3TQLs-"
      },
      "source": [
        "import numpy as np\n",
        "import pandas as pd\n",
        "import matplotlib.pyplot as plt\n",
        "import seaborn as sns"
      ],
      "execution_count": 2,
      "outputs": []
    },
    {
      "cell_type": "code",
      "metadata": {
        "colab": {
          "resources": {
            "http://localhost:8080/nbextensions/google.colab/files.js": {
              "data": "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",
              "ok": true,
              "headers": [
                [
                  "content-type",
                  "application/javascript"
                ]
              ],
              "status": 200,
              "status_text": "OK"
            }
          },
          "base_uri": "https://localhost:8080/",
          "height": 79
        },
        "id": "XIbRCmXRQLs-",
        "outputId": "fab16f24-94e9-4737-eb7f-d121e29f9c74"
      },
      "source": [
        "from google.colab import files\n",
        "uploaded = files.upload()"
      ],
      "execution_count": 3,
      "outputs": [
        {
          "output_type": "display_data",
          "data": {
            "text/html": [
              "\n",
              "     <input type=\"file\" id=\"files-a06324e3-675c-4b7b-a6fb-8359b2311933\" name=\"files[]\" multiple disabled\n",
              "        style=\"border:none\" />\n",
              "     <output id=\"result-a06324e3-675c-4b7b-a6fb-8359b2311933\">\n",
              "      Upload widget is only available when the cell has been executed in the\n",
              "      current browser session. Please rerun this cell to enable.\n",
              "      </output>\n",
              "      <script src=\"/nbextensions/google.colab/files.js\"></script> "
            ],
            "text/plain": [
              "<IPython.core.display.HTML object>"
            ]
          },
          "metadata": {
            "tags": []
          }
        },
        {
          "output_type": "stream",
          "text": [
            "Saving upload.csv to upload.csv\n"
          ],
          "name": "stdout"
        }
      ]
    },
    {
      "cell_type": "code",
      "metadata": {
        "colab": {
          "base_uri": "https://localhost:8080/",
          "height": 330
        },
        "id": "DiXEbbMBRNZg",
        "outputId": "492e0cfa-eca7-41df-9590-d8ee12aba8a2"
      },
      "source": [
        "import io \n",
        "  \n",
        "df = pd.read_csv(io.BytesIO(uploaded['upload.csv'])) \n",
        "df.head()"
      ],
      "execution_count": 4,
      "outputs": [
        {
          "output_type": "execute_result",
          "data": {
            "text/html": [
              "<div>\n",
              "<style scoped>\n",
              "    .dataframe tbody tr th:only-of-type {\n",
              "        vertical-align: middle;\n",
              "    }\n",
              "\n",
              "    .dataframe tbody tr th {\n",
              "        vertical-align: top;\n",
              "    }\n",
              "\n",
              "    .dataframe thead th {\n",
              "        text-align: right;\n",
              "    }\n",
              "</style>\n",
              "<table border=\"1\" class=\"dataframe\">\n",
              "  <thead>\n",
              "    <tr style=\"text-align: right;\">\n",
              "      <th></th>\n",
              "      <th>Unnamed: 0</th>\n",
              "      <th>Province_State</th>\n",
              "      <th>Country_Region</th>\n",
              "      <th>Last_Update</th>\n",
              "      <th>Lat</th>\n",
              "      <th>Long_</th>\n",
              "      <th>Confirmed</th>\n",
              "      <th>Deaths</th>\n",
              "      <th>Recovered</th>\n",
              "      <th>Active</th>\n",
              "      <th>FIPS</th>\n",
              "      <th>Incident_Rate</th>\n",
              "      <th>People_Tested</th>\n",
              "      <th>People_Hospitalized</th>\n",
              "      <th>Mortality_Rate</th>\n",
              "      <th>UID</th>\n",
              "      <th>ISO3</th>\n",
              "      <th>Testing_Rate</th>\n",
              "      <th>Hospitalization_Rate</th>\n",
              "    </tr>\n",
              "  </thead>\n",
              "  <tbody>\n",
              "    <tr>\n",
              "      <th>0</th>\n",
              "      <td>0</td>\n",
              "      <td>Alabama</td>\n",
              "      <td>US</td>\n",
              "      <td>2020-05-29 02:32:58</td>\n",
              "      <td>32.3182</td>\n",
              "      <td>-86.9023</td>\n",
              "      <td>16530</td>\n",
              "      <td>591</td>\n",
              "      <td>9355.0</td>\n",
              "      <td>6584.0</td>\n",
              "      <td>1.0</td>\n",
              "      <td>337.127806</td>\n",
              "      <td>200481.0</td>\n",
              "      <td>1765.0</td>\n",
              "      <td>3.575318</td>\n",
              "      <td>84000001.0</td>\n",
              "      <td>USA</td>\n",
              "      <td>4088.791265</td>\n",
              "      <td>10.677556</td>\n",
              "    </tr>\n",
              "    <tr>\n",
              "      <th>1</th>\n",
              "      <td>1</td>\n",
              "      <td>Alaska</td>\n",
              "      <td>US</td>\n",
              "      <td>2020-05-29 02:32:58</td>\n",
              "      <td>61.3707</td>\n",
              "      <td>-152.4044</td>\n",
              "      <td>424</td>\n",
              "      <td>10</td>\n",
              "      <td>366.0</td>\n",
              "      <td>48.0</td>\n",
              "      <td>2.0</td>\n",
              "      <td>57.959524</td>\n",
              "      <td>47970.0</td>\n",
              "      <td>NaN</td>\n",
              "      <td>2.358491</td>\n",
              "      <td>84000002.0</td>\n",
              "      <td>USA</td>\n",
              "      <td>6557.354640</td>\n",
              "      <td>NaN</td>\n",
              "    </tr>\n",
              "    <tr>\n",
              "      <th>2</th>\n",
              "      <td>2</td>\n",
              "      <td>American Samoa</td>\n",
              "      <td>US</td>\n",
              "      <td>2020-05-29 02:32:58</td>\n",
              "      <td>-14.2710</td>\n",
              "      <td>-170.1320</td>\n",
              "      <td>0</td>\n",
              "      <td>0</td>\n",
              "      <td>NaN</td>\n",
              "      <td>0.0</td>\n",
              "      <td>60.0</td>\n",
              "      <td>0.000000</td>\n",
              "      <td>174.0</td>\n",
              "      <td>NaN</td>\n",
              "      <td>NaN</td>\n",
              "      <td>16.0</td>\n",
              "      <td>ASM</td>\n",
              "      <td>312.719038</td>\n",
              "      <td>NaN</td>\n",
              "    </tr>\n",
              "    <tr>\n",
              "      <th>3</th>\n",
              "      <td>3</td>\n",
              "      <td>Arizona</td>\n",
              "      <td>US</td>\n",
              "      <td>2020-05-29 02:32:58</td>\n",
              "      <td>33.7298</td>\n",
              "      <td>-111.4312</td>\n",
              "      <td>17877</td>\n",
              "      <td>860</td>\n",
              "      <td>4452.0</td>\n",
              "      <td>12565.0</td>\n",
              "      <td>4.0</td>\n",
              "      <td>245.606472</td>\n",
              "      <td>202914.0</td>\n",
              "      <td>2848.0</td>\n",
              "      <td>4.810651</td>\n",
              "      <td>84000004.0</td>\n",
              "      <td>USA</td>\n",
              "      <td>2787.771526</td>\n",
              "      <td>15.931085</td>\n",
              "    </tr>\n",
              "    <tr>\n",
              "      <th>4</th>\n",
              "      <td>4</td>\n",
              "      <td>Arkansas</td>\n",
              "      <td>US</td>\n",
              "      <td>2020-05-29 02:32:58</td>\n",
              "      <td>34.9697</td>\n",
              "      <td>-92.3731</td>\n",
              "      <td>6538</td>\n",
              "      <td>125</td>\n",
              "      <td>4583.0</td>\n",
              "      <td>1830.0</td>\n",
              "      <td>5.0</td>\n",
              "      <td>216.647602</td>\n",
              "      <td>118902.0</td>\n",
              "      <td>640.0</td>\n",
              "      <td>1.911900</td>\n",
              "      <td>84000005.0</td>\n",
              "      <td>USA</td>\n",
              "      <td>3940.017311</td>\n",
              "      <td>9.788926</td>\n",
              "    </tr>\n",
              "  </tbody>\n",
              "</table>\n",
              "</div>"
            ],
            "text/plain": [
              "   Unnamed: 0  Province_State  ... Testing_Rate Hospitalization_Rate\n",
              "0           0         Alabama  ...  4088.791265            10.677556\n",
              "1           1          Alaska  ...  6557.354640                  NaN\n",
              "2           2  American Samoa  ...   312.719038                  NaN\n",
              "3           3         Arizona  ...  2787.771526            15.931085\n",
              "4           4        Arkansas  ...  3940.017311             9.788926\n",
              "\n",
              "[5 rows x 19 columns]"
            ]
          },
          "metadata": {
            "tags": []
          },
          "execution_count": 4
        }
      ]
    },
    {
      "cell_type": "code",
      "metadata": {
        "colab": {
          "base_uri": "https://localhost:8080/"
        },
        "id": "XIHvRJP-QLs-",
        "outputId": "f36fd076-0bb9-459b-a642-73156d7705de"
      },
      "source": [
        "df.shape"
      ],
      "execution_count": 5,
      "outputs": [
        {
          "output_type": "execute_result",
          "data": {
            "text/plain": [
              "(6514, 19)"
            ]
          },
          "metadata": {
            "tags": []
          },
          "execution_count": 5
        }
      ]
    },
    {
      "cell_type": "code",
      "metadata": {
        "id": "hMh_y2e0Rey3"
      },
      "source": [
        "df.drop(\"Unnamed: 0\", axis = 1, inplace = True)"
      ],
      "execution_count": 6,
      "outputs": []
    },
    {
      "cell_type": "code",
      "metadata": {
        "colab": {
          "base_uri": "https://localhost:8080/",
          "height": 313
        },
        "id": "zA8zBVCeQLtB",
        "outputId": "486eb2fd-122d-4325-a6e9-8b00dfd70ed5"
      },
      "source": [
        "df.tail()"
      ],
      "execution_count": 7,
      "outputs": [
        {
          "output_type": "execute_result",
          "data": {
            "text/html": [
              "<div>\n",
              "<style scoped>\n",
              "    .dataframe tbody tr th:only-of-type {\n",
              "        vertical-align: middle;\n",
              "    }\n",
              "\n",
              "    .dataframe tbody tr th {\n",
              "        vertical-align: top;\n",
              "    }\n",
              "\n",
              "    .dataframe thead th {\n",
              "        text-align: right;\n",
              "    }\n",
              "</style>\n",
              "<table border=\"1\" class=\"dataframe\">\n",
              "  <thead>\n",
              "    <tr style=\"text-align: right;\">\n",
              "      <th></th>\n",
              "      <th>Province_State</th>\n",
              "      <th>Country_Region</th>\n",
              "      <th>Last_Update</th>\n",
              "      <th>Lat</th>\n",
              "      <th>Long_</th>\n",
              "      <th>Confirmed</th>\n",
              "      <th>Deaths</th>\n",
              "      <th>Recovered</th>\n",
              "      <th>Active</th>\n",
              "      <th>FIPS</th>\n",
              "      <th>Incident_Rate</th>\n",
              "      <th>People_Tested</th>\n",
              "      <th>People_Hospitalized</th>\n",
              "      <th>Mortality_Rate</th>\n",
              "      <th>UID</th>\n",
              "      <th>ISO3</th>\n",
              "      <th>Testing_Rate</th>\n",
              "      <th>Hospitalization_Rate</th>\n",
              "    </tr>\n",
              "  </thead>\n",
              "  <tbody>\n",
              "    <tr>\n",
              "      <th>6509</th>\n",
              "      <td>Virginia</td>\n",
              "      <td>US</td>\n",
              "      <td>2020-07-04 04:34:04</td>\n",
              "      <td>37.7693</td>\n",
              "      <td>-78.1700</td>\n",
              "      <td>64393</td>\n",
              "      <td>1845</td>\n",
              "      <td>8711.0</td>\n",
              "      <td>53837.0</td>\n",
              "      <td>51.0</td>\n",
              "      <td>754.412239</td>\n",
              "      <td>688360.0</td>\n",
              "      <td>9529.0</td>\n",
              "      <td>2.865218</td>\n",
              "      <td>84000051.0</td>\n",
              "      <td>USA</td>\n",
              "      <td>8064.653128</td>\n",
              "      <td>14.798192</td>\n",
              "    </tr>\n",
              "    <tr>\n",
              "      <th>6510</th>\n",
              "      <td>Washington</td>\n",
              "      <td>US</td>\n",
              "      <td>2020-07-04 04:34:04</td>\n",
              "      <td>47.4009</td>\n",
              "      <td>-121.4905</td>\n",
              "      <td>34778</td>\n",
              "      <td>1352</td>\n",
              "      <td>NaN</td>\n",
              "      <td>33426.0</td>\n",
              "      <td>53.0</td>\n",
              "      <td>456.710291</td>\n",
              "      <td>584989.0</td>\n",
              "      <td>4442.0</td>\n",
              "      <td>3.887515</td>\n",
              "      <td>84000053.0</td>\n",
              "      <td>USA</td>\n",
              "      <td>7682.169664</td>\n",
              "      <td>12.772442</td>\n",
              "    </tr>\n",
              "    <tr>\n",
              "      <th>6511</th>\n",
              "      <td>West Virginia</td>\n",
              "      <td>US</td>\n",
              "      <td>2020-07-04 04:34:04</td>\n",
              "      <td>38.4912</td>\n",
              "      <td>-80.9545</td>\n",
              "      <td>3126</td>\n",
              "      <td>93</td>\n",
              "      <td>2396.0</td>\n",
              "      <td>637.0</td>\n",
              "      <td>54.0</td>\n",
              "      <td>174.427656</td>\n",
              "      <td>180702.0</td>\n",
              "      <td>NaN</td>\n",
              "      <td>2.975048</td>\n",
              "      <td>84000054.0</td>\n",
              "      <td>USA</td>\n",
              "      <td>10082.989844</td>\n",
              "      <td>NaN</td>\n",
              "    </tr>\n",
              "    <tr>\n",
              "      <th>6512</th>\n",
              "      <td>Wisconsin</td>\n",
              "      <td>US</td>\n",
              "      <td>2020-07-04 04:34:04</td>\n",
              "      <td>44.2685</td>\n",
              "      <td>-89.6165</td>\n",
              "      <td>30317</td>\n",
              "      <td>796</td>\n",
              "      <td>24043.0</td>\n",
              "      <td>5478.0</td>\n",
              "      <td>55.0</td>\n",
              "      <td>520.692892</td>\n",
              "      <td>606984.0</td>\n",
              "      <td>3555.0</td>\n",
              "      <td>2.625590</td>\n",
              "      <td>84000055.0</td>\n",
              "      <td>USA</td>\n",
              "      <td>10424.918513</td>\n",
              "      <td>11.726094</td>\n",
              "    </tr>\n",
              "    <tr>\n",
              "      <th>6513</th>\n",
              "      <td>Wyoming</td>\n",
              "      <td>US</td>\n",
              "      <td>2020-07-04 04:34:04</td>\n",
              "      <td>42.7560</td>\n",
              "      <td>-107.3025</td>\n",
              "      <td>1582</td>\n",
              "      <td>20</td>\n",
              "      <td>1154.0</td>\n",
              "      <td>408.0</td>\n",
              "      <td>56.0</td>\n",
              "      <td>273.343481</td>\n",
              "      <td>35275.0</td>\n",
              "      <td>119.0</td>\n",
              "      <td>1.264223</td>\n",
              "      <td>84000056.0</td>\n",
              "      <td>USA</td>\n",
              "      <td>6094.937617</td>\n",
              "      <td>7.522124</td>\n",
              "    </tr>\n",
              "  </tbody>\n",
              "</table>\n",
              "</div>"
            ],
            "text/plain": [
              "     Province_State Country_Region  ...  Testing_Rate  Hospitalization_Rate\n",
              "6509       Virginia             US  ...   8064.653128             14.798192\n",
              "6510     Washington             US  ...   7682.169664             12.772442\n",
              "6511  West Virginia             US  ...  10082.989844                   NaN\n",
              "6512      Wisconsin             US  ...  10424.918513             11.726094\n",
              "6513        Wyoming             US  ...   6094.937617              7.522124\n",
              "\n",
              "[5 rows x 18 columns]"
            ]
          },
          "metadata": {
            "tags": []
          },
          "execution_count": 7
        }
      ]
    },
    {
      "cell_type": "code",
      "metadata": {
        "colab": {
          "base_uri": "https://localhost:8080/"
        },
        "id": "SaulkfQdQLtD",
        "outputId": "fb7dd459-0d3c-44a8-dad2-2ab0c0817f5f"
      },
      "source": [
        "df.info()"
      ],
      "execution_count": 8,
      "outputs": [
        {
          "output_type": "stream",
          "text": [
            "<class 'pandas.core.frame.DataFrame'>\n",
            "RangeIndex: 6514 entries, 0 to 6513\n",
            "Data columns (total 18 columns):\n",
            " #   Column                Non-Null Count  Dtype  \n",
            "---  ------                --------------  -----  \n",
            " 0   Province_State        6514 non-null   object \n",
            " 1   Country_Region        6514 non-null   object \n",
            " 2   Last_Update           6495 non-null   object \n",
            " 3   Lat                   6272 non-null   float64\n",
            " 4   Long_                 6272 non-null   float64\n",
            " 5   Confirmed             6514 non-null   int64  \n",
            " 6   Deaths                6514 non-null   int64  \n",
            " 7   Recovered             4967 non-null   float64\n",
            " 8   Active                6497 non-null   float64\n",
            " 9   FIPS                  6495 non-null   float64\n",
            " 10  Incident_Rate         6272 non-null   float64\n",
            " 11  People_Tested         6272 non-null   float64\n",
            " 12  People_Hospitalized   4167 non-null   float64\n",
            " 13  Mortality_Rate        6384 non-null   float64\n",
            " 14  UID                   6514 non-null   float64\n",
            " 15  ISO3                  6514 non-null   object \n",
            " 16  Testing_Rate          6272 non-null   float64\n",
            " 17  Hospitalization_Rate  4167 non-null   float64\n",
            "dtypes: float64(12), int64(2), object(4)\n",
            "memory usage: 916.2+ KB\n"
          ],
          "name": "stdout"
        }
      ]
    },
    {
      "cell_type": "markdown",
      "metadata": {
        "id": "FvJFatjvQLtD"
      },
      "source": [
        "Province =  USA States\n",
        "\n",
        "Country_Region = US\n",
        "\n",
        "Last_Update = When the data was uploaded\n",
        "\n",
        "lat = Latitude\n",
        "\n",
        "Long_ = Longitude\n",
        "\n",
        "Confirmed = No of confirmed cases\n",
        "\n",
        "Active = No of active cases\n",
        "\n",
        "Recovered = No of recovered cases\n",
        "\n",
        "Death = No of deaths due to COVID 19\n",
        "\n",
        "FIPS = Counties of US unique number\n",
        "\n",
        "Incident_Rate = Confirmed cases per 100000\n",
        "\n",
        "People_Tested = Total Test Performed\n",
        "\n",
        "People_Hospitalized = No of people in Hosp due to COVID 19\n",
        "\n",
        "Mortality_Rate = (No of Deaths/Confirmed cases) * 100\n",
        "\n",
        "UID = Row entry\n",
        "\n",
        "ISO#3 = Official county code\n",
        "\n",
        "Testing_Rate = Testing per 100000 people\n",
        "\n",
        "Hospitalization_Rate = (People in Hospital/COnfirmed cases) * 100"
      ]
    },
    {
      "cell_type": "code",
      "metadata": {
        "colab": {
          "base_uri": "https://localhost:8080/"
        },
        "id": "m53C_migQLtD",
        "outputId": "48bf1a7d-aa10-4ded-b3be-9705400c0beb"
      },
      "source": [
        "df.isnull().sum()"
      ],
      "execution_count": 9,
      "outputs": [
        {
          "output_type": "execute_result",
          "data": {
            "text/plain": [
              "Province_State             0\n",
              "Country_Region             0\n",
              "Last_Update               19\n",
              "Lat                      242\n",
              "Long_                    242\n",
              "Confirmed                  0\n",
              "Deaths                     0\n",
              "Recovered               1547\n",
              "Active                    17\n",
              "FIPS                      19\n",
              "Incident_Rate            242\n",
              "People_Tested            242\n",
              "People_Hospitalized     2347\n",
              "Mortality_Rate           130\n",
              "UID                        0\n",
              "ISO3                       0\n",
              "Testing_Rate             242\n",
              "Hospitalization_Rate    2347\n",
              "dtype: int64"
            ]
          },
          "metadata": {
            "tags": []
          },
          "execution_count": 9
        }
      ]
    },
    {
      "cell_type": "code",
      "metadata": {
        "colab": {
          "base_uri": "https://localhost:8080/",
          "height": 822
        },
        "id": "srgBkdzUQLtD",
        "outputId": "0928c66d-be5d-4c2a-fc87-b0b0c36e844c"
      },
      "source": [
        "df[np.isnan(df['FIPS'])]"
      ],
      "execution_count": 10,
      "outputs": [
        {
          "output_type": "execute_result",
          "data": {
            "text/html": [
              "<div>\n",
              "<style scoped>\n",
              "    .dataframe tbody tr th:only-of-type {\n",
              "        vertical-align: middle;\n",
              "    }\n",
              "\n",
              "    .dataframe tbody tr th {\n",
              "        vertical-align: top;\n",
              "    }\n",
              "\n",
              "    .dataframe thead th {\n",
              "        text-align: right;\n",
              "    }\n",
              "</style>\n",
              "<table border=\"1\" class=\"dataframe\">\n",
              "  <thead>\n",
              "    <tr style=\"text-align: right;\">\n",
              "      <th></th>\n",
              "      <th>Province_State</th>\n",
              "      <th>Country_Region</th>\n",
              "      <th>Last_Update</th>\n",
              "      <th>Lat</th>\n",
              "      <th>Long_</th>\n",
              "      <th>Confirmed</th>\n",
              "      <th>Deaths</th>\n",
              "      <th>Recovered</th>\n",
              "      <th>Active</th>\n",
              "      <th>FIPS</th>\n",
              "      <th>Incident_Rate</th>\n",
              "      <th>People_Tested</th>\n",
              "      <th>People_Hospitalized</th>\n",
              "      <th>Mortality_Rate</th>\n",
              "      <th>UID</th>\n",
              "      <th>ISO3</th>\n",
              "      <th>Testing_Rate</th>\n",
              "      <th>Hospitalization_Rate</th>\n",
              "    </tr>\n",
              "  </thead>\n",
              "  <tbody>\n",
              "    <tr>\n",
              "      <th>348</th>\n",
              "      <td>Recovered</td>\n",
              "      <td>US</td>\n",
              "      <td>NaN</td>\n",
              "      <td>NaN</td>\n",
              "      <td>NaN</td>\n",
              "      <td>0</td>\n",
              "      <td>0</td>\n",
              "      <td>64840.0</td>\n",
              "      <td>-64840.0</td>\n",
              "      <td>NaN</td>\n",
              "      <td>NaN</td>\n",
              "      <td>NaN</td>\n",
              "      <td>NaN</td>\n",
              "      <td>NaN</td>\n",
              "      <td>84070001.0</td>\n",
              "      <td>USA</td>\n",
              "      <td>NaN</td>\n",
              "      <td>NaN</td>\n",
              "    </tr>\n",
              "    <tr>\n",
              "      <th>697</th>\n",
              "      <td>Recovered</td>\n",
              "      <td>US</td>\n",
              "      <td>2020-04-24 03:33:00</td>\n",
              "      <td>NaN</td>\n",
              "      <td>NaN</td>\n",
              "      <td>0</td>\n",
              "      <td>0</td>\n",
              "      <td>80203.0</td>\n",
              "      <td>-80203.0</td>\n",
              "      <td>NaN</td>\n",
              "      <td>NaN</td>\n",
              "      <td>NaN</td>\n",
              "      <td>NaN</td>\n",
              "      <td>NaN</td>\n",
              "      <td>84070001.0</td>\n",
              "      <td>USA</td>\n",
              "      <td>NaN</td>\n",
              "      <td>NaN</td>\n",
              "    </tr>\n",
              "    <tr>\n",
              "      <th>756</th>\n",
              "      <td>Recovered</td>\n",
              "      <td>US</td>\n",
              "      <td>2020-04-27 02:32:46</td>\n",
              "      <td>NaN</td>\n",
              "      <td>NaN</td>\n",
              "      <td>0</td>\n",
              "      <td>0</td>\n",
              "      <td>106988.0</td>\n",
              "      <td>-106988.0</td>\n",
              "      <td>NaN</td>\n",
              "      <td>NaN</td>\n",
              "      <td>NaN</td>\n",
              "      <td>NaN</td>\n",
              "      <td>NaN</td>\n",
              "      <td>84070001.0</td>\n",
              "      <td>USA</td>\n",
              "      <td>NaN</td>\n",
              "      <td>NaN</td>\n",
              "    </tr>\n",
              "    <tr>\n",
              "      <th>815</th>\n",
              "      <td>Recovered</td>\n",
              "      <td>US</td>\n",
              "      <td>NaN</td>\n",
              "      <td>NaN</td>\n",
              "      <td>NaN</td>\n",
              "      <td>0</td>\n",
              "      <td>0</td>\n",
              "      <td>43482.0</td>\n",
              "      <td>-43482.0</td>\n",
              "      <td>NaN</td>\n",
              "      <td>NaN</td>\n",
              "      <td>NaN</td>\n",
              "      <td>NaN</td>\n",
              "      <td>NaN</td>\n",
              "      <td>84070001.0</td>\n",
              "      <td>USA</td>\n",
              "      <td>NaN</td>\n",
              "      <td>NaN</td>\n",
              "    </tr>\n",
              "    <tr>\n",
              "      <th>1048</th>\n",
              "      <td>Recovered</td>\n",
              "      <td>US</td>\n",
              "      <td>NaN</td>\n",
              "      <td>NaN</td>\n",
              "      <td>NaN</td>\n",
              "      <td>0</td>\n",
              "      <td>0</td>\n",
              "      <td>70337.0</td>\n",
              "      <td>-70337.0</td>\n",
              "      <td>NaN</td>\n",
              "      <td>NaN</td>\n",
              "      <td>NaN</td>\n",
              "      <td>NaN</td>\n",
              "      <td>NaN</td>\n",
              "      <td>84070001.0</td>\n",
              "      <td>USA</td>\n",
              "      <td>NaN</td>\n",
              "      <td>NaN</td>\n",
              "    </tr>\n",
              "    <tr>\n",
              "      <th>1397</th>\n",
              "      <td>Recovered</td>\n",
              "      <td>US</td>\n",
              "      <td>NaN</td>\n",
              "      <td>NaN</td>\n",
              "      <td>NaN</td>\n",
              "      <td>0</td>\n",
              "      <td>0</td>\n",
              "      <td>72329.0</td>\n",
              "      <td>-72329.0</td>\n",
              "      <td>NaN</td>\n",
              "      <td>NaN</td>\n",
              "      <td>NaN</td>\n",
              "      <td>NaN</td>\n",
              "      <td>NaN</td>\n",
              "      <td>84070001.0</td>\n",
              "      <td>USA</td>\n",
              "      <td>NaN</td>\n",
              "      <td>NaN</td>\n",
              "    </tr>\n",
              "    <tr>\n",
              "      <th>1572</th>\n",
              "      <td>Recovered</td>\n",
              "      <td>US</td>\n",
              "      <td>2020-04-28 02:32:46</td>\n",
              "      <td>NaN</td>\n",
              "      <td>NaN</td>\n",
              "      <td>0</td>\n",
              "      <td>0</td>\n",
              "      <td>111424.0</td>\n",
              "      <td>-111424.0</td>\n",
              "      <td>NaN</td>\n",
              "      <td>NaN</td>\n",
              "      <td>NaN</td>\n",
              "      <td>NaN</td>\n",
              "      <td>NaN</td>\n",
              "      <td>84070001.0</td>\n",
              "      <td>USA</td>\n",
              "      <td>NaN</td>\n",
              "      <td>NaN</td>\n",
              "    </tr>\n",
              "    <tr>\n",
              "      <th>1630</th>\n",
              "      <td>Recovered</td>\n",
              "      <td>US</td>\n",
              "      <td>NaN</td>\n",
              "      <td>NaN</td>\n",
              "      <td>NaN</td>\n",
              "      <td>0</td>\n",
              "      <td>0</td>\n",
              "      <td>32988.0</td>\n",
              "      <td>-32988.0</td>\n",
              "      <td>NaN</td>\n",
              "      <td>NaN</td>\n",
              "      <td>NaN</td>\n",
              "      <td>NaN</td>\n",
              "      <td>NaN</td>\n",
              "      <td>84070001.0</td>\n",
              "      <td>USA</td>\n",
              "      <td>NaN</td>\n",
              "      <td>NaN</td>\n",
              "    </tr>\n",
              "    <tr>\n",
              "      <th>1631</th>\n",
              "      <td>Virgin Islands</td>\n",
              "      <td>US</td>\n",
              "      <td>NaN</td>\n",
              "      <td>18.3358</td>\n",
              "      <td>-64.8963</td>\n",
              "      <td>51</td>\n",
              "      <td>1</td>\n",
              "      <td>43.0</td>\n",
              "      <td>50.0</td>\n",
              "      <td>NaN</td>\n",
              "      <td>47.544468</td>\n",
              "      <td>350.0</td>\n",
              "      <td>3.0</td>\n",
              "      <td>1.960784</td>\n",
              "      <td>850.0</td>\n",
              "      <td>VIR</td>\n",
              "      <td>326.285565</td>\n",
              "      <td>5.882353</td>\n",
              "    </tr>\n",
              "    <tr>\n",
              "      <th>1748</th>\n",
              "      <td>Recovered</td>\n",
              "      <td>US</td>\n",
              "      <td>2020-04-26 02:32:45</td>\n",
              "      <td>NaN</td>\n",
              "      <td>NaN</td>\n",
              "      <td>0</td>\n",
              "      <td>0</td>\n",
              "      <td>100372.0</td>\n",
              "      <td>-100372.0</td>\n",
              "      <td>NaN</td>\n",
              "      <td>NaN</td>\n",
              "      <td>NaN</td>\n",
              "      <td>NaN</td>\n",
              "      <td>NaN</td>\n",
              "      <td>84070001.0</td>\n",
              "      <td>USA</td>\n",
              "      <td>NaN</td>\n",
              "      <td>NaN</td>\n",
              "    </tr>\n",
              "    <tr>\n",
              "      <th>2039</th>\n",
              "      <td>Recovered</td>\n",
              "      <td>US</td>\n",
              "      <td>2020-04-21 23:40:34</td>\n",
              "      <td>NaN</td>\n",
              "      <td>NaN</td>\n",
              "      <td>0</td>\n",
              "      <td>0</td>\n",
              "      <td>75204.0</td>\n",
              "      <td>-75204.0</td>\n",
              "      <td>NaN</td>\n",
              "      <td>NaN</td>\n",
              "      <td>NaN</td>\n",
              "      <td>NaN</td>\n",
              "      <td>NaN</td>\n",
              "      <td>84070001.0</td>\n",
              "      <td>USA</td>\n",
              "      <td>NaN</td>\n",
              "      <td>NaN</td>\n",
              "    </tr>\n",
              "    <tr>\n",
              "      <th>2330</th>\n",
              "      <td>Recovered</td>\n",
              "      <td>US</td>\n",
              "      <td>NaN</td>\n",
              "      <td>NaN</td>\n",
              "      <td>NaN</td>\n",
              "      <td>0</td>\n",
              "      <td>0</td>\n",
              "      <td>54703.0</td>\n",
              "      <td>-54703.0</td>\n",
              "      <td>NaN</td>\n",
              "      <td>NaN</td>\n",
              "      <td>NaN</td>\n",
              "      <td>NaN</td>\n",
              "      <td>NaN</td>\n",
              "      <td>84070001.0</td>\n",
              "      <td>USA</td>\n",
              "      <td>NaN</td>\n",
              "      <td>NaN</td>\n",
              "    </tr>\n",
              "    <tr>\n",
              "      <th>3143</th>\n",
              "      <td>Recovered</td>\n",
              "      <td>US</td>\n",
              "      <td>NaN</td>\n",
              "      <td>NaN</td>\n",
              "      <td>NaN</td>\n",
              "      <td>0</td>\n",
              "      <td>0</td>\n",
              "      <td>58545.0</td>\n",
              "      <td>-58545.0</td>\n",
              "      <td>NaN</td>\n",
              "      <td>NaN</td>\n",
              "      <td>NaN</td>\n",
              "      <td>NaN</td>\n",
              "      <td>NaN</td>\n",
              "      <td>84070001.0</td>\n",
              "      <td>USA</td>\n",
              "      <td>NaN</td>\n",
              "      <td>NaN</td>\n",
              "    </tr>\n",
              "    <tr>\n",
              "      <th>3318</th>\n",
              "      <td>Recovered</td>\n",
              "      <td>US</td>\n",
              "      <td>2020-04-30 02:32:31</td>\n",
              "      <td>NaN</td>\n",
              "      <td>NaN</td>\n",
              "      <td>0</td>\n",
              "      <td>0</td>\n",
              "      <td>120720.0</td>\n",
              "      <td>-120720.0</td>\n",
              "      <td>NaN</td>\n",
              "      <td>NaN</td>\n",
              "      <td>NaN</td>\n",
              "      <td>NaN</td>\n",
              "      <td>NaN</td>\n",
              "      <td>84070001.0</td>\n",
              "      <td>USA</td>\n",
              "      <td>NaN</td>\n",
              "      <td>NaN</td>\n",
              "    </tr>\n",
              "    <tr>\n",
              "      <th>3493</th>\n",
              "      <td>Recovered</td>\n",
              "      <td>US</td>\n",
              "      <td>NaN</td>\n",
              "      <td>NaN</td>\n",
              "      <td>NaN</td>\n",
              "      <td>0</td>\n",
              "      <td>0</td>\n",
              "      <td>47763.0</td>\n",
              "      <td>-47763.0</td>\n",
              "      <td>NaN</td>\n",
              "      <td>NaN</td>\n",
              "      <td>NaN</td>\n",
              "      <td>NaN</td>\n",
              "      <td>NaN</td>\n",
              "      <td>84070001.0</td>\n",
              "      <td>USA</td>\n",
              "      <td>NaN</td>\n",
              "      <td>NaN</td>\n",
              "    </tr>\n",
              "    <tr>\n",
              "      <th>3726</th>\n",
              "      <td>Recovered</td>\n",
              "      <td>US</td>\n",
              "      <td>NaN</td>\n",
              "      <td>NaN</td>\n",
              "      <td>NaN</td>\n",
              "      <td>0</td>\n",
              "      <td>0</td>\n",
              "      <td>52096.0</td>\n",
              "      <td>-52096.0</td>\n",
              "      <td>NaN</td>\n",
              "      <td>NaN</td>\n",
              "      <td>NaN</td>\n",
              "      <td>NaN</td>\n",
              "      <td>NaN</td>\n",
              "      <td>84070001.0</td>\n",
              "      <td>USA</td>\n",
              "      <td>NaN</td>\n",
              "      <td>NaN</td>\n",
              "    </tr>\n",
              "    <tr>\n",
              "      <th>4075</th>\n",
              "      <td>Recovered</td>\n",
              "      <td>US</td>\n",
              "      <td>2020-04-29 02:32:33</td>\n",
              "      <td>NaN</td>\n",
              "      <td>NaN</td>\n",
              "      <td>0</td>\n",
              "      <td>0</td>\n",
              "      <td>115936.0</td>\n",
              "      <td>-115936.0</td>\n",
              "      <td>NaN</td>\n",
              "      <td>NaN</td>\n",
              "      <td>NaN</td>\n",
              "      <td>NaN</td>\n",
              "      <td>NaN</td>\n",
              "      <td>84070001.0</td>\n",
              "      <td>USA</td>\n",
              "      <td>NaN</td>\n",
              "      <td>NaN</td>\n",
              "    </tr>\n",
              "    <tr>\n",
              "      <th>5932</th>\n",
              "      <td>Recovered</td>\n",
              "      <td>US</td>\n",
              "      <td>2020-04-22 23:40:26</td>\n",
              "      <td>NaN</td>\n",
              "      <td>NaN</td>\n",
              "      <td>0</td>\n",
              "      <td>0</td>\n",
              "      <td>77366.0</td>\n",
              "      <td>-77366.0</td>\n",
              "      <td>NaN</td>\n",
              "      <td>NaN</td>\n",
              "      <td>NaN</td>\n",
              "      <td>NaN</td>\n",
              "      <td>NaN</td>\n",
              "      <td>84070001.0</td>\n",
              "      <td>USA</td>\n",
              "      <td>NaN</td>\n",
              "      <td>NaN</td>\n",
              "    </tr>\n",
              "    <tr>\n",
              "      <th>6397</th>\n",
              "      <td>Recovered</td>\n",
              "      <td>US</td>\n",
              "      <td>2020-04-25 06:32:46</td>\n",
              "      <td>NaN</td>\n",
              "      <td>NaN</td>\n",
              "      <td>0</td>\n",
              "      <td>0</td>\n",
              "      <td>99079.0</td>\n",
              "      <td>-99079.0</td>\n",
              "      <td>NaN</td>\n",
              "      <td>NaN</td>\n",
              "      <td>NaN</td>\n",
              "      <td>NaN</td>\n",
              "      <td>NaN</td>\n",
              "      <td>84070001.0</td>\n",
              "      <td>USA</td>\n",
              "      <td>NaN</td>\n",
              "      <td>NaN</td>\n",
              "    </tr>\n",
              "  </tbody>\n",
              "</table>\n",
              "</div>"
            ],
            "text/plain": [
              "      Province_State Country_Region  ... Testing_Rate  Hospitalization_Rate\n",
              "348        Recovered             US  ...          NaN                   NaN\n",
              "697        Recovered             US  ...          NaN                   NaN\n",
              "756        Recovered             US  ...          NaN                   NaN\n",
              "815        Recovered             US  ...          NaN                   NaN\n",
              "1048       Recovered             US  ...          NaN                   NaN\n",
              "1397       Recovered             US  ...          NaN                   NaN\n",
              "1572       Recovered             US  ...          NaN                   NaN\n",
              "1630       Recovered             US  ...          NaN                   NaN\n",
              "1631  Virgin Islands             US  ...   326.285565              5.882353\n",
              "1748       Recovered             US  ...          NaN                   NaN\n",
              "2039       Recovered             US  ...          NaN                   NaN\n",
              "2330       Recovered             US  ...          NaN                   NaN\n",
              "3143       Recovered             US  ...          NaN                   NaN\n",
              "3318       Recovered             US  ...          NaN                   NaN\n",
              "3493       Recovered             US  ...          NaN                   NaN\n",
              "3726       Recovered             US  ...          NaN                   NaN\n",
              "4075       Recovered             US  ...          NaN                   NaN\n",
              "5932       Recovered             US  ...          NaN                   NaN\n",
              "6397       Recovered             US  ...          NaN                   NaN\n",
              "\n",
              "[19 rows x 18 columns]"
            ]
          },
          "metadata": {
            "tags": []
          },
          "execution_count": 10
        }
      ]
    },
    {
      "cell_type": "code",
      "metadata": {
        "id": "J3xrXl6zQLtE"
      },
      "source": [
        "df = df[df['Province_State'] != 'Recovered']"
      ],
      "execution_count": 11,
      "outputs": []
    },
    {
      "cell_type": "code",
      "metadata": {
        "colab": {
          "base_uri": "https://localhost:8080/"
        },
        "id": "-rlrv0dgQLtE",
        "outputId": "195e8a9f-5fea-494f-a0bc-eb0e83a5ff26"
      },
      "source": [
        "df[df['Province_State'] == 'Virgin Islands'][\"FIPS\"].iloc[0]"
      ],
      "execution_count": 12,
      "outputs": [
        {
          "output_type": "execute_result",
          "data": {
            "text/plain": [
              "78.0"
            ]
          },
          "metadata": {
            "tags": []
          },
          "execution_count": 12
        }
      ]
    },
    {
      "cell_type": "code",
      "metadata": {
        "id": "x80fR0DWQLtE"
      },
      "source": [
        "df['FIPS'].fillna(78.0, inplace = True)"
      ],
      "execution_count": 13,
      "outputs": []
    },
    {
      "cell_type": "code",
      "metadata": {
        "id": "8sHJLnorQLtF"
      },
      "source": [
        "df['Last_Update'] = pd.to_datetime(df['Last_Update'])"
      ],
      "execution_count": 14,
      "outputs": []
    },
    {
      "cell_type": "code",
      "metadata": {
        "colab": {
          "base_uri": "https://localhost:8080/",
          "height": 539
        },
        "id": "l3YVFsMeQLtF",
        "outputId": "668b75b1-3b9c-4a61-a0ca-87610d187911"
      },
      "source": [
        "df[np.isnan(df['Last_Update'])]"
      ],
      "execution_count": 15,
      "outputs": [
        {
          "output_type": "execute_result",
          "data": {
            "text/html": [
              "<div>\n",
              "<style scoped>\n",
              "    .dataframe tbody tr th:only-of-type {\n",
              "        vertical-align: middle;\n",
              "    }\n",
              "\n",
              "    .dataframe tbody tr th {\n",
              "        vertical-align: top;\n",
              "    }\n",
              "\n",
              "    .dataframe thead th {\n",
              "        text-align: right;\n",
              "    }\n",
              "</style>\n",
              "<table border=\"1\" class=\"dataframe\">\n",
              "  <thead>\n",
              "    <tr style=\"text-align: right;\">\n",
              "      <th></th>\n",
              "      <th>Province_State</th>\n",
              "      <th>Country_Region</th>\n",
              "      <th>Last_Update</th>\n",
              "      <th>Lat</th>\n",
              "      <th>Long_</th>\n",
              "      <th>Confirmed</th>\n",
              "      <th>Deaths</th>\n",
              "      <th>Recovered</th>\n",
              "      <th>Active</th>\n",
              "      <th>FIPS</th>\n",
              "      <th>Incident_Rate</th>\n",
              "      <th>People_Tested</th>\n",
              "      <th>People_Hospitalized</th>\n",
              "      <th>Mortality_Rate</th>\n",
              "      <th>UID</th>\n",
              "      <th>ISO3</th>\n",
              "      <th>Testing_Rate</th>\n",
              "      <th>Hospitalization_Rate</th>\n",
              "    </tr>\n",
              "  </thead>\n",
              "  <tbody>\n",
              "    <tr>\n",
              "      <th>292</th>\n",
              "      <td>American Samoa</td>\n",
              "      <td>US</td>\n",
              "      <td>NaT</td>\n",
              "      <td>-14.2710</td>\n",
              "      <td>-170.1320</td>\n",
              "      <td>0</td>\n",
              "      <td>0</td>\n",
              "      <td>NaN</td>\n",
              "      <td>NaN</td>\n",
              "      <td>60.0</td>\n",
              "      <td>0.000000</td>\n",
              "      <td>3.0</td>\n",
              "      <td>NaN</td>\n",
              "      <td>NaN</td>\n",
              "      <td>16.0</td>\n",
              "      <td>ASM</td>\n",
              "      <td>5.391708</td>\n",
              "      <td>NaN</td>\n",
              "    </tr>\n",
              "    <tr>\n",
              "      <th>759</th>\n",
              "      <td>American Samoa</td>\n",
              "      <td>US</td>\n",
              "      <td>NaT</td>\n",
              "      <td>-14.2710</td>\n",
              "      <td>-170.1320</td>\n",
              "      <td>0</td>\n",
              "      <td>0</td>\n",
              "      <td>NaN</td>\n",
              "      <td>NaN</td>\n",
              "      <td>60.0</td>\n",
              "      <td>0.000000</td>\n",
              "      <td>3.0</td>\n",
              "      <td>NaN</td>\n",
              "      <td>NaN</td>\n",
              "      <td>16.0</td>\n",
              "      <td>ASM</td>\n",
              "      <td>5.391708</td>\n",
              "      <td>NaN</td>\n",
              "    </tr>\n",
              "    <tr>\n",
              "      <th>992</th>\n",
              "      <td>American Samoa</td>\n",
              "      <td>US</td>\n",
              "      <td>NaT</td>\n",
              "      <td>-14.2710</td>\n",
              "      <td>-170.1320</td>\n",
              "      <td>0</td>\n",
              "      <td>0</td>\n",
              "      <td>NaN</td>\n",
              "      <td>NaN</td>\n",
              "      <td>60.0</td>\n",
              "      <td>0.000000</td>\n",
              "      <td>3.0</td>\n",
              "      <td>NaN</td>\n",
              "      <td>NaN</td>\n",
              "      <td>16.0</td>\n",
              "      <td>ASM</td>\n",
              "      <td>5.391708</td>\n",
              "      <td>NaN</td>\n",
              "    </tr>\n",
              "    <tr>\n",
              "      <th>1341</th>\n",
              "      <td>American Samoa</td>\n",
              "      <td>US</td>\n",
              "      <td>NaT</td>\n",
              "      <td>-14.2710</td>\n",
              "      <td>-170.1320</td>\n",
              "      <td>0</td>\n",
              "      <td>0</td>\n",
              "      <td>NaN</td>\n",
              "      <td>NaN</td>\n",
              "      <td>60.0</td>\n",
              "      <td>0.000000</td>\n",
              "      <td>3.0</td>\n",
              "      <td>NaN</td>\n",
              "      <td>NaN</td>\n",
              "      <td>16.0</td>\n",
              "      <td>ASM</td>\n",
              "      <td>5.391708</td>\n",
              "      <td>NaN</td>\n",
              "    </tr>\n",
              "    <tr>\n",
              "      <th>1628</th>\n",
              "      <td>American Samoa</td>\n",
              "      <td>US</td>\n",
              "      <td>NaT</td>\n",
              "      <td>-14.2710</td>\n",
              "      <td>-170.1322</td>\n",
              "      <td>0</td>\n",
              "      <td>0</td>\n",
              "      <td>NaN</td>\n",
              "      <td>0.0</td>\n",
              "      <td>60.0</td>\n",
              "      <td>0.000000</td>\n",
              "      <td>3.0</td>\n",
              "      <td>NaN</td>\n",
              "      <td>NaN</td>\n",
              "      <td>16.0</td>\n",
              "      <td>ASM</td>\n",
              "      <td>5.391708</td>\n",
              "      <td>NaN</td>\n",
              "    </tr>\n",
              "    <tr>\n",
              "      <th>1631</th>\n",
              "      <td>Virgin Islands</td>\n",
              "      <td>US</td>\n",
              "      <td>NaT</td>\n",
              "      <td>18.3358</td>\n",
              "      <td>-64.8963</td>\n",
              "      <td>51</td>\n",
              "      <td>1</td>\n",
              "      <td>43.0</td>\n",
              "      <td>50.0</td>\n",
              "      <td>78.0</td>\n",
              "      <td>47.544468</td>\n",
              "      <td>350.0</td>\n",
              "      <td>3.0</td>\n",
              "      <td>1.960784</td>\n",
              "      <td>850.0</td>\n",
              "      <td>VIR</td>\n",
              "      <td>326.285565</td>\n",
              "      <td>5.882353</td>\n",
              "    </tr>\n",
              "    <tr>\n",
              "      <th>2274</th>\n",
              "      <td>American Samoa</td>\n",
              "      <td>US</td>\n",
              "      <td>NaT</td>\n",
              "      <td>-14.2710</td>\n",
              "      <td>-170.1320</td>\n",
              "      <td>0</td>\n",
              "      <td>0</td>\n",
              "      <td>NaN</td>\n",
              "      <td>NaN</td>\n",
              "      <td>60.0</td>\n",
              "      <td>0.000000</td>\n",
              "      <td>3.0</td>\n",
              "      <td>NaN</td>\n",
              "      <td>NaN</td>\n",
              "      <td>16.0</td>\n",
              "      <td>ASM</td>\n",
              "      <td>5.391708</td>\n",
              "      <td>NaN</td>\n",
              "    </tr>\n",
              "    <tr>\n",
              "      <th>3087</th>\n",
              "      <td>American Samoa</td>\n",
              "      <td>US</td>\n",
              "      <td>NaT</td>\n",
              "      <td>-14.2710</td>\n",
              "      <td>-170.1320</td>\n",
              "      <td>0</td>\n",
              "      <td>0</td>\n",
              "      <td>NaN</td>\n",
              "      <td>NaN</td>\n",
              "      <td>60.0</td>\n",
              "      <td>0.000000</td>\n",
              "      <td>3.0</td>\n",
              "      <td>NaN</td>\n",
              "      <td>NaN</td>\n",
              "      <td>16.0</td>\n",
              "      <td>ASM</td>\n",
              "      <td>5.391708</td>\n",
              "      <td>NaN</td>\n",
              "    </tr>\n",
              "    <tr>\n",
              "      <th>3437</th>\n",
              "      <td>American Samoa</td>\n",
              "      <td>US</td>\n",
              "      <td>NaT</td>\n",
              "      <td>-14.2710</td>\n",
              "      <td>-170.1320</td>\n",
              "      <td>0</td>\n",
              "      <td>0</td>\n",
              "      <td>NaN</td>\n",
              "      <td>NaN</td>\n",
              "      <td>60.0</td>\n",
              "      <td>0.000000</td>\n",
              "      <td>3.0</td>\n",
              "      <td>NaN</td>\n",
              "      <td>NaN</td>\n",
              "      <td>16.0</td>\n",
              "      <td>ASM</td>\n",
              "      <td>5.391708</td>\n",
              "      <td>NaN</td>\n",
              "    </tr>\n",
              "    <tr>\n",
              "      <th>3670</th>\n",
              "      <td>American Samoa</td>\n",
              "      <td>US</td>\n",
              "      <td>NaT</td>\n",
              "      <td>-14.2710</td>\n",
              "      <td>-170.1320</td>\n",
              "      <td>0</td>\n",
              "      <td>0</td>\n",
              "      <td>NaN</td>\n",
              "      <td>NaN</td>\n",
              "      <td>60.0</td>\n",
              "      <td>0.000000</td>\n",
              "      <td>3.0</td>\n",
              "      <td>NaN</td>\n",
              "      <td>NaN</td>\n",
              "      <td>16.0</td>\n",
              "      <td>ASM</td>\n",
              "      <td>5.391708</td>\n",
              "      <td>NaN</td>\n",
              "    </tr>\n",
              "  </tbody>\n",
              "</table>\n",
              "</div>"
            ],
            "text/plain": [
              "      Province_State Country_Region  ... Testing_Rate  Hospitalization_Rate\n",
              "292   American Samoa             US  ...     5.391708                   NaN\n",
              "759   American Samoa             US  ...     5.391708                   NaN\n",
              "992   American Samoa             US  ...     5.391708                   NaN\n",
              "1341  American Samoa             US  ...     5.391708                   NaN\n",
              "1628  American Samoa             US  ...     5.391708                   NaN\n",
              "1631  Virgin Islands             US  ...   326.285565              5.882353\n",
              "2274  American Samoa             US  ...     5.391708                   NaN\n",
              "3087  American Samoa             US  ...     5.391708                   NaN\n",
              "3437  American Samoa             US  ...     5.391708                   NaN\n",
              "3670  American Samoa             US  ...     5.391708                   NaN\n",
              "\n",
              "[10 rows x 18 columns]"
            ]
          },
          "metadata": {
            "tags": []
          },
          "execution_count": 15
        }
      ]
    },
    {
      "cell_type": "code",
      "metadata": {
        "id": "iQD1EdHVQLtF"
      },
      "source": [
        "df = df[df['Province_State'] != 'American Samoa']"
      ],
      "execution_count": 16,
      "outputs": []
    },
    {
      "cell_type": "code",
      "metadata": {
        "colab": {
          "base_uri": "https://localhost:8080/"
        },
        "id": "2VHrnE-3QLtF",
        "outputId": "92442696-149e-4d37-adc4-431129e21a22"
      },
      "source": [
        "df.loc[1629]"
      ],
      "execution_count": 17,
      "outputs": [
        {
          "output_type": "execute_result",
          "data": {
            "text/plain": [
              "Province_State          Northern Mariana Islands\n",
              "Country_Region                                US\n",
              "Last_Update                  2020-04-12 23:18:15\n",
              "Lat                                      15.0979\n",
              "Long_                                    145.674\n",
              "Confirmed                                     11\n",
              "Deaths                                         2\n",
              "Recovered                                    NaN\n",
              "Active                                         9\n",
              "FIPS                                          69\n",
              "Incident_Rate                            19.9478\n",
              "People_Tested                                 38\n",
              "People_Hospitalized                          NaN\n",
              "Mortality_Rate                           18.1818\n",
              "UID                                          580\n",
              "ISO3                                         MNP\n",
              "Testing_Rate                             68.9105\n",
              "Hospitalization_Rate                         NaN\n",
              "Name: 1629, dtype: object"
            ]
          },
          "metadata": {
            "tags": []
          },
          "execution_count": 17
        }
      ]
    },
    {
      "cell_type": "code",
      "metadata": {
        "id": "1HrkjmUqQLtF"
      },
      "source": [
        "df['Last_Update'].fillna('2020-04-12 23:18:15', inplace = True)"
      ],
      "execution_count": 18,
      "outputs": []
    },
    {
      "cell_type": "code",
      "metadata": {
        "id": "iK-kcpuQQLtF"
      },
      "source": [
        "df['Last_Update'] = pd.to_datetime(df['Last_Update'])"
      ],
      "execution_count": 19,
      "outputs": []
    },
    {
      "cell_type": "code",
      "metadata": {
        "colab": {
          "base_uri": "https://localhost:8080/"
        },
        "id": "4gtagX9qQLtF",
        "outputId": "7b5235f1-d5a0-4343-eba6-bf0e60af49b3"
      },
      "source": [
        "df.isnull().sum()"
      ],
      "execution_count": 20,
      "outputs": [
        {
          "output_type": "execute_result",
          "data": {
            "text/plain": [
              "Province_State             0\n",
              "Country_Region             0\n",
              "Last_Update                0\n",
              "Lat                      224\n",
              "Long_                    224\n",
              "Confirmed                  0\n",
              "Deaths                     0\n",
              "Recovered               1440\n",
              "Active                     0\n",
              "FIPS                       0\n",
              "Incident_Rate            224\n",
              "People_Tested            224\n",
              "People_Hospitalized     2217\n",
              "Mortality_Rate             0\n",
              "UID                        0\n",
              "ISO3                       0\n",
              "Testing_Rate             224\n",
              "Hospitalization_Rate    2217\n",
              "dtype: int64"
            ]
          },
          "metadata": {
            "tags": []
          },
          "execution_count": 20
        }
      ]
    },
    {
      "cell_type": "code",
      "metadata": {
        "colab": {
          "base_uri": "https://localhost:8080/",
          "height": 617
        },
        "id": "2ysJWP_BQLtG",
        "outputId": "502293b8-28bc-4bf1-c1bf-dd30125eda3e"
      },
      "source": [
        "df[df['Lat'].isnull()]"
      ],
      "execution_count": 21,
      "outputs": [
        {
          "output_type": "execute_result",
          "data": {
            "text/html": [
              "<div>\n",
              "<style scoped>\n",
              "    .dataframe tbody tr th:only-of-type {\n",
              "        vertical-align: middle;\n",
              "    }\n",
              "\n",
              "    .dataframe tbody tr th {\n",
              "        vertical-align: top;\n",
              "    }\n",
              "\n",
              "    .dataframe thead th {\n",
              "        text-align: right;\n",
              "    }\n",
              "</style>\n",
              "<table border=\"1\" class=\"dataframe\">\n",
              "  <thead>\n",
              "    <tr style=\"text-align: right;\">\n",
              "      <th></th>\n",
              "      <th>Province_State</th>\n",
              "      <th>Country_Region</th>\n",
              "      <th>Last_Update</th>\n",
              "      <th>Lat</th>\n",
              "      <th>Long_</th>\n",
              "      <th>Confirmed</th>\n",
              "      <th>Deaths</th>\n",
              "      <th>Recovered</th>\n",
              "      <th>Active</th>\n",
              "      <th>FIPS</th>\n",
              "      <th>Incident_Rate</th>\n",
              "      <th>People_Tested</th>\n",
              "      <th>People_Hospitalized</th>\n",
              "      <th>Mortality_Rate</th>\n",
              "      <th>UID</th>\n",
              "      <th>ISO3</th>\n",
              "      <th>Testing_Rate</th>\n",
              "      <th>Hospitalization_Rate</th>\n",
              "    </tr>\n",
              "  </thead>\n",
              "  <tbody>\n",
              "    <tr>\n",
              "      <th>9</th>\n",
              "      <td>Diamond Princess</td>\n",
              "      <td>US</td>\n",
              "      <td>2020-05-29 02:32:58</td>\n",
              "      <td>NaN</td>\n",
              "      <td>NaN</td>\n",
              "      <td>49</td>\n",
              "      <td>0</td>\n",
              "      <td>NaN</td>\n",
              "      <td>49.0</td>\n",
              "      <td>88888.0</td>\n",
              "      <td>NaN</td>\n",
              "      <td>NaN</td>\n",
              "      <td>NaN</td>\n",
              "      <td>0.000000</td>\n",
              "      <td>84088888.0</td>\n",
              "      <td>USA</td>\n",
              "      <td>NaN</td>\n",
              "      <td>NaN</td>\n",
              "    </tr>\n",
              "    <tr>\n",
              "      <th>13</th>\n",
              "      <td>Grand Princess</td>\n",
              "      <td>US</td>\n",
              "      <td>2020-05-29 02:32:58</td>\n",
              "      <td>NaN</td>\n",
              "      <td>NaN</td>\n",
              "      <td>103</td>\n",
              "      <td>3</td>\n",
              "      <td>NaN</td>\n",
              "      <td>100.0</td>\n",
              "      <td>99999.0</td>\n",
              "      <td>NaN</td>\n",
              "      <td>NaN</td>\n",
              "      <td>NaN</td>\n",
              "      <td>2.912621</td>\n",
              "      <td>84099999.0</td>\n",
              "      <td>USA</td>\n",
              "      <td>NaN</td>\n",
              "      <td>NaN</td>\n",
              "    </tr>\n",
              "    <tr>\n",
              "      <th>67</th>\n",
              "      <td>Diamond Princess</td>\n",
              "      <td>US</td>\n",
              "      <td>2020-05-25 02:32:50</td>\n",
              "      <td>NaN</td>\n",
              "      <td>NaN</td>\n",
              "      <td>49</td>\n",
              "      <td>0</td>\n",
              "      <td>NaN</td>\n",
              "      <td>49.0</td>\n",
              "      <td>88888.0</td>\n",
              "      <td>NaN</td>\n",
              "      <td>NaN</td>\n",
              "      <td>NaN</td>\n",
              "      <td>0.000000</td>\n",
              "      <td>84088888.0</td>\n",
              "      <td>USA</td>\n",
              "      <td>NaN</td>\n",
              "      <td>NaN</td>\n",
              "    </tr>\n",
              "    <tr>\n",
              "      <th>71</th>\n",
              "      <td>Grand Princess</td>\n",
              "      <td>US</td>\n",
              "      <td>2020-05-25 02:32:50</td>\n",
              "      <td>NaN</td>\n",
              "      <td>NaN</td>\n",
              "      <td>103</td>\n",
              "      <td>3</td>\n",
              "      <td>NaN</td>\n",
              "      <td>100.0</td>\n",
              "      <td>99999.0</td>\n",
              "      <td>NaN</td>\n",
              "      <td>NaN</td>\n",
              "      <td>NaN</td>\n",
              "      <td>2.912621</td>\n",
              "      <td>84099999.0</td>\n",
              "      <td>USA</td>\n",
              "      <td>NaN</td>\n",
              "      <td>NaN</td>\n",
              "    </tr>\n",
              "    <tr>\n",
              "      <th>125</th>\n",
              "      <td>Diamond Princess</td>\n",
              "      <td>US</td>\n",
              "      <td>2020-05-11 02:32:34</td>\n",
              "      <td>NaN</td>\n",
              "      <td>NaN</td>\n",
              "      <td>49</td>\n",
              "      <td>0</td>\n",
              "      <td>NaN</td>\n",
              "      <td>49.0</td>\n",
              "      <td>88888.0</td>\n",
              "      <td>NaN</td>\n",
              "      <td>NaN</td>\n",
              "      <td>NaN</td>\n",
              "      <td>0.000000</td>\n",
              "      <td>84088888.0</td>\n",
              "      <td>USA</td>\n",
              "      <td>NaN</td>\n",
              "      <td>NaN</td>\n",
              "    </tr>\n",
              "    <tr>\n",
              "      <th>...</th>\n",
              "      <td>...</td>\n",
              "      <td>...</td>\n",
              "      <td>...</td>\n",
              "      <td>...</td>\n",
              "      <td>...</td>\n",
              "      <td>...</td>\n",
              "      <td>...</td>\n",
              "      <td>...</td>\n",
              "      <td>...</td>\n",
              "      <td>...</td>\n",
              "      <td>...</td>\n",
              "      <td>...</td>\n",
              "      <td>...</td>\n",
              "      <td>...</td>\n",
              "      <td>...</td>\n",
              "      <td>...</td>\n",
              "      <td>...</td>\n",
              "      <td>...</td>\n",
              "    </tr>\n",
              "    <tr>\n",
              "      <th>6352</th>\n",
              "      <td>Grand Princess</td>\n",
              "      <td>US</td>\n",
              "      <td>2020-04-25 06:32:46</td>\n",
              "      <td>NaN</td>\n",
              "      <td>NaN</td>\n",
              "      <td>103</td>\n",
              "      <td>3</td>\n",
              "      <td>0.0</td>\n",
              "      <td>100.0</td>\n",
              "      <td>99999.0</td>\n",
              "      <td>NaN</td>\n",
              "      <td>NaN</td>\n",
              "      <td>NaN</td>\n",
              "      <td>2.912621</td>\n",
              "      <td>84099999.0</td>\n",
              "      <td>USA</td>\n",
              "      <td>NaN</td>\n",
              "      <td>NaN</td>\n",
              "    </tr>\n",
              "    <tr>\n",
              "      <th>6407</th>\n",
              "      <td>Diamond Princess</td>\n",
              "      <td>US</td>\n",
              "      <td>2020-06-26 04:33:54</td>\n",
              "      <td>NaN</td>\n",
              "      <td>NaN</td>\n",
              "      <td>49</td>\n",
              "      <td>0</td>\n",
              "      <td>NaN</td>\n",
              "      <td>49.0</td>\n",
              "      <td>88888.0</td>\n",
              "      <td>NaN</td>\n",
              "      <td>NaN</td>\n",
              "      <td>NaN</td>\n",
              "      <td>0.000000</td>\n",
              "      <td>84088888.0</td>\n",
              "      <td>USA</td>\n",
              "      <td>NaN</td>\n",
              "      <td>NaN</td>\n",
              "    </tr>\n",
              "    <tr>\n",
              "      <th>6411</th>\n",
              "      <td>Grand Princess</td>\n",
              "      <td>US</td>\n",
              "      <td>2020-06-26 04:33:54</td>\n",
              "      <td>NaN</td>\n",
              "      <td>NaN</td>\n",
              "      <td>103</td>\n",
              "      <td>3</td>\n",
              "      <td>NaN</td>\n",
              "      <td>100.0</td>\n",
              "      <td>99999.0</td>\n",
              "      <td>NaN</td>\n",
              "      <td>NaN</td>\n",
              "      <td>NaN</td>\n",
              "      <td>2.912621</td>\n",
              "      <td>84099999.0</td>\n",
              "      <td>USA</td>\n",
              "      <td>NaN</td>\n",
              "      <td>NaN</td>\n",
              "    </tr>\n",
              "    <tr>\n",
              "      <th>6465</th>\n",
              "      <td>Diamond Princess</td>\n",
              "      <td>US</td>\n",
              "      <td>2020-07-04 04:34:04</td>\n",
              "      <td>NaN</td>\n",
              "      <td>NaN</td>\n",
              "      <td>49</td>\n",
              "      <td>0</td>\n",
              "      <td>NaN</td>\n",
              "      <td>49.0</td>\n",
              "      <td>88888.0</td>\n",
              "      <td>NaN</td>\n",
              "      <td>NaN</td>\n",
              "      <td>NaN</td>\n",
              "      <td>0.000000</td>\n",
              "      <td>84088888.0</td>\n",
              "      <td>USA</td>\n",
              "      <td>NaN</td>\n",
              "      <td>NaN</td>\n",
              "    </tr>\n",
              "    <tr>\n",
              "      <th>6469</th>\n",
              "      <td>Grand Princess</td>\n",
              "      <td>US</td>\n",
              "      <td>2020-07-04 04:34:04</td>\n",
              "      <td>NaN</td>\n",
              "      <td>NaN</td>\n",
              "      <td>103</td>\n",
              "      <td>3</td>\n",
              "      <td>NaN</td>\n",
              "      <td>100.0</td>\n",
              "      <td>99999.0</td>\n",
              "      <td>NaN</td>\n",
              "      <td>NaN</td>\n",
              "      <td>NaN</td>\n",
              "      <td>2.912621</td>\n",
              "      <td>84099999.0</td>\n",
              "      <td>USA</td>\n",
              "      <td>NaN</td>\n",
              "      <td>NaN</td>\n",
              "    </tr>\n",
              "  </tbody>\n",
              "</table>\n",
              "<p>224 rows × 18 columns</p>\n",
              "</div>"
            ],
            "text/plain": [
              "        Province_State Country_Region  ... Testing_Rate  Hospitalization_Rate\n",
              "9     Diamond Princess             US  ...          NaN                   NaN\n",
              "13      Grand Princess             US  ...          NaN                   NaN\n",
              "67    Diamond Princess             US  ...          NaN                   NaN\n",
              "71      Grand Princess             US  ...          NaN                   NaN\n",
              "125   Diamond Princess             US  ...          NaN                   NaN\n",
              "...                ...            ...  ...          ...                   ...\n",
              "6352    Grand Princess             US  ...          NaN                   NaN\n",
              "6407  Diamond Princess             US  ...          NaN                   NaN\n",
              "6411    Grand Princess             US  ...          NaN                   NaN\n",
              "6465  Diamond Princess             US  ...          NaN                   NaN\n",
              "6469    Grand Princess             US  ...          NaN                   NaN\n",
              "\n",
              "[224 rows x 18 columns]"
            ]
          },
          "metadata": {
            "tags": []
          },
          "execution_count": 21
        }
      ]
    },
    {
      "cell_type": "code",
      "metadata": {
        "id": "ou4ts0fDQLtG"
      },
      "source": [
        "df = df[df['Province_State'] != 'Diamond Princess']\n",
        "df = df[df['Province_State'] != 'Grand Princess']"
      ],
      "execution_count": 22,
      "outputs": []
    },
    {
      "cell_type": "code",
      "metadata": {
        "colab": {
          "base_uri": "https://localhost:8080/"
        },
        "id": "c_dTKeo4QLtH",
        "outputId": "f666bf18-101a-4ab1-9685-f159b7e649d9"
      },
      "source": [
        "df.isnull().sum()"
      ],
      "execution_count": 23,
      "outputs": [
        {
          "output_type": "execute_result",
          "data": {
            "text/plain": [
              "Province_State             0\n",
              "Country_Region             0\n",
              "Last_Update                0\n",
              "Lat                        0\n",
              "Long_                      0\n",
              "Confirmed                  0\n",
              "Deaths                     0\n",
              "Recovered               1262\n",
              "Active                     0\n",
              "FIPS                       0\n",
              "Incident_Rate              0\n",
              "People_Tested              0\n",
              "People_Hospitalized     1993\n",
              "Mortality_Rate             0\n",
              "UID                        0\n",
              "ISO3                       0\n",
              "Testing_Rate               0\n",
              "Hospitalization_Rate    1993\n",
              "dtype: int64"
            ]
          },
          "metadata": {
            "tags": []
          },
          "execution_count": 23
        }
      ]
    },
    {
      "cell_type": "code",
      "metadata": {
        "id": "qYSxZ2XYQLtI"
      },
      "source": [
        "def recovered(row):\n",
        "    if np.isnan(row['Recovered']):\n",
        "        row['Recovered'] = row['Confirmed'] - row[\"Active\"] - row['Deaths']\n",
        "    return row\n",
        "df = df.apply(recovered, axis = 1)"
      ],
      "execution_count": 24,
      "outputs": []
    },
    {
      "cell_type": "code",
      "metadata": {
        "colab": {
          "base_uri": "https://localhost:8080/"
        },
        "id": "y5oB4yKRQLtI",
        "outputId": "722c9556-eef3-42a0-dab6-544841fbc16c"
      },
      "source": [
        "df.isnull().sum()"
      ],
      "execution_count": 25,
      "outputs": [
        {
          "output_type": "execute_result",
          "data": {
            "text/plain": [
              "Province_State             0\n",
              "Country_Region             0\n",
              "Last_Update                0\n",
              "Lat                        0\n",
              "Long_                      0\n",
              "Confirmed                  0\n",
              "Deaths                     0\n",
              "Recovered                  0\n",
              "Active                     0\n",
              "FIPS                       0\n",
              "Incident_Rate              0\n",
              "People_Tested              0\n",
              "People_Hospitalized     1993\n",
              "Mortality_Rate             0\n",
              "UID                        0\n",
              "ISO3                       0\n",
              "Testing_Rate               0\n",
              "Hospitalization_Rate    1993\n",
              "dtype: int64"
            ]
          },
          "metadata": {
            "tags": []
          },
          "execution_count": 25
        }
      ]
    },
    {
      "cell_type": "code",
      "metadata": {
        "colab": {
          "base_uri": "https://localhost:8080/",
          "height": 282
        },
        "id": "mVoIKMhxQLtI",
        "outputId": "fd0c3362-bfb3-4b85-9233-3457d92074e9"
      },
      "source": [
        "df['People_Hospitalized'].plot(kind = 'kde')"
      ],
      "execution_count": 26,
      "outputs": [
        {
          "output_type": "execute_result",
          "data": {
            "text/plain": [
              "<matplotlib.axes._subplots.AxesSubplot at 0x7fecf8d7b080>"
            ]
          },
          "metadata": {
            "tags": []
          },
          "execution_count": 26
        },
        {
          "output_type": "display_data",
          "data": {
            "image/png": "[encoded data removed]",
            "text/plain": [
              "<Figure size 432x288 with 1 Axes>"
            ]
          },
          "metadata": {
            "tags": [],
            "needs_background": "light"
          }
        }
      ]
    },
    {
      "cell_type": "markdown",
      "metadata": {
        "id": "IP9QVW9tQLtJ"
      },
      "source": [
        "we will impute the values which are previous or after the missing values"
      ]
    },
    {
      "cell_type": "code",
      "metadata": {
        "id": "H6ub4UcyQLtJ"
      },
      "source": [
        "df['People_Hospitalized'] = df.groupby('Province_State')['People_Hospitalized'].transform(\n",
        "    lambda grp: grp.fillna(method = 'ffill'))"
      ],
      "execution_count": 27,
      "outputs": []
    },
    {
      "cell_type": "code",
      "metadata": {
        "colab": {
          "base_uri": "https://localhost:8080/"
        },
        "id": "AirjAQqTQLtJ",
        "outputId": "24d65db4-35a4-445a-dc94-af8b7ac3b04a"
      },
      "source": [
        "df.isnull().sum()"
      ],
      "execution_count": 28,
      "outputs": [
        {
          "output_type": "execute_result",
          "data": {
            "text/plain": [
              "Province_State             0\n",
              "Country_Region             0\n",
              "Last_Update                0\n",
              "Lat                        0\n",
              "Long_                      0\n",
              "Confirmed                  0\n",
              "Deaths                     0\n",
              "Recovered                  0\n",
              "Active                     0\n",
              "FIPS                       0\n",
              "Incident_Rate              0\n",
              "People_Tested              0\n",
              "People_Hospitalized      251\n",
              "Mortality_Rate             0\n",
              "UID                        0\n",
              "ISO3                       0\n",
              "Testing_Rate               0\n",
              "Hospitalization_Rate    1993\n",
              "dtype: int64"
            ]
          },
          "metadata": {
            "tags": []
          },
          "execution_count": 28
        }
      ]
    },
    {
      "cell_type": "code",
      "metadata": {
        "id": "1eZnJ4TuQLtJ"
      },
      "source": [
        "df['People_Hospitalized'] = df.groupby('Province_State')['People_Hospitalized'].transform(\n",
        "    lambda grp: grp.fillna(method = 'bfill'))"
      ],
      "execution_count": 29,
      "outputs": []
    },
    {
      "cell_type": "code",
      "metadata": {
        "id": "JXI4Y9gjQLtJ"
      },
      "source": [
        "df['Hospitalization_Rate'] = df.groupby('Province_State')['Hospitalization_Rate'].transform(\n",
        "    lambda grp: grp.fillna(method = 'ffill'))"
      ],
      "execution_count": 30,
      "outputs": []
    },
    {
      "cell_type": "code",
      "metadata": {
        "id": "Wp26Z7fTQLtK"
      },
      "source": [
        "df['Hospitalization_Rate'] = df.groupby('Province_State')['Hospitalization_Rate'].transform(\n",
        "    lambda grp: grp.fillna(method = 'bfill'))"
      ],
      "execution_count": 31,
      "outputs": []
    },
    {
      "cell_type": "code",
      "metadata": {
        "colab": {
          "base_uri": "https://localhost:8080/",
          "height": 617
        },
        "id": "53aUhldkQLtK",
        "outputId": "d1ef0a88-6af4-4b66-cb70-93bea4ced0ea"
      },
      "source": [
        "df[df['People_Hospitalized'].isnull()]"
      ],
      "execution_count": 32,
      "outputs": [
        {
          "output_type": "execute_result",
          "data": {
            "text/html": [
              "<div>\n",
              "<style scoped>\n",
              "    .dataframe tbody tr th:only-of-type {\n",
              "        vertical-align: middle;\n",
              "    }\n",
              "\n",
              "    .dataframe tbody tr th {\n",
              "        vertical-align: top;\n",
              "    }\n",
              "\n",
              "    .dataframe thead th {\n",
              "        text-align: right;\n",
              "    }\n",
              "</style>\n",
              "<table border=\"1\" class=\"dataframe\">\n",
              "  <thead>\n",
              "    <tr style=\"text-align: right;\">\n",
              "      <th></th>\n",
              "      <th>Province_State</th>\n",
              "      <th>Country_Region</th>\n",
              "      <th>Last_Update</th>\n",
              "      <th>Lat</th>\n",
              "      <th>Long_</th>\n",
              "      <th>Confirmed</th>\n",
              "      <th>Deaths</th>\n",
              "      <th>Recovered</th>\n",
              "      <th>Active</th>\n",
              "      <th>FIPS</th>\n",
              "      <th>Incident_Rate</th>\n",
              "      <th>People_Tested</th>\n",
              "      <th>People_Hospitalized</th>\n",
              "      <th>Mortality_Rate</th>\n",
              "      <th>UID</th>\n",
              "      <th>ISO3</th>\n",
              "      <th>Testing_Rate</th>\n",
              "      <th>Hospitalization_Rate</th>\n",
              "    </tr>\n",
              "  </thead>\n",
              "  <tbody>\n",
              "    <tr>\n",
              "      <th>44</th>\n",
              "      <td>Puerto Rico</td>\n",
              "      <td>US</td>\n",
              "      <td>2020-05-29 02:32:58</td>\n",
              "      <td>18.2208</td>\n",
              "      <td>-66.5901</td>\n",
              "      <td>3486</td>\n",
              "      <td>131</td>\n",
              "      <td>0.0</td>\n",
              "      <td>3355.0</td>\n",
              "      <td>72.0</td>\n",
              "      <td>118.837884</td>\n",
              "      <td>3486.0</td>\n",
              "      <td>NaN</td>\n",
              "      <td>3.757889</td>\n",
              "      <td>630.0</td>\n",
              "      <td>PRI</td>\n",
              "      <td>118.837884</td>\n",
              "      <td>NaN</td>\n",
              "    </tr>\n",
              "    <tr>\n",
              "      <th>102</th>\n",
              "      <td>Puerto Rico</td>\n",
              "      <td>US</td>\n",
              "      <td>2020-05-25 02:32:50</td>\n",
              "      <td>18.2208</td>\n",
              "      <td>-66.5901</td>\n",
              "      <td>3189</td>\n",
              "      <td>127</td>\n",
              "      <td>0.0</td>\n",
              "      <td>3062.0</td>\n",
              "      <td>72.0</td>\n",
              "      <td>108.713142</td>\n",
              "      <td>3189.0</td>\n",
              "      <td>NaN</td>\n",
              "      <td>3.982440</td>\n",
              "      <td>630.0</td>\n",
              "      <td>PRI</td>\n",
              "      <td>108.713142</td>\n",
              "      <td>NaN</td>\n",
              "    </tr>\n",
              "    <tr>\n",
              "      <th>160</th>\n",
              "      <td>Puerto Rico</td>\n",
              "      <td>US</td>\n",
              "      <td>2020-05-11 02:32:34</td>\n",
              "      <td>18.2208</td>\n",
              "      <td>-66.5901</td>\n",
              "      <td>2198</td>\n",
              "      <td>111</td>\n",
              "      <td>0.0</td>\n",
              "      <td>2087.0</td>\n",
              "      <td>72.0</td>\n",
              "      <td>74.929911</td>\n",
              "      <td>2198.0</td>\n",
              "      <td>NaN</td>\n",
              "      <td>5.050045</td>\n",
              "      <td>630.0</td>\n",
              "      <td>PRI</td>\n",
              "      <td>74.929911</td>\n",
              "      <td>NaN</td>\n",
              "    </tr>\n",
              "    <tr>\n",
              "      <th>218</th>\n",
              "      <td>Puerto Rico</td>\n",
              "      <td>US</td>\n",
              "      <td>2020-06-18 04:33:30</td>\n",
              "      <td>18.2208</td>\n",
              "      <td>-66.5901</td>\n",
              "      <td>6003</td>\n",
              "      <td>147</td>\n",
              "      <td>0.0</td>\n",
              "      <td>5856.0</td>\n",
              "      <td>72.0</td>\n",
              "      <td>204.642518</td>\n",
              "      <td>6003.0</td>\n",
              "      <td>NaN</td>\n",
              "      <td>2.448776</td>\n",
              "      <td>630.0</td>\n",
              "      <td>PRI</td>\n",
              "      <td>204.642518</td>\n",
              "      <td>NaN</td>\n",
              "    </tr>\n",
              "    <tr>\n",
              "      <th>276</th>\n",
              "      <td>Puerto Rico</td>\n",
              "      <td>US</td>\n",
              "      <td>2020-05-30 02:32:55</td>\n",
              "      <td>18.2208</td>\n",
              "      <td>-66.5901</td>\n",
              "      <td>3647</td>\n",
              "      <td>132</td>\n",
              "      <td>0.0</td>\n",
              "      <td>3515.0</td>\n",
              "      <td>72.0</td>\n",
              "      <td>124.326381</td>\n",
              "      <td>3647.0</td>\n",
              "      <td>NaN</td>\n",
              "      <td>3.619413</td>\n",
              "      <td>630.0</td>\n",
              "      <td>PRI</td>\n",
              "      <td>124.326381</td>\n",
              "      <td>NaN</td>\n",
              "    </tr>\n",
              "    <tr>\n",
              "      <th>...</th>\n",
              "      <td>...</td>\n",
              "      <td>...</td>\n",
              "      <td>...</td>\n",
              "      <td>...</td>\n",
              "      <td>...</td>\n",
              "      <td>...</td>\n",
              "      <td>...</td>\n",
              "      <td>...</td>\n",
              "      <td>...</td>\n",
              "      <td>...</td>\n",
              "      <td>...</td>\n",
              "      <td>...</td>\n",
              "      <td>...</td>\n",
              "      <td>...</td>\n",
              "      <td>...</td>\n",
              "      <td>...</td>\n",
              "      <td>...</td>\n",
              "      <td>...</td>\n",
              "    </tr>\n",
              "    <tr>\n",
              "      <th>6267</th>\n",
              "      <td>Puerto Rico</td>\n",
              "      <td>US</td>\n",
              "      <td>2020-05-02 02:32:31</td>\n",
              "      <td>18.2208</td>\n",
              "      <td>-66.5901</td>\n",
              "      <td>1575</td>\n",
              "      <td>94</td>\n",
              "      <td>0.0</td>\n",
              "      <td>1481.0</td>\n",
              "      <td>72.0</td>\n",
              "      <td>53.691815</td>\n",
              "      <td>10888.0</td>\n",
              "      <td>NaN</td>\n",
              "      <td>5.968254</td>\n",
              "      <td>630.0</td>\n",
              "      <td>PRI</td>\n",
              "      <td>371.172370</td>\n",
              "      <td>NaN</td>\n",
              "    </tr>\n",
              "    <tr>\n",
              "      <th>6325</th>\n",
              "      <td>Puerto Rico</td>\n",
              "      <td>US</td>\n",
              "      <td>2020-07-31 04:35:31</td>\n",
              "      <td>18.2208</td>\n",
              "      <td>-66.5901</td>\n",
              "      <td>16572</td>\n",
              "      <td>214</td>\n",
              "      <td>0.0</td>\n",
              "      <td>16358.0</td>\n",
              "      <td>72.0</td>\n",
              "      <td>564.940165</td>\n",
              "      <td>322544.0</td>\n",
              "      <td>NaN</td>\n",
              "      <td>1.291335</td>\n",
              "      <td>630.0</td>\n",
              "      <td>PRI</td>\n",
              "      <td>10995.538295</td>\n",
              "      <td>NaN</td>\n",
              "    </tr>\n",
              "    <tr>\n",
              "      <th>6383</th>\n",
              "      <td>Puerto Rico</td>\n",
              "      <td>US</td>\n",
              "      <td>2020-04-25 06:32:46</td>\n",
              "      <td>18.2208</td>\n",
              "      <td>-66.5901</td>\n",
              "      <td>1276</td>\n",
              "      <td>77</td>\n",
              "      <td>0.0</td>\n",
              "      <td>1199.0</td>\n",
              "      <td>72.0</td>\n",
              "      <td>43.498893</td>\n",
              "      <td>10589.0</td>\n",
              "      <td>NaN</td>\n",
              "      <td>6.034483</td>\n",
              "      <td>630.0</td>\n",
              "      <td>PRI</td>\n",
              "      <td>360.979448</td>\n",
              "      <td>NaN</td>\n",
              "    </tr>\n",
              "    <tr>\n",
              "      <th>6442</th>\n",
              "      <td>Puerto Rico</td>\n",
              "      <td>US</td>\n",
              "      <td>2020-06-26 04:33:54</td>\n",
              "      <td>18.2208</td>\n",
              "      <td>-66.5901</td>\n",
              "      <td>6877</td>\n",
              "      <td>151</td>\n",
              "      <td>0.0</td>\n",
              "      <td>6726.0</td>\n",
              "      <td>72.0</td>\n",
              "      <td>234.437214</td>\n",
              "      <td>6877.0</td>\n",
              "      <td>NaN</td>\n",
              "      <td>2.195725</td>\n",
              "      <td>630.0</td>\n",
              "      <td>PRI</td>\n",
              "      <td>234.437214</td>\n",
              "      <td>NaN</td>\n",
              "    </tr>\n",
              "    <tr>\n",
              "      <th>6500</th>\n",
              "      <td>Puerto Rico</td>\n",
              "      <td>US</td>\n",
              "      <td>2020-07-04 04:34:04</td>\n",
              "      <td>18.2208</td>\n",
              "      <td>-66.5901</td>\n",
              "      <td>7683</td>\n",
              "      <td>154</td>\n",
              "      <td>0.0</td>\n",
              "      <td>7529.0</td>\n",
              "      <td>72.0</td>\n",
              "      <td>261.913788</td>\n",
              "      <td>7683.0</td>\n",
              "      <td>NaN</td>\n",
              "      <td>2.004425</td>\n",
              "      <td>630.0</td>\n",
              "      <td>PRI</td>\n",
              "      <td>261.913788</td>\n",
              "      <td>NaN</td>\n",
              "    </tr>\n",
              "  </tbody>\n",
              "</table>\n",
              "<p>112 rows × 18 columns</p>\n",
              "</div>"
            ],
            "text/plain": [
              "     Province_State Country_Region  ...  Testing_Rate  Hospitalization_Rate\n",
              "44      Puerto Rico             US  ...    118.837884                   NaN\n",
              "102     Puerto Rico             US  ...    108.713142                   NaN\n",
              "160     Puerto Rico             US  ...     74.929911                   NaN\n",
              "218     Puerto Rico             US  ...    204.642518                   NaN\n",
              "276     Puerto Rico             US  ...    124.326381                   NaN\n",
              "...             ...            ...  ...           ...                   ...\n",
              "6267    Puerto Rico             US  ...    371.172370                   NaN\n",
              "6325    Puerto Rico             US  ...  10995.538295                   NaN\n",
              "6383    Puerto Rico             US  ...    360.979448                   NaN\n",
              "6442    Puerto Rico             US  ...    234.437214                   NaN\n",
              "6500    Puerto Rico             US  ...    261.913788                   NaN\n",
              "\n",
              "[112 rows x 18 columns]"
            ]
          },
          "metadata": {
            "tags": []
          },
          "execution_count": 32
        }
      ]
    },
    {
      "cell_type": "code",
      "metadata": {
        "id": "8fXjzLfQQLtK"
      },
      "source": [
        "df = df[df['Province_State'] != 'Puerto Rico']"
      ],
      "execution_count": 33,
      "outputs": []
    },
    {
      "cell_type": "code",
      "metadata": {
        "colab": {
          "base_uri": "https://localhost:8080/"
        },
        "id": "ik2igmMfQLtK",
        "outputId": "528a22a7-a009-415b-eba5-a7e21c1759cc"
      },
      "source": [
        "df.isnull().sum()"
      ],
      "execution_count": 34,
      "outputs": [
        {
          "output_type": "execute_result",
          "data": {
            "text/plain": [
              "Province_State          0\n",
              "Country_Region          0\n",
              "Last_Update             0\n",
              "Lat                     0\n",
              "Long_                   0\n",
              "Confirmed               0\n",
              "Deaths                  0\n",
              "Recovered               0\n",
              "Active                  0\n",
              "FIPS                    0\n",
              "Incident_Rate           0\n",
              "People_Tested           0\n",
              "People_Hospitalized     0\n",
              "Mortality_Rate          0\n",
              "UID                     0\n",
              "ISO3                    0\n",
              "Testing_Rate            0\n",
              "Hospitalization_Rate    0\n",
              "dtype: int64"
            ]
          },
          "metadata": {
            "tags": []
          },
          "execution_count": 34
        }
      ]
    },
    {
      "cell_type": "code",
      "metadata": {
        "colab": {
          "base_uri": "https://localhost:8080/"
        },
        "id": "Amv-OJdxQLtK",
        "outputId": "fc0dfc05-4676-4905-879d-1041b6685fc0"
      },
      "source": [
        "df.shape"
      ],
      "execution_count": 35,
      "outputs": [
        {
          "output_type": "execute_result",
          "data": {
            "text/plain": [
              "(6048, 18)"
            ]
          },
          "metadata": {
            "tags": []
          },
          "execution_count": 35
        }
      ]
    },
    {
      "cell_type": "code",
      "metadata": {
        "id": "9XTNOLp1QLtK"
      },
      "source": [
        "df.drop('Country_Region', axis = 1, inplace = True)"
      ],
      "execution_count": 36,
      "outputs": []
    },
    {
      "cell_type": "code",
      "metadata": {
        "colab": {
          "base_uri": "https://localhost:8080/",
          "height": 313
        },
        "id": "FvZNzdUpQLtK",
        "outputId": "632d1724-5539-439f-f7a8-07faca13dbab"
      },
      "source": [
        "df.head()"
      ],
      "execution_count": 37,
      "outputs": [
        {
          "output_type": "execute_result",
          "data": {
            "text/html": [
              "<div>\n",
              "<style scoped>\n",
              "    .dataframe tbody tr th:only-of-type {\n",
              "        vertical-align: middle;\n",
              "    }\n",
              "\n",
              "    .dataframe tbody tr th {\n",
              "        vertical-align: top;\n",
              "    }\n",
              "\n",
              "    .dataframe thead th {\n",
              "        text-align: right;\n",
              "    }\n",
              "</style>\n",
              "<table border=\"1\" class=\"dataframe\">\n",
              "  <thead>\n",
              "    <tr style=\"text-align: right;\">\n",
              "      <th></th>\n",
              "      <th>Province_State</th>\n",
              "      <th>Last_Update</th>\n",
              "      <th>Lat</th>\n",
              "      <th>Long_</th>\n",
              "      <th>Confirmed</th>\n",
              "      <th>Deaths</th>\n",
              "      <th>Recovered</th>\n",
              "      <th>Active</th>\n",
              "      <th>FIPS</th>\n",
              "      <th>Incident_Rate</th>\n",
              "      <th>People_Tested</th>\n",
              "      <th>People_Hospitalized</th>\n",
              "      <th>Mortality_Rate</th>\n",
              "      <th>UID</th>\n",
              "      <th>ISO3</th>\n",
              "      <th>Testing_Rate</th>\n",
              "      <th>Hospitalization_Rate</th>\n",
              "    </tr>\n",
              "  </thead>\n",
              "  <tbody>\n",
              "    <tr>\n",
              "      <th>0</th>\n",
              "      <td>Alabama</td>\n",
              "      <td>2020-05-29 02:32:58</td>\n",
              "      <td>32.3182</td>\n",
              "      <td>-86.9023</td>\n",
              "      <td>16530</td>\n",
              "      <td>591</td>\n",
              "      <td>9355.0</td>\n",
              "      <td>6584.0</td>\n",
              "      <td>1.0</td>\n",
              "      <td>337.127806</td>\n",
              "      <td>200481.0</td>\n",
              "      <td>1765.0</td>\n",
              "      <td>3.575318</td>\n",
              "      <td>84000001.0</td>\n",
              "      <td>USA</td>\n",
              "      <td>4088.791265</td>\n",
              "      <td>10.677556</td>\n",
              "    </tr>\n",
              "    <tr>\n",
              "      <th>1</th>\n",
              "      <td>Alaska</td>\n",
              "      <td>2020-05-29 02:32:58</td>\n",
              "      <td>61.3707</td>\n",
              "      <td>-152.4044</td>\n",
              "      <td>424</td>\n",
              "      <td>10</td>\n",
              "      <td>366.0</td>\n",
              "      <td>48.0</td>\n",
              "      <td>2.0</td>\n",
              "      <td>57.959524</td>\n",
              "      <td>47970.0</td>\n",
              "      <td>39.0</td>\n",
              "      <td>2.358491</td>\n",
              "      <td>84000002.0</td>\n",
              "      <td>USA</td>\n",
              "      <td>6557.354640</td>\n",
              "      <td>12.420382</td>\n",
              "    </tr>\n",
              "    <tr>\n",
              "      <th>3</th>\n",
              "      <td>Arizona</td>\n",
              "      <td>2020-05-29 02:32:58</td>\n",
              "      <td>33.7298</td>\n",
              "      <td>-111.4312</td>\n",
              "      <td>17877</td>\n",
              "      <td>860</td>\n",
              "      <td>4452.0</td>\n",
              "      <td>12565.0</td>\n",
              "      <td>4.0</td>\n",
              "      <td>245.606472</td>\n",
              "      <td>202914.0</td>\n",
              "      <td>2848.0</td>\n",
              "      <td>4.810651</td>\n",
              "      <td>84000004.0</td>\n",
              "      <td>USA</td>\n",
              "      <td>2787.771526</td>\n",
              "      <td>15.931085</td>\n",
              "    </tr>\n",
              "    <tr>\n",
              "      <th>4</th>\n",
              "      <td>Arkansas</td>\n",
              "      <td>2020-05-29 02:32:58</td>\n",
              "      <td>34.9697</td>\n",
              "      <td>-92.3731</td>\n",
              "      <td>6538</td>\n",
              "      <td>125</td>\n",
              "      <td>4583.0</td>\n",
              "      <td>1830.0</td>\n",
              "      <td>5.0</td>\n",
              "      <td>216.647602</td>\n",
              "      <td>118902.0</td>\n",
              "      <td>640.0</td>\n",
              "      <td>1.911900</td>\n",
              "      <td>84000005.0</td>\n",
              "      <td>USA</td>\n",
              "      <td>3940.017311</td>\n",
              "      <td>9.788926</td>\n",
              "    </tr>\n",
              "    <tr>\n",
              "      <th>5</th>\n",
              "      <td>California</td>\n",
              "      <td>2020-05-29 02:32:58</td>\n",
              "      <td>36.1162</td>\n",
              "      <td>-119.6816</td>\n",
              "      <td>103813</td>\n",
              "      <td>3993</td>\n",
              "      <td>0.0</td>\n",
              "      <td>99820.0</td>\n",
              "      <td>6.0</td>\n",
              "      <td>262.736420</td>\n",
              "      <td>1790559.0</td>\n",
              "      <td>4892.0</td>\n",
              "      <td>3.846339</td>\n",
              "      <td>84000006.0</td>\n",
              "      <td>USA</td>\n",
              "      <td>4531.658469</td>\n",
              "      <td>16.044079</td>\n",
              "    </tr>\n",
              "  </tbody>\n",
              "</table>\n",
              "</div>"
            ],
            "text/plain": [
              "  Province_State         Last_Update  ...  Testing_Rate  Hospitalization_Rate\n",
              "0        Alabama 2020-05-29 02:32:58  ...   4088.791265             10.677556\n",
              "1         Alaska 2020-05-29 02:32:58  ...   6557.354640             12.420382\n",
              "3        Arizona 2020-05-29 02:32:58  ...   2787.771526             15.931085\n",
              "4       Arkansas 2020-05-29 02:32:58  ...   3940.017311              9.788926\n",
              "5     California 2020-05-29 02:32:58  ...   4531.658469             16.044079\n",
              "\n",
              "[5 rows x 17 columns]"
            ]
          },
          "metadata": {
            "tags": []
          },
          "execution_count": 37
        }
      ]
    },
    {
      "cell_type": "markdown",
      "metadata": {
        "id": "tCMQMJDgQLtK"
      },
      "source": [
        "## Exploratory Data Analysis"
      ]
    },
    {
      "cell_type": "code",
      "metadata": {
        "colab": {
          "base_uri": "https://localhost:8080/",
          "height": 0
        },
        "id": "RnD7BnJDQLtK",
        "outputId": "8dfd3a92-f646-48be-95c4-5ddd5e2bb662"
      },
      "source": [
        "df.groupby(\"Province_State\")[['Confirmed', 'Recovered', 'Deaths']].sum().sort_values(by = 'Confirmed',ascending = False).head(10)"
      ],
      "execution_count": 38,
      "outputs": [
        {
          "output_type": "execute_result",
          "data": {
            "text/html": [
              "<div>\n",
              "<style scoped>\n",
              "    .dataframe tbody tr th:only-of-type {\n",
              "        vertical-align: middle;\n",
              "    }\n",
              "\n",
              "    .dataframe tbody tr th {\n",
              "        vertical-align: top;\n",
              "    }\n",
              "\n",
              "    .dataframe thead th {\n",
              "        text-align: right;\n",
              "    }\n",
              "</style>\n",
              "<table border=\"1\" class=\"dataframe\">\n",
              "  <thead>\n",
              "    <tr style=\"text-align: right;\">\n",
              "      <th></th>\n",
              "      <th>Confirmed</th>\n",
              "      <th>Recovered</th>\n",
              "      <th>Deaths</th>\n",
              "    </tr>\n",
              "    <tr>\n",
              "      <th>Province_State</th>\n",
              "      <th></th>\n",
              "      <th></th>\n",
              "      <th></th>\n",
              "    </tr>\n",
              "  </thead>\n",
              "  <tbody>\n",
              "    <tr>\n",
              "      <th>New York</th>\n",
              "      <td>39984763</td>\n",
              "      <td>6787204.0</td>\n",
              "      <td>3164658</td>\n",
              "    </tr>\n",
              "    <tr>\n",
              "      <th>California</th>\n",
              "      <td>19845648</td>\n",
              "      <td>0.0</td>\n",
              "      <td>521024</td>\n",
              "    </tr>\n",
              "    <tr>\n",
              "      <th>New Jersey</th>\n",
              "      <td>16873756</td>\n",
              "      <td>2545896.0</td>\n",
              "      <td>1287224</td>\n",
              "    </tr>\n",
              "    <tr>\n",
              "      <th>Florida</th>\n",
              "      <td>14783665</td>\n",
              "      <td>-102000.0</td>\n",
              "      <td>322027</td>\n",
              "    </tr>\n",
              "    <tr>\n",
              "      <th>Texas</th>\n",
              "      <td>14714968</td>\n",
              "      <td>8157723.0</td>\n",
              "      <td>240482</td>\n",
              "    </tr>\n",
              "    <tr>\n",
              "      <th>Illinois</th>\n",
              "      <td>12618458</td>\n",
              "      <td>0.0</td>\n",
              "      <td>579827</td>\n",
              "    </tr>\n",
              "    <tr>\n",
              "      <th>Massachusetts</th>\n",
              "      <td>10180134</td>\n",
              "      <td>2765188.0</td>\n",
              "      <td>706398</td>\n",
              "    </tr>\n",
              "    <tr>\n",
              "      <th>Pennsylvania</th>\n",
              "      <td>8503000</td>\n",
              "      <td>4617766.0</td>\n",
              "      <td>570365</td>\n",
              "    </tr>\n",
              "    <tr>\n",
              "      <th>Georgia</th>\n",
              "      <td>7661863</td>\n",
              "      <td>0.0</td>\n",
              "      <td>241027</td>\n",
              "    </tr>\n",
              "    <tr>\n",
              "      <th>Michigan</th>\n",
              "      <td>6735794</td>\n",
              "      <td>3954049.0</td>\n",
              "      <td>581592</td>\n",
              "    </tr>\n",
              "  </tbody>\n",
              "</table>\n",
              "</div>"
            ],
            "text/plain": [
              "                Confirmed  Recovered   Deaths\n",
              "Province_State                               \n",
              "New York         39984763  6787204.0  3164658\n",
              "California       19845648        0.0   521024\n",
              "New Jersey       16873756  2545896.0  1287224\n",
              "Florida          14783665  -102000.0   322027\n",
              "Texas            14714968  8157723.0   240482\n",
              "Illinois         12618458        0.0   579827\n",
              "Massachusetts    10180134  2765188.0   706398\n",
              "Pennsylvania      8503000  4617766.0   570365\n",
              "Georgia           7661863        0.0   241027\n",
              "Michigan          6735794  3954049.0   581592"
            ]
          },
          "metadata": {
            "tags": []
          },
          "execution_count": 38
        }
      ]
    },
    {
      "cell_type": "code",
      "metadata": {
        "colab": {
          "base_uri": "https://localhost:8080/",
          "height": 0
        },
        "id": "lbs9Oq4wQLtK",
        "outputId": "a85061a2-9f26-489f-e7a8-9ea564074719"
      },
      "source": [
        "df[(df['Province_State'] == 'Florida') & (df['Recovered']<0)]"
      ],
      "execution_count": 39,
      "outputs": [
        {
          "output_type": "execute_result",
          "data": {
            "text/html": [
              "<div>\n",
              "<style scoped>\n",
              "    .dataframe tbody tr th:only-of-type {\n",
              "        vertical-align: middle;\n",
              "    }\n",
              "\n",
              "    .dataframe tbody tr th {\n",
              "        vertical-align: top;\n",
              "    }\n",
              "\n",
              "    .dataframe thead th {\n",
              "        text-align: right;\n",
              "    }\n",
              "</style>\n",
              "<table border=\"1\" class=\"dataframe\">\n",
              "  <thead>\n",
              "    <tr style=\"text-align: right;\">\n",
              "      <th></th>\n",
              "      <th>Province_State</th>\n",
              "      <th>Last_Update</th>\n",
              "      <th>Lat</th>\n",
              "      <th>Long_</th>\n",
              "      <th>Confirmed</th>\n",
              "      <th>Deaths</th>\n",
              "      <th>Recovered</th>\n",
              "      <th>Active</th>\n",
              "      <th>FIPS</th>\n",
              "      <th>Incident_Rate</th>\n",
              "      <th>People_Tested</th>\n",
              "      <th>People_Hospitalized</th>\n",
              "      <th>Mortality_Rate</th>\n",
              "      <th>UID</th>\n",
              "      <th>ISO3</th>\n",
              "      <th>Testing_Rate</th>\n",
              "      <th>Hospitalization_Rate</th>\n",
              "    </tr>\n",
              "  </thead>\n",
              "  <tbody>\n",
              "    <tr>\n",
              "      <th>768</th>\n",
              "      <td>Florida</td>\n",
              "      <td>2020-04-14 00:42:00</td>\n",
              "      <td>27.7663</td>\n",
              "      <td>-81.6868</td>\n",
              "      <td>21019</td>\n",
              "      <td>499</td>\n",
              "      <td>-102000.0</td>\n",
              "      <td>122520.0</td>\n",
              "      <td>12.0</td>\n",
              "      <td>579.387193</td>\n",
              "      <td>196207.0</td>\n",
              "      <td>2833.0</td>\n",
              "      <td>0.405628</td>\n",
              "      <td>84000012.0</td>\n",
              "      <td>USA</td>\n",
              "      <td>924.083459</td>\n",
              "      <td>2.302896</td>\n",
              "    </tr>\n",
              "  </tbody>\n",
              "</table>\n",
              "</div>"
            ],
            "text/plain": [
              "    Province_State         Last_Update  ...  Testing_Rate  Hospitalization_Rate\n",
              "768        Florida 2020-04-14 00:42:00  ...    924.083459              2.302896\n",
              "\n",
              "[1 rows x 17 columns]"
            ]
          },
          "metadata": {
            "tags": []
          },
          "execution_count": 39
        }
      ]
    },
    {
      "cell_type": "markdown",
      "metadata": {
        "id": "C8F1wrswQLtM"
      },
      "source": [
        "We will remove this instance as active cases cannot be higher than confirmed cases"
      ]
    },
    {
      "cell_type": "code",
      "metadata": {
        "id": "XQIM2rmhQLtN"
      },
      "source": [
        "df.drop(768, inplace = True)"
      ],
      "execution_count": 40,
      "outputs": []
    },
    {
      "cell_type": "markdown",
      "metadata": {
        "id": "bhS0GUfPQLtN"
      },
      "source": [
        "## Exploratory Data Analysis"
      ]
    },
    {
      "cell_type": "code",
      "metadata": {
        "colab": {
          "base_uri": "https://localhost:8080/",
          "height": 0
        },
        "id": "8I3wKH9bQLtN",
        "outputId": "161b3150-146a-41b2-bbe9-722fb13b96c5"
      },
      "source": [
        "df.groupby(\"Province_State\")[['Confirmed', 'Recovered', 'Deaths']].sum().sort_values(by = \n",
        "                                                                                     'Confirmed',ascending = False).head(10).plot(kind = 'bar', figsize = (15,7))"
      ],
      "execution_count": 41,
      "outputs": [
        {
          "output_type": "execute_result",
          "data": {
            "text/plain": [
              "<matplotlib.axes._subplots.AxesSubplot at 0x7fecf8efba90>"
            ]
          },
          "metadata": {
            "tags": []
          },
          "execution_count": 41
        },
        {
          "output_type": "display_data",
          "data": {
            "image/png": "[encoded data removed]",
            "text/plain": [
              "<Figure size 1080x504 with 1 Axes>"
            ]
          },
          "metadata": {
            "tags": [],
            "needs_background": "light"
          }
        }
      ]
    },
    {
      "cell_type": "markdown",
      "metadata": {
        "id": "upXl8Y7FQLtN"
      },
      "source": [
        "These are the top ten states in US in terms of COVID -19 cases"
      ]
    },
    {
      "cell_type": "code",
      "metadata": {
        "colab": {
          "base_uri": "https://localhost:8080/",
          "height": 0
        },
        "id": "ZXo_FB_HQLtN",
        "outputId": "67627f90-dc9d-4971-cabe-32d57b275a1a"
      },
      "source": [
        "df.groupby(\"Province_State\")[['Confirmed', 'Recovered', 'Deaths']].sum().sort_values(by = \n",
        "                                                                                     'Confirmed',ascending = False).tail(10).plot(kind = 'bar', figsize = (15,7))"
      ],
      "execution_count": 42,
      "outputs": [
        {
          "output_type": "execute_result",
          "data": {
            "text/plain": [
              "<matplotlib.axes._subplots.AxesSubplot at 0x7fecf8e52d30>"
            ]
          },
          "metadata": {
            "tags": []
          },
          "execution_count": 42
        },
        {
          "output_type": "display_data",
          "data": {
            "image/png": "[encoded data removed]",
            "text/plain": [
              "<Figure size 1080x504 with 1 Axes>"
            ]
          },
          "metadata": {
            "tags": [],
            "needs_background": "light"
          }
        }
      ]
    },
    {
      "cell_type": "markdown",
      "metadata": {
        "id": "juLGfdjmQLtO"
      },
      "source": [
        "These are the last 10 states in terms of covid - 19 cases.\n",
        "They are also some of the least populated states in US."
      ]
    },
    {
      "cell_type": "code",
      "metadata": {
        "colab": {
          "base_uri": "https://localhost:8080/"
        },
        "id": "kn6mTa1lQLtO",
        "outputId": "1b196ea4-a0fa-445c-f709-a29b85486443"
      },
      "source": [
        "df.info()"
      ],
      "execution_count": 43,
      "outputs": [
        {
          "output_type": "stream",
          "text": [
            "<class 'pandas.core.frame.DataFrame'>\n",
            "Int64Index: 6047 entries, 0 to 6513\n",
            "Data columns (total 17 columns):\n",
            " #   Column                Non-Null Count  Dtype         \n",
            "---  ------                --------------  -----         \n",
            " 0   Province_State        6047 non-null   object        \n",
            " 1   Last_Update           6047 non-null   datetime64[ns]\n",
            " 2   Lat                   6047 non-null   float64       \n",
            " 3   Long_                 6047 non-null   float64       \n",
            " 4   Confirmed             6047 non-null   int64         \n",
            " 5   Deaths                6047 non-null   int64         \n",
            " 6   Recovered             6047 non-null   float64       \n",
            " 7   Active                6047 non-null   float64       \n",
            " 8   FIPS                  6047 non-null   float64       \n",
            " 9   Incident_Rate         6047 non-null   float64       \n",
            " 10  People_Tested         6047 non-null   float64       \n",
            " 11  People_Hospitalized   6047 non-null   float64       \n",
            " 12  Mortality_Rate        6047 non-null   float64       \n",
            " 13  UID                   6047 non-null   float64       \n",
            " 14  ISO3                  6047 non-null   object        \n",
            " 15  Testing_Rate          6047 non-null   float64       \n",
            " 16  Hospitalization_Rate  6047 non-null   float64       \n",
            "dtypes: datetime64[ns](1), float64(12), int64(2), object(2)\n",
            "memory usage: 850.4+ KB\n"
          ],
          "name": "stdout"
        }
      ]
    },
    {
      "cell_type": "code",
      "metadata": {
        "colab": {
          "base_uri": "https://localhost:8080/"
        },
        "id": "HcCazqFlQLtO",
        "outputId": "3fafb254-f847-4b35-9af2-4ffe19b3bf67"
      },
      "source": [
        "df['Last_Update'].min() - df['Last_Update'].max()"
      ],
      "execution_count": 44,
      "outputs": [
        {
          "output_type": "execute_result",
          "data": {
            "text/plain": [
              "Timedelta('-112 days +18:43:10')"
            ]
          },
          "metadata": {
            "tags": []
          },
          "execution_count": 44
        }
      ]
    },
    {
      "cell_type": "markdown",
      "metadata": {
        "id": "XpW-8UaTQLtO"
      },
      "source": [
        "We have 112 days of data"
      ]
    },
    {
      "cell_type": "markdown",
      "metadata": {
        "id": "BUAqc-cwQLtO"
      },
      "source": [
        "lets make a new dataframe consisting of total US data"
      ]
    },
    {
      "cell_type": "code",
      "metadata": {
        "colab": {
          "base_uri": "https://localhost:8080/",
          "height": 0
        },
        "id": "hxCy2vgsQLtO",
        "outputId": "8b3a6bdd-7ceb-49e2-d42c-ffc6e64faa38"
      },
      "source": [
        "us = df.groupby(\"Last_Update\")[['Confirmed', 'Active', 'Recovered', 'Deaths', 'People_Tested']].sum().reset_index()\n",
        "us.tail()"
      ],
      "execution_count": 45,
      "outputs": [
        {
          "output_type": "execute_result",
          "data": {
            "text/html": [
              "<div>\n",
              "<style scoped>\n",
              "    .dataframe tbody tr th:only-of-type {\n",
              "        vertical-align: middle;\n",
              "    }\n",
              "\n",
              "    .dataframe tbody tr th {\n",
              "        vertical-align: top;\n",
              "    }\n",
              "\n",
              "    .dataframe thead th {\n",
              "        text-align: right;\n",
              "    }\n",
              "</style>\n",
              "<table border=\"1\" class=\"dataframe\">\n",
              "  <thead>\n",
              "    <tr style=\"text-align: right;\">\n",
              "      <th></th>\n",
              "      <th>Last_Update</th>\n",
              "      <th>Confirmed</th>\n",
              "      <th>Active</th>\n",
              "      <th>Recovered</th>\n",
              "      <th>Deaths</th>\n",
              "      <th>People_Tested</th>\n",
              "    </tr>\n",
              "  </thead>\n",
              "  <tbody>\n",
              "    <tr>\n",
              "      <th>108</th>\n",
              "      <td>2020-07-29 04:35:24</td>\n",
              "      <td>4340214</td>\n",
              "      <td>2835753.0</td>\n",
              "      <td>1355363.0</td>\n",
              "      <td>149098</td>\n",
              "      <td>52662728.0</td>\n",
              "    </tr>\n",
              "    <tr>\n",
              "      <th>109</th>\n",
              "      <td>2020-07-30 04:35:17</td>\n",
              "      <td>4410769</td>\n",
              "      <td>2870845.0</td>\n",
              "      <td>1389425.0</td>\n",
              "      <td>150499</td>\n",
              "      <td>53502375.0</td>\n",
              "    </tr>\n",
              "    <tr>\n",
              "      <th>110</th>\n",
              "      <td>2020-07-31 04:35:31</td>\n",
              "      <td>4478291</td>\n",
              "      <td>2912298.0</td>\n",
              "      <td>1414155.0</td>\n",
              "      <td>151838</td>\n",
              "      <td>54321134.0</td>\n",
              "    </tr>\n",
              "    <tr>\n",
              "      <th>111</th>\n",
              "      <td>2020-08-01 04:36:46</td>\n",
              "      <td>4545105</td>\n",
              "      <td>2953853.0</td>\n",
              "      <td>1438160.0</td>\n",
              "      <td>153092</td>\n",
              "      <td>55049193.0</td>\n",
              "    </tr>\n",
              "    <tr>\n",
              "      <th>112</th>\n",
              "      <td>2020-08-02 04:35:05</td>\n",
              "      <td>4602420</td>\n",
              "      <td>2986316.0</td>\n",
              "      <td>1461885.0</td>\n",
              "      <td>154219</td>\n",
              "      <td>55761149.0</td>\n",
              "    </tr>\n",
              "  </tbody>\n",
              "</table>\n",
              "</div>"
            ],
            "text/plain": [
              "            Last_Update  Confirmed     Active  Recovered  Deaths  People_Tested\n",
              "108 2020-07-29 04:35:24    4340214  2835753.0  1355363.0  149098     52662728.0\n",
              "109 2020-07-30 04:35:17    4410769  2870845.0  1389425.0  150499     53502375.0\n",
              "110 2020-07-31 04:35:31    4478291  2912298.0  1414155.0  151838     54321134.0\n",
              "111 2020-08-01 04:36:46    4545105  2953853.0  1438160.0  153092     55049193.0\n",
              "112 2020-08-02 04:35:05    4602420  2986316.0  1461885.0  154219     55761149.0"
            ]
          },
          "metadata": {
            "tags": []
          },
          "execution_count": 45
        }
      ]
    },
    {
      "cell_type": "code",
      "metadata": {
        "colab": {
          "base_uri": "https://localhost:8080/",
          "height": 0
        },
        "id": "-2gjlLh6QLtP",
        "outputId": "8c33132a-fdf7-450c-c83f-8d8904e9d86a"
      },
      "source": [
        "plt.figure().set_size_inches(15,7)\n",
        "sns.lineplot(x = 'Last_Update', y = \"Confirmed\", data = us, label = 'Confirmed')\n",
        "sns.lineplot(x = 'Last_Update', y = \"Active\", data = us, label = 'Active')\n",
        "sns.lineplot(x = 'Last_Update', y = \"Recovered\", data = us, label = 'Recovered')\n",
        "sns.lineplot(x = 'Last_Update', y = \"Deaths\", data = us, label = 'Deaths')\n",
        "\n",
        "plt.ylabel(\"Frequency\")"
      ],
      "execution_count": 46,
      "outputs": [
        {
          "output_type": "execute_result",
          "data": {
            "text/plain": [
              "Text(0, 0.5, 'Frequency')"
            ]
          },
          "metadata": {
            "tags": []
          },
          "execution_count": 46
        },
        {
          "output_type": "display_data",
          "data": {
            "image/png": "[encoded data removed]",
            "text/plain": [
              "<Figure size 1080x504 with 1 Axes>"
            ]
          },
          "metadata": {
            "tags": [],
            "needs_background": "light"
          }
        }
      ]
    },
    {
      "cell_type": "code",
      "metadata": {
        "id": "om8QFAJsQLtP"
      },
      "source": [
        "us.drop(9, inplace = True)"
      ],
      "execution_count": 47,
      "outputs": []
    },
    {
      "cell_type": "code",
      "metadata": {
        "colab": {
          "base_uri": "https://localhost:8080/",
          "height": 0
        },
        "id": "FVffrq2yQLtP",
        "outputId": "3374ff4d-5fe2-4c92-8ed9-e1a336d7ff98"
      },
      "source": [
        "plt.figure().set_size_inches(15,7)\n",
        "sns.lineplot(x = 'Last_Update', y = \"Confirmed\", data = us, label = 'Confirmed')\n",
        "sns.lineplot(x = 'Last_Update', y = \"Active\", data = us, label = 'Active')\n",
        "sns.lineplot(x = 'Last_Update', y = \"Recovered\", data = us, label = 'Recovered')\n",
        "sns.lineplot(x = 'Last_Update', y = \"Deaths\", data = us, label = 'Deaths')\n",
        "plt.ylabel(\"Frequency\")"
      ],
      "execution_count": 48,
      "outputs": [
        {
          "output_type": "execute_result",
          "data": {
            "text/plain": [
              "Text(0, 0.5, 'Frequency')"
            ]
          },
          "metadata": {
            "tags": []
          },
          "execution_count": 48
        },
        {
          "output_type": "display_data",
          "data": {
            "image/png": "[encoded data removed]",
            "text/plain": [
              "<Figure size 1080x504 with 1 Axes>"
            ]
          },
          "metadata": {
            "tags": [],
            "needs_background": "light"
          }
        }
      ]
    },
    {
      "cell_type": "code",
      "metadata": {
        "colab": {
          "base_uri": "https://localhost:8080/",
          "height": 0
        },
        "id": "wQYEpAlwQLtP",
        "outputId": "539a1c47-ad74-48d0-e98c-f0c4fbcf0748"
      },
      "source": [
        "plt.figure().set_size_inches(15,7)\n",
        "sns.lineplot(x = 'Last_Update', y = \"Confirmed\", data = us, label = 'Confirmed')\n",
        "sns.lineplot(x = 'Last_Update', y = \"People_Tested\", data = us, label = 'People_Tested')\n"
      ],
      "execution_count": 49,
      "outputs": [
        {
          "output_type": "execute_result",
          "data": {
            "text/plain": [
              "<matplotlib.axes._subplots.AxesSubplot at 0x7fecf91fde80>"
            ]
          },
          "metadata": {
            "tags": []
          },
          "execution_count": 49
        },
        {
          "output_type": "display_data",
          "data": {
            "image/png": "[encoded data removed]",
            "text/plain": [
              "<Figure size 1080x504 with 1 Axes>"
            ]
          },
          "metadata": {
            "tags": [],
            "needs_background": "light"
          }
        }
      ]
    },
    {
      "cell_type": "markdown",
      "metadata": {
        "id": "1Jar7bzDQLtQ"
      },
      "source": [
        "SO majority of the people who are tested are testing negative. "
      ]
    },
    {
      "cell_type": "code",
      "metadata": {
        "colab": {
          "base_uri": "https://localhost:8080/"
        },
        "id": "AHNOGjt8QLtQ",
        "outputId": "132cdab8-8b9b-4e3b-873b-eeea40e01de1"
      },
      "source": [
        "df.info()"
      ],
      "execution_count": 50,
      "outputs": [
        {
          "output_type": "stream",
          "text": [
            "<class 'pandas.core.frame.DataFrame'>\n",
            "Int64Index: 6047 entries, 0 to 6513\n",
            "Data columns (total 17 columns):\n",
            " #   Column                Non-Null Count  Dtype         \n",
            "---  ------                --------------  -----         \n",
            " 0   Province_State        6047 non-null   object        \n",
            " 1   Last_Update           6047 non-null   datetime64[ns]\n",
            " 2   Lat                   6047 non-null   float64       \n",
            " 3   Long_                 6047 non-null   float64       \n",
            " 4   Confirmed             6047 non-null   int64         \n",
            " 5   Deaths                6047 non-null   int64         \n",
            " 6   Recovered             6047 non-null   float64       \n",
            " 7   Active                6047 non-null   float64       \n",
            " 8   FIPS                  6047 non-null   float64       \n",
            " 9   Incident_Rate         6047 non-null   float64       \n",
            " 10  People_Tested         6047 non-null   float64       \n",
            " 11  People_Hospitalized   6047 non-null   float64       \n",
            " 12  Mortality_Rate        6047 non-null   float64       \n",
            " 13  UID                   6047 non-null   float64       \n",
            " 14  ISO3                  6047 non-null   object        \n",
            " 15  Testing_Rate          6047 non-null   float64       \n",
            " 16  Hospitalization_Rate  6047 non-null   float64       \n",
            "dtypes: datetime64[ns](1), float64(12), int64(2), object(2)\n",
            "memory usage: 850.4+ KB\n"
          ],
          "name": "stdout"
        }
      ]
    },
    {
      "cell_type": "code",
      "metadata": {
        "id": "1oV89RFvQLtR"
      },
      "source": [
        "us = df.groupby(\"Last_Update\")[['Last_Update','Incident_Rate', 'Mortality_Rate', 'Testing_Rate', 'Hospitalization_Rate']].mean().reset_index()"
      ],
      "execution_count": 51,
      "outputs": []
    },
    {
      "cell_type": "code",
      "metadata": {
        "colab": {
          "base_uri": "https://localhost:8080/",
          "height": 0
        },
        "id": "OVnZBffUQLtR",
        "outputId": "d9ffa8ff-809e-441e-8525-ef422d0ec044"
      },
      "source": [
        "us"
      ],
      "execution_count": 52,
      "outputs": [
        {
          "output_type": "execute_result",
          "data": {
            "text/html": [
              "<div>\n",
              "<style scoped>\n",
              "    .dataframe tbody tr th:only-of-type {\n",
              "        vertical-align: middle;\n",
              "    }\n",
              "\n",
              "    .dataframe tbody tr th {\n",
              "        vertical-align: top;\n",
              "    }\n",
              "\n",
              "    .dataframe thead th {\n",
              "        text-align: right;\n",
              "    }\n",
              "</style>\n",
              "<table border=\"1\" class=\"dataframe\">\n",
              "  <thead>\n",
              "    <tr style=\"text-align: right;\">\n",
              "      <th></th>\n",
              "      <th>Last_Update</th>\n",
              "      <th>Incident_Rate</th>\n",
              "      <th>Mortality_Rate</th>\n",
              "      <th>Testing_Rate</th>\n",
              "      <th>Hospitalization_Rate</th>\n",
              "    </tr>\n",
              "  </thead>\n",
              "  <tbody>\n",
              "    <tr>\n",
              "      <th>0</th>\n",
              "      <td>2020-04-12 23:18:15</td>\n",
              "      <td>136.422748</td>\n",
              "      <td>3.262693</td>\n",
              "      <td>970.429760</td>\n",
              "      <td>13.993656</td>\n",
              "    </tr>\n",
              "    <tr>\n",
              "      <th>1</th>\n",
              "      <td>2020-04-13 23:07:54</td>\n",
              "      <td>143.678079</td>\n",
              "      <td>3.312437</td>\n",
              "      <td>1027.314828</td>\n",
              "      <td>14.237805</td>\n",
              "    </tr>\n",
              "    <tr>\n",
              "      <th>2</th>\n",
              "      <td>2020-04-14 23:33:31</td>\n",
              "      <td>150.234671</td>\n",
              "      <td>3.458756</td>\n",
              "      <td>1073.643890</td>\n",
              "      <td>14.874751</td>\n",
              "    </tr>\n",
              "    <tr>\n",
              "      <th>3</th>\n",
              "      <td>2020-04-15 22:56:51</td>\n",
              "      <td>157.176738</td>\n",
              "      <td>3.539449</td>\n",
              "      <td>1127.269518</td>\n",
              "      <td>14.723838</td>\n",
              "    </tr>\n",
              "    <tr>\n",
              "      <th>4</th>\n",
              "      <td>2020-04-16 23:30:51</td>\n",
              "      <td>165.333145</td>\n",
              "      <td>3.653159</td>\n",
              "      <td>1173.738964</td>\n",
              "      <td>14.200187</td>\n",
              "    </tr>\n",
              "    <tr>\n",
              "      <th>...</th>\n",
              "      <td>...</td>\n",
              "      <td>...</td>\n",
              "      <td>...</td>\n",
              "      <td>...</td>\n",
              "      <td>...</td>\n",
              "    </tr>\n",
              "    <tr>\n",
              "      <th>108</th>\n",
              "      <td>2020-07-29 04:35:24</td>\n",
              "      <td>1084.446725</td>\n",
              "      <td>3.058574</td>\n",
              "      <td>15446.240494</td>\n",
              "      <td>10.580430</td>\n",
              "    </tr>\n",
              "    <tr>\n",
              "      <th>109</th>\n",
              "      <td>2020-07-30 04:35:17</td>\n",
              "      <td>1101.515115</td>\n",
              "      <td>3.047882</td>\n",
              "      <td>15699.669429</td>\n",
              "      <td>10.541281</td>\n",
              "    </tr>\n",
              "    <tr>\n",
              "      <th>110</th>\n",
              "      <td>2020-07-31 04:35:31</td>\n",
              "      <td>1118.018013</td>\n",
              "      <td>3.036976</td>\n",
              "      <td>15915.988829</td>\n",
              "      <td>9.546423</td>\n",
              "    </tr>\n",
              "    <tr>\n",
              "      <th>111</th>\n",
              "      <td>2020-08-01 04:36:46</td>\n",
              "      <td>1134.916408</td>\n",
              "      <td>3.024028</td>\n",
              "      <td>16107.996244</td>\n",
              "      <td>10.497879</td>\n",
              "    </tr>\n",
              "    <tr>\n",
              "      <th>112</th>\n",
              "      <td>2020-08-02 04:35:05</td>\n",
              "      <td>1149.340324</td>\n",
              "      <td>3.007249</td>\n",
              "      <td>16308.111992</td>\n",
              "      <td>9.721269</td>\n",
              "    </tr>\n",
              "  </tbody>\n",
              "</table>\n",
              "<p>113 rows × 5 columns</p>\n",
              "</div>"
            ],
            "text/plain": [
              "            Last_Update  Incident_Rate  ...  Testing_Rate  Hospitalization_Rate\n",
              "0   2020-04-12 23:18:15     136.422748  ...    970.429760             13.993656\n",
              "1   2020-04-13 23:07:54     143.678079  ...   1027.314828             14.237805\n",
              "2   2020-04-14 23:33:31     150.234671  ...   1073.643890             14.874751\n",
              "3   2020-04-15 22:56:51     157.176738  ...   1127.269518             14.723838\n",
              "4   2020-04-16 23:30:51     165.333145  ...   1173.738964             14.200187\n",
              "..                  ...            ...  ...           ...                   ...\n",
              "108 2020-07-29 04:35:24    1084.446725  ...  15446.240494             10.580430\n",
              "109 2020-07-30 04:35:17    1101.515115  ...  15699.669429             10.541281\n",
              "110 2020-07-31 04:35:31    1118.018013  ...  15915.988829              9.546423\n",
              "111 2020-08-01 04:36:46    1134.916408  ...  16107.996244             10.497879\n",
              "112 2020-08-02 04:35:05    1149.340324  ...  16308.111992              9.721269\n",
              "\n",
              "[113 rows x 5 columns]"
            ]
          },
          "metadata": {
            "tags": []
          },
          "execution_count": 52
        }
      ]
    },
    {
      "cell_type": "code",
      "metadata": {
        "colab": {
          "base_uri": "https://localhost:8080/",
          "height": 0
        },
        "id": "phqdJ_5cQLtR",
        "outputId": "31209875-dd67-4745-c63c-5eb327fa5a52"
      },
      "source": [
        "plt.figure().set_size_inches(15,7)\n",
        "sns.lineplot(x = 'Last_Update', y = \"Incident_Rate\", data = us, label = 'Incident Rate')\n",
        "sns.lineplot(x = 'Last_Update', y = \"Mortality_Rate\", data = us, label = 'Mortality Rate')\n",
        "sns.lineplot(x = 'Last_Update', y = \"Testing_Rate\", data = us, label = 'Testing Rate')\n",
        "sns.lineplot(x = 'Last_Update', y = \"Hospitalization_Rate\", data = us, label = 'Hospitaltion Rate')\n",
        "plt.ylabel(\"Frequency\")"
      ],
      "execution_count": 53,
      "outputs": [
        {
          "output_type": "execute_result",
          "data": {
            "text/plain": [
              "Text(0, 0.5, 'Frequency')"
            ]
          },
          "metadata": {
            "tags": []
          },
          "execution_count": 53
        },
        {
          "output_type": "display_data",
          "data": {
            "image/png": "[encoded data removed]",
            "text/plain": [
              "<Figure size 1080x504 with 1 Axes>"
            ]
          },
          "metadata": {
            "tags": [],
            "needs_background": "light"
          }
        }
      ]
    },
    {
      "cell_type": "markdown",
      "metadata": {
        "id": "EuHQOx76QLtR"
      },
      "source": [
        "So Mortality rate and Hospitalization rate remained same, but Incident Rate and Testing Rate increased a lot"
      ]
    },
    {
      "cell_type": "markdown",
      "metadata": {
        "id": "6eY34GiCQLtR"
      },
      "source": [
        "Lets see how the top states in behaved in No of Confirmed cases "
      ]
    },
    {
      "cell_type": "code",
      "metadata": {
        "id": "88bvJc6SQLtR"
      },
      "source": [
        "top10 = list(df.groupby(\"Province_State\")['Confirmed'].sum().sort_values(ascending = False).head(10).index)"
      ],
      "execution_count": 54,
      "outputs": []
    },
    {
      "cell_type": "code",
      "metadata": {
        "id": "ZDSNSJR_QLtR"
      },
      "source": [
        "top = df[df['Province_State'].isin(top10)]\n",
        "\n"
      ],
      "execution_count": 55,
      "outputs": []
    },
    {
      "cell_type": "code",
      "metadata": {
        "id": "a_7RKXMAQLtR"
      },
      "source": [
        "top = top.groupby([\"Province_State\", 'Last_Update'])[['Confirmed', 'Recovered', 'Deaths', 'Active']].sum().reset_index()"
      ],
      "execution_count": 56,
      "outputs": []
    },
    {
      "cell_type": "code",
      "metadata": {
        "colab": {
          "base_uri": "https://localhost:8080/",
          "height": 0
        },
        "id": "xguFZJBEQLtS",
        "outputId": "f1eac8da-256a-4799-b08b-41ee9ead672e"
      },
      "source": [
        "plt.figure().set_size_inches(15,7)\n",
        "for i in top10:\n",
        "    plot = top[top['Province_State'] == i][['Last_Update', 'Confirmed']]\n",
        "    sns.lineplot(x = \"Last_Update\", y = 'Confirmed', data = plot, label = i)"
      ],
      "execution_count": 57,
      "outputs": [
        {
          "output_type": "display_data",
          "data": {
            "image/png": "[encoded data removed]",
            "text/plain": [
              "<Figure size 1080x504 with 1 Axes>"
            ]
          },
          "metadata": {
            "tags": [],
            "needs_background": "light"
          }
        }
      ]
    },
    {
      "cell_type": "markdown",
      "metadata": {
        "id": "zqwTR6ftQLtT"
      },
      "source": [
        "New york, while getting a high increase in initial Confirmed cases, got the situation under control after 15-05-2020, but the 3 states: California, Florida and Texas got a high increase in number of cases after 15-06-2020, and now are increasing exponentially.\n",
        "\n",
        "The confirmed cases in rest of the states are not too high and the curves seem to be flat"
      ]
    },
    {
      "cell_type": "markdown",
      "metadata": {
        "id": "7pG85MS6QLtT"
      },
      "source": [
        "Lets Look at active cases"
      ]
    },
    {
      "cell_type": "code",
      "metadata": {
        "colab": {
          "base_uri": "https://localhost:8080/",
          "height": 0
        },
        "id": "N0xD2FbsQLtT",
        "outputId": "4c32b029-bcf9-4169-a2ab-962b0d3f1545"
      },
      "source": [
        "plt.figure().set_size_inches(15,7)\n",
        "for i in top10:\n",
        "    plot = top[top['Province_State'] == i][['Last_Update', 'Active']]\n",
        "    sns.lineplot(x = \"Last_Update\", y = 'Active', data = plot, label = i)"
      ],
      "execution_count": 58,
      "outputs": [
        {
          "output_type": "display_data",
          "data": {
            "image/png": "[encoded data removed]",
            "text/plain": [
              "<Figure size 1080x504 with 1 Axes>"
            ]
          },
          "metadata": {
            "tags": [],
            "needs_background": "light"
          }
        }
      ]
    },
    {
      "cell_type": "markdown",
      "metadata": {
        "id": "8YEy0806QLtT"
      },
      "source": [
        "The data on active cases fluctuates, but New York seems to have 300000 active cases constantly and seems to be increasing. The COVID cases in California and Florida are increasing exponentially,  which is a cause of major concern.\n",
        "\n",
        "Only Michigan is Showing slight decrease in active cases"
      ]
    },
    {
      "cell_type": "markdown",
      "metadata": {
        "id": "ft4vhiI7QLtT"
      },
      "source": [
        "Lets look at death rate"
      ]
    },
    {
      "cell_type": "code",
      "metadata": {
        "colab": {
          "base_uri": "https://localhost:8080/",
          "height": 0
        },
        "id": "dL1CSGSfQLtT",
        "outputId": "571e8172-82f8-48f8-cfef-fc03800ad5c1"
      },
      "source": [
        "plt.figure().set_size_inches(15,7)\n",
        "for i in top10:\n",
        "    plot = top[top['Province_State'] == i][['Last_Update', 'Deaths']]\n",
        "    sns.lineplot(x = \"Last_Update\", y = 'Deaths', data = plot, label = i)"
      ],
      "execution_count": 59,
      "outputs": [
        {
          "output_type": "display_data",
          "data": {
            "image/png": "[encoded data removed]",
            "text/plain": [
              "<Figure size 1080x504 with 1 Axes>"
            ]
          },
          "metadata": {
            "tags": [],
            "needs_background": "light"
          }
        }
      ]
    },
    {
      "cell_type": "markdown",
      "metadata": {
        "id": "KvnNjk3JQLtT"
      },
      "source": [
        "New york and New Jersey are having very high Deaths, every state is increasing in death rate, but not as much as New York and New Jersey"
      ]
    },
    {
      "cell_type": "markdown",
      "metadata": {
        "id": "1RwqFeA8QLtU"
      },
      "source": [
        "Why New York is the worst hit state in US?\n",
        "\n",
        "1. It is located in cold region\n",
        "2. The population Density there is high.\n",
        "3. People ignoring lockdown rules"
      ]
    },
    {
      "cell_type": "markdown",
      "metadata": {
        "id": "4hBNz5GoQLtU"
      },
      "source": [
        "## Time Series Analysis Using FBProphet"
      ]
    },
    {
      "cell_type": "markdown",
      "metadata": {
        "id": "cZOpbK49ZGMw"
      },
      "source": [
        "Here we will predict US COVID 19 cases. We will compare the results we get from the Model with the no. of Confirmed cases in US today"
      ]
    },
    {
      "cell_type": "code",
      "metadata": {
        "id": "JrB_r9UdQLtU"
      },
      "source": [
        "from fbprophet import Prophet"
      ],
      "execution_count": 60,
      "outputs": []
    },
    {
      "cell_type": "code",
      "metadata": {
        "colab": {
          "base_uri": "https://localhost:8080/",
          "height": 206
        },
        "id": "7RED51Q0QLtU",
        "outputId": "1098bd70-be94-48f2-e19c-b73fd519dc1c"
      },
      "source": [
        "confirmed = df.groupby(\"Last_Update\")['Confirmed'].sum().reset_index()\n",
        "confirmed.head()"
      ],
      "execution_count": 61,
      "outputs": [
        {
          "output_type": "execute_result",
          "data": {
            "text/html": [
              "<div>\n",
              "<style scoped>\n",
              "    .dataframe tbody tr th:only-of-type {\n",
              "        vertical-align: middle;\n",
              "    }\n",
              "\n",
              "    .dataframe tbody tr th {\n",
              "        vertical-align: top;\n",
              "    }\n",
              "\n",
              "    .dataframe thead th {\n",
              "        text-align: right;\n",
              "    }\n",
              "</style>\n",
              "<table border=\"1\" class=\"dataframe\">\n",
              "  <thead>\n",
              "    <tr style=\"text-align: right;\">\n",
              "      <th></th>\n",
              "      <th>Last_Update</th>\n",
              "      <th>Confirmed</th>\n",
              "    </tr>\n",
              "  </thead>\n",
              "  <tbody>\n",
              "    <tr>\n",
              "      <th>0</th>\n",
              "      <td>2020-04-12 23:18:15</td>\n",
              "      <td>554264</td>\n",
              "    </tr>\n",
              "    <tr>\n",
              "      <th>1</th>\n",
              "      <td>2020-04-13 23:07:54</td>\n",
              "      <td>558545</td>\n",
              "    </tr>\n",
              "    <tr>\n",
              "      <th>2</th>\n",
              "      <td>2020-04-14 23:33:31</td>\n",
              "      <td>606595</td>\n",
              "    </tr>\n",
              "    <tr>\n",
              "      <th>3</th>\n",
              "      <td>2020-04-15 22:56:51</td>\n",
              "      <td>635224</td>\n",
              "    </tr>\n",
              "    <tr>\n",
              "      <th>4</th>\n",
              "      <td>2020-04-16 23:30:51</td>\n",
              "      <td>666606</td>\n",
              "    </tr>\n",
              "  </tbody>\n",
              "</table>\n",
              "</div>"
            ],
            "text/plain": [
              "          Last_Update  Confirmed\n",
              "0 2020-04-12 23:18:15     554264\n",
              "1 2020-04-13 23:07:54     558545\n",
              "2 2020-04-14 23:33:31     606595\n",
              "3 2020-04-15 22:56:51     635224\n",
              "4 2020-04-16 23:30:51     666606"
            ]
          },
          "metadata": {
            "tags": []
          },
          "execution_count": 61
        }
      ]
    },
    {
      "cell_type": "code",
      "metadata": {
        "colab": {
          "base_uri": "https://localhost:8080/",
          "height": 206
        },
        "id": "qod-RNfiQLtU",
        "outputId": "64e1ee1f-027c-453b-961f-4f85a25b4261"
      },
      "source": [
        "confirmed['Last_Update'] = pd.to_datetime(confirmed['Last_Update']).dt.date\n",
        "confirmed.tail()"
      ],
      "execution_count": 62,
      "outputs": [
        {
          "output_type": "execute_result",
          "data": {
            "text/html": [
              "<div>\n",
              "<style scoped>\n",
              "    .dataframe tbody tr th:only-of-type {\n",
              "        vertical-align: middle;\n",
              "    }\n",
              "\n",
              "    .dataframe tbody tr th {\n",
              "        vertical-align: top;\n",
              "    }\n",
              "\n",
              "    .dataframe thead th {\n",
              "        text-align: right;\n",
              "    }\n",
              "</style>\n",
              "<table border=\"1\" class=\"dataframe\">\n",
              "  <thead>\n",
              "    <tr style=\"text-align: right;\">\n",
              "      <th></th>\n",
              "      <th>Last_Update</th>\n",
              "      <th>Confirmed</th>\n",
              "    </tr>\n",
              "  </thead>\n",
              "  <tbody>\n",
              "    <tr>\n",
              "      <th>108</th>\n",
              "      <td>2020-07-29</td>\n",
              "      <td>4340214</td>\n",
              "    </tr>\n",
              "    <tr>\n",
              "      <th>109</th>\n",
              "      <td>2020-07-30</td>\n",
              "      <td>4410769</td>\n",
              "    </tr>\n",
              "    <tr>\n",
              "      <th>110</th>\n",
              "      <td>2020-07-31</td>\n",
              "      <td>4478291</td>\n",
              "    </tr>\n",
              "    <tr>\n",
              "      <th>111</th>\n",
              "      <td>2020-08-01</td>\n",
              "      <td>4545105</td>\n",
              "    </tr>\n",
              "    <tr>\n",
              "      <th>112</th>\n",
              "      <td>2020-08-02</td>\n",
              "      <td>4602420</td>\n",
              "    </tr>\n",
              "  </tbody>\n",
              "</table>\n",
              "</div>"
            ],
            "text/plain": [
              "    Last_Update  Confirmed\n",
              "108  2020-07-29    4340214\n",
              "109  2020-07-30    4410769\n",
              "110  2020-07-31    4478291\n",
              "111  2020-08-01    4545105\n",
              "112  2020-08-02    4602420"
            ]
          },
          "metadata": {
            "tags": []
          },
          "execution_count": 62
        }
      ]
    },
    {
      "cell_type": "code",
      "metadata": {
        "id": "QLXRqIlucXKl"
      },
      "source": [
        "confirmed['Last_Update'] = pd.to_datetime(confirmed['Last_Update'])"
      ],
      "execution_count": 63,
      "outputs": []
    },
    {
      "cell_type": "code",
      "metadata": {
        "id": "VQVEuJwicgTL"
      },
      "source": [
        "confirmed.columns = ['ds', 'y']"
      ],
      "execution_count": 64,
      "outputs": []
    },
    {
      "cell_type": "code",
      "metadata": {
        "colab": {
          "base_uri": "https://localhost:8080/"
        },
        "id": "eHXnwDxmc0GS",
        "outputId": "e336d05f-41cd-45eb-a649-e7fb846c3468"
      },
      "source": [
        "prophet_model = Prophet().fit(confirmed)"
      ],
      "execution_count": 65,
      "outputs": [
        {
          "output_type": "stream",
          "text": [
            "INFO:fbprophet:Disabling yearly seasonality. Run prophet with yearly_seasonality=True to override this.\n",
            "INFO:fbprophet:Disabling daily seasonality. Run prophet with daily_seasonality=True to override this.\n"
          ],
          "name": "stderr"
        }
      ]
    },
    {
      "cell_type": "code",
      "metadata": {
        "colab": {
          "base_uri": "https://localhost:8080/",
          "height": 206
        },
        "id": "bh45FPYKc7vW",
        "outputId": "545a4e3c-249c-40ff-98a8-ac7d61ee6075"
      },
      "source": [
        "future = prophet_model.make_future_dataframe(periods = 123)        #Predicting what the confirmed cases would be for next 3 month\n",
        "future.tail() "
      ],
      "execution_count": 66,
      "outputs": [
        {
          "output_type": "execute_result",
          "data": {
            "text/html": [
              "<div>\n",
              "<style scoped>\n",
              "    .dataframe tbody tr th:only-of-type {\n",
              "        vertical-align: middle;\n",
              "    }\n",
              "\n",
              "    .dataframe tbody tr th {\n",
              "        vertical-align: top;\n",
              "    }\n",
              "\n",
              "    .dataframe thead th {\n",
              "        text-align: right;\n",
              "    }\n",
              "</style>\n",
              "<table border=\"1\" class=\"dataframe\">\n",
              "  <thead>\n",
              "    <tr style=\"text-align: right;\">\n",
              "      <th></th>\n",
              "      <th>ds</th>\n",
              "    </tr>\n",
              "  </thead>\n",
              "  <tbody>\n",
              "    <tr>\n",
              "      <th>230</th>\n",
              "      <td>2020-11-29</td>\n",
              "    </tr>\n",
              "    <tr>\n",
              "      <th>231</th>\n",
              "      <td>2020-11-30</td>\n",
              "    </tr>\n",
              "    <tr>\n",
              "      <th>232</th>\n",
              "      <td>2020-12-01</td>\n",
              "    </tr>\n",
              "    <tr>\n",
              "      <th>233</th>\n",
              "      <td>2020-12-02</td>\n",
              "    </tr>\n",
              "    <tr>\n",
              "      <th>234</th>\n",
              "      <td>2020-12-03</td>\n",
              "    </tr>\n",
              "  </tbody>\n",
              "</table>\n",
              "</div>"
            ],
            "text/plain": [
              "            ds\n",
              "230 2020-11-29\n",
              "231 2020-11-30\n",
              "232 2020-12-01\n",
              "233 2020-12-02\n",
              "234 2020-12-03"
            ]
          },
          "metadata": {
            "tags": []
          },
          "execution_count": 66
        }
      ]
    },
    {
      "cell_type": "markdown",
      "metadata": {
        "id": "WmejFdQEdhgB"
      },
      "source": [
        "So we will be predicting what the total number of cases in US will be on 3-12-2020"
      ]
    },
    {
      "cell_type": "code",
      "metadata": {
        "colab": {
          "base_uri": "https://localhost:8080/",
          "height": 206
        },
        "id": "0DJE0rkLdPvq",
        "outputId": "72a1bad1-6581-40c6-f71c-ed6cbc739812"
      },
      "source": [
        "forecast = prophet_model.predict(future)\n",
        "forecast[['ds', 'yhat', 'yhat_lower', 'yhat_upper']].tail()"
      ],
      "execution_count": 67,
      "outputs": [
        {
          "output_type": "execute_result",
          "data": {
            "text/html": [
              "<div>\n",
              "<style scoped>\n",
              "    .dataframe tbody tr th:only-of-type {\n",
              "        vertical-align: middle;\n",
              "    }\n",
              "\n",
              "    .dataframe tbody tr th {\n",
              "        vertical-align: top;\n",
              "    }\n",
              "\n",
              "    .dataframe thead th {\n",
              "        text-align: right;\n",
              "    }\n",
              "</style>\n",
              "<table border=\"1\" class=\"dataframe\">\n",
              "  <thead>\n",
              "    <tr style=\"text-align: right;\">\n",
              "      <th></th>\n",
              "      <th>ds</th>\n",
              "      <th>yhat</th>\n",
              "      <th>yhat_lower</th>\n",
              "      <th>yhat_upper</th>\n",
              "    </tr>\n",
              "  </thead>\n",
              "  <tbody>\n",
              "    <tr>\n",
              "      <th>230</th>\n",
              "      <td>2020-11-29</td>\n",
              "      <td>1.222804e+07</td>\n",
              "      <td>1.101142e+07</td>\n",
              "      <td>1.345912e+07</td>\n",
              "    </tr>\n",
              "    <tr>\n",
              "      <th>231</th>\n",
              "      <td>2020-11-30</td>\n",
              "      <td>1.224351e+07</td>\n",
              "      <td>1.102661e+07</td>\n",
              "      <td>1.348830e+07</td>\n",
              "    </tr>\n",
              "    <tr>\n",
              "      <th>232</th>\n",
              "      <td>2020-12-01</td>\n",
              "      <td>1.234874e+07</td>\n",
              "      <td>1.113492e+07</td>\n",
              "      <td>1.357541e+07</td>\n",
              "    </tr>\n",
              "    <tr>\n",
              "      <th>233</th>\n",
              "      <td>2020-12-02</td>\n",
              "      <td>1.241184e+07</td>\n",
              "      <td>1.116831e+07</td>\n",
              "      <td>1.364334e+07</td>\n",
              "    </tr>\n",
              "    <tr>\n",
              "      <th>234</th>\n",
              "      <td>2020-12-03</td>\n",
              "      <td>1.247425e+07</td>\n",
              "      <td>1.119422e+07</td>\n",
              "      <td>1.376644e+07</td>\n",
              "    </tr>\n",
              "  </tbody>\n",
              "</table>\n",
              "</div>"
            ],
            "text/plain": [
              "            ds          yhat    yhat_lower    yhat_upper\n",
              "230 2020-11-29  1.222804e+07  1.101142e+07  1.345912e+07\n",
              "231 2020-11-30  1.224351e+07  1.102661e+07  1.348830e+07\n",
              "232 2020-12-01  1.234874e+07  1.113492e+07  1.357541e+07\n",
              "233 2020-12-02  1.241184e+07  1.116831e+07  1.364334e+07\n",
              "234 2020-12-03  1.247425e+07  1.119422e+07  1.376644e+07"
            ]
          },
          "metadata": {
            "tags": []
          },
          "execution_count": 67
        }
      ]
    },
    {
      "cell_type": "code",
      "metadata": {
        "colab": {
          "base_uri": "https://localhost:8080/",
          "height": 441
        },
        "id": "39knUb4gdQPz",
        "outputId": "fdd9a799-cc29-4bb4-c10e-ce91f28e51a6"
      },
      "source": [
        "prophet_plot = prophet_model.plot(forecast)"
      ],
      "execution_count": 68,
      "outputs": [
        {
          "output_type": "display_data",
          "data": {
            "image/png": "[encoded data removed]",
            "text/plain": [
              "<Figure size 720x432 with 1 Axes>"
            ]
          },
          "metadata": {
            "tags": []
          }
        }
      ]
    },
    {
      "cell_type": "markdown",
      "metadata": {
        "id": "EJci0rZsfJ_Z"
      },
      "source": [
        "The total cases in US for 3 -Dec 2020 was 14.1 million, our model is predicting max number of cases as 13.7 million, which is around 0.5 million less.\n",
        "\n",
        "So the model is performing okay, the difference is not much"
      ]
    },
    {
      "cell_type": "code",
      "metadata": {
        "id": "-trsPjTJe-lV"
      },
      "source": [
        "import pickle\n",
        "filename = 'fbprophet'\n",
        "pickle.dump(prophet_model, open(filename, 'wb'))"
      ],
      "execution_count": 69,
      "outputs": []
    },
    {
      "cell_type": "code",
      "metadata": {
        "id": "vpHVKchwfGEj"
      },
      "source": [
        ""
      ],
      "execution_count": 69,
      "outputs": []
    }
  ]
}